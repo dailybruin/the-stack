{
 "cells": [
  {
   "cell_type": "code",
   "execution_count": 2,
   "id": "89eb6be8-0cb0-469e-8b09-bac97a3fbcdb",
   "metadata": {},
   "outputs": [],
   "source": [
    "import matplotlib.pyplot as plt\n",
    "import numpy as np\n",
    "import pandas as pd\n",
    "import seaborn as sns"
   ]
  },
  {
   "cell_type": "code",
   "execution_count": 3,
   "id": "1418fc05-c58b-4b83-a836-7a46e050de88",
   "metadata": {},
   "outputs": [],
   "source": [
    "locations = np.array(['Alfred Coffee', 'Ministry of Coffee','Dunkin Donuts','Starbucks','Bluestone Lane','Elysee','Espresso Profeta','Corner Bakery','Espressoteric Coffee Co.','Comoncy','Cravings','Bruin Buzz','Kerckhoff Coffee House','Southern Lights','Jimmys','Anderson Cafe','Cafe Synapse'])\n",
    "\n",
    "alfred = np.array([4.25, 5.25, 5.25, 2.00])\n",
    "moc = np.array([4.00,5.00,5.00,3.50])\n",
    "dunkin = np.array([3.59,4.09,4.19,2.09])\n",
    "starbucks = np.array([3.35,4.15,4.15,2.75])\n",
    "bluestone = np.array([3.85,4.85,4.85,3.70])\n",
    "elysee = np.array([0.00,5.50,5.50,3.45])\n",
    "profeta = np.array([3.25,4.75,4.25,2.17])\n",
    "corner = np.array([2.99,3.99,3.99,0.99])\n",
    "espressoteric = np.array([3.50,4.00,4.00,2.75])\n",
    "comoncy = np.array([3.25,4.75,4.75,3.25])\n",
    "cravings = np.array([2.99,3.69,3.69,2.09])\n",
    "buzz = np.array([3.45,4.25,4.25,2.89])\n",
    "kerckhoff = np.array([3.45,4.25,4.25,2.75])\n",
    "southern = np.array([4.90,5.10,5.25,2.70])\n",
    "jimmys = np.array([3.90,4.25,4.25,3.15])\n",
    "anderson = np.array([3.45,4.25,4.25,0.00])\n",
    "synapse = np.array([3.70,4.40,4.20,2.70])\n",
    "\n",
    "prices = np.array([alfred,moc,dunkin,starbucks,bluestone,elysee,profeta,corner,espressoteric,comoncy,cravings,buzz,kerckhoff,southern,jimmys,synapse])"
   ]
  },
  {
   "cell_type": "code",
   "execution_count": 6,
   "id": "251b4849-7528-48ec-96fa-00c40eb4dc4c",
   "metadata": {},
   "outputs": [],
   "source": [
    "locations = np.sort(locations)\n",
    "meanData = np.array([4.19,3.98,4.31,3.71,3.75,4.00,2.99,3.12,3.49,4.82,3.61,3.56,4.21,3.68,4.38,4.51,3.60])"
   ]
  },
  {
   "cell_type": "code",
   "execution_count": 18,
   "id": "3ee20ce0-2e12-4047-8fa5-0fb10daa9bec",
   "metadata": {},
   "outputs": [
    {
     "name": "stdout",
     "output_type": "stream",
     "text": [
      "['Corner Bakery' 'Cravings' 'Dunkin Donuts' 'Espressoteric' 'Starbucks']\n"
     ]
    },
    {
     "data": {
      "text/plain": [
       "<BarContainer object of 5 artists>"
      ]
     },
     "execution_count": 18,
     "metadata": {},
     "output_type": "execute_result"
    },
    {
     "data": {
      "image/png": "[encoded data removed]",
      "text/plain": [
       "<Figure size 640x480 with 1 Axes>"
      ]
     },
     "metadata": {},
     "output_type": "display_data"
    }
   ],
   "source": [
    "top5loc = np.array(['Corner Bakery','Cravings','Dunkin Donuts','Espressoteric','Starbucks'])\n",
    "top5data = np.array([4.82,4.51,4.38,4.31,4.21])\n",
    "colors = np.array(['red','blue','yellow','purple','green'])\n",
    "print(top5loc)\n",
    "fig, ax = plt.subplots()\n",
    "ax.bar(top5loc, top5data)"
   ]
  },
  {
   "cell_type": "code",
   "execution_count": null,
   "id": "f2dbee88-f031-4c0e-a0ba-4116d3222cdc",
   "metadata": {},
   "outputs": [],
   "source": []
  }
 ],
 "metadata": {
  "kernelspec": {
   "display_name": "Python 3 (ipykernel)",
   "language": "python",
   "name": "python3"
  },
  "language_info": {
   "codemirror_mode": {
    "name": "ipython",
    "version": 3
   },
   "file_extension": ".py",
   "mimetype": "text/x-python",
   "name": "python",
   "nbconvert_exporter": "python",
   "pygments_lexer": "ipython3",
   "version": "3.10.8"
  }
 },
 "nbformat": 4,
 "nbformat_minor": 5
}
