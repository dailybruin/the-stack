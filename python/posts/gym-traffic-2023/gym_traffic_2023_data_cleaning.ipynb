{
 "cells": [
  {
   "cell_type": "code",
   "execution_count": 1,
   "metadata": {},
   "outputs": [],
   "source": [
    "import pandas as pd\n",
    "import numpy as np"
   ]
  },
  {
   "cell_type": "code",
   "execution_count": 2,
   "metadata": {},
   "outputs": [],
   "source": [
    "raw_data = pd.read_excel('Entries_for_092021_090922.xlsx')"
   ]
  },
  {
   "cell_type": "code",
   "execution_count": 3,
   "metadata": {},
   "outputs": [
    {
     "data": {
      "text/html": [
       "<div>\n",
       "<style scoped>\n",
       "    .dataframe tbody tr th:only-of-type {\n",
       "        vertical-align: middle;\n",
       "    }\n",
       "\n",
       "    .dataframe tbody tr th {\n",
       "        vertical-align: top;\n",
       "    }\n",
       "\n",
       "    .dataframe thead th {\n",
       "        text-align: right;\n",
       "    }\n",
       "</style>\n",
       "<table border=\"1\" class=\"dataframe\">\n",
       "  <thead>\n",
       "    <tr style=\"text-align: right;\">\n",
       "      <th></th>\n",
       "      <th>CREATION_TIMESTAMP</th>\n",
       "      <th>Recreation Employee</th>\n",
       "      <th>FACILITY_NAME</th>\n",
       "      <th>GENDER</th>\n",
       "    </tr>\n",
       "  </thead>\n",
       "  <tbody>\n",
       "    <tr>\n",
       "      <th>0</th>\n",
       "      <td>2022-03-29 00:08:47.670</td>\n",
       "      <td>Employee</td>\n",
       "      <td>John Wooden Center Front Desk</td>\n",
       "      <td>Woman</td>\n",
       "    </tr>\n",
       "    <tr>\n",
       "      <th>1</th>\n",
       "      <td>2022-03-30 01:07:27.500</td>\n",
       "      <td>Employee</td>\n",
       "      <td>John Wooden Center Front Desk</td>\n",
       "      <td>Woman</td>\n",
       "    </tr>\n",
       "    <tr>\n",
       "      <th>2</th>\n",
       "      <td>2022-03-30 23:53:18.163</td>\n",
       "      <td>Employee</td>\n",
       "      <td>John Wooden Center Front Desk</td>\n",
       "      <td>Woman</td>\n",
       "    </tr>\n",
       "    <tr>\n",
       "      <th>3</th>\n",
       "      <td>2022-03-31 23:47:06.560</td>\n",
       "      <td>Employee</td>\n",
       "      <td>John Wooden Center Front Desk</td>\n",
       "      <td>Woman</td>\n",
       "    </tr>\n",
       "    <tr>\n",
       "      <th>4</th>\n",
       "      <td>2022-04-05 00:08:24.650</td>\n",
       "      <td>Employee</td>\n",
       "      <td>John Wooden Center Front Desk</td>\n",
       "      <td>Woman</td>\n",
       "    </tr>\n",
       "  </tbody>\n",
       "</table>\n",
       "</div>"
      ],
      "text/plain": [
       "       CREATION_TIMESTAMP Recreation Employee                  FACILITY_NAME  \\\n",
       "0 2022-03-29 00:08:47.670            Employee  John Wooden Center Front Desk   \n",
       "1 2022-03-30 01:07:27.500            Employee  John Wooden Center Front Desk   \n",
       "2 2022-03-30 23:53:18.163            Employee  John Wooden Center Front Desk   \n",
       "3 2022-03-31 23:47:06.560            Employee  John Wooden Center Front Desk   \n",
       "4 2022-04-05 00:08:24.650            Employee  John Wooden Center Front Desk   \n",
       "\n",
       "  GENDER  \n",
       "0  Woman  \n",
       "1  Woman  \n",
       "2  Woman  \n",
       "3  Woman  \n",
       "4  Woman  "
      ]
     },
     "execution_count": 3,
     "metadata": {},
     "output_type": "execute_result"
    }
   ],
   "source": [
    "raw_data.head()"
   ]
  },
  {
   "cell_type": "code",
   "execution_count": null,
   "metadata": {},
   "outputs": [],
   "source": []
  }
 ],
 "metadata": {
  "kernelspec": {
   "display_name": "base",
   "language": "python",
   "name": "python3"
  },
  "language_info": {
   "codemirror_mode": {
    "name": "ipython",
    "version": 3
   },
   "file_extension": ".py",
   "mimetype": "text/x-python",
   "name": "python",
   "nbconvert_exporter": "python",
   "pygments_lexer": "ipython3",
   "version": "3.9.7"
  },
  "orig_nbformat": 4,
  "vscode": {
   "interpreter": {
    "hash": "78adb8089f1b1ad0b7743184fb6585d3ffc1b6fb4a355aad49fe7003845e53d4"
   }
  }
 },
 "nbformat": 4,
 "nbformat_minor": 2
}
