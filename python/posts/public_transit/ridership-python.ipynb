{
 "cells": [
  {
   "cell_type": "code",
   "execution_count": 1,
   "id": "eb9ed82d-d0d5-41b4-ba79-0354db728a39",
   "metadata": {},
   "outputs": [],
   "source": [
    "from plotly import express as px\n",
    "# Other potentially useful libraries\n",
    "import numpy as np\n",
    "import seaborn as sns\n",
    "from matplotlib import pyplot as plt\n",
    "import pandas as pd"
   ]
  },
  {
   "cell_type": "markdown",
   "id": "2d940b7b-0493-401f-a68f-a7278a234999",
   "metadata": {},
   "source": [
    "### LADOT Ridership"
   ]
  },
  {
   "cell_type": "code",
   "execution_count": 2,
   "id": "8b896b50-f329-493b-941f-ef8d2ae3093f",
   "metadata": {},
   "outputs": [],
   "source": [
    "ladot = pd.DataFrame()"
   ]
  },
  {
   "cell_type": "code",
   "execution_count": 3,
   "id": "71f5b5c4-c380-4187-8807-534ee4e3c477",
   "metadata": {},
   "outputs": [],
   "source": [
    "years = np.full(12, 19)\n",
    "years = np.append(years, np.full(12, 20))\n",
    "years = np.append(years, np.full(10, 21))"
   ]
  },
  {
   "cell_type": "code",
   "execution_count": 4,
   "id": "91bd3355-39bc-4da8-b97b-9878e62bc1a0",
   "metadata": {},
   "outputs": [
    {
     "data": {
      "text/plain": [
       "array([19, 19, 19, 19, 19, 19, 19, 19, 19, 19, 19, 19, 20, 20, 20, 20, 20,\n",
       "       20, 20, 20, 20, 20, 20, 20, 21, 21, 21, 21, 21, 21, 21, 21, 21, 21])"
      ]
     },
     "execution_count": 4,
     "metadata": {},
     "output_type": "execute_result"
    }
   ],
   "source": [
    "years"
   ]
  },
  {
   "cell_type": "code",
   "execution_count": 5,
   "id": "584bcc8b-f7ff-442f-a0be-d4c8be48860a",
   "metadata": {},
   "outputs": [],
   "source": [
    "ladot[\"year\"] = years"
   ]
  },
  {
   "cell_type": "code",
   "execution_count": 6,
   "id": "7c1dff0e-c591-4f90-a922-9440b8970140",
   "metadata": {},
   "outputs": [],
   "source": [
    "months = np.arange(1, 13)\n",
    "months = np.append(months, np.arange(1, 13))\n",
    "months = np.append(months, np.arange(1, 11))"
   ]
  },
  {
   "cell_type": "code",
   "execution_count": 7,
   "id": "a59fd4e0-1c30-45be-bfc1-7d8a77d0d9dc",
   "metadata": {},
   "outputs": [],
   "source": [
    "ladot[\"month\"] = months"
   ]
  },
  {
   "cell_type": "code",
   "execution_count": 8,
   "id": "0b1107dc-d8c0-42b4-8a5a-5628d4558dcd",
   "metadata": {},
   "outputs": [
    {
     "data": {
      "text/html": [
       "<div>\n",
       "<style scoped>\n",
       "    .dataframe tbody tr th:only-of-type {\n",
       "        vertical-align: middle;\n",
       "    }\n",
       "\n",
       "    .dataframe tbody tr th {\n",
       "        vertical-align: top;\n",
       "    }\n",
       "\n",
       "    .dataframe thead th {\n",
       "        text-align: right;\n",
       "    }\n",
       "</style>\n",
       "<table border=\"1\" class=\"dataframe\">\n",
       "  <thead>\n",
       "    <tr style=\"text-align: right;\">\n",
       "      <th></th>\n",
       "      <th>year</th>\n",
       "      <th>month</th>\n",
       "    </tr>\n",
       "  </thead>\n",
       "  <tbody>\n",
       "    <tr>\n",
       "      <th>0</th>\n",
       "      <td>19</td>\n",
       "      <td>1</td>\n",
       "    </tr>\n",
       "    <tr>\n",
       "      <th>1</th>\n",
       "      <td>19</td>\n",
       "      <td>2</td>\n",
       "    </tr>\n",
       "    <tr>\n",
       "      <th>2</th>\n",
       "      <td>19</td>\n",
       "      <td>3</td>\n",
       "    </tr>\n",
       "    <tr>\n",
       "      <th>3</th>\n",
       "      <td>19</td>\n",
       "      <td>4</td>\n",
       "    </tr>\n",
       "    <tr>\n",
       "      <th>4</th>\n",
       "      <td>19</td>\n",
       "      <td>5</td>\n",
       "    </tr>\n",
       "  </tbody>\n",
       "</table>\n",
       "</div>"
      ],
      "text/plain": [
       "   year  month\n",
       "0    19      1\n",
       "1    19      2\n",
       "2    19      3\n",
       "3    19      4\n",
       "4    19      5"
      ]
     },
     "execution_count": 8,
     "metadata": {},
     "output_type": "execute_result"
    }
   ],
   "source": [
    "ladot.head()"
   ]
  },
  {
   "cell_type": "code",
   "execution_count": 9,
   "id": "6d639854-b356-4c39-b85a-5e4cedd0a60b",
   "metadata": {},
   "outputs": [],
   "source": [
    "dmonths = {\n",
    "    1 : \"Jan\",\n",
    "    2 : \"Feb\",\n",
    "    3 : \"Mar\",\n",
    "    4 : \"Apr\",\n",
    "    5 : \"May\",\n",
    "    6 : \"Jun\",\n",
    "    7 : \"Jul\",\n",
    "    8 : \"Aug\",\n",
    "    9 : \"Sep\",\n",
    "    10 : \"Oct\",\n",
    "    11 : \"Nov\",\n",
    "    12 : \"Dec\"\n",
    "}\n",
    "\n",
    "date = np.array([])\n",
    "for row in ladot.index:\n",
    "    temp_date = dmonths[ladot[\"month\"][row]] + \". \" + str(ladot[\"year\"][row])\n",
    "    date = np.append(date, temp_date)"
   ]
  },
  {
   "cell_type": "code",
   "execution_count": 10,
   "id": "8da35ff6-a142-41e8-99a1-89dc06fc00ef",
   "metadata": {},
   "outputs": [],
   "source": [
    "ladot[\"date\"] = date"
   ]
  },
  {
   "cell_type": "code",
   "execution_count": 11,
   "id": "085f669d-05fb-4312-837e-3f6f7a69681f",
   "metadata": {},
   "outputs": [
    {
     "data": {
      "text/html": [
       "<div>\n",
       "<style scoped>\n",
       "    .dataframe tbody tr th:only-of-type {\n",
       "        vertical-align: middle;\n",
       "    }\n",
       "\n",
       "    .dataframe tbody tr th {\n",
       "        vertical-align: top;\n",
       "    }\n",
       "\n",
       "    .dataframe thead th {\n",
       "        text-align: right;\n",
       "    }\n",
       "</style>\n",
       "<table border=\"1\" class=\"dataframe\">\n",
       "  <thead>\n",
       "    <tr style=\"text-align: right;\">\n",
       "      <th></th>\n",
       "      <th>year</th>\n",
       "      <th>month</th>\n",
       "      <th>date</th>\n",
       "    </tr>\n",
       "  </thead>\n",
       "  <tbody>\n",
       "    <tr>\n",
       "      <th>0</th>\n",
       "      <td>19</td>\n",
       "      <td>1</td>\n",
       "      <td>Jan. 19</td>\n",
       "    </tr>\n",
       "    <tr>\n",
       "      <th>1</th>\n",
       "      <td>19</td>\n",
       "      <td>2</td>\n",
       "      <td>Feb. 19</td>\n",
       "    </tr>\n",
       "    <tr>\n",
       "      <th>2</th>\n",
       "      <td>19</td>\n",
       "      <td>3</td>\n",
       "      <td>Mar. 19</td>\n",
       "    </tr>\n",
       "    <tr>\n",
       "      <th>3</th>\n",
       "      <td>19</td>\n",
       "      <td>4</td>\n",
       "      <td>Apr. 19</td>\n",
       "    </tr>\n",
       "    <tr>\n",
       "      <th>4</th>\n",
       "      <td>19</td>\n",
       "      <td>5</td>\n",
       "      <td>May. 19</td>\n",
       "    </tr>\n",
       "  </tbody>\n",
       "</table>\n",
       "</div>"
      ],
      "text/plain": [
       "   year  month     date\n",
       "0    19      1  Jan. 19\n",
       "1    19      2  Feb. 19\n",
       "2    19      3  Mar. 19\n",
       "3    19      4  Apr. 19\n",
       "4    19      5  May. 19"
      ]
     },
     "execution_count": 11,
     "metadata": {},
     "output_type": "execute_result"
    }
   ],
   "source": [
    "ladot.head()"
   ]
  },
  {
   "cell_type": "code",
   "execution_count": 12,
   "id": "110fcec3-c5d7-4f6e-8e06-4b9d4da0c10a",
   "metadata": {},
   "outputs": [],
   "source": [
    "line431 = np.array(['3688', '3235', '3544', '3030', '2956', '3005', '4017', '4282', '4455', '3909', '3056', '4153', '2651', \n",
    "                    '1772','775', '68', '59', '112', '127', '108', '130', '211', '164', '62', '96', '167', '216', '167', \n",
    "                    '150', '595', '343', '365', '517', '513'])\n",
    "line431 = line431.astype(float)"
   ]
  },
  {
   "cell_type": "code",
   "execution_count": 13,
   "id": "2e353581-eae9-47f0-bf36-80eb7bdcd30f",
   "metadata": {},
   "outputs": [],
   "source": [
    "line534 = np.array(['2666', '2427', '2491', '2559', '2515', '2506', '2577', '2393', '2269', '2468', '2419', '2083', \n",
    "                    '2227', '1705', '1029', '71', '69', '151', '176', '197', '225', '196', '163', '199', '249', '196', \n",
    "                    '246', '268', '304', '395', '504', '810', '983', '992'])\n",
    "line534 = line534.astype(float)"
   ]
  },
  {
   "cell_type": "code",
   "execution_count": 14,
   "id": "cad46f69-1171-43d7-8a76-ee9ead6e172d",
   "metadata": {},
   "outputs": [],
   "source": [
    "line573 = np.array(['16671', '16525', '17893', '18752', '19923', '16984', '17959', '18062', '16378', '18725', \n",
    "                    '15860', '12768', '15660', '13274', '7428', '1076', '1324', '2096', '2529', '2561', '2849', \n",
    "                    '3012', '2807', '2196', '2188', '2488', '3219', '3334', '3298', '4032', '3955', '4961', '5821', '5873'])\n",
    "line573 = line573.astype(float)"
   ]
  },
  {
   "cell_type": "code",
   "execution_count": 15,
   "id": "7411f485-0bc0-4089-833a-b113ab834ca9",
   "metadata": {},
   "outputs": [],
   "source": [
    "ladot[\"line 431\"] = line431\n",
    "ladot[\"line 534\"] = line534\n",
    "ladot[\"line 573\"] = line573"
   ]
  },
  {
   "cell_type": "code",
   "execution_count": 16,
   "id": "23a41596-df1e-4a50-bfde-65cb71b070b2",
   "metadata": {},
   "outputs": [],
   "source": [
    "total = np.array([])\n",
    "for row in ladot.index:\n",
    "    allriders = ladot[\"line 431\"][row] + ladot[\"line 534\"][row] + ladot[\"line 573\"][row]\n",
    "    total = np.append(total, allriders)"
   ]
  },
  {
   "cell_type": "code",
   "execution_count": 17,
   "id": "ac3e9afe-712f-421c-9b79-94713d44344e",
   "metadata": {},
   "outputs": [],
   "source": [
    "ladot[\"total ridership\"] = total"
   ]
  },
  {
   "cell_type": "code",
   "execution_count": 18,
   "id": "76cda405-9c78-493b-8641-57b4e8abcfcc",
   "metadata": {},
   "outputs": [
    {
     "data": {
      "text/html": [
       "<div>\n",
       "<style scoped>\n",
       "    .dataframe tbody tr th:only-of-type {\n",
       "        vertical-align: middle;\n",
       "    }\n",
       "\n",
       "    .dataframe tbody tr th {\n",
       "        vertical-align: top;\n",
       "    }\n",
       "\n",
       "    .dataframe thead th {\n",
       "        text-align: right;\n",
       "    }\n",
       "</style>\n",
       "<table border=\"1\" class=\"dataframe\">\n",
       "  <thead>\n",
       "    <tr style=\"text-align: right;\">\n",
       "      <th></th>\n",
       "      <th>year</th>\n",
       "      <th>month</th>\n",
       "      <th>date</th>\n",
       "      <th>line 431</th>\n",
       "      <th>line 534</th>\n",
       "      <th>line 573</th>\n",
       "      <th>total ridership</th>\n",
       "    </tr>\n",
       "  </thead>\n",
       "  <tbody>\n",
       "    <tr>\n",
       "      <th>0</th>\n",
       "      <td>19</td>\n",
       "      <td>1</td>\n",
       "      <td>Jan. 19</td>\n",
       "      <td>3688.0</td>\n",
       "      <td>2666.0</td>\n",
       "      <td>16671.0</td>\n",
       "      <td>23025.0</td>\n",
       "    </tr>\n",
       "    <tr>\n",
       "      <th>1</th>\n",
       "      <td>19</td>\n",
       "      <td>2</td>\n",
       "      <td>Feb. 19</td>\n",
       "      <td>3235.0</td>\n",
       "      <td>2427.0</td>\n",
       "      <td>16525.0</td>\n",
       "      <td>22187.0</td>\n",
       "    </tr>\n",
       "    <tr>\n",
       "      <th>2</th>\n",
       "      <td>19</td>\n",
       "      <td>3</td>\n",
       "      <td>Mar. 19</td>\n",
       "      <td>3544.0</td>\n",
       "      <td>2491.0</td>\n",
       "      <td>17893.0</td>\n",
       "      <td>23928.0</td>\n",
       "    </tr>\n",
       "    <tr>\n",
       "      <th>3</th>\n",
       "      <td>19</td>\n",
       "      <td>4</td>\n",
       "      <td>Apr. 19</td>\n",
       "      <td>3030.0</td>\n",
       "      <td>2559.0</td>\n",
       "      <td>18752.0</td>\n",
       "      <td>24341.0</td>\n",
       "    </tr>\n",
       "    <tr>\n",
       "      <th>4</th>\n",
       "      <td>19</td>\n",
       "      <td>5</td>\n",
       "      <td>May. 19</td>\n",
       "      <td>2956.0</td>\n",
       "      <td>2515.0</td>\n",
       "      <td>19923.0</td>\n",
       "      <td>25394.0</td>\n",
       "    </tr>\n",
       "  </tbody>\n",
       "</table>\n",
       "</div>"
      ],
      "text/plain": [
       "   year  month     date  line 431  line 534  line 573  total ridership\n",
       "0    19      1  Jan. 19    3688.0    2666.0   16671.0          23025.0\n",
       "1    19      2  Feb. 19    3235.0    2427.0   16525.0          22187.0\n",
       "2    19      3  Mar. 19    3544.0    2491.0   17893.0          23928.0\n",
       "3    19      4  Apr. 19    3030.0    2559.0   18752.0          24341.0\n",
       "4    19      5  May. 19    2956.0    2515.0   19923.0          25394.0"
      ]
     },
     "execution_count": 18,
     "metadata": {},
     "output_type": "execute_result"
    }
   ],
   "source": [
    "ladot.head()"
   ]
  },
  {
   "cell_type": "code",
   "execution_count": 19,
   "id": "16307713-a390-4737-aec4-78e90e079568",
   "metadata": {},
   "outputs": [
    {
     "data": {
      "text/plain": [
       "'Oct. 21'"
      ]
     },
     "execution_count": 19,
     "metadata": {},
     "output_type": "execute_result"
    }
   ],
   "source": [
    "ladot[\"date\"][row]"
   ]
  },
  {
   "cell_type": "code",
   "execution_count": 21,
   "id": "68df4891-ffda-4daf-b360-af90f8c2bce1",
   "metadata": {},
   "outputs": [
    {
     "data": {
      "application/vnd.plotly.v1+json": {
       "config": {
        "plotlyServerURL": "https://plot.ly",
        "responsive": true
       },
       "data": [
        {
         "hovertemplate": "Bus Lines=line 431<br>Date=%{x}<br>Number of Riders=%{y}<extra></extra>",
         "legendgroup": "line 431",
         "line": {
          "color": "rgb(102, 197, 204)",
          "dash": "solid",
          "shape": "spline"
         },
         "marker": {
          "symbol": "circle"
         },
         "mode": "lines",
         "name": "line 431",
         "orientation": "v",
         "showlegend": true,
         "type": "scatter",
         "x": [
          "Jan. 19",
          "Feb. 19",
          "Mar. 19",
          "Apr. 19",
          "May. 19",
          "Jun. 19",
          "Jul. 19",
          "Aug. 19",
          "Sep. 19",
          "Oct. 19",
          "Nov. 19",
          "Dec. 19",
          "Jan. 20",
          "Feb. 20",
          "Mar. 20",
          "Apr. 20",
          "May. 20",
          "Jun. 20",
          "Jul. 20",
          "Aug. 20",
          "Sep. 20",
          "Oct. 20",
          "Nov. 20",
          "Dec. 20",
          "Jan. 21",
          "Feb. 21",
          "Mar. 21",
          "Apr. 21",
          "May. 21",
          "Jun. 21",
          "Jul. 21",
          "Aug. 21",
          "Sep. 21",
          "Oct. 21"
         ],
         "xaxis": "x",
         "y": [
          3688,
          3235,
          3544,
          3030,
          2956,
          3005,
          4017,
          4282,
          4455,
          3909,
          3056,
          4153,
          2651,
          1772,
          775,
          68,
          59,
          112,
          127,
          108,
          130,
          211,
          164,
          62,
          96,
          167,
          216,
          167,
          150,
          595,
          343,
          365,
          517,
          513
         ],
         "yaxis": "y"
        },
        {
         "hovertemplate": "Bus Lines=line 534<br>Date=%{x}<br>Number of Riders=%{y}<extra></extra>",
         "legendgroup": "line 534",
         "line": {
          "color": "rgb(246, 207, 113)",
          "dash": "solid",
          "shape": "spline"
         },
         "marker": {
          "symbol": "circle"
         },
         "mode": "lines",
         "name": "line 534",
         "orientation": "v",
         "showlegend": true,
         "type": "scatter",
         "x": [
          "Jan. 19",
          "Feb. 19",
          "Mar. 19",
          "Apr. 19",
          "May. 19",
          "Jun. 19",
          "Jul. 19",
          "Aug. 19",
          "Sep. 19",
          "Oct. 19",
          "Nov. 19",
          "Dec. 19",
          "Jan. 20",
          "Feb. 20",
          "Mar. 20",
          "Apr. 20",
          "May. 20",
          "Jun. 20",
          "Jul. 20",
          "Aug. 20",
          "Sep. 20",
          "Oct. 20",
          "Nov. 20",
          "Dec. 20",
          "Jan. 21",
          "Feb. 21",
          "Mar. 21",
          "Apr. 21",
          "May. 21",
          "Jun. 21",
          "Jul. 21",
          "Aug. 21",
          "Sep. 21",
          "Oct. 21"
         ],
         "xaxis": "x",
         "y": [
          2666,
          2427,
          2491,
          2559,
          2515,
          2506,
          2577,
          2393,
          2269,
          2468,
          2419,
          2083,
          2227,
          1705,
          1029,
          71,
          69,
          151,
          176,
          197,
          225,
          196,
          163,
          199,
          249,
          196,
          246,
          268,
          304,
          395,
          504,
          810,
          983,
          992
         ],
         "yaxis": "y"
        },
        {
         "hovertemplate": "Bus Lines=line 573<br>Date=%{x}<br>Number of Riders=%{y}<extra></extra>",
         "legendgroup": "line 573",
         "line": {
          "color": "rgb(248, 156, 116)",
          "dash": "solid",
          "shape": "spline"
         },
         "marker": {
          "symbol": "circle"
         },
         "mode": "lines",
         "name": "line 573",
         "orientation": "v",
         "showlegend": true,
         "type": "scatter",
         "x": [
          "Jan. 19",
          "Feb. 19",
          "Mar. 19",
          "Apr. 19",
          "May. 19",
          "Jun. 19",
          "Jul. 19",
          "Aug. 19",
          "Sep. 19",
          "Oct. 19",
          "Nov. 19",
          "Dec. 19",
          "Jan. 20",
          "Feb. 20",
          "Mar. 20",
          "Apr. 20",
          "May. 20",
          "Jun. 20",
          "Jul. 20",
          "Aug. 20",
          "Sep. 20",
          "Oct. 20",
          "Nov. 20",
          "Dec. 20",
          "Jan. 21",
          "Feb. 21",
          "Mar. 21",
          "Apr. 21",
          "May. 21",
          "Jun. 21",
          "Jul. 21",
          "Aug. 21",
          "Sep. 21",
          "Oct. 21"
         ],
         "xaxis": "x",
         "y": [
          16671,
          16525,
          17893,
          18752,
          19923,
          16984,
          17959,
          18062,
          16378,
          18725,
          15860,
          12768,
          15660,
          13274,
          7428,
          1076,
          1324,
          2096,
          2529,
          2561,
          2849,
          3012,
          2807,
          2196,
          2188,
          2488,
          3219,
          3334,
          3298,
          4032,
          3955,
          4961,
          5821,
          5873
         ],
         "yaxis": "y"
        }
       ],
       "layout": {
        "annotations": [
         {
          "showarrow": false,
          "text": "First COVID-19 Case in LA",
          "x": 12,
          "xanchor": "right",
          "xref": "x",
          "y": 1,
          "yanchor": "top",
          "yref": "y domain"
         },
         {
          "showarrow": false,
          "text": "CA Stay at Home Order Issued",
          "x": 14,
          "xanchor": "left",
          "xref": "x",
          "y": 1,
          "yanchor": "top",
          "yref": "y domain"
         }
        ],
        "height": 450,
        "legend": {
         "title": {
          "text": "Bus Lines"
         },
         "tracegroupgap": 0
        },
        "shapes": [
         {
          "line": {
           "dash": "dot"
          },
          "type": "line",
          "x0": 12,
          "x1": 12,
          "xref": "x",
          "y0": 0,
          "y1": 1,
          "yref": "y domain"
         },
         {
          "line": {
           "dash": "dot"
          },
          "type": "line",
          "x0": 14,
          "x1": 14,
          "xref": "x",
          "y0": 0,
          "y1": 1,
          "yref": "y domain"
         }
        ],
        "template": {
         "data": {
          "bar": [
           {
            "error_x": {
             "color": "#2a3f5f"
            },
            "error_y": {
             "color": "#2a3f5f"
            },
            "marker": {
             "line": {
              "color": "#E5ECF6",
              "width": 0.5
             },
             "pattern": {
              "fillmode": "overlay",
              "size": 10,
              "solidity": 0.2
             }
            },
            "type": "bar"
           }
          ],
          "barpolar": [
           {
            "marker": {
             "line": {
              "color": "#E5ECF6",
              "width": 0.5
             },
             "pattern": {
              "fillmode": "overlay",
              "size": 10,
              "solidity": 0.2
             }
            },
            "type": "barpolar"
           }
          ],
          "carpet": [
           {
            "aaxis": {
             "endlinecolor": "#2a3f5f",
             "gridcolor": "white",
             "linecolor": "white",
             "minorgridcolor": "white",
             "startlinecolor": "#2a3f5f"
            },
            "baxis": {
             "endlinecolor": "#2a3f5f",
             "gridcolor": "white",
             "linecolor": "white",
             "minorgridcolor": "white",
             "startlinecolor": "#2a3f5f"
            },
            "type": "carpet"
           }
          ],
          "choropleth": [
           {
            "colorbar": {
             "outlinewidth": 0,
             "ticks": ""
            },
            "type": "choropleth"
           }
          ],
          "contour": [
           {
            "colorbar": {
             "outlinewidth": 0,
             "ticks": ""
            },
            "colorscale": [
             [
              0,
              "#0d0887"
             ],
             [
              0.1111111111111111,
              "#46039f"
             ],
             [
              0.2222222222222222,
              "#7201a8"
             ],
             [
              0.3333333333333333,
              "#9c179e"
             ],
             [
              0.4444444444444444,
              "#bd3786"
             ],
             [
              0.5555555555555556,
              "#d8576b"
             ],
             [
              0.6666666666666666,
              "#ed7953"
             ],
             [
              0.7777777777777778,
              "#fb9f3a"
             ],
             [
              0.8888888888888888,
              "#fdca26"
             ],
             [
              1,
              "#f0f921"
             ]
            ],
            "type": "contour"
           }
          ],
          "contourcarpet": [
           {
            "colorbar": {
             "outlinewidth": 0,
             "ticks": ""
            },
            "type": "contourcarpet"
           }
          ],
          "heatmap": [
           {
            "colorbar": {
             "outlinewidth": 0,
             "ticks": ""
            },
            "colorscale": [
             [
              0,
              "#0d0887"
             ],
             [
              0.1111111111111111,
              "#46039f"
             ],
             [
              0.2222222222222222,
              "#7201a8"
             ],
             [
              0.3333333333333333,
              "#9c179e"
             ],
             [
              0.4444444444444444,
              "#bd3786"
             ],
             [
              0.5555555555555556,
              "#d8576b"
             ],
             [
              0.6666666666666666,
              "#ed7953"
             ],
             [
              0.7777777777777778,
              "#fb9f3a"
             ],
             [
              0.8888888888888888,
              "#fdca26"
             ],
             [
              1,
              "#f0f921"
             ]
            ],
            "type": "heatmap"
           }
          ],
          "heatmapgl": [
           {
            "colorbar": {
             "outlinewidth": 0,
             "ticks": ""
            },
            "colorscale": [
             [
              0,
              "#0d0887"
             ],
             [
              0.1111111111111111,
              "#46039f"
             ],
             [
              0.2222222222222222,
              "#7201a8"
             ],
             [
              0.3333333333333333,
              "#9c179e"
             ],
             [
              0.4444444444444444,
              "#bd3786"
             ],
             [
              0.5555555555555556,
              "#d8576b"
             ],
             [
              0.6666666666666666,
              "#ed7953"
             ],
             [
              0.7777777777777778,
              "#fb9f3a"
             ],
             [
              0.8888888888888888,
              "#fdca26"
             ],
             [
              1,
              "#f0f921"
             ]
            ],
            "type": "heatmapgl"
           }
          ],
          "histogram": [
           {
            "marker": {
             "pattern": {
              "fillmode": "overlay",
              "size": 10,
              "solidity": 0.2
             }
            },
            "type": "histogram"
           }
          ],
          "histogram2d": [
           {
            "colorbar": {
             "outlinewidth": 0,
             "ticks": ""
            },
            "colorscale": [
             [
              0,
              "#0d0887"
             ],
             [
              0.1111111111111111,
              "#46039f"
             ],
             [
              0.2222222222222222,
              "#7201a8"
             ],
             [
              0.3333333333333333,
              "#9c179e"
             ],
             [
              0.4444444444444444,
              "#bd3786"
             ],
             [
              0.5555555555555556,
              "#d8576b"
             ],
             [
              0.6666666666666666,
              "#ed7953"
             ],
             [
              0.7777777777777778,
              "#fb9f3a"
             ],
             [
              0.8888888888888888,
              "#fdca26"
             ],
             [
              1,
              "#f0f921"
             ]
            ],
            "type": "histogram2d"
           }
          ],
          "histogram2dcontour": [
           {
            "colorbar": {
             "outlinewidth": 0,
             "ticks": ""
            },
            "colorscale": [
             [
              0,
              "#0d0887"
             ],
             [
              0.1111111111111111,
              "#46039f"
             ],
             [
              0.2222222222222222,
              "#7201a8"
             ],
             [
              0.3333333333333333,
              "#9c179e"
             ],
             [
              0.4444444444444444,
              "#bd3786"
             ],
             [
              0.5555555555555556,
              "#d8576b"
             ],
             [
              0.6666666666666666,
              "#ed7953"
             ],
             [
              0.7777777777777778,
              "#fb9f3a"
             ],
             [
              0.8888888888888888,
              "#fdca26"
             ],
             [
              1,
              "#f0f921"
             ]
            ],
            "type": "histogram2dcontour"
           }
          ],
          "mesh3d": [
           {
            "colorbar": {
             "outlinewidth": 0,
             "ticks": ""
            },
            "type": "mesh3d"
           }
          ],
          "parcoords": [
           {
            "line": {
             "colorbar": {
              "outlinewidth": 0,
              "ticks": ""
             }
            },
            "type": "parcoords"
           }
          ],
          "pie": [
           {
            "automargin": true,
            "type": "pie"
           }
          ],
          "scatter": [
           {
            "marker": {
             "colorbar": {
              "outlinewidth": 0,
              "ticks": ""
             }
            },
            "type": "scatter"
           }
          ],
          "scatter3d": [
           {
            "line": {
             "colorbar": {
              "outlinewidth": 0,
              "ticks": ""
             }
            },
            "marker": {
             "colorbar": {
              "outlinewidth": 0,
              "ticks": ""
             }
            },
            "type": "scatter3d"
           }
          ],
          "scattercarpet": [
           {
            "marker": {
             "colorbar": {
              "outlinewidth": 0,
              "ticks": ""
             }
            },
            "type": "scattercarpet"
           }
          ],
          "scattergeo": [
           {
            "marker": {
             "colorbar": {
              "outlinewidth": 0,
              "ticks": ""
             }
            },
            "type": "scattergeo"
           }
          ],
          "scattergl": [
           {
            "marker": {
             "colorbar": {
              "outlinewidth": 0,
              "ticks": ""
             }
            },
            "type": "scattergl"
           }
          ],
          "scattermapbox": [
           {
            "marker": {
             "colorbar": {
              "outlinewidth": 0,
              "ticks": ""
             }
            },
            "type": "scattermapbox"
           }
          ],
          "scatterpolar": [
           {
            "marker": {
             "colorbar": {
              "outlinewidth": 0,
              "ticks": ""
             }
            },
            "type": "scatterpolar"
           }
          ],
          "scatterpolargl": [
           {
            "marker": {
             "colorbar": {
              "outlinewidth": 0,
              "ticks": ""
             }
            },
            "type": "scatterpolargl"
           }
          ],
          "scatterternary": [
           {
            "marker": {
             "colorbar": {
              "outlinewidth": 0,
              "ticks": ""
             }
            },
            "type": "scatterternary"
           }
          ],
          "surface": [
           {
            "colorbar": {
             "outlinewidth": 0,
             "ticks": ""
            },
            "colorscale": [
             [
              0,
              "#0d0887"
             ],
             [
              0.1111111111111111,
              "#46039f"
             ],
             [
              0.2222222222222222,
              "#7201a8"
             ],
             [
              0.3333333333333333,
              "#9c179e"
             ],
             [
              0.4444444444444444,
              "#bd3786"
             ],
             [
              0.5555555555555556,
              "#d8576b"
             ],
             [
              0.6666666666666666,
              "#ed7953"
             ],
             [
              0.7777777777777778,
              "#fb9f3a"
             ],
             [
              0.8888888888888888,
              "#fdca26"
             ],
             [
              1,
              "#f0f921"
             ]
            ],
            "type": "surface"
           }
          ],
          "table": [
           {
            "cells": {
             "fill": {
              "color": "#EBF0F8"
             },
             "line": {
              "color": "white"
             }
            },
            "header": {
             "fill": {
              "color": "#C8D4E3"
             },
             "line": {
              "color": "white"
             }
            },
            "type": "table"
           }
          ]
         },
         "layout": {
          "annotationdefaults": {
           "arrowcolor": "#2a3f5f",
           "arrowhead": 0,
           "arrowwidth": 1
          },
          "autotypenumbers": "strict",
          "coloraxis": {
           "colorbar": {
            "outlinewidth": 0,
            "ticks": ""
           }
          },
          "colorscale": {
           "diverging": [
            [
             0,
             "#8e0152"
            ],
            [
             0.1,
             "#c51b7d"
            ],
            [
             0.2,
             "#de77ae"
            ],
            [
             0.3,
             "#f1b6da"
            ],
            [
             0.4,
             "#fde0ef"
            ],
            [
             0.5,
             "#f7f7f7"
            ],
            [
             0.6,
             "#e6f5d0"
            ],
            [
             0.7,
             "#b8e186"
            ],
            [
             0.8,
             "#7fbc41"
            ],
            [
             0.9,
             "#4d9221"
            ],
            [
             1,
             "#276419"
            ]
           ],
           "sequential": [
            [
             0,
             "#0d0887"
            ],
            [
             0.1111111111111111,
             "#46039f"
            ],
            [
             0.2222222222222222,
             "#7201a8"
            ],
            [
             0.3333333333333333,
             "#9c179e"
            ],
            [
             0.4444444444444444,
             "#bd3786"
            ],
            [
             0.5555555555555556,
             "#d8576b"
            ],
            [
             0.6666666666666666,
             "#ed7953"
            ],
            [
             0.7777777777777778,
             "#fb9f3a"
            ],
            [
             0.8888888888888888,
             "#fdca26"
            ],
            [
             1,
             "#f0f921"
            ]
           ],
           "sequentialminus": [
            [
             0,
             "#0d0887"
            ],
            [
             0.1111111111111111,
             "#46039f"
            ],
            [
             0.2222222222222222,
             "#7201a8"
            ],
            [
             0.3333333333333333,
             "#9c179e"
            ],
            [
             0.4444444444444444,
             "#bd3786"
            ],
            [
             0.5555555555555556,
             "#d8576b"
            ],
            [
             0.6666666666666666,
             "#ed7953"
            ],
            [
             0.7777777777777778,
             "#fb9f3a"
            ],
            [
             0.8888888888888888,
             "#fdca26"
            ],
            [
             1,
             "#f0f921"
            ]
           ]
          },
          "colorway": [
           "#636efa",
           "#EF553B",
           "#00cc96",
           "#ab63fa",
           "#FFA15A",
           "#19d3f3",
           "#FF6692",
           "#B6E880",
           "#FF97FF",
           "#FECB52"
          ],
          "font": {
           "color": "#2a3f5f"
          },
          "geo": {
           "bgcolor": "white",
           "lakecolor": "white",
           "landcolor": "#E5ECF6",
           "showlakes": true,
           "showland": true,
           "subunitcolor": "white"
          },
          "hoverlabel": {
           "align": "left"
          },
          "hovermode": "closest",
          "mapbox": {
           "style": "light"
          },
          "paper_bgcolor": "white",
          "plot_bgcolor": "#E5ECF6",
          "polar": {
           "angularaxis": {
            "gridcolor": "white",
            "linecolor": "white",
            "ticks": ""
           },
           "bgcolor": "#E5ECF6",
           "radialaxis": {
            "gridcolor": "white",
            "linecolor": "white",
            "ticks": ""
           }
          },
          "scene": {
           "xaxis": {
            "backgroundcolor": "#E5ECF6",
            "gridcolor": "white",
            "gridwidth": 2,
            "linecolor": "white",
            "showbackground": true,
            "ticks": "",
            "zerolinecolor": "white"
           },
           "yaxis": {
            "backgroundcolor": "#E5ECF6",
            "gridcolor": "white",
            "gridwidth": 2,
            "linecolor": "white",
            "showbackground": true,
            "ticks": "",
            "zerolinecolor": "white"
           },
           "zaxis": {
            "backgroundcolor": "#E5ECF6",
            "gridcolor": "white",
            "gridwidth": 2,
            "linecolor": "white",
            "showbackground": true,
            "ticks": "",
            "zerolinecolor": "white"
           }
          },
          "shapedefaults": {
           "line": {
            "color": "#2a3f5f"
           }
          },
          "ternary": {
           "aaxis": {
            "gridcolor": "white",
            "linecolor": "white",
            "ticks": ""
           },
           "baxis": {
            "gridcolor": "white",
            "linecolor": "white",
            "ticks": ""
           },
           "bgcolor": "#E5ECF6",
           "caxis": {
            "gridcolor": "white",
            "linecolor": "white",
            "ticks": ""
           }
          },
          "title": {
           "x": 0.05
          },
          "xaxis": {
           "automargin": true,
           "gridcolor": "white",
           "linecolor": "white",
           "ticks": "",
           "title": {
            "standoff": 15
           },
           "zerolinecolor": "white",
           "zerolinewidth": 2
          },
          "yaxis": {
           "automargin": true,
           "gridcolor": "white",
           "linecolor": "white",
           "ticks": "",
           "title": {
            "standoff": 15
           },
           "zerolinecolor": "white",
           "zerolinewidth": 2
          }
         }
        },
        "title": {
         "text": "Los Angeles Department of Transportation (LADOT) Ridership"
        },
        "width": 1000,
        "xaxis": {
         "anchor": "y",
         "autorange": true,
         "domain": [
          0,
          1
         ],
         "range": [
          0,
          33
         ],
         "tickangle": -60,
         "title": {
          "text": "Date"
         },
         "type": "category"
        },
        "yaxis": {
         "anchor": "x",
         "autorange": true,
         "domain": [
          0,
          1
         ],
         "nticks": 20,
         "range": [
          -1044.5555555555557,
          21026.555555555555
         ],
         "tickformat": ",",
         "title": {
          "text": "Number of Riders"
         },
         "type": "linear"
        }
       }
      },
      "image/png": "[encoded data removed]",
      "text/html": [
       "<div>                            <div id=\"9a07e5d8-0143-4f90-8702-5227e1f1c95a\" class=\"plotly-graph-div\" style=\"height:450px; width:1000px;\"></div>            <script type=\"text/javascript\">                require([\"plotly\"], function(Plotly) {                    window.PLOTLYENV=window.PLOTLYENV || {};                                    if (document.getElementById(\"9a07e5d8-0143-4f90-8702-5227e1f1c95a\")) {                    Plotly.newPlot(                        \"9a07e5d8-0143-4f90-8702-5227e1f1c95a\",                        [{\"hovertemplate\":\"Bus Lines=line 431<br>Date=%{x}<br>Number of Riders=%{y}<extra></extra>\",\"legendgroup\":\"line 431\",\"line\":{\"color\":\"rgb(102, 197, 204)\",\"dash\":\"solid\",\"shape\":\"spline\"},\"marker\":{\"symbol\":\"circle\"},\"mode\":\"lines\",\"name\":\"line 431\",\"orientation\":\"v\",\"showlegend\":true,\"type\":\"scatter\",\"x\":[\"Jan. 19\",\"Feb. 19\",\"Mar. 19\",\"Apr. 19\",\"May. 19\",\"Jun. 19\",\"Jul. 19\",\"Aug. 19\",\"Sep. 19\",\"Oct. 19\",\"Nov. 19\",\"Dec. 19\",\"Jan. 20\",\"Feb. 20\",\"Mar. 20\",\"Apr. 20\",\"May. 20\",\"Jun. 20\",\"Jul. 20\",\"Aug. 20\",\"Sep. 20\",\"Oct. 20\",\"Nov. 20\",\"Dec. 20\",\"Jan. 21\",\"Feb. 21\",\"Mar. 21\",\"Apr. 21\",\"May. 21\",\"Jun. 21\",\"Jul. 21\",\"Aug. 21\",\"Sep. 21\",\"Oct. 21\"],\"xaxis\":\"x\",\"y\":[3688.0,3235.0,3544.0,3030.0,2956.0,3005.0,4017.0,4282.0,4455.0,3909.0,3056.0,4153.0,2651.0,1772.0,775.0,68.0,59.0,112.0,127.0,108.0,130.0,211.0,164.0,62.0,96.0,167.0,216.0,167.0,150.0,595.0,343.0,365.0,517.0,513.0],\"yaxis\":\"y\"},{\"hovertemplate\":\"Bus Lines=line 534<br>Date=%{x}<br>Number of Riders=%{y}<extra></extra>\",\"legendgroup\":\"line 534\",\"line\":{\"color\":\"rgb(246, 207, 113)\",\"dash\":\"solid\",\"shape\":\"spline\"},\"marker\":{\"symbol\":\"circle\"},\"mode\":\"lines\",\"name\":\"line 534\",\"orientation\":\"v\",\"showlegend\":true,\"type\":\"scatter\",\"x\":[\"Jan. 19\",\"Feb. 19\",\"Mar. 19\",\"Apr. 19\",\"May. 19\",\"Jun. 19\",\"Jul. 19\",\"Aug. 19\",\"Sep. 19\",\"Oct. 19\",\"Nov. 19\",\"Dec. 19\",\"Jan. 20\",\"Feb. 20\",\"Mar. 20\",\"Apr. 20\",\"May. 20\",\"Jun. 20\",\"Jul. 20\",\"Aug. 20\",\"Sep. 20\",\"Oct. 20\",\"Nov. 20\",\"Dec. 20\",\"Jan. 21\",\"Feb. 21\",\"Mar. 21\",\"Apr. 21\",\"May. 21\",\"Jun. 21\",\"Jul. 21\",\"Aug. 21\",\"Sep. 21\",\"Oct. 21\"],\"xaxis\":\"x\",\"y\":[2666.0,2427.0,2491.0,2559.0,2515.0,2506.0,2577.0,2393.0,2269.0,2468.0,2419.0,2083.0,2227.0,1705.0,1029.0,71.0,69.0,151.0,176.0,197.0,225.0,196.0,163.0,199.0,249.0,196.0,246.0,268.0,304.0,395.0,504.0,810.0,983.0,992.0],\"yaxis\":\"y\"},{\"hovertemplate\":\"Bus Lines=line 573<br>Date=%{x}<br>Number of Riders=%{y}<extra></extra>\",\"legendgroup\":\"line 573\",\"line\":{\"color\":\"rgb(248, 156, 116)\",\"dash\":\"solid\",\"shape\":\"spline\"},\"marker\":{\"symbol\":\"circle\"},\"mode\":\"lines\",\"name\":\"line 573\",\"orientation\":\"v\",\"showlegend\":true,\"type\":\"scatter\",\"x\":[\"Jan. 19\",\"Feb. 19\",\"Mar. 19\",\"Apr. 19\",\"May. 19\",\"Jun. 19\",\"Jul. 19\",\"Aug. 19\",\"Sep. 19\",\"Oct. 19\",\"Nov. 19\",\"Dec. 19\",\"Jan. 20\",\"Feb. 20\",\"Mar. 20\",\"Apr. 20\",\"May. 20\",\"Jun. 20\",\"Jul. 20\",\"Aug. 20\",\"Sep. 20\",\"Oct. 20\",\"Nov. 20\",\"Dec. 20\",\"Jan. 21\",\"Feb. 21\",\"Mar. 21\",\"Apr. 21\",\"May. 21\",\"Jun. 21\",\"Jul. 21\",\"Aug. 21\",\"Sep. 21\",\"Oct. 21\"],\"xaxis\":\"x\",\"y\":[16671.0,16525.0,17893.0,18752.0,19923.0,16984.0,17959.0,18062.0,16378.0,18725.0,15860.0,12768.0,15660.0,13274.0,7428.0,1076.0,1324.0,2096.0,2529.0,2561.0,2849.0,3012.0,2807.0,2196.0,2188.0,2488.0,3219.0,3334.0,3298.0,4032.0,3955.0,4961.0,5821.0,5873.0],\"yaxis\":\"y\"}],                        {\"annotations\":[{\"showarrow\":false,\"text\":\"First COVID-19 Case in LA\",\"x\":12,\"xanchor\":\"right\",\"xref\":\"x\",\"y\":1,\"yanchor\":\"top\",\"yref\":\"y domain\"},{\"showarrow\":false,\"text\":\"CA Stay at Home Order Issued\",\"x\":14,\"xanchor\":\"left\",\"xref\":\"x\",\"y\":1,\"yanchor\":\"top\",\"yref\":\"y domain\"}],\"height\":450,\"legend\":{\"title\":{\"text\":\"Bus Lines\"},\"tracegroupgap\":0},\"shapes\":[{\"line\":{\"dash\":\"dot\"},\"type\":\"line\",\"x0\":12,\"x1\":12,\"xref\":\"x\",\"y0\":0,\"y1\":1,\"yref\":\"y domain\"},{\"line\":{\"dash\":\"dot\"},\"type\":\"line\",\"x0\":14,\"x1\":14,\"xref\":\"x\",\"y0\":0,\"y1\":1,\"yref\":\"y domain\"}],\"template\":{\"data\":{\"bar\":[{\"error_x\":{\"color\":\"#2a3f5f\"},\"error_y\":{\"color\":\"#2a3f5f\"},\"marker\":{\"line\":{\"color\":\"#E5ECF6\",\"width\":0.5},\"pattern\":{\"fillmode\":\"overlay\",\"size\":10,\"solidity\":0.2}},\"type\":\"bar\"}],\"barpolar\":[{\"marker\":{\"line\":{\"color\":\"#E5ECF6\",\"width\":0.5},\"pattern\":{\"fillmode\":\"overlay\",\"size\":10,\"solidity\":0.2}},\"type\":\"barpolar\"}],\"carpet\":[{\"aaxis\":{\"endlinecolor\":\"#2a3f5f\",\"gridcolor\":\"white\",\"linecolor\":\"white\",\"minorgridcolor\":\"white\",\"startlinecolor\":\"#2a3f5f\"},\"baxis\":{\"endlinecolor\":\"#2a3f5f\",\"gridcolor\":\"white\",\"linecolor\":\"white\",\"minorgridcolor\":\"white\",\"startlinecolor\":\"#2a3f5f\"},\"type\":\"carpet\"}],\"choropleth\":[{\"colorbar\":{\"outlinewidth\":0,\"ticks\":\"\"},\"type\":\"choropleth\"}],\"contour\":[{\"colorbar\":{\"outlinewidth\":0,\"ticks\":\"\"},\"colorscale\":[[0.0,\"#0d0887\"],[0.1111111111111111,\"#46039f\"],[0.2222222222222222,\"#7201a8\"],[0.3333333333333333,\"#9c179e\"],[0.4444444444444444,\"#bd3786\"],[0.5555555555555556,\"#d8576b\"],[0.6666666666666666,\"#ed7953\"],[0.7777777777777778,\"#fb9f3a\"],[0.8888888888888888,\"#fdca26\"],[1.0,\"#f0f921\"]],\"type\":\"contour\"}],\"contourcarpet\":[{\"colorbar\":{\"outlinewidth\":0,\"ticks\":\"\"},\"type\":\"contourcarpet\"}],\"heatmap\":[{\"colorbar\":{\"outlinewidth\":0,\"ticks\":\"\"},\"colorscale\":[[0.0,\"#0d0887\"],[0.1111111111111111,\"#46039f\"],[0.2222222222222222,\"#7201a8\"],[0.3333333333333333,\"#9c179e\"],[0.4444444444444444,\"#bd3786\"],[0.5555555555555556,\"#d8576b\"],[0.6666666666666666,\"#ed7953\"],[0.7777777777777778,\"#fb9f3a\"],[0.8888888888888888,\"#fdca26\"],[1.0,\"#f0f921\"]],\"type\":\"heatmap\"}],\"heatmapgl\":[{\"colorbar\":{\"outlinewidth\":0,\"ticks\":\"\"},\"colorscale\":[[0.0,\"#0d0887\"],[0.1111111111111111,\"#46039f\"],[0.2222222222222222,\"#7201a8\"],[0.3333333333333333,\"#9c179e\"],[0.4444444444444444,\"#bd3786\"],[0.5555555555555556,\"#d8576b\"],[0.6666666666666666,\"#ed7953\"],[0.7777777777777778,\"#fb9f3a\"],[0.8888888888888888,\"#fdca26\"],[1.0,\"#f0f921\"]],\"type\":\"heatmapgl\"}],\"histogram\":[{\"marker\":{\"pattern\":{\"fillmode\":\"overlay\",\"size\":10,\"solidity\":0.2}},\"type\":\"histogram\"}],\"histogram2d\":[{\"colorbar\":{\"outlinewidth\":0,\"ticks\":\"\"},\"colorscale\":[[0.0,\"#0d0887\"],[0.1111111111111111,\"#46039f\"],[0.2222222222222222,\"#7201a8\"],[0.3333333333333333,\"#9c179e\"],[0.4444444444444444,\"#bd3786\"],[0.5555555555555556,\"#d8576b\"],[0.6666666666666666,\"#ed7953\"],[0.7777777777777778,\"#fb9f3a\"],[0.8888888888888888,\"#fdca26\"],[1.0,\"#f0f921\"]],\"type\":\"histogram2d\"}],\"histogram2dcontour\":[{\"colorbar\":{\"outlinewidth\":0,\"ticks\":\"\"},\"colorscale\":[[0.0,\"#0d0887\"],[0.1111111111111111,\"#46039f\"],[0.2222222222222222,\"#7201a8\"],[0.3333333333333333,\"#9c179e\"],[0.4444444444444444,\"#bd3786\"],[0.5555555555555556,\"#d8576b\"],[0.6666666666666666,\"#ed7953\"],[0.7777777777777778,\"#fb9f3a\"],[0.8888888888888888,\"#fdca26\"],[1.0,\"#f0f921\"]],\"type\":\"histogram2dcontour\"}],\"mesh3d\":[{\"colorbar\":{\"outlinewidth\":0,\"ticks\":\"\"},\"type\":\"mesh3d\"}],\"parcoords\":[{\"line\":{\"colorbar\":{\"outlinewidth\":0,\"ticks\":\"\"}},\"type\":\"parcoords\"}],\"pie\":[{\"automargin\":true,\"type\":\"pie\"}],\"scatter\":[{\"marker\":{\"colorbar\":{\"outlinewidth\":0,\"ticks\":\"\"}},\"type\":\"scatter\"}],\"scatter3d\":[{\"line\":{\"colorbar\":{\"outlinewidth\":0,\"ticks\":\"\"}},\"marker\":{\"colorbar\":{\"outlinewidth\":0,\"ticks\":\"\"}},\"type\":\"scatter3d\"}],\"scattercarpet\":[{\"marker\":{\"colorbar\":{\"outlinewidth\":0,\"ticks\":\"\"}},\"type\":\"scattercarpet\"}],\"scattergeo\":[{\"marker\":{\"colorbar\":{\"outlinewidth\":0,\"ticks\":\"\"}},\"type\":\"scattergeo\"}],\"scattergl\":[{\"marker\":{\"colorbar\":{\"outlinewidth\":0,\"ticks\":\"\"}},\"type\":\"scattergl\"}],\"scattermapbox\":[{\"marker\":{\"colorbar\":{\"outlinewidth\":0,\"ticks\":\"\"}},\"type\":\"scattermapbox\"}],\"scatterpolar\":[{\"marker\":{\"colorbar\":{\"outlinewidth\":0,\"ticks\":\"\"}},\"type\":\"scatterpolar\"}],\"scatterpolargl\":[{\"marker\":{\"colorbar\":{\"outlinewidth\":0,\"ticks\":\"\"}},\"type\":\"scatterpolargl\"}],\"scatterternary\":[{\"marker\":{\"colorbar\":{\"outlinewidth\":0,\"ticks\":\"\"}},\"type\":\"scatterternary\"}],\"surface\":[{\"colorbar\":{\"outlinewidth\":0,\"ticks\":\"\"},\"colorscale\":[[0.0,\"#0d0887\"],[0.1111111111111111,\"#46039f\"],[0.2222222222222222,\"#7201a8\"],[0.3333333333333333,\"#9c179e\"],[0.4444444444444444,\"#bd3786\"],[0.5555555555555556,\"#d8576b\"],[0.6666666666666666,\"#ed7953\"],[0.7777777777777778,\"#fb9f3a\"],[0.8888888888888888,\"#fdca26\"],[1.0,\"#f0f921\"]],\"type\":\"surface\"}],\"table\":[{\"cells\":{\"fill\":{\"color\":\"#EBF0F8\"},\"line\":{\"color\":\"white\"}},\"header\":{\"fill\":{\"color\":\"#C8D4E3\"},\"line\":{\"color\":\"white\"}},\"type\":\"table\"}]},\"layout\":{\"annotationdefaults\":{\"arrowcolor\":\"#2a3f5f\",\"arrowhead\":0,\"arrowwidth\":1},\"autotypenumbers\":\"strict\",\"coloraxis\":{\"colorbar\":{\"outlinewidth\":0,\"ticks\":\"\"}},\"colorscale\":{\"diverging\":[[0,\"#8e0152\"],[0.1,\"#c51b7d\"],[0.2,\"#de77ae\"],[0.3,\"#f1b6da\"],[0.4,\"#fde0ef\"],[0.5,\"#f7f7f7\"],[0.6,\"#e6f5d0\"],[0.7,\"#b8e186\"],[0.8,\"#7fbc41\"],[0.9,\"#4d9221\"],[1,\"#276419\"]],\"sequential\":[[0.0,\"#0d0887\"],[0.1111111111111111,\"#46039f\"],[0.2222222222222222,\"#7201a8\"],[0.3333333333333333,\"#9c179e\"],[0.4444444444444444,\"#bd3786\"],[0.5555555555555556,\"#d8576b\"],[0.6666666666666666,\"#ed7953\"],[0.7777777777777778,\"#fb9f3a\"],[0.8888888888888888,\"#fdca26\"],[1.0,\"#f0f921\"]],\"sequentialminus\":[[0.0,\"#0d0887\"],[0.1111111111111111,\"#46039f\"],[0.2222222222222222,\"#7201a8\"],[0.3333333333333333,\"#9c179e\"],[0.4444444444444444,\"#bd3786\"],[0.5555555555555556,\"#d8576b\"],[0.6666666666666666,\"#ed7953\"],[0.7777777777777778,\"#fb9f3a\"],[0.8888888888888888,\"#fdca26\"],[1.0,\"#f0f921\"]]},\"colorway\":[\"#636efa\",\"#EF553B\",\"#00cc96\",\"#ab63fa\",\"#FFA15A\",\"#19d3f3\",\"#FF6692\",\"#B6E880\",\"#FF97FF\",\"#FECB52\"],\"font\":{\"color\":\"#2a3f5f\"},\"geo\":{\"bgcolor\":\"white\",\"lakecolor\":\"white\",\"landcolor\":\"#E5ECF6\",\"showlakes\":true,\"showland\":true,\"subunitcolor\":\"white\"},\"hoverlabel\":{\"align\":\"left\"},\"hovermode\":\"closest\",\"mapbox\":{\"style\":\"light\"},\"paper_bgcolor\":\"white\",\"plot_bgcolor\":\"#E5ECF6\",\"polar\":{\"angularaxis\":{\"gridcolor\":\"white\",\"linecolor\":\"white\",\"ticks\":\"\"},\"bgcolor\":\"#E5ECF6\",\"radialaxis\":{\"gridcolor\":\"white\",\"linecolor\":\"white\",\"ticks\":\"\"}},\"scene\":{\"xaxis\":{\"backgroundcolor\":\"#E5ECF6\",\"gridcolor\":\"white\",\"gridwidth\":2,\"linecolor\":\"white\",\"showbackground\":true,\"ticks\":\"\",\"zerolinecolor\":\"white\"},\"yaxis\":{\"backgroundcolor\":\"#E5ECF6\",\"gridcolor\":\"white\",\"gridwidth\":2,\"linecolor\":\"white\",\"showbackground\":true,\"ticks\":\"\",\"zerolinecolor\":\"white\"},\"zaxis\":{\"backgroundcolor\":\"#E5ECF6\",\"gridcolor\":\"white\",\"gridwidth\":2,\"linecolor\":\"white\",\"showbackground\":true,\"ticks\":\"\",\"zerolinecolor\":\"white\"}},\"shapedefaults\":{\"line\":{\"color\":\"#2a3f5f\"}},\"ternary\":{\"aaxis\":{\"gridcolor\":\"white\",\"linecolor\":\"white\",\"ticks\":\"\"},\"baxis\":{\"gridcolor\":\"white\",\"linecolor\":\"white\",\"ticks\":\"\"},\"bgcolor\":\"#E5ECF6\",\"caxis\":{\"gridcolor\":\"white\",\"linecolor\":\"white\",\"ticks\":\"\"}},\"title\":{\"x\":0.05},\"xaxis\":{\"automargin\":true,\"gridcolor\":\"white\",\"linecolor\":\"white\",\"ticks\":\"\",\"title\":{\"standoff\":15},\"zerolinecolor\":\"white\",\"zerolinewidth\":2},\"yaxis\":{\"automargin\":true,\"gridcolor\":\"white\",\"linecolor\":\"white\",\"ticks\":\"\",\"title\":{\"standoff\":15},\"zerolinecolor\":\"white\",\"zerolinewidth\":2}}},\"title\":{\"text\":\"Los Angeles Department of Transportation (LADOT) Ridership\"},\"width\":1000,\"xaxis\":{\"anchor\":\"y\",\"domain\":[0.0,1.0],\"tickangle\":-60,\"title\":{\"text\":\"Date\"}},\"yaxis\":{\"anchor\":\"x\",\"domain\":[0.0,1.0],\"nticks\":20,\"tickformat\":\",\",\"title\":{\"text\":\"Number of Riders\"}}},                        {\"responsive\": true}                    ).then(function(){\n",
       "                            \n",
       "var gd = document.getElementById('9a07e5d8-0143-4f90-8702-5227e1f1c95a');\n",
       "var x = new MutationObserver(function (mutations, observer) {{\n",
       "        var display = window.getComputedStyle(gd).display;\n",
       "        if (!display || display === 'none') {{\n",
       "            console.log([gd, 'removed!']);\n",
       "            Plotly.purge(gd);\n",
       "            observer.disconnect();\n",
       "        }}\n",
       "}});\n",
       "\n",
       "// Listen for the removal of the full notebook cells\n",
       "var notebookContainer = gd.closest('#notebook-container');\n",
       "if (notebookContainer) {{\n",
       "    x.observe(notebookContainer, {childList: true});\n",
       "}}\n",
       "\n",
       "// Listen for the clearing of the current output cell\n",
       "var outputEl = gd.closest('.output');\n",
       "if (outputEl) {{\n",
       "    x.observe(outputEl, {childList: true});\n",
       "}}\n",
       "\n",
       "                        })                };                });            </script>        </div>"
      ]
     },
     "metadata": {},
     "output_type": "display_data"
    }
   ],
   "source": [
    "# import plotly as px\n",
    "\n",
    "\n",
    "fig = px.line(ladot, \n",
    "              labels={\n",
    "                     \"value\": \"Number of Riders\",\n",
    "                     \"date\": \"Date\",\n",
    "                  \"variable\" : \"Bus Lines\"}, \n",
    "              title=\"Los Angeles Department of Transportation (LADOT) Ridership\", \n",
    "              x=\"date\", \n",
    "              y=[\"line 431\", \"line 534\", \"line 573\"], line_shape=\"spline\",\n",
    "              color_discrete_sequence=px.colors.qualitative.Pastel,\n",
    "              width=1000, height=450)\n",
    "\n",
    "#fig.update(layout={\"title\": {\"x\": 0.45, \"y\": 0.8}})\n",
    "fig.update_xaxes(tickangle=300)\n",
    "fig.add_vline(x=12, line_dash=\"dot\", annotation_text=\"First COVID-19 Case in LA\", annotation_position=\"top left\")\n",
    "fig.add_vline(x=14, line_dash=\"dot\", annotation_text=\"CA Stay at Home Order Issued\", annotation_position=\"top right\")\n",
    "fig.update_yaxes(nticks=20)\n",
    "fig.update_layout(yaxis_tickformat = ',')\n",
    "#fig.update_yaxes(tickvals=[\"0\", \"2,000\", \"4,000\", \"6,000\", \"8,000\", \"10,000\", \"12,000\", \"14,000\", \"16,000\", \"18,000\", \"20,000\"])\n",
    "#fig.update_layout(hovermode=\"x\")\n",
    "\n",
    "config = {'responsive': True}\n",
    "\n",
    "fig.show(config=config)"
   ]
  },
  {
   "cell_type": "code",
   "execution_count": 22,
   "id": "e19dbb9f-16fc-4b08-b9be-40a13789f316",
   "metadata": {},
   "outputs": [],
   "source": [
    "import plotly.graph_objects as go\n",
    "from plotly.io import write_html\n",
    "# Writing to an html file!\n",
    "write_html(fig, \"ladot-ridership.html\")"
   ]
  },
  {
   "cell_type": "code",
   "execution_count": 23,
   "id": "fc258ad1-7073-4628-88ad-444044e200f1",
   "metadata": {},
   "outputs": [
    {
     "data": {
      "text/html": [
       "<div>\n",
       "<style scoped>\n",
       "    .dataframe tbody tr th:only-of-type {\n",
       "        vertical-align: middle;\n",
       "    }\n",
       "\n",
       "    .dataframe tbody tr th {\n",
       "        vertical-align: top;\n",
       "    }\n",
       "\n",
       "    .dataframe thead th {\n",
       "        text-align: right;\n",
       "    }\n",
       "</style>\n",
       "<table border=\"1\" class=\"dataframe\">\n",
       "  <thead>\n",
       "    <tr style=\"text-align: right;\">\n",
       "      <th></th>\n",
       "      <th>date</th>\n",
       "    </tr>\n",
       "  </thead>\n",
       "  <tbody>\n",
       "    <tr>\n",
       "      <th>0</th>\n",
       "      <td>Jan. 19</td>\n",
       "    </tr>\n",
       "    <tr>\n",
       "      <th>1</th>\n",
       "      <td>Feb. 19</td>\n",
       "    </tr>\n",
       "    <tr>\n",
       "      <th>2</th>\n",
       "      <td>Mar. 19</td>\n",
       "    </tr>\n",
       "    <tr>\n",
       "      <th>3</th>\n",
       "      <td>Apr. 19</td>\n",
       "    </tr>\n",
       "    <tr>\n",
       "      <th>4</th>\n",
       "      <td>May. 19</td>\n",
       "    </tr>\n",
       "  </tbody>\n",
       "</table>\n",
       "</div>"
      ],
      "text/plain": [
       "      date\n",
       "0  Jan. 19\n",
       "1  Feb. 19\n",
       "2  Mar. 19\n",
       "3  Apr. 19\n",
       "4  May. 19"
      ]
     },
     "execution_count": 23,
     "metadata": {},
     "output_type": "execute_result"
    }
   ],
   "source": [
    "transports = pd.DataFrame()\n",
    "transports[\"date\"] = date\n",
    "transports.head()"
   ]
  },
  {
   "cell_type": "code",
   "execution_count": 24,
   "id": "0312aa3d-2ed9-4b8b-865d-a909998daa24",
   "metadata": {},
   "outputs": [],
   "source": [
    "transports[\"LADOT\"] = total"
   ]
  },
  {
   "cell_type": "code",
   "execution_count": 25,
   "id": "5f872d99-fd46-45ce-8792-5632284c2cc4",
   "metadata": {},
   "outputs": [
    {
     "data": {
      "text/html": [
       "<div>\n",
       "<style scoped>\n",
       "    .dataframe tbody tr th:only-of-type {\n",
       "        vertical-align: middle;\n",
       "    }\n",
       "\n",
       "    .dataframe tbody tr th {\n",
       "        vertical-align: top;\n",
       "    }\n",
       "\n",
       "    .dataframe thead th {\n",
       "        text-align: right;\n",
       "    }\n",
       "</style>\n",
       "<table border=\"1\" class=\"dataframe\">\n",
       "  <thead>\n",
       "    <tr style=\"text-align: right;\">\n",
       "      <th></th>\n",
       "      <th>date</th>\n",
       "      <th>LADOT</th>\n",
       "    </tr>\n",
       "  </thead>\n",
       "  <tbody>\n",
       "    <tr>\n",
       "      <th>0</th>\n",
       "      <td>Jan. 19</td>\n",
       "      <td>23025.0</td>\n",
       "    </tr>\n",
       "    <tr>\n",
       "      <th>1</th>\n",
       "      <td>Feb. 19</td>\n",
       "      <td>22187.0</td>\n",
       "    </tr>\n",
       "    <tr>\n",
       "      <th>2</th>\n",
       "      <td>Mar. 19</td>\n",
       "      <td>23928.0</td>\n",
       "    </tr>\n",
       "    <tr>\n",
       "      <th>3</th>\n",
       "      <td>Apr. 19</td>\n",
       "      <td>24341.0</td>\n",
       "    </tr>\n",
       "    <tr>\n",
       "      <th>4</th>\n",
       "      <td>May. 19</td>\n",
       "      <td>25394.0</td>\n",
       "    </tr>\n",
       "  </tbody>\n",
       "</table>\n",
       "</div>"
      ],
      "text/plain": [
       "      date    LADOT\n",
       "0  Jan. 19  23025.0\n",
       "1  Feb. 19  22187.0\n",
       "2  Mar. 19  23928.0\n",
       "3  Apr. 19  24341.0\n",
       "4  May. 19  25394.0"
      ]
     },
     "execution_count": 25,
     "metadata": {},
     "output_type": "execute_result"
    }
   ],
   "source": [
    "transports.head()"
   ]
  },
  {
   "cell_type": "markdown",
   "id": "6bf9f33a-9b6d-4ed4-8125-37b8319bb8af",
   "metadata": {},
   "source": [
    "### AVTA Ridership"
   ]
  },
  {
   "cell_type": "code",
   "execution_count": 26,
   "id": "8c04d6b7-5546-4dd4-bda0-da0cd8bca3bd",
   "metadata": {},
   "outputs": [],
   "source": [
    "avta = pd.DataFrame()\n",
    "\n",
    "line786 = np.array([3600, 2930, 3289, 4070, 4206, 1876, 1482, 3261, 3209, 3285, 2990, 2388, \n",
    "                  3005, 2991, 1762, 0, 230, 780, 468, 0, 0, 473, 760, 866, 954, 1047, 1262,\n",
    "                  42, 0, 78, 94, 0, 62, 59])\n",
    "avta[\"date\"] = date\n",
    "avta[\"line 786\"] = line786"
   ]
  },
  {
   "cell_type": "code",
   "execution_count": 27,
   "id": "19966c28-ad87-4985-9747-2334879ac704",
   "metadata": {},
   "outputs": [
    {
     "data": {
      "application/vnd.plotly.v1+json": {
       "config": {
        "plotlyServerURL": "https://plot.ly",
        "responsive": true
       },
       "data": [
        {
         "hovertemplate": "Bus Lines=line 786<br>Date=%{x}<br>Number of Riders=%{y}<extra></extra>",
         "legendgroup": "line 786",
         "line": {
          "color": "rgb(102, 197, 204)",
          "dash": "solid",
          "shape": "spline"
         },
         "marker": {
          "symbol": "circle"
         },
         "mode": "lines",
         "name": "line 786",
         "orientation": "v",
         "showlegend": true,
         "type": "scatter",
         "x": [
          "Jan. 19",
          "Feb. 19",
          "Mar. 19",
          "Apr. 19",
          "May. 19",
          "Jun. 19",
          "Jul. 19",
          "Aug. 19",
          "Sep. 19",
          "Oct. 19",
          "Nov. 19",
          "Dec. 19",
          "Jan. 20",
          "Feb. 20",
          "Mar. 20",
          "Apr. 20",
          "May. 20",
          "Jun. 20",
          "Jul. 20",
          "Aug. 20",
          "Sep. 20",
          "Oct. 20",
          "Nov. 20",
          "Dec. 20",
          "Jan. 21",
          "Feb. 21",
          "Mar. 21",
          "Apr. 21",
          "May. 21",
          "Jun. 21",
          "Jul. 21",
          "Aug. 21",
          "Sep. 21",
          "Oct. 21"
         ],
         "xaxis": "x",
         "y": [
          3600,
          2930,
          3289,
          4070,
          4206,
          1876,
          1482,
          3261,
          3209,
          3285,
          2990,
          2388,
          3005,
          2991,
          1762,
          0,
          230,
          780,
          468,
          0,
          0,
          473,
          760,
          866,
          954,
          1047,
          1262,
          42,
          0,
          78,
          94,
          0,
          62,
          59
         ],
         "yaxis": "y"
        }
       ],
       "layout": {
        "annotations": [
         {
          "showarrow": false,
          "text": "First COVID-19 Case in LA",
          "x": 12,
          "xanchor": "right",
          "xref": "x",
          "y": 1,
          "yanchor": "top",
          "yref": "y domain"
         },
         {
          "showarrow": false,
          "text": "CA Stay at Home Order Issued",
          "x": 14,
          "xanchor": "left",
          "xref": "x",
          "y": 1,
          "yanchor": "top",
          "yref": "y domain"
         }
        ],
        "height": 450,
        "legend": {
         "title": {
          "text": "Bus Lines"
         },
         "tracegroupgap": 0
        },
        "shapes": [
         {
          "line": {
           "dash": "dot"
          },
          "type": "line",
          "x0": 12,
          "x1": 12,
          "xref": "x",
          "y0": 0,
          "y1": 1,
          "yref": "y domain"
         },
         {
          "line": {
           "dash": "dot"
          },
          "type": "line",
          "x0": 14,
          "x1": 14,
          "xref": "x",
          "y0": 0,
          "y1": 1,
          "yref": "y domain"
         }
        ],
        "template": {
         "data": {
          "bar": [
           {
            "error_x": {
             "color": "#2a3f5f"
            },
            "error_y": {
             "color": "#2a3f5f"
            },
            "marker": {
             "line": {
              "color": "#E5ECF6",
              "width": 0.5
             },
             "pattern": {
              "fillmode": "overlay",
              "size": 10,
              "solidity": 0.2
             }
            },
            "type": "bar"
           }
          ],
          "barpolar": [
           {
            "marker": {
             "line": {
              "color": "#E5ECF6",
              "width": 0.5
             },
             "pattern": {
              "fillmode": "overlay",
              "size": 10,
              "solidity": 0.2
             }
            },
            "type": "barpolar"
           }
          ],
          "carpet": [
           {
            "aaxis": {
             "endlinecolor": "#2a3f5f",
             "gridcolor": "white",
             "linecolor": "white",
             "minorgridcolor": "white",
             "startlinecolor": "#2a3f5f"
            },
            "baxis": {
             "endlinecolor": "#2a3f5f",
             "gridcolor": "white",
             "linecolor": "white",
             "minorgridcolor": "white",
             "startlinecolor": "#2a3f5f"
            },
            "type": "carpet"
           }
          ],
          "choropleth": [
           {
            "colorbar": {
             "outlinewidth": 0,
             "ticks": ""
            },
            "type": "choropleth"
           }
          ],
          "contour": [
           {
            "colorbar": {
             "outlinewidth": 0,
             "ticks": ""
            },
            "colorscale": [
             [
              0,
              "#0d0887"
             ],
             [
              0.1111111111111111,
              "#46039f"
             ],
             [
              0.2222222222222222,
              "#7201a8"
             ],
             [
              0.3333333333333333,
              "#9c179e"
             ],
             [
              0.4444444444444444,
              "#bd3786"
             ],
             [
              0.5555555555555556,
              "#d8576b"
             ],
             [
              0.6666666666666666,
              "#ed7953"
             ],
             [
              0.7777777777777778,
              "#fb9f3a"
             ],
             [
              0.8888888888888888,
              "#fdca26"
             ],
             [
              1,
              "#f0f921"
             ]
            ],
            "type": "contour"
           }
          ],
          "contourcarpet": [
           {
            "colorbar": {
             "outlinewidth": 0,
             "ticks": ""
            },
            "type": "contourcarpet"
           }
          ],
          "heatmap": [
           {
            "colorbar": {
             "outlinewidth": 0,
             "ticks": ""
            },
            "colorscale": [
             [
              0,
              "#0d0887"
             ],
             [
              0.1111111111111111,
              "#46039f"
             ],
             [
              0.2222222222222222,
              "#7201a8"
             ],
             [
              0.3333333333333333,
              "#9c179e"
             ],
             [
              0.4444444444444444,
              "#bd3786"
             ],
             [
              0.5555555555555556,
              "#d8576b"
             ],
             [
              0.6666666666666666,
              "#ed7953"
             ],
             [
              0.7777777777777778,
              "#fb9f3a"
             ],
             [
              0.8888888888888888,
              "#fdca26"
             ],
             [
              1,
              "#f0f921"
             ]
            ],
            "type": "heatmap"
           }
          ],
          "heatmapgl": [
           {
            "colorbar": {
             "outlinewidth": 0,
             "ticks": ""
            },
            "colorscale": [
             [
              0,
              "#0d0887"
             ],
             [
              0.1111111111111111,
              "#46039f"
             ],
             [
              0.2222222222222222,
              "#7201a8"
             ],
             [
              0.3333333333333333,
              "#9c179e"
             ],
             [
              0.4444444444444444,
              "#bd3786"
             ],
             [
              0.5555555555555556,
              "#d8576b"
             ],
             [
              0.6666666666666666,
              "#ed7953"
             ],
             [
              0.7777777777777778,
              "#fb9f3a"
             ],
             [
              0.8888888888888888,
              "#fdca26"
             ],
             [
              1,
              "#f0f921"
             ]
            ],
            "type": "heatmapgl"
           }
          ],
          "histogram": [
           {
            "marker": {
             "pattern": {
              "fillmode": "overlay",
              "size": 10,
              "solidity": 0.2
             }
            },
            "type": "histogram"
           }
          ],
          "histogram2d": [
           {
            "colorbar": {
             "outlinewidth": 0,
             "ticks": ""
            },
            "colorscale": [
             [
              0,
              "#0d0887"
             ],
             [
              0.1111111111111111,
              "#46039f"
             ],
             [
              0.2222222222222222,
              "#7201a8"
             ],
             [
              0.3333333333333333,
              "#9c179e"
             ],
             [
              0.4444444444444444,
              "#bd3786"
             ],
             [
              0.5555555555555556,
              "#d8576b"
             ],
             [
              0.6666666666666666,
              "#ed7953"
             ],
             [
              0.7777777777777778,
              "#fb9f3a"
             ],
             [
              0.8888888888888888,
              "#fdca26"
             ],
             [
              1,
              "#f0f921"
             ]
            ],
            "type": "histogram2d"
           }
          ],
          "histogram2dcontour": [
           {
            "colorbar": {
             "outlinewidth": 0,
             "ticks": ""
            },
            "colorscale": [
             [
              0,
              "#0d0887"
             ],
             [
              0.1111111111111111,
              "#46039f"
             ],
             [
              0.2222222222222222,
              "#7201a8"
             ],
             [
              0.3333333333333333,
              "#9c179e"
             ],
             [
              0.4444444444444444,
              "#bd3786"
             ],
             [
              0.5555555555555556,
              "#d8576b"
             ],
             [
              0.6666666666666666,
              "#ed7953"
             ],
             [
              0.7777777777777778,
              "#fb9f3a"
             ],
             [
              0.8888888888888888,
              "#fdca26"
             ],
             [
              1,
              "#f0f921"
             ]
            ],
            "type": "histogram2dcontour"
           }
          ],
          "mesh3d": [
           {
            "colorbar": {
             "outlinewidth": 0,
             "ticks": ""
            },
            "type": "mesh3d"
           }
          ],
          "parcoords": [
           {
            "line": {
             "colorbar": {
              "outlinewidth": 0,
              "ticks": ""
             }
            },
            "type": "parcoords"
           }
          ],
          "pie": [
           {
            "automargin": true,
            "type": "pie"
           }
          ],
          "scatter": [
           {
            "marker": {
             "colorbar": {
              "outlinewidth": 0,
              "ticks": ""
             }
            },
            "type": "scatter"
           }
          ],
          "scatter3d": [
           {
            "line": {
             "colorbar": {
              "outlinewidth": 0,
              "ticks": ""
             }
            },
            "marker": {
             "colorbar": {
              "outlinewidth": 0,
              "ticks": ""
             }
            },
            "type": "scatter3d"
           }
          ],
          "scattercarpet": [
           {
            "marker": {
             "colorbar": {
              "outlinewidth": 0,
              "ticks": ""
             }
            },
            "type": "scattercarpet"
           }
          ],
          "scattergeo": [
           {
            "marker": {
             "colorbar": {
              "outlinewidth": 0,
              "ticks": ""
             }
            },
            "type": "scattergeo"
           }
          ],
          "scattergl": [
           {
            "marker": {
             "colorbar": {
              "outlinewidth": 0,
              "ticks": ""
             }
            },
            "type": "scattergl"
           }
          ],
          "scattermapbox": [
           {
            "marker": {
             "colorbar": {
              "outlinewidth": 0,
              "ticks": ""
             }
            },
            "type": "scattermapbox"
           }
          ],
          "scatterpolar": [
           {
            "marker": {
             "colorbar": {
              "outlinewidth": 0,
              "ticks": ""
             }
            },
            "type": "scatterpolar"
           }
          ],
          "scatterpolargl": [
           {
            "marker": {
             "colorbar": {
              "outlinewidth": 0,
              "ticks": ""
             }
            },
            "type": "scatterpolargl"
           }
          ],
          "scatterternary": [
           {
            "marker": {
             "colorbar": {
              "outlinewidth": 0,
              "ticks": ""
             }
            },
            "type": "scatterternary"
           }
          ],
          "surface": [
           {
            "colorbar": {
             "outlinewidth": 0,
             "ticks": ""
            },
            "colorscale": [
             [
              0,
              "#0d0887"
             ],
             [
              0.1111111111111111,
              "#46039f"
             ],
             [
              0.2222222222222222,
              "#7201a8"
             ],
             [
              0.3333333333333333,
              "#9c179e"
             ],
             [
              0.4444444444444444,
              "#bd3786"
             ],
             [
              0.5555555555555556,
              "#d8576b"
             ],
             [
              0.6666666666666666,
              "#ed7953"
             ],
             [
              0.7777777777777778,
              "#fb9f3a"
             ],
             [
              0.8888888888888888,
              "#fdca26"
             ],
             [
              1,
              "#f0f921"
             ]
            ],
            "type": "surface"
           }
          ],
          "table": [
           {
            "cells": {
             "fill": {
              "color": "#EBF0F8"
             },
             "line": {
              "color": "white"
             }
            },
            "header": {
             "fill": {
              "color": "#C8D4E3"
             },
             "line": {
              "color": "white"
             }
            },
            "type": "table"
           }
          ]
         },
         "layout": {
          "annotationdefaults": {
           "arrowcolor": "#2a3f5f",
           "arrowhead": 0,
           "arrowwidth": 1
          },
          "autotypenumbers": "strict",
          "coloraxis": {
           "colorbar": {
            "outlinewidth": 0,
            "ticks": ""
           }
          },
          "colorscale": {
           "diverging": [
            [
             0,
             "#8e0152"
            ],
            [
             0.1,
             "#c51b7d"
            ],
            [
             0.2,
             "#de77ae"
            ],
            [
             0.3,
             "#f1b6da"
            ],
            [
             0.4,
             "#fde0ef"
            ],
            [
             0.5,
             "#f7f7f7"
            ],
            [
             0.6,
             "#e6f5d0"
            ],
            [
             0.7,
             "#b8e186"
            ],
            [
             0.8,
             "#7fbc41"
            ],
            [
             0.9,
             "#4d9221"
            ],
            [
             1,
             "#276419"
            ]
           ],
           "sequential": [
            [
             0,
             "#0d0887"
            ],
            [
             0.1111111111111111,
             "#46039f"
            ],
            [
             0.2222222222222222,
             "#7201a8"
            ],
            [
             0.3333333333333333,
             "#9c179e"
            ],
            [
             0.4444444444444444,
             "#bd3786"
            ],
            [
             0.5555555555555556,
             "#d8576b"
            ],
            [
             0.6666666666666666,
             "#ed7953"
            ],
            [
             0.7777777777777778,
             "#fb9f3a"
            ],
            [
             0.8888888888888888,
             "#fdca26"
            ],
            [
             1,
             "#f0f921"
            ]
           ],
           "sequentialminus": [
            [
             0,
             "#0d0887"
            ],
            [
             0.1111111111111111,
             "#46039f"
            ],
            [
             0.2222222222222222,
             "#7201a8"
            ],
            [
             0.3333333333333333,
             "#9c179e"
            ],
            [
             0.4444444444444444,
             "#bd3786"
            ],
            [
             0.5555555555555556,
             "#d8576b"
            ],
            [
             0.6666666666666666,
             "#ed7953"
            ],
            [
             0.7777777777777778,
             "#fb9f3a"
            ],
            [
             0.8888888888888888,
             "#fdca26"
            ],
            [
             1,
             "#f0f921"
            ]
           ]
          },
          "colorway": [
           "#636efa",
           "#EF553B",
           "#00cc96",
           "#ab63fa",
           "#FFA15A",
           "#19d3f3",
           "#FF6692",
           "#B6E880",
           "#FF97FF",
           "#FECB52"
          ],
          "font": {
           "color": "#2a3f5f"
          },
          "geo": {
           "bgcolor": "white",
           "lakecolor": "white",
           "landcolor": "#E5ECF6",
           "showlakes": true,
           "showland": true,
           "subunitcolor": "white"
          },
          "hoverlabel": {
           "align": "left"
          },
          "hovermode": "closest",
          "mapbox": {
           "style": "light"
          },
          "paper_bgcolor": "white",
          "plot_bgcolor": "#E5ECF6",
          "polar": {
           "angularaxis": {
            "gridcolor": "white",
            "linecolor": "white",
            "ticks": ""
           },
           "bgcolor": "#E5ECF6",
           "radialaxis": {
            "gridcolor": "white",
            "linecolor": "white",
            "ticks": ""
           }
          },
          "scene": {
           "xaxis": {
            "backgroundcolor": "#E5ECF6",
            "gridcolor": "white",
            "gridwidth": 2,
            "linecolor": "white",
            "showbackground": true,
            "ticks": "",
            "zerolinecolor": "white"
           },
           "yaxis": {
            "backgroundcolor": "#E5ECF6",
            "gridcolor": "white",
            "gridwidth": 2,
            "linecolor": "white",
            "showbackground": true,
            "ticks": "",
            "zerolinecolor": "white"
           },
           "zaxis": {
            "backgroundcolor": "#E5ECF6",
            "gridcolor": "white",
            "gridwidth": 2,
            "linecolor": "white",
            "showbackground": true,
            "ticks": "",
            "zerolinecolor": "white"
           }
          },
          "shapedefaults": {
           "line": {
            "color": "#2a3f5f"
           }
          },
          "ternary": {
           "aaxis": {
            "gridcolor": "white",
            "linecolor": "white",
            "ticks": ""
           },
           "baxis": {
            "gridcolor": "white",
            "linecolor": "white",
            "ticks": ""
           },
           "bgcolor": "#E5ECF6",
           "caxis": {
            "gridcolor": "white",
            "linecolor": "white",
            "ticks": ""
           }
          },
          "title": {
           "x": 0.05
          },
          "xaxis": {
           "automargin": true,
           "gridcolor": "white",
           "linecolor": "white",
           "ticks": "",
           "title": {
            "standoff": 15
           },
           "zerolinecolor": "white",
           "zerolinewidth": 2
          },
          "yaxis": {
           "automargin": true,
           "gridcolor": "white",
           "linecolor": "white",
           "ticks": "",
           "title": {
            "standoff": 15
           },
           "zerolinecolor": "white",
           "zerolinewidth": 2
          }
         }
        },
        "title": {
         "text": "Antelope Valley Transit Authority (AVTA) Ridership"
        },
        "width": 1000,
        "xaxis": {
         "anchor": "y",
         "autorange": true,
         "domain": [
          0,
          1
         ],
         "range": [
          0,
          33
         ],
         "tickangle": -60,
         "title": {
          "text": "Date"
         },
         "type": "category"
        },
        "yaxis": {
         "anchor": "x",
         "autorange": true,
         "domain": [
          0,
          1
         ],
         "nticks": 5,
         "range": [
          -233.6666666666667,
          4439.666666666667
         ],
         "tickformat": ",",
         "title": {
          "text": "Number of Riders"
         },
         "type": "linear"
        }
       }
      },
      "image/png": "[encoded data removed]",
      "text/html": [
       "<div>                            <div id=\"4fe5232b-36fc-47aa-ae3b-0cba9f6fbf63\" class=\"plotly-graph-div\" style=\"height:450px; width:1000px;\"></div>            <script type=\"text/javascript\">                require([\"plotly\"], function(Plotly) {                    window.PLOTLYENV=window.PLOTLYENV || {};                                    if (document.getElementById(\"4fe5232b-36fc-47aa-ae3b-0cba9f6fbf63\")) {                    Plotly.newPlot(                        \"4fe5232b-36fc-47aa-ae3b-0cba9f6fbf63\",                        [{\"hovertemplate\":\"Bus Lines=line 786<br>Date=%{x}<br>Number of Riders=%{y}<extra></extra>\",\"legendgroup\":\"line 786\",\"line\":{\"color\":\"rgb(102, 197, 204)\",\"dash\":\"solid\",\"shape\":\"spline\"},\"marker\":{\"symbol\":\"circle\"},\"mode\":\"lines\",\"name\":\"line 786\",\"orientation\":\"v\",\"showlegend\":true,\"type\":\"scatter\",\"x\":[\"Jan. 19\",\"Feb. 19\",\"Mar. 19\",\"Apr. 19\",\"May. 19\",\"Jun. 19\",\"Jul. 19\",\"Aug. 19\",\"Sep. 19\",\"Oct. 19\",\"Nov. 19\",\"Dec. 19\",\"Jan. 20\",\"Feb. 20\",\"Mar. 20\",\"Apr. 20\",\"May. 20\",\"Jun. 20\",\"Jul. 20\",\"Aug. 20\",\"Sep. 20\",\"Oct. 20\",\"Nov. 20\",\"Dec. 20\",\"Jan. 21\",\"Feb. 21\",\"Mar. 21\",\"Apr. 21\",\"May. 21\",\"Jun. 21\",\"Jul. 21\",\"Aug. 21\",\"Sep. 21\",\"Oct. 21\"],\"xaxis\":\"x\",\"y\":[3600,2930,3289,4070,4206,1876,1482,3261,3209,3285,2990,2388,3005,2991,1762,0,230,780,468,0,0,473,760,866,954,1047,1262,42,0,78,94,0,62,59],\"yaxis\":\"y\"}],                        {\"annotations\":[{\"showarrow\":false,\"text\":\"First COVID-19 Case in LA\",\"x\":12,\"xanchor\":\"right\",\"xref\":\"x\",\"y\":1,\"yanchor\":\"top\",\"yref\":\"y domain\"},{\"showarrow\":false,\"text\":\"CA Stay at Home Order Issued\",\"x\":14,\"xanchor\":\"left\",\"xref\":\"x\",\"y\":1,\"yanchor\":\"top\",\"yref\":\"y domain\"}],\"height\":450,\"legend\":{\"title\":{\"text\":\"Bus Lines\"},\"tracegroupgap\":0},\"shapes\":[{\"line\":{\"dash\":\"dot\"},\"type\":\"line\",\"x0\":12,\"x1\":12,\"xref\":\"x\",\"y0\":0,\"y1\":1,\"yref\":\"y domain\"},{\"line\":{\"dash\":\"dot\"},\"type\":\"line\",\"x0\":14,\"x1\":14,\"xref\":\"x\",\"y0\":0,\"y1\":1,\"yref\":\"y domain\"}],\"template\":{\"data\":{\"bar\":[{\"error_x\":{\"color\":\"#2a3f5f\"},\"error_y\":{\"color\":\"#2a3f5f\"},\"marker\":{\"line\":{\"color\":\"#E5ECF6\",\"width\":0.5},\"pattern\":{\"fillmode\":\"overlay\",\"size\":10,\"solidity\":0.2}},\"type\":\"bar\"}],\"barpolar\":[{\"marker\":{\"line\":{\"color\":\"#E5ECF6\",\"width\":0.5},\"pattern\":{\"fillmode\":\"overlay\",\"size\":10,\"solidity\":0.2}},\"type\":\"barpolar\"}],\"carpet\":[{\"aaxis\":{\"endlinecolor\":\"#2a3f5f\",\"gridcolor\":\"white\",\"linecolor\":\"white\",\"minorgridcolor\":\"white\",\"startlinecolor\":\"#2a3f5f\"},\"baxis\":{\"endlinecolor\":\"#2a3f5f\",\"gridcolor\":\"white\",\"linecolor\":\"white\",\"minorgridcolor\":\"white\",\"startlinecolor\":\"#2a3f5f\"},\"type\":\"carpet\"}],\"choropleth\":[{\"colorbar\":{\"outlinewidth\":0,\"ticks\":\"\"},\"type\":\"choropleth\"}],\"contour\":[{\"colorbar\":{\"outlinewidth\":0,\"ticks\":\"\"},\"colorscale\":[[0.0,\"#0d0887\"],[0.1111111111111111,\"#46039f\"],[0.2222222222222222,\"#7201a8\"],[0.3333333333333333,\"#9c179e\"],[0.4444444444444444,\"#bd3786\"],[0.5555555555555556,\"#d8576b\"],[0.6666666666666666,\"#ed7953\"],[0.7777777777777778,\"#fb9f3a\"],[0.8888888888888888,\"#fdca26\"],[1.0,\"#f0f921\"]],\"type\":\"contour\"}],\"contourcarpet\":[{\"colorbar\":{\"outlinewidth\":0,\"ticks\":\"\"},\"type\":\"contourcarpet\"}],\"heatmap\":[{\"colorbar\":{\"outlinewidth\":0,\"ticks\":\"\"},\"colorscale\":[[0.0,\"#0d0887\"],[0.1111111111111111,\"#46039f\"],[0.2222222222222222,\"#7201a8\"],[0.3333333333333333,\"#9c179e\"],[0.4444444444444444,\"#bd3786\"],[0.5555555555555556,\"#d8576b\"],[0.6666666666666666,\"#ed7953\"],[0.7777777777777778,\"#fb9f3a\"],[0.8888888888888888,\"#fdca26\"],[1.0,\"#f0f921\"]],\"type\":\"heatmap\"}],\"heatmapgl\":[{\"colorbar\":{\"outlinewidth\":0,\"ticks\":\"\"},\"colorscale\":[[0.0,\"#0d0887\"],[0.1111111111111111,\"#46039f\"],[0.2222222222222222,\"#7201a8\"],[0.3333333333333333,\"#9c179e\"],[0.4444444444444444,\"#bd3786\"],[0.5555555555555556,\"#d8576b\"],[0.6666666666666666,\"#ed7953\"],[0.7777777777777778,\"#fb9f3a\"],[0.8888888888888888,\"#fdca26\"],[1.0,\"#f0f921\"]],\"type\":\"heatmapgl\"}],\"histogram\":[{\"marker\":{\"pattern\":{\"fillmode\":\"overlay\",\"size\":10,\"solidity\":0.2}},\"type\":\"histogram\"}],\"histogram2d\":[{\"colorbar\":{\"outlinewidth\":0,\"ticks\":\"\"},\"colorscale\":[[0.0,\"#0d0887\"],[0.1111111111111111,\"#46039f\"],[0.2222222222222222,\"#7201a8\"],[0.3333333333333333,\"#9c179e\"],[0.4444444444444444,\"#bd3786\"],[0.5555555555555556,\"#d8576b\"],[0.6666666666666666,\"#ed7953\"],[0.7777777777777778,\"#fb9f3a\"],[0.8888888888888888,\"#fdca26\"],[1.0,\"#f0f921\"]],\"type\":\"histogram2d\"}],\"histogram2dcontour\":[{\"colorbar\":{\"outlinewidth\":0,\"ticks\":\"\"},\"colorscale\":[[0.0,\"#0d0887\"],[0.1111111111111111,\"#46039f\"],[0.2222222222222222,\"#7201a8\"],[0.3333333333333333,\"#9c179e\"],[0.4444444444444444,\"#bd3786\"],[0.5555555555555556,\"#d8576b\"],[0.6666666666666666,\"#ed7953\"],[0.7777777777777778,\"#fb9f3a\"],[0.8888888888888888,\"#fdca26\"],[1.0,\"#f0f921\"]],\"type\":\"histogram2dcontour\"}],\"mesh3d\":[{\"colorbar\":{\"outlinewidth\":0,\"ticks\":\"\"},\"type\":\"mesh3d\"}],\"parcoords\":[{\"line\":{\"colorbar\":{\"outlinewidth\":0,\"ticks\":\"\"}},\"type\":\"parcoords\"}],\"pie\":[{\"automargin\":true,\"type\":\"pie\"}],\"scatter\":[{\"marker\":{\"colorbar\":{\"outlinewidth\":0,\"ticks\":\"\"}},\"type\":\"scatter\"}],\"scatter3d\":[{\"line\":{\"colorbar\":{\"outlinewidth\":0,\"ticks\":\"\"}},\"marker\":{\"colorbar\":{\"outlinewidth\":0,\"ticks\":\"\"}},\"type\":\"scatter3d\"}],\"scattercarpet\":[{\"marker\":{\"colorbar\":{\"outlinewidth\":0,\"ticks\":\"\"}},\"type\":\"scattercarpet\"}],\"scattergeo\":[{\"marker\":{\"colorbar\":{\"outlinewidth\":0,\"ticks\":\"\"}},\"type\":\"scattergeo\"}],\"scattergl\":[{\"marker\":{\"colorbar\":{\"outlinewidth\":0,\"ticks\":\"\"}},\"type\":\"scattergl\"}],\"scattermapbox\":[{\"marker\":{\"colorbar\":{\"outlinewidth\":0,\"ticks\":\"\"}},\"type\":\"scattermapbox\"}],\"scatterpolar\":[{\"marker\":{\"colorbar\":{\"outlinewidth\":0,\"ticks\":\"\"}},\"type\":\"scatterpolar\"}],\"scatterpolargl\":[{\"marker\":{\"colorbar\":{\"outlinewidth\":0,\"ticks\":\"\"}},\"type\":\"scatterpolargl\"}],\"scatterternary\":[{\"marker\":{\"colorbar\":{\"outlinewidth\":0,\"ticks\":\"\"}},\"type\":\"scatterternary\"}],\"surface\":[{\"colorbar\":{\"outlinewidth\":0,\"ticks\":\"\"},\"colorscale\":[[0.0,\"#0d0887\"],[0.1111111111111111,\"#46039f\"],[0.2222222222222222,\"#7201a8\"],[0.3333333333333333,\"#9c179e\"],[0.4444444444444444,\"#bd3786\"],[0.5555555555555556,\"#d8576b\"],[0.6666666666666666,\"#ed7953\"],[0.7777777777777778,\"#fb9f3a\"],[0.8888888888888888,\"#fdca26\"],[1.0,\"#f0f921\"]],\"type\":\"surface\"}],\"table\":[{\"cells\":{\"fill\":{\"color\":\"#EBF0F8\"},\"line\":{\"color\":\"white\"}},\"header\":{\"fill\":{\"color\":\"#C8D4E3\"},\"line\":{\"color\":\"white\"}},\"type\":\"table\"}]},\"layout\":{\"annotationdefaults\":{\"arrowcolor\":\"#2a3f5f\",\"arrowhead\":0,\"arrowwidth\":1},\"autotypenumbers\":\"strict\",\"coloraxis\":{\"colorbar\":{\"outlinewidth\":0,\"ticks\":\"\"}},\"colorscale\":{\"diverging\":[[0,\"#8e0152\"],[0.1,\"#c51b7d\"],[0.2,\"#de77ae\"],[0.3,\"#f1b6da\"],[0.4,\"#fde0ef\"],[0.5,\"#f7f7f7\"],[0.6,\"#e6f5d0\"],[0.7,\"#b8e186\"],[0.8,\"#7fbc41\"],[0.9,\"#4d9221\"],[1,\"#276419\"]],\"sequential\":[[0.0,\"#0d0887\"],[0.1111111111111111,\"#46039f\"],[0.2222222222222222,\"#7201a8\"],[0.3333333333333333,\"#9c179e\"],[0.4444444444444444,\"#bd3786\"],[0.5555555555555556,\"#d8576b\"],[0.6666666666666666,\"#ed7953\"],[0.7777777777777778,\"#fb9f3a\"],[0.8888888888888888,\"#fdca26\"],[1.0,\"#f0f921\"]],\"sequentialminus\":[[0.0,\"#0d0887\"],[0.1111111111111111,\"#46039f\"],[0.2222222222222222,\"#7201a8\"],[0.3333333333333333,\"#9c179e\"],[0.4444444444444444,\"#bd3786\"],[0.5555555555555556,\"#d8576b\"],[0.6666666666666666,\"#ed7953\"],[0.7777777777777778,\"#fb9f3a\"],[0.8888888888888888,\"#fdca26\"],[1.0,\"#f0f921\"]]},\"colorway\":[\"#636efa\",\"#EF553B\",\"#00cc96\",\"#ab63fa\",\"#FFA15A\",\"#19d3f3\",\"#FF6692\",\"#B6E880\",\"#FF97FF\",\"#FECB52\"],\"font\":{\"color\":\"#2a3f5f\"},\"geo\":{\"bgcolor\":\"white\",\"lakecolor\":\"white\",\"landcolor\":\"#E5ECF6\",\"showlakes\":true,\"showland\":true,\"subunitcolor\":\"white\"},\"hoverlabel\":{\"align\":\"left\"},\"hovermode\":\"closest\",\"mapbox\":{\"style\":\"light\"},\"paper_bgcolor\":\"white\",\"plot_bgcolor\":\"#E5ECF6\",\"polar\":{\"angularaxis\":{\"gridcolor\":\"white\",\"linecolor\":\"white\",\"ticks\":\"\"},\"bgcolor\":\"#E5ECF6\",\"radialaxis\":{\"gridcolor\":\"white\",\"linecolor\":\"white\",\"ticks\":\"\"}},\"scene\":{\"xaxis\":{\"backgroundcolor\":\"#E5ECF6\",\"gridcolor\":\"white\",\"gridwidth\":2,\"linecolor\":\"white\",\"showbackground\":true,\"ticks\":\"\",\"zerolinecolor\":\"white\"},\"yaxis\":{\"backgroundcolor\":\"#E5ECF6\",\"gridcolor\":\"white\",\"gridwidth\":2,\"linecolor\":\"white\",\"showbackground\":true,\"ticks\":\"\",\"zerolinecolor\":\"white\"},\"zaxis\":{\"backgroundcolor\":\"#E5ECF6\",\"gridcolor\":\"white\",\"gridwidth\":2,\"linecolor\":\"white\",\"showbackground\":true,\"ticks\":\"\",\"zerolinecolor\":\"white\"}},\"shapedefaults\":{\"line\":{\"color\":\"#2a3f5f\"}},\"ternary\":{\"aaxis\":{\"gridcolor\":\"white\",\"linecolor\":\"white\",\"ticks\":\"\"},\"baxis\":{\"gridcolor\":\"white\",\"linecolor\":\"white\",\"ticks\":\"\"},\"bgcolor\":\"#E5ECF6\",\"caxis\":{\"gridcolor\":\"white\",\"linecolor\":\"white\",\"ticks\":\"\"}},\"title\":{\"x\":0.05},\"xaxis\":{\"automargin\":true,\"gridcolor\":\"white\",\"linecolor\":\"white\",\"ticks\":\"\",\"title\":{\"standoff\":15},\"zerolinecolor\":\"white\",\"zerolinewidth\":2},\"yaxis\":{\"automargin\":true,\"gridcolor\":\"white\",\"linecolor\":\"white\",\"ticks\":\"\",\"title\":{\"standoff\":15},\"zerolinecolor\":\"white\",\"zerolinewidth\":2}}},\"title\":{\"text\":\"Antelope Valley Transit Authority (AVTA) Ridership\"},\"width\":1000,\"xaxis\":{\"anchor\":\"y\",\"domain\":[0.0,1.0],\"tickangle\":-60,\"title\":{\"text\":\"Date\"}},\"yaxis\":{\"anchor\":\"x\",\"domain\":[0.0,1.0],\"nticks\":5,\"tickformat\":\",\",\"title\":{\"text\":\"Number of Riders\"}}},                        {\"responsive\": true}                    ).then(function(){\n",
       "                            \n",
       "var gd = document.getElementById('4fe5232b-36fc-47aa-ae3b-0cba9f6fbf63');\n",
       "var x = new MutationObserver(function (mutations, observer) {{\n",
       "        var display = window.getComputedStyle(gd).display;\n",
       "        if (!display || display === 'none') {{\n",
       "            console.log([gd, 'removed!']);\n",
       "            Plotly.purge(gd);\n",
       "            observer.disconnect();\n",
       "        }}\n",
       "}});\n",
       "\n",
       "// Listen for the removal of the full notebook cells\n",
       "var notebookContainer = gd.closest('#notebook-container');\n",
       "if (notebookContainer) {{\n",
       "    x.observe(notebookContainer, {childList: true});\n",
       "}}\n",
       "\n",
       "// Listen for the clearing of the current output cell\n",
       "var outputEl = gd.closest('.output');\n",
       "if (outputEl) {{\n",
       "    x.observe(outputEl, {childList: true});\n",
       "}}\n",
       "\n",
       "                        })                };                });            </script>        </div>"
      ]
     },
     "metadata": {},
     "output_type": "display_data"
    }
   ],
   "source": [
    "fig2 = px.line(avta, \n",
    "              labels={\n",
    "                     \"value\": \"Number of Riders\",\n",
    "                     \"date\": \"Date\",\n",
    "                  \"variable\" : \"Bus Lines\"}, \n",
    "              title=\"Antelope Valley Transit Authority (AVTA) Ridership\", \n",
    "              x=\"date\", \n",
    "              y=[\"line 786\"], line_shape=\"spline\",\n",
    "              color_discrete_sequence=px.colors.qualitative.Pastel,\n",
    "              width=1000, height=450)\n",
    "\n",
    "#fig2.update(layout={\"title\": {\"x\": 0.45, \"y\": 0.8}})\n",
    "fig2.update_xaxes(tickangle=300)\n",
    "#fig2.add_vline(x=12, line_dash=\"dot\", annotation_text=\"First COVID-19 Case in LA\")\n",
    "fig2.add_vline(x=12, line_dash=\"dot\", annotation_text=\"First COVID-19 Case in LA\", annotation_position=\"top left\")\n",
    "fig2.add_vline(x=14, line_dash=\"dot\", annotation_text=\"CA Stay at Home Order Issued\", annotation_position=\"top right\")\n",
    "#fig.add_vline(x=\"Jan-2020\", line_dash=\"dash\", annotation_text=\"First Case of COVID-19 in USA\", annotation_position=\"top right\")\n",
    "\n",
    "fig2.update_yaxes(nticks=5)\n",
    "fig2.update_layout(yaxis_tickformat = ',')\n",
    "#fig.update_yaxes(tickvals=[\"0\", \"2,000\", \"4,000\", \"6,000\", \"8,000\", \"10,000\", \"12,000\", \"14,000\", \"16,000\", \"18,000\", \"20,000\"])\n",
    "#fig.update_layout(hovermode=\"x\")\n",
    "\n",
    "config = {'responsive': True}\n",
    "\n",
    "fig2.show(config=config)"
   ]
  },
  {
   "cell_type": "code",
   "execution_count": 28,
   "id": "0d9e37db-8a49-4e2a-b61c-631930053414",
   "metadata": {},
   "outputs": [],
   "source": [
    "write_html(fig2, \"avta-ridership.html\") # writing to html file"
   ]
  },
  {
   "cell_type": "code",
   "execution_count": 29,
   "id": "1c1b90a2-b6c4-4630-9fc3-f809f5a09636",
   "metadata": {},
   "outputs": [],
   "source": [
    "transports[\"AVTA\"] = line786"
   ]
  },
  {
   "cell_type": "code",
   "execution_count": 30,
   "id": "487052c9-c50f-4fd6-827d-c204b1f8f15f",
   "metadata": {},
   "outputs": [
    {
     "data": {
      "text/html": [
       "<div>\n",
       "<style scoped>\n",
       "    .dataframe tbody tr th:only-of-type {\n",
       "        vertical-align: middle;\n",
       "    }\n",
       "\n",
       "    .dataframe tbody tr th {\n",
       "        vertical-align: top;\n",
       "    }\n",
       "\n",
       "    .dataframe thead th {\n",
       "        text-align: right;\n",
       "    }\n",
       "</style>\n",
       "<table border=\"1\" class=\"dataframe\">\n",
       "  <thead>\n",
       "    <tr style=\"text-align: right;\">\n",
       "      <th></th>\n",
       "      <th>date</th>\n",
       "      <th>LADOT</th>\n",
       "      <th>AVTA</th>\n",
       "    </tr>\n",
       "  </thead>\n",
       "  <tbody>\n",
       "    <tr>\n",
       "      <th>0</th>\n",
       "      <td>Jan. 19</td>\n",
       "      <td>23025.0</td>\n",
       "      <td>3600</td>\n",
       "    </tr>\n",
       "    <tr>\n",
       "      <th>1</th>\n",
       "      <td>Feb. 19</td>\n",
       "      <td>22187.0</td>\n",
       "      <td>2930</td>\n",
       "    </tr>\n",
       "    <tr>\n",
       "      <th>2</th>\n",
       "      <td>Mar. 19</td>\n",
       "      <td>23928.0</td>\n",
       "      <td>3289</td>\n",
       "    </tr>\n",
       "    <tr>\n",
       "      <th>3</th>\n",
       "      <td>Apr. 19</td>\n",
       "      <td>24341.0</td>\n",
       "      <td>4070</td>\n",
       "    </tr>\n",
       "    <tr>\n",
       "      <th>4</th>\n",
       "      <td>May. 19</td>\n",
       "      <td>25394.0</td>\n",
       "      <td>4206</td>\n",
       "    </tr>\n",
       "  </tbody>\n",
       "</table>\n",
       "</div>"
      ],
      "text/plain": [
       "      date    LADOT  AVTA\n",
       "0  Jan. 19  23025.0  3600\n",
       "1  Feb. 19  22187.0  2930\n",
       "2  Mar. 19  23928.0  3289\n",
       "3  Apr. 19  24341.0  4070\n",
       "4  May. 19  25394.0  4206"
      ]
     },
     "execution_count": 30,
     "metadata": {},
     "output_type": "execute_result"
    }
   ],
   "source": [
    "transports.head()"
   ]
  },
  {
   "cell_type": "markdown",
   "id": "481b3900-6795-49db-a8bc-76d0e6920049",
   "metadata": {},
   "source": [
    "### Santa Clarita Transit Ridership"
   ]
  },
  {
   "cell_type": "code",
   "execution_count": 31,
   "id": "0c8fd4da-4d9e-4bc2-9607-d53850113628",
   "metadata": {},
   "outputs": [],
   "source": [
    "sct792 = np.array([249, 338, 262, 299, 306, 168, 316, 342, 372, 322, 301, 286,\n",
    "                     312, 288, 187, 90, 154, 161, 99, 120, 134, 192, 159, 154,\n",
    "                     189, 155, 179, 206, 164, 233, 213, 190, 161, 182])\n",
    "\n",
    "sct797 = np.array([6939, 6907, 6834, 7200, 7021, 5090, 6655, 6678, 6562, 7725, 5965, 5323, \n",
    "                   7071, 6298, 3739, 351, 426, 912, 972, 1047, 1159, 1375, 1045, 977, \n",
    "                   1170, 1279, 1474, 1275, 1440, 1949, 1892, 2259, 1827, 2900])\n",
    "\n",
    "all_sct_riders = sct792 + sct797"
   ]
  },
  {
   "cell_type": "code",
   "execution_count": 32,
   "id": "a9dbe988-f7d2-472c-bb9d-cc846a9ff884",
   "metadata": {},
   "outputs": [],
   "source": [
    "sct = pd.DataFrame()\n",
    "sct[\"date\"] = date\n",
    "sct[\"line 792\"] = sct792\n",
    "sct[\"line 797\"] = sct797\n",
    "sct[\"total ridership\"] = all_sct_riders"
   ]
  },
  {
   "cell_type": "code",
   "execution_count": 33,
   "id": "f3578098-50b3-4bf7-bf30-18cbf2e36a55",
   "metadata": {},
   "outputs": [
    {
     "data": {
      "text/html": [
       "<div>\n",
       "<style scoped>\n",
       "    .dataframe tbody tr th:only-of-type {\n",
       "        vertical-align: middle;\n",
       "    }\n",
       "\n",
       "    .dataframe tbody tr th {\n",
       "        vertical-align: top;\n",
       "    }\n",
       "\n",
       "    .dataframe thead th {\n",
       "        text-align: right;\n",
       "    }\n",
       "</style>\n",
       "<table border=\"1\" class=\"dataframe\">\n",
       "  <thead>\n",
       "    <tr style=\"text-align: right;\">\n",
       "      <th></th>\n",
       "      <th>date</th>\n",
       "      <th>line 792</th>\n",
       "      <th>line 797</th>\n",
       "      <th>total ridership</th>\n",
       "    </tr>\n",
       "  </thead>\n",
       "  <tbody>\n",
       "    <tr>\n",
       "      <th>0</th>\n",
       "      <td>Jan. 19</td>\n",
       "      <td>249</td>\n",
       "      <td>6939</td>\n",
       "      <td>7188</td>\n",
       "    </tr>\n",
       "    <tr>\n",
       "      <th>1</th>\n",
       "      <td>Feb. 19</td>\n",
       "      <td>338</td>\n",
       "      <td>6907</td>\n",
       "      <td>7245</td>\n",
       "    </tr>\n",
       "    <tr>\n",
       "      <th>2</th>\n",
       "      <td>Mar. 19</td>\n",
       "      <td>262</td>\n",
       "      <td>6834</td>\n",
       "      <td>7096</td>\n",
       "    </tr>\n",
       "    <tr>\n",
       "      <th>3</th>\n",
       "      <td>Apr. 19</td>\n",
       "      <td>299</td>\n",
       "      <td>7200</td>\n",
       "      <td>7499</td>\n",
       "    </tr>\n",
       "    <tr>\n",
       "      <th>4</th>\n",
       "      <td>May. 19</td>\n",
       "      <td>306</td>\n",
       "      <td>7021</td>\n",
       "      <td>7327</td>\n",
       "    </tr>\n",
       "  </tbody>\n",
       "</table>\n",
       "</div>"
      ],
      "text/plain": [
       "      date  line 792  line 797  total ridership\n",
       "0  Jan. 19       249      6939             7188\n",
       "1  Feb. 19       338      6907             7245\n",
       "2  Mar. 19       262      6834             7096\n",
       "3  Apr. 19       299      7200             7499\n",
       "4  May. 19       306      7021             7327"
      ]
     },
     "execution_count": 33,
     "metadata": {},
     "output_type": "execute_result"
    }
   ],
   "source": [
    "sct.head()"
   ]
  },
  {
   "cell_type": "code",
   "execution_count": 34,
   "id": "747d6a2b-91ce-496c-9d32-ef80e97b385c",
   "metadata": {},
   "outputs": [
    {
     "data": {
      "application/vnd.plotly.v1+json": {
       "config": {
        "plotlyServerURL": "https://plot.ly",
        "responsive": true
       },
       "data": [
        {
         "hovertemplate": "Bus Lines=line 792<br>Date=%{x}<br>Number of Riders=%{y}<extra></extra>",
         "legendgroup": "line 792",
         "line": {
          "color": "rgb(102, 197, 204)",
          "dash": "solid",
          "shape": "spline"
         },
         "marker": {
          "symbol": "circle"
         },
         "mode": "lines",
         "name": "line 792",
         "orientation": "v",
         "showlegend": true,
         "type": "scatter",
         "x": [
          "Jan. 19",
          "Feb. 19",
          "Mar. 19",
          "Apr. 19",
          "May. 19",
          "Jun. 19",
          "Jul. 19",
          "Aug. 19",
          "Sep. 19",
          "Oct. 19",
          "Nov. 19",
          "Dec. 19",
          "Jan. 20",
          "Feb. 20",
          "Mar. 20",
          "Apr. 20",
          "May. 20",
          "Jun. 20",
          "Jul. 20",
          "Aug. 20",
          "Sep. 20",
          "Oct. 20",
          "Nov. 20",
          "Dec. 20",
          "Jan. 21",
          "Feb. 21",
          "Mar. 21",
          "Apr. 21",
          "May. 21",
          "Jun. 21",
          "Jul. 21",
          "Aug. 21",
          "Sep. 21",
          "Oct. 21"
         ],
         "xaxis": "x",
         "y": [
          249,
          338,
          262,
          299,
          306,
          168,
          316,
          342,
          372,
          322,
          301,
          286,
          312,
          288,
          187,
          90,
          154,
          161,
          99,
          120,
          134,
          192,
          159,
          154,
          189,
          155,
          179,
          206,
          164,
          233,
          213,
          190,
          161,
          182
         ],
         "yaxis": "y"
        },
        {
         "hovertemplate": "Bus Lines=line 797<br>Date=%{x}<br>Number of Riders=%{y}<extra></extra>",
         "legendgroup": "line 797",
         "line": {
          "color": "rgb(246, 207, 113)",
          "dash": "solid",
          "shape": "spline"
         },
         "marker": {
          "symbol": "circle"
         },
         "mode": "lines",
         "name": "line 797",
         "orientation": "v",
         "showlegend": true,
         "type": "scatter",
         "x": [
          "Jan. 19",
          "Feb. 19",
          "Mar. 19",
          "Apr. 19",
          "May. 19",
          "Jun. 19",
          "Jul. 19",
          "Aug. 19",
          "Sep. 19",
          "Oct. 19",
          "Nov. 19",
          "Dec. 19",
          "Jan. 20",
          "Feb. 20",
          "Mar. 20",
          "Apr. 20",
          "May. 20",
          "Jun. 20",
          "Jul. 20",
          "Aug. 20",
          "Sep. 20",
          "Oct. 20",
          "Nov. 20",
          "Dec. 20",
          "Jan. 21",
          "Feb. 21",
          "Mar. 21",
          "Apr. 21",
          "May. 21",
          "Jun. 21",
          "Jul. 21",
          "Aug. 21",
          "Sep. 21",
          "Oct. 21"
         ],
         "xaxis": "x",
         "y": [
          6939,
          6907,
          6834,
          7200,
          7021,
          5090,
          6655,
          6678,
          6562,
          7725,
          5965,
          5323,
          7071,
          6298,
          3739,
          351,
          426,
          912,
          972,
          1047,
          1159,
          1375,
          1045,
          977,
          1170,
          1279,
          1474,
          1275,
          1440,
          1949,
          1892,
          2259,
          1827,
          2900
         ],
         "yaxis": "y"
        }
       ],
       "layout": {
        "annotations": [
         {
          "showarrow": false,
          "text": "First COVID-19 Case in LA",
          "x": 12,
          "xanchor": "right",
          "xref": "x",
          "y": 1,
          "yanchor": "top",
          "yref": "y domain"
         },
         {
          "showarrow": false,
          "text": "CA Stay at Home Order Issued",
          "x": 14,
          "xanchor": "left",
          "xref": "x",
          "y": 1,
          "yanchor": "top",
          "yref": "y domain"
         }
        ],
        "height": 450,
        "legend": {
         "title": {
          "text": "Bus Lines"
         },
         "tracegroupgap": 0
        },
        "shapes": [
         {
          "line": {
           "dash": "dot"
          },
          "type": "line",
          "x0": 12,
          "x1": 12,
          "xref": "x",
          "y0": 0,
          "y1": 1,
          "yref": "y domain"
         },
         {
          "line": {
           "dash": "dot"
          },
          "type": "line",
          "x0": 14,
          "x1": 14,
          "xref": "x",
          "y0": 0,
          "y1": 1,
          "yref": "y domain"
         }
        ],
        "template": {
         "data": {
          "bar": [
           {
            "error_x": {
             "color": "#2a3f5f"
            },
            "error_y": {
             "color": "#2a3f5f"
            },
            "marker": {
             "line": {
              "color": "#E5ECF6",
              "width": 0.5
             },
             "pattern": {
              "fillmode": "overlay",
              "size": 10,
              "solidity": 0.2
             }
            },
            "type": "bar"
           }
          ],
          "barpolar": [
           {
            "marker": {
             "line": {
              "color": "#E5ECF6",
              "width": 0.5
             },
             "pattern": {
              "fillmode": "overlay",
              "size": 10,
              "solidity": 0.2
             }
            },
            "type": "barpolar"
           }
          ],
          "carpet": [
           {
            "aaxis": {
             "endlinecolor": "#2a3f5f",
             "gridcolor": "white",
             "linecolor": "white",
             "minorgridcolor": "white",
             "startlinecolor": "#2a3f5f"
            },
            "baxis": {
             "endlinecolor": "#2a3f5f",
             "gridcolor": "white",
             "linecolor": "white",
             "minorgridcolor": "white",
             "startlinecolor": "#2a3f5f"
            },
            "type": "carpet"
           }
          ],
          "choropleth": [
           {
            "colorbar": {
             "outlinewidth": 0,
             "ticks": ""
            },
            "type": "choropleth"
           }
          ],
          "contour": [
           {
            "colorbar": {
             "outlinewidth": 0,
             "ticks": ""
            },
            "colorscale": [
             [
              0,
              "#0d0887"
             ],
             [
              0.1111111111111111,
              "#46039f"
             ],
             [
              0.2222222222222222,
              "#7201a8"
             ],
             [
              0.3333333333333333,
              "#9c179e"
             ],
             [
              0.4444444444444444,
              "#bd3786"
             ],
             [
              0.5555555555555556,
              "#d8576b"
             ],
             [
              0.6666666666666666,
              "#ed7953"
             ],
             [
              0.7777777777777778,
              "#fb9f3a"
             ],
             [
              0.8888888888888888,
              "#fdca26"
             ],
             [
              1,
              "#f0f921"
             ]
            ],
            "type": "contour"
           }
          ],
          "contourcarpet": [
           {
            "colorbar": {
             "outlinewidth": 0,
             "ticks": ""
            },
            "type": "contourcarpet"
           }
          ],
          "heatmap": [
           {
            "colorbar": {
             "outlinewidth": 0,
             "ticks": ""
            },
            "colorscale": [
             [
              0,
              "#0d0887"
             ],
             [
              0.1111111111111111,
              "#46039f"
             ],
             [
              0.2222222222222222,
              "#7201a8"
             ],
             [
              0.3333333333333333,
              "#9c179e"
             ],
             [
              0.4444444444444444,
              "#bd3786"
             ],
             [
              0.5555555555555556,
              "#d8576b"
             ],
             [
              0.6666666666666666,
              "#ed7953"
             ],
             [
              0.7777777777777778,
              "#fb9f3a"
             ],
             [
              0.8888888888888888,
              "#fdca26"
             ],
             [
              1,
              "#f0f921"
             ]
            ],
            "type": "heatmap"
           }
          ],
          "heatmapgl": [
           {
            "colorbar": {
             "outlinewidth": 0,
             "ticks": ""
            },
            "colorscale": [
             [
              0,
              "#0d0887"
             ],
             [
              0.1111111111111111,
              "#46039f"
             ],
             [
              0.2222222222222222,
              "#7201a8"
             ],
             [
              0.3333333333333333,
              "#9c179e"
             ],
             [
              0.4444444444444444,
              "#bd3786"
             ],
             [
              0.5555555555555556,
              "#d8576b"
             ],
             [
              0.6666666666666666,
              "#ed7953"
             ],
             [
              0.7777777777777778,
              "#fb9f3a"
             ],
             [
              0.8888888888888888,
              "#fdca26"
             ],
             [
              1,
              "#f0f921"
             ]
            ],
            "type": "heatmapgl"
           }
          ],
          "histogram": [
           {
            "marker": {
             "pattern": {
              "fillmode": "overlay",
              "size": 10,
              "solidity": 0.2
             }
            },
            "type": "histogram"
           }
          ],
          "histogram2d": [
           {
            "colorbar": {
             "outlinewidth": 0,
             "ticks": ""
            },
            "colorscale": [
             [
              0,
              "#0d0887"
             ],
             [
              0.1111111111111111,
              "#46039f"
             ],
             [
              0.2222222222222222,
              "#7201a8"
             ],
             [
              0.3333333333333333,
              "#9c179e"
             ],
             [
              0.4444444444444444,
              "#bd3786"
             ],
             [
              0.5555555555555556,
              "#d8576b"
             ],
             [
              0.6666666666666666,
              "#ed7953"
             ],
             [
              0.7777777777777778,
              "#fb9f3a"
             ],
             [
              0.8888888888888888,
              "#fdca26"
             ],
             [
              1,
              "#f0f921"
             ]
            ],
            "type": "histogram2d"
           }
          ],
          "histogram2dcontour": [
           {
            "colorbar": {
             "outlinewidth": 0,
             "ticks": ""
            },
            "colorscale": [
             [
              0,
              "#0d0887"
             ],
             [
              0.1111111111111111,
              "#46039f"
             ],
             [
              0.2222222222222222,
              "#7201a8"
             ],
             [
              0.3333333333333333,
              "#9c179e"
             ],
             [
              0.4444444444444444,
              "#bd3786"
             ],
             [
              0.5555555555555556,
              "#d8576b"
             ],
             [
              0.6666666666666666,
              "#ed7953"
             ],
             [
              0.7777777777777778,
              "#fb9f3a"
             ],
             [
              0.8888888888888888,
              "#fdca26"
             ],
             [
              1,
              "#f0f921"
             ]
            ],
            "type": "histogram2dcontour"
           }
          ],
          "mesh3d": [
           {
            "colorbar": {
             "outlinewidth": 0,
             "ticks": ""
            },
            "type": "mesh3d"
           }
          ],
          "parcoords": [
           {
            "line": {
             "colorbar": {
              "outlinewidth": 0,
              "ticks": ""
             }
            },
            "type": "parcoords"
           }
          ],
          "pie": [
           {
            "automargin": true,
            "type": "pie"
           }
          ],
          "scatter": [
           {
            "marker": {
             "colorbar": {
              "outlinewidth": 0,
              "ticks": ""
             }
            },
            "type": "scatter"
           }
          ],
          "scatter3d": [
           {
            "line": {
             "colorbar": {
              "outlinewidth": 0,
              "ticks": ""
             }
            },
            "marker": {
             "colorbar": {
              "outlinewidth": 0,
              "ticks": ""
             }
            },
            "type": "scatter3d"
           }
          ],
          "scattercarpet": [
           {
            "marker": {
             "colorbar": {
              "outlinewidth": 0,
              "ticks": ""
             }
            },
            "type": "scattercarpet"
           }
          ],
          "scattergeo": [
           {
            "marker": {
             "colorbar": {
              "outlinewidth": 0,
              "ticks": ""
             }
            },
            "type": "scattergeo"
           }
          ],
          "scattergl": [
           {
            "marker": {
             "colorbar": {
              "outlinewidth": 0,
              "ticks": ""
             }
            },
            "type": "scattergl"
           }
          ],
          "scattermapbox": [
           {
            "marker": {
             "colorbar": {
              "outlinewidth": 0,
              "ticks": ""
             }
            },
            "type": "scattermapbox"
           }
          ],
          "scatterpolar": [
           {
            "marker": {
             "colorbar": {
              "outlinewidth": 0,
              "ticks": ""
             }
            },
            "type": "scatterpolar"
           }
          ],
          "scatterpolargl": [
           {
            "marker": {
             "colorbar": {
              "outlinewidth": 0,
              "ticks": ""
             }
            },
            "type": "scatterpolargl"
           }
          ],
          "scatterternary": [
           {
            "marker": {
             "colorbar": {
              "outlinewidth": 0,
              "ticks": ""
             }
            },
            "type": "scatterternary"
           }
          ],
          "surface": [
           {
            "colorbar": {
             "outlinewidth": 0,
             "ticks": ""
            },
            "colorscale": [
             [
              0,
              "#0d0887"
             ],
             [
              0.1111111111111111,
              "#46039f"
             ],
             [
              0.2222222222222222,
              "#7201a8"
             ],
             [
              0.3333333333333333,
              "#9c179e"
             ],
             [
              0.4444444444444444,
              "#bd3786"
             ],
             [
              0.5555555555555556,
              "#d8576b"
             ],
             [
              0.6666666666666666,
              "#ed7953"
             ],
             [
              0.7777777777777778,
              "#fb9f3a"
             ],
             [
              0.8888888888888888,
              "#fdca26"
             ],
             [
              1,
              "#f0f921"
             ]
            ],
            "type": "surface"
           }
          ],
          "table": [
           {
            "cells": {
             "fill": {
              "color": "#EBF0F8"
             },
             "line": {
              "color": "white"
             }
            },
            "header": {
             "fill": {
              "color": "#C8D4E3"
             },
             "line": {
              "color": "white"
             }
            },
            "type": "table"
           }
          ]
         },
         "layout": {
          "annotationdefaults": {
           "arrowcolor": "#2a3f5f",
           "arrowhead": 0,
           "arrowwidth": 1
          },
          "autotypenumbers": "strict",
          "coloraxis": {
           "colorbar": {
            "outlinewidth": 0,
            "ticks": ""
           }
          },
          "colorscale": {
           "diverging": [
            [
             0,
             "#8e0152"
            ],
            [
             0.1,
             "#c51b7d"
            ],
            [
             0.2,
             "#de77ae"
            ],
            [
             0.3,
             "#f1b6da"
            ],
            [
             0.4,
             "#fde0ef"
            ],
            [
             0.5,
             "#f7f7f7"
            ],
            [
             0.6,
             "#e6f5d0"
            ],
            [
             0.7,
             "#b8e186"
            ],
            [
             0.8,
             "#7fbc41"
            ],
            [
             0.9,
             "#4d9221"
            ],
            [
             1,
             "#276419"
            ]
           ],
           "sequential": [
            [
             0,
             "#0d0887"
            ],
            [
             0.1111111111111111,
             "#46039f"
            ],
            [
             0.2222222222222222,
             "#7201a8"
            ],
            [
             0.3333333333333333,
             "#9c179e"
            ],
            [
             0.4444444444444444,
             "#bd3786"
            ],
            [
             0.5555555555555556,
             "#d8576b"
            ],
            [
             0.6666666666666666,
             "#ed7953"
            ],
            [
             0.7777777777777778,
             "#fb9f3a"
            ],
            [
             0.8888888888888888,
             "#fdca26"
            ],
            [
             1,
             "#f0f921"
            ]
           ],
           "sequentialminus": [
            [
             0,
             "#0d0887"
            ],
            [
             0.1111111111111111,
             "#46039f"
            ],
            [
             0.2222222222222222,
             "#7201a8"
            ],
            [
             0.3333333333333333,
             "#9c179e"
            ],
            [
             0.4444444444444444,
             "#bd3786"
            ],
            [
             0.5555555555555556,
             "#d8576b"
            ],
            [
             0.6666666666666666,
             "#ed7953"
            ],
            [
             0.7777777777777778,
             "#fb9f3a"
            ],
            [
             0.8888888888888888,
             "#fdca26"
            ],
            [
             1,
             "#f0f921"
            ]
           ]
          },
          "colorway": [
           "#636efa",
           "#EF553B",
           "#00cc96",
           "#ab63fa",
           "#FFA15A",
           "#19d3f3",
           "#FF6692",
           "#B6E880",
           "#FF97FF",
           "#FECB52"
          ],
          "font": {
           "color": "#2a3f5f"
          },
          "geo": {
           "bgcolor": "white",
           "lakecolor": "white",
           "landcolor": "#E5ECF6",
           "showlakes": true,
           "showland": true,
           "subunitcolor": "white"
          },
          "hoverlabel": {
           "align": "left"
          },
          "hovermode": "closest",
          "mapbox": {
           "style": "light"
          },
          "paper_bgcolor": "white",
          "plot_bgcolor": "#E5ECF6",
          "polar": {
           "angularaxis": {
            "gridcolor": "white",
            "linecolor": "white",
            "ticks": ""
           },
           "bgcolor": "#E5ECF6",
           "radialaxis": {
            "gridcolor": "white",
            "linecolor": "white",
            "ticks": ""
           }
          },
          "scene": {
           "xaxis": {
            "backgroundcolor": "#E5ECF6",
            "gridcolor": "white",
            "gridwidth": 2,
            "linecolor": "white",
            "showbackground": true,
            "ticks": "",
            "zerolinecolor": "white"
           },
           "yaxis": {
            "backgroundcolor": "#E5ECF6",
            "gridcolor": "white",
            "gridwidth": 2,
            "linecolor": "white",
            "showbackground": true,
            "ticks": "",
            "zerolinecolor": "white"
           },
           "zaxis": {
            "backgroundcolor": "#E5ECF6",
            "gridcolor": "white",
            "gridwidth": 2,
            "linecolor": "white",
            "showbackground": true,
            "ticks": "",
            "zerolinecolor": "white"
           }
          },
          "shapedefaults": {
           "line": {
            "color": "#2a3f5f"
           }
          },
          "ternary": {
           "aaxis": {
            "gridcolor": "white",
            "linecolor": "white",
            "ticks": ""
           },
           "baxis": {
            "gridcolor": "white",
            "linecolor": "white",
            "ticks": ""
           },
           "bgcolor": "#E5ECF6",
           "caxis": {
            "gridcolor": "white",
            "linecolor": "white",
            "ticks": ""
           }
          },
          "title": {
           "x": 0.05
          },
          "xaxis": {
           "automargin": true,
           "gridcolor": "white",
           "linecolor": "white",
           "ticks": "",
           "title": {
            "standoff": 15
           },
           "zerolinecolor": "white",
           "zerolinewidth": 2
          },
          "yaxis": {
           "automargin": true,
           "gridcolor": "white",
           "linecolor": "white",
           "ticks": "",
           "title": {
            "standoff": 15
           },
           "zerolinecolor": "white",
           "zerolinewidth": 2
          }
         }
        },
        "title": {
         "text": "City of Santa Clarita Transit Ridership"
        },
        "width": 1000,
        "xaxis": {
         "anchor": "y",
         "autorange": true,
         "domain": [
          0,
          1
         ],
         "range": [
          0,
          33
         ],
         "tickangle": -60,
         "title": {
          "text": "Date"
         },
         "type": "category"
        },
        "yaxis": {
         "anchor": "x",
         "autorange": true,
         "domain": [
          0,
          1
         ],
         "nticks": 15,
         "range": [
          -334.16666666666674,
          8149.166666666667
         ],
         "tickformat": ",",
         "title": {
          "text": "Number of Riders"
         },
         "type": "linear"
        }
       }
      },
      "image/png": "[encoded data removed]",
      "text/html": [
       "<div>                            <div id=\"a4e11fd6-996c-4aed-93ab-ed32b0b523d4\" class=\"plotly-graph-div\" style=\"height:450px; width:1000px;\"></div>            <script type=\"text/javascript\">                require([\"plotly\"], function(Plotly) {                    window.PLOTLYENV=window.PLOTLYENV || {};                                    if (document.getElementById(\"a4e11fd6-996c-4aed-93ab-ed32b0b523d4\")) {                    Plotly.newPlot(                        \"a4e11fd6-996c-4aed-93ab-ed32b0b523d4\",                        [{\"hovertemplate\":\"Bus Lines=line 792<br>Date=%{x}<br>Number of Riders=%{y}<extra></extra>\",\"legendgroup\":\"line 792\",\"line\":{\"color\":\"rgb(102, 197, 204)\",\"dash\":\"solid\",\"shape\":\"spline\"},\"marker\":{\"symbol\":\"circle\"},\"mode\":\"lines\",\"name\":\"line 792\",\"orientation\":\"v\",\"showlegend\":true,\"type\":\"scatter\",\"x\":[\"Jan. 19\",\"Feb. 19\",\"Mar. 19\",\"Apr. 19\",\"May. 19\",\"Jun. 19\",\"Jul. 19\",\"Aug. 19\",\"Sep. 19\",\"Oct. 19\",\"Nov. 19\",\"Dec. 19\",\"Jan. 20\",\"Feb. 20\",\"Mar. 20\",\"Apr. 20\",\"May. 20\",\"Jun. 20\",\"Jul. 20\",\"Aug. 20\",\"Sep. 20\",\"Oct. 20\",\"Nov. 20\",\"Dec. 20\",\"Jan. 21\",\"Feb. 21\",\"Mar. 21\",\"Apr. 21\",\"May. 21\",\"Jun. 21\",\"Jul. 21\",\"Aug. 21\",\"Sep. 21\",\"Oct. 21\"],\"xaxis\":\"x\",\"y\":[249,338,262,299,306,168,316,342,372,322,301,286,312,288,187,90,154,161,99,120,134,192,159,154,189,155,179,206,164,233,213,190,161,182],\"yaxis\":\"y\"},{\"hovertemplate\":\"Bus Lines=line 797<br>Date=%{x}<br>Number of Riders=%{y}<extra></extra>\",\"legendgroup\":\"line 797\",\"line\":{\"color\":\"rgb(246, 207, 113)\",\"dash\":\"solid\",\"shape\":\"spline\"},\"marker\":{\"symbol\":\"circle\"},\"mode\":\"lines\",\"name\":\"line 797\",\"orientation\":\"v\",\"showlegend\":true,\"type\":\"scatter\",\"x\":[\"Jan. 19\",\"Feb. 19\",\"Mar. 19\",\"Apr. 19\",\"May. 19\",\"Jun. 19\",\"Jul. 19\",\"Aug. 19\",\"Sep. 19\",\"Oct. 19\",\"Nov. 19\",\"Dec. 19\",\"Jan. 20\",\"Feb. 20\",\"Mar. 20\",\"Apr. 20\",\"May. 20\",\"Jun. 20\",\"Jul. 20\",\"Aug. 20\",\"Sep. 20\",\"Oct. 20\",\"Nov. 20\",\"Dec. 20\",\"Jan. 21\",\"Feb. 21\",\"Mar. 21\",\"Apr. 21\",\"May. 21\",\"Jun. 21\",\"Jul. 21\",\"Aug. 21\",\"Sep. 21\",\"Oct. 21\"],\"xaxis\":\"x\",\"y\":[6939,6907,6834,7200,7021,5090,6655,6678,6562,7725,5965,5323,7071,6298,3739,351,426,912,972,1047,1159,1375,1045,977,1170,1279,1474,1275,1440,1949,1892,2259,1827,2900],\"yaxis\":\"y\"}],                        {\"annotations\":[{\"showarrow\":false,\"text\":\"First COVID-19 Case in LA\",\"x\":12,\"xanchor\":\"right\",\"xref\":\"x\",\"y\":1,\"yanchor\":\"top\",\"yref\":\"y domain\"},{\"showarrow\":false,\"text\":\"CA Stay at Home Order Issued\",\"x\":14,\"xanchor\":\"left\",\"xref\":\"x\",\"y\":1,\"yanchor\":\"top\",\"yref\":\"y domain\"}],\"height\":450,\"legend\":{\"title\":{\"text\":\"Bus Lines\"},\"tracegroupgap\":0},\"shapes\":[{\"line\":{\"dash\":\"dot\"},\"type\":\"line\",\"x0\":12,\"x1\":12,\"xref\":\"x\",\"y0\":0,\"y1\":1,\"yref\":\"y domain\"},{\"line\":{\"dash\":\"dot\"},\"type\":\"line\",\"x0\":14,\"x1\":14,\"xref\":\"x\",\"y0\":0,\"y1\":1,\"yref\":\"y domain\"}],\"template\":{\"data\":{\"bar\":[{\"error_x\":{\"color\":\"#2a3f5f\"},\"error_y\":{\"color\":\"#2a3f5f\"},\"marker\":{\"line\":{\"color\":\"#E5ECF6\",\"width\":0.5},\"pattern\":{\"fillmode\":\"overlay\",\"size\":10,\"solidity\":0.2}},\"type\":\"bar\"}],\"barpolar\":[{\"marker\":{\"line\":{\"color\":\"#E5ECF6\",\"width\":0.5},\"pattern\":{\"fillmode\":\"overlay\",\"size\":10,\"solidity\":0.2}},\"type\":\"barpolar\"}],\"carpet\":[{\"aaxis\":{\"endlinecolor\":\"#2a3f5f\",\"gridcolor\":\"white\",\"linecolor\":\"white\",\"minorgridcolor\":\"white\",\"startlinecolor\":\"#2a3f5f\"},\"baxis\":{\"endlinecolor\":\"#2a3f5f\",\"gridcolor\":\"white\",\"linecolor\":\"white\",\"minorgridcolor\":\"white\",\"startlinecolor\":\"#2a3f5f\"},\"type\":\"carpet\"}],\"choropleth\":[{\"colorbar\":{\"outlinewidth\":0,\"ticks\":\"\"},\"type\":\"choropleth\"}],\"contour\":[{\"colorbar\":{\"outlinewidth\":0,\"ticks\":\"\"},\"colorscale\":[[0.0,\"#0d0887\"],[0.1111111111111111,\"#46039f\"],[0.2222222222222222,\"#7201a8\"],[0.3333333333333333,\"#9c179e\"],[0.4444444444444444,\"#bd3786\"],[0.5555555555555556,\"#d8576b\"],[0.6666666666666666,\"#ed7953\"],[0.7777777777777778,\"#fb9f3a\"],[0.8888888888888888,\"#fdca26\"],[1.0,\"#f0f921\"]],\"type\":\"contour\"}],\"contourcarpet\":[{\"colorbar\":{\"outlinewidth\":0,\"ticks\":\"\"},\"type\":\"contourcarpet\"}],\"heatmap\":[{\"colorbar\":{\"outlinewidth\":0,\"ticks\":\"\"},\"colorscale\":[[0.0,\"#0d0887\"],[0.1111111111111111,\"#46039f\"],[0.2222222222222222,\"#7201a8\"],[0.3333333333333333,\"#9c179e\"],[0.4444444444444444,\"#bd3786\"],[0.5555555555555556,\"#d8576b\"],[0.6666666666666666,\"#ed7953\"],[0.7777777777777778,\"#fb9f3a\"],[0.8888888888888888,\"#fdca26\"],[1.0,\"#f0f921\"]],\"type\":\"heatmap\"}],\"heatmapgl\":[{\"colorbar\":{\"outlinewidth\":0,\"ticks\":\"\"},\"colorscale\":[[0.0,\"#0d0887\"],[0.1111111111111111,\"#46039f\"],[0.2222222222222222,\"#7201a8\"],[0.3333333333333333,\"#9c179e\"],[0.4444444444444444,\"#bd3786\"],[0.5555555555555556,\"#d8576b\"],[0.6666666666666666,\"#ed7953\"],[0.7777777777777778,\"#fb9f3a\"],[0.8888888888888888,\"#fdca26\"],[1.0,\"#f0f921\"]],\"type\":\"heatmapgl\"}],\"histogram\":[{\"marker\":{\"pattern\":{\"fillmode\":\"overlay\",\"size\":10,\"solidity\":0.2}},\"type\":\"histogram\"}],\"histogram2d\":[{\"colorbar\":{\"outlinewidth\":0,\"ticks\":\"\"},\"colorscale\":[[0.0,\"#0d0887\"],[0.1111111111111111,\"#46039f\"],[0.2222222222222222,\"#7201a8\"],[0.3333333333333333,\"#9c179e\"],[0.4444444444444444,\"#bd3786\"],[0.5555555555555556,\"#d8576b\"],[0.6666666666666666,\"#ed7953\"],[0.7777777777777778,\"#fb9f3a\"],[0.8888888888888888,\"#fdca26\"],[1.0,\"#f0f921\"]],\"type\":\"histogram2d\"}],\"histogram2dcontour\":[{\"colorbar\":{\"outlinewidth\":0,\"ticks\":\"\"},\"colorscale\":[[0.0,\"#0d0887\"],[0.1111111111111111,\"#46039f\"],[0.2222222222222222,\"#7201a8\"],[0.3333333333333333,\"#9c179e\"],[0.4444444444444444,\"#bd3786\"],[0.5555555555555556,\"#d8576b\"],[0.6666666666666666,\"#ed7953\"],[0.7777777777777778,\"#fb9f3a\"],[0.8888888888888888,\"#fdca26\"],[1.0,\"#f0f921\"]],\"type\":\"histogram2dcontour\"}],\"mesh3d\":[{\"colorbar\":{\"outlinewidth\":0,\"ticks\":\"\"},\"type\":\"mesh3d\"}],\"parcoords\":[{\"line\":{\"colorbar\":{\"outlinewidth\":0,\"ticks\":\"\"}},\"type\":\"parcoords\"}],\"pie\":[{\"automargin\":true,\"type\":\"pie\"}],\"scatter\":[{\"marker\":{\"colorbar\":{\"outlinewidth\":0,\"ticks\":\"\"}},\"type\":\"scatter\"}],\"scatter3d\":[{\"line\":{\"colorbar\":{\"outlinewidth\":0,\"ticks\":\"\"}},\"marker\":{\"colorbar\":{\"outlinewidth\":0,\"ticks\":\"\"}},\"type\":\"scatter3d\"}],\"scattercarpet\":[{\"marker\":{\"colorbar\":{\"outlinewidth\":0,\"ticks\":\"\"}},\"type\":\"scattercarpet\"}],\"scattergeo\":[{\"marker\":{\"colorbar\":{\"outlinewidth\":0,\"ticks\":\"\"}},\"type\":\"scattergeo\"}],\"scattergl\":[{\"marker\":{\"colorbar\":{\"outlinewidth\":0,\"ticks\":\"\"}},\"type\":\"scattergl\"}],\"scattermapbox\":[{\"marker\":{\"colorbar\":{\"outlinewidth\":0,\"ticks\":\"\"}},\"type\":\"scattermapbox\"}],\"scatterpolar\":[{\"marker\":{\"colorbar\":{\"outlinewidth\":0,\"ticks\":\"\"}},\"type\":\"scatterpolar\"}],\"scatterpolargl\":[{\"marker\":{\"colorbar\":{\"outlinewidth\":0,\"ticks\":\"\"}},\"type\":\"scatterpolargl\"}],\"scatterternary\":[{\"marker\":{\"colorbar\":{\"outlinewidth\":0,\"ticks\":\"\"}},\"type\":\"scatterternary\"}],\"surface\":[{\"colorbar\":{\"outlinewidth\":0,\"ticks\":\"\"},\"colorscale\":[[0.0,\"#0d0887\"],[0.1111111111111111,\"#46039f\"],[0.2222222222222222,\"#7201a8\"],[0.3333333333333333,\"#9c179e\"],[0.4444444444444444,\"#bd3786\"],[0.5555555555555556,\"#d8576b\"],[0.6666666666666666,\"#ed7953\"],[0.7777777777777778,\"#fb9f3a\"],[0.8888888888888888,\"#fdca26\"],[1.0,\"#f0f921\"]],\"type\":\"surface\"}],\"table\":[{\"cells\":{\"fill\":{\"color\":\"#EBF0F8\"},\"line\":{\"color\":\"white\"}},\"header\":{\"fill\":{\"color\":\"#C8D4E3\"},\"line\":{\"color\":\"white\"}},\"type\":\"table\"}]},\"layout\":{\"annotationdefaults\":{\"arrowcolor\":\"#2a3f5f\",\"arrowhead\":0,\"arrowwidth\":1},\"autotypenumbers\":\"strict\",\"coloraxis\":{\"colorbar\":{\"outlinewidth\":0,\"ticks\":\"\"}},\"colorscale\":{\"diverging\":[[0,\"#8e0152\"],[0.1,\"#c51b7d\"],[0.2,\"#de77ae\"],[0.3,\"#f1b6da\"],[0.4,\"#fde0ef\"],[0.5,\"#f7f7f7\"],[0.6,\"#e6f5d0\"],[0.7,\"#b8e186\"],[0.8,\"#7fbc41\"],[0.9,\"#4d9221\"],[1,\"#276419\"]],\"sequential\":[[0.0,\"#0d0887\"],[0.1111111111111111,\"#46039f\"],[0.2222222222222222,\"#7201a8\"],[0.3333333333333333,\"#9c179e\"],[0.4444444444444444,\"#bd3786\"],[0.5555555555555556,\"#d8576b\"],[0.6666666666666666,\"#ed7953\"],[0.7777777777777778,\"#fb9f3a\"],[0.8888888888888888,\"#fdca26\"],[1.0,\"#f0f921\"]],\"sequentialminus\":[[0.0,\"#0d0887\"],[0.1111111111111111,\"#46039f\"],[0.2222222222222222,\"#7201a8\"],[0.3333333333333333,\"#9c179e\"],[0.4444444444444444,\"#bd3786\"],[0.5555555555555556,\"#d8576b\"],[0.6666666666666666,\"#ed7953\"],[0.7777777777777778,\"#fb9f3a\"],[0.8888888888888888,\"#fdca26\"],[1.0,\"#f0f921\"]]},\"colorway\":[\"#636efa\",\"#EF553B\",\"#00cc96\",\"#ab63fa\",\"#FFA15A\",\"#19d3f3\",\"#FF6692\",\"#B6E880\",\"#FF97FF\",\"#FECB52\"],\"font\":{\"color\":\"#2a3f5f\"},\"geo\":{\"bgcolor\":\"white\",\"lakecolor\":\"white\",\"landcolor\":\"#E5ECF6\",\"showlakes\":true,\"showland\":true,\"subunitcolor\":\"white\"},\"hoverlabel\":{\"align\":\"left\"},\"hovermode\":\"closest\",\"mapbox\":{\"style\":\"light\"},\"paper_bgcolor\":\"white\",\"plot_bgcolor\":\"#E5ECF6\",\"polar\":{\"angularaxis\":{\"gridcolor\":\"white\",\"linecolor\":\"white\",\"ticks\":\"\"},\"bgcolor\":\"#E5ECF6\",\"radialaxis\":{\"gridcolor\":\"white\",\"linecolor\":\"white\",\"ticks\":\"\"}},\"scene\":{\"xaxis\":{\"backgroundcolor\":\"#E5ECF6\",\"gridcolor\":\"white\",\"gridwidth\":2,\"linecolor\":\"white\",\"showbackground\":true,\"ticks\":\"\",\"zerolinecolor\":\"white\"},\"yaxis\":{\"backgroundcolor\":\"#E5ECF6\",\"gridcolor\":\"white\",\"gridwidth\":2,\"linecolor\":\"white\",\"showbackground\":true,\"ticks\":\"\",\"zerolinecolor\":\"white\"},\"zaxis\":{\"backgroundcolor\":\"#E5ECF6\",\"gridcolor\":\"white\",\"gridwidth\":2,\"linecolor\":\"white\",\"showbackground\":true,\"ticks\":\"\",\"zerolinecolor\":\"white\"}},\"shapedefaults\":{\"line\":{\"color\":\"#2a3f5f\"}},\"ternary\":{\"aaxis\":{\"gridcolor\":\"white\",\"linecolor\":\"white\",\"ticks\":\"\"},\"baxis\":{\"gridcolor\":\"white\",\"linecolor\":\"white\",\"ticks\":\"\"},\"bgcolor\":\"#E5ECF6\",\"caxis\":{\"gridcolor\":\"white\",\"linecolor\":\"white\",\"ticks\":\"\"}},\"title\":{\"x\":0.05},\"xaxis\":{\"automargin\":true,\"gridcolor\":\"white\",\"linecolor\":\"white\",\"ticks\":\"\",\"title\":{\"standoff\":15},\"zerolinecolor\":\"white\",\"zerolinewidth\":2},\"yaxis\":{\"automargin\":true,\"gridcolor\":\"white\",\"linecolor\":\"white\",\"ticks\":\"\",\"title\":{\"standoff\":15},\"zerolinecolor\":\"white\",\"zerolinewidth\":2}}},\"title\":{\"text\":\"City of Santa Clarita Transit Ridership\"},\"width\":1000,\"xaxis\":{\"anchor\":\"y\",\"domain\":[0.0,1.0],\"tickangle\":-60,\"title\":{\"text\":\"Date\"}},\"yaxis\":{\"anchor\":\"x\",\"domain\":[0.0,1.0],\"nticks\":15,\"tickformat\":\",\",\"title\":{\"text\":\"Number of Riders\"}}},                        {\"responsive\": true}                    ).then(function(){\n",
       "                            \n",
       "var gd = document.getElementById('a4e11fd6-996c-4aed-93ab-ed32b0b523d4');\n",
       "var x = new MutationObserver(function (mutations, observer) {{\n",
       "        var display = window.getComputedStyle(gd).display;\n",
       "        if (!display || display === 'none') {{\n",
       "            console.log([gd, 'removed!']);\n",
       "            Plotly.purge(gd);\n",
       "            observer.disconnect();\n",
       "        }}\n",
       "}});\n",
       "\n",
       "// Listen for the removal of the full notebook cells\n",
       "var notebookContainer = gd.closest('#notebook-container');\n",
       "if (notebookContainer) {{\n",
       "    x.observe(notebookContainer, {childList: true});\n",
       "}}\n",
       "\n",
       "// Listen for the clearing of the current output cell\n",
       "var outputEl = gd.closest('.output');\n",
       "if (outputEl) {{\n",
       "    x.observe(outputEl, {childList: true});\n",
       "}}\n",
       "\n",
       "                        })                };                });            </script>        </div>"
      ]
     },
     "metadata": {},
     "output_type": "display_data"
    }
   ],
   "source": [
    "fig3 = px.line(sct, \n",
    "              labels={\n",
    "                     \"value\": \"Number of Riders\",\n",
    "                     \"date\": \"Date\",\n",
    "                  \"variable\" : \"Bus Lines\"}, \n",
    "              title=\"City of Santa Clarita Transit Ridership\", \n",
    "              x=\"date\", \n",
    "              y=[\"line 792\", \"line 797\"], line_shape=\"spline\",\n",
    "              color_discrete_sequence=px.colors.qualitative.Pastel,\n",
    "              width=1000, height=450)\n",
    "\n",
    "#fig3.update(layout={\"title\": {\"x\": 0.3, \"y\": 0.8}})\n",
    "fig3.update_xaxes(tickangle=300)\n",
    "#fig3.add_vline(x=12, line_dash=\"dot\", annotation_text=\"First COVID-19 Case in LA\")\n",
    "fig3.add_vline(x=12, line_dash=\"dot\", annotation_text=\"First COVID-19 Case in LA\", annotation_position=\"top left\")\n",
    "fig3.add_vline(x=14, line_dash=\"dot\", annotation_text=\"CA Stay at Home Order Issued\", annotation_position=\"top right\")\n",
    "#fig.add_vline(x=\"Jan-2020\", line_dash=\"dash\", annotation_text=\"First Case of COVID-19 in USA\", annotation_position=\"top right\")\n",
    "\n",
    "fig3.update_yaxes(nticks=15)\n",
    "fig3.update_layout(yaxis_tickformat = ',')\n",
    "#fig.update_yaxes(tickvals=[\"0\", \"2,000\", \"4,000\", \"6,000\", \"8,000\", \"10,000\", \"12,000\", \"14,000\", \"16,000\", \"18,000\", \"20,000\"])\n",
    "#fig.update_layout(hovermode=\"x\")\n",
    "\n",
    "config = {'responsive': True}\n",
    "\n",
    "fig3.show(config=config)"
   ]
  },
  {
   "cell_type": "code",
   "execution_count": 35,
   "id": "5262f2b7-41a7-4045-a301-eb446d38f900",
   "metadata": {},
   "outputs": [],
   "source": [
    "write_html(fig3, \"sct-ridership.html\")"
   ]
  },
  {
   "cell_type": "code",
   "execution_count": 36,
   "id": "49bab8d6-52f5-4f94-a8c2-be70a013c1e4",
   "metadata": {},
   "outputs": [
    {
     "data": {
      "text/html": [
       "<div>\n",
       "<style scoped>\n",
       "    .dataframe tbody tr th:only-of-type {\n",
       "        vertical-align: middle;\n",
       "    }\n",
       "\n",
       "    .dataframe tbody tr th {\n",
       "        vertical-align: top;\n",
       "    }\n",
       "\n",
       "    .dataframe thead th {\n",
       "        text-align: right;\n",
       "    }\n",
       "</style>\n",
       "<table border=\"1\" class=\"dataframe\">\n",
       "  <thead>\n",
       "    <tr style=\"text-align: right;\">\n",
       "      <th></th>\n",
       "      <th>date</th>\n",
       "      <th>LADOT</th>\n",
       "      <th>AVTA</th>\n",
       "      <th>Santa Clarita Transit</th>\n",
       "    </tr>\n",
       "  </thead>\n",
       "  <tbody>\n",
       "    <tr>\n",
       "      <th>0</th>\n",
       "      <td>Jan. 19</td>\n",
       "      <td>23025.0</td>\n",
       "      <td>3600</td>\n",
       "      <td>7188</td>\n",
       "    </tr>\n",
       "    <tr>\n",
       "      <th>1</th>\n",
       "      <td>Feb. 19</td>\n",
       "      <td>22187.0</td>\n",
       "      <td>2930</td>\n",
       "      <td>7245</td>\n",
       "    </tr>\n",
       "    <tr>\n",
       "      <th>2</th>\n",
       "      <td>Mar. 19</td>\n",
       "      <td>23928.0</td>\n",
       "      <td>3289</td>\n",
       "      <td>7096</td>\n",
       "    </tr>\n",
       "    <tr>\n",
       "      <th>3</th>\n",
       "      <td>Apr. 19</td>\n",
       "      <td>24341.0</td>\n",
       "      <td>4070</td>\n",
       "      <td>7499</td>\n",
       "    </tr>\n",
       "    <tr>\n",
       "      <th>4</th>\n",
       "      <td>May. 19</td>\n",
       "      <td>25394.0</td>\n",
       "      <td>4206</td>\n",
       "      <td>7327</td>\n",
       "    </tr>\n",
       "  </tbody>\n",
       "</table>\n",
       "</div>"
      ],
      "text/plain": [
       "      date    LADOT  AVTA  Santa Clarita Transit\n",
       "0  Jan. 19  23025.0  3600                   7188\n",
       "1  Feb. 19  22187.0  2930                   7245\n",
       "2  Mar. 19  23928.0  3289                   7096\n",
       "3  Apr. 19  24341.0  4070                   7499\n",
       "4  May. 19  25394.0  4206                   7327"
      ]
     },
     "execution_count": 36,
     "metadata": {},
     "output_type": "execute_result"
    }
   ],
   "source": [
    "transports[\"Santa Clarita Transit\"] = all_sct_riders\n",
    "transports.head()"
   ]
  },
  {
   "cell_type": "markdown",
   "id": "51e44a31-6943-4a71-9c98-7847729acf2b",
   "metadata": {},
   "source": [
    "### Santa Monica Big Blue Bus Ridership"
   ]
  },
  {
   "cell_type": "code",
   "execution_count": 37,
   "id": "f8eaa62e-ead8-4e7f-a7cd-b22bb3ca484d",
   "metadata": {},
   "outputs": [],
   "source": [
    "bbb = pd.read_csv(\"bbb-ridership.csv\")"
   ]
  },
  {
   "cell_type": "code",
   "execution_count": 38,
   "id": "624949e2-7793-47ec-972f-a5043973f5a6",
   "metadata": {},
   "outputs": [],
   "source": [
    "# Route_Number #1\n",
    "route1 = bbb[bbb[\"ROUTE_NUMBER\"] == 1]\n",
    "route2 = bbb[bbb[\"ROUTE_NUMBER\"] == 2]\n",
    "route3 = bbb[bbb[\"ROUTE_NUMBER\"] == 3]\n",
    "route8 = bbb[bbb[\"ROUTE_NUMBER\"] == 8]\n",
    "route12 = bbb[bbb[\"ROUTE_NUMBER\"] == 12]"
   ]
  },
  {
   "cell_type": "code",
   "execution_count": 39,
   "id": "31e14faf-0509-4750-b94d-1b179389ea8a",
   "metadata": {},
   "outputs": [],
   "source": [
    "bbbdates = route1[\"SCHEDULE\"].unique()"
   ]
  },
  {
   "cell_type": "code",
   "execution_count": 40,
   "id": "9175a8c4-f782-472f-b4e3-8b772a26f6aa",
   "metadata": {},
   "outputs": [
    {
     "data": {
      "text/plain": [
       "array(['Sep-18', 'Mar-19', 'Jun-19', 'Aug-19', 'Feb-20', 'May-20',\n",
       "       'Sep-20', 'Apr-21', 'Aug-21'], dtype=object)"
      ]
     },
     "execution_count": 40,
     "metadata": {},
     "output_type": "execute_result"
    }
   ],
   "source": [
    "bbbdates"
   ]
  },
  {
   "cell_type": "code",
   "execution_count": 41,
   "id": "49c45d33-a3ce-4d81-b028-bac4695086fc",
   "metadata": {},
   "outputs": [],
   "source": [
    "# 9 x 3 array of number of saturdays, sundays\n",
    "# and weekdays in the following months\n",
    "wdays = np.zeros(9*3).reshape(9, 3)\n",
    "\n",
    "# September 2018\n",
    "# 0 - Sat; 1 - Sun; 2 - Weekday\n",
    "wdays[0][0] = 5\n",
    "wdays[0][1] = 5\n",
    "wdays[0][2] = 20\n",
    "\n",
    "# March 2019\n",
    "wdays[1][0] = 5\n",
    "wdays[1][1] = 5\n",
    "wdays[1][2] = 21\n",
    "\n",
    "# June 2019\n",
    "wdays[2][0] = 5\n",
    "wdays[2][1] = 5\n",
    "wdays[2][2] = 20\n",
    "\n",
    "# August 2019\n",
    "wdays[3][0] = 5\n",
    "wdays[3][1] = 4\n",
    "wdays[3][2] = 22\n",
    "\n",
    "# February 2020\n",
    "wdays[4][0] = 5\n",
    "wdays[4][1] = 4\n",
    "wdays[4][2] = 20\n",
    "\n",
    "# May 2020\n",
    "wdays[5][0] = 5\n",
    "wdays[5][1] = 5\n",
    "wdays[5][2] = 21\n",
    "\n",
    "# September 2020\n",
    "wdays[6][0] = 4\n",
    "wdays[6][1] = 4\n",
    "wdays[6][2] = 22\n",
    "\n",
    "# April 2021\n",
    "wdays[7][0] = 4\n",
    "wdays[7][1] = 4\n",
    "wdays[7][2] = 22\n",
    "\n",
    "# August 2021\n",
    "wdays[8][0] = 4\n",
    "wdays[8][1] = 5\n",
    "wdays[8][2] = 22"
   ]
  },
  {
   "cell_type": "code",
   "execution_count": 42,
   "id": "a44e0f2d-f3f5-49c2-8d3b-b03c885d1769",
   "metadata": {},
   "outputs": [],
   "source": [
    "line1 = pd.DataFrame()\n",
    "riders = np.array([])\n",
    "\n",
    "count = 0\n",
    "for date in bbbdates:\n",
    "    num_riders = 0\n",
    "    temp = route1[route1[\"SCHEDULE\"] == date].groupby(\"SERVICE_DAY\").sum().reset_index()\n",
    "    \n",
    "    for i in range(len(temp)):\n",
    "        if temp.iloc[i][0] == \"Saturday\":\n",
    "            num_riders += (temp.iloc[i][5]*wdays[count][0])\n",
    "        elif temp.iloc[i][0] == \"Sunday\":\n",
    "            num_riders += (temp.iloc[i][5]*wdays[count][1])\n",
    "        elif temp.iloc[i][0] == \"Weekday\":\n",
    "            num_riders += (temp.iloc[i][5]*wdays[count][2])\n",
    "            \n",
    "    count += 1\n",
    "            \n",
    "    riders = np.append(riders, num_riders)\n",
    "    \n",
    "line1[\"date\"] = bbbdates\n",
    "line1[\"total_ridership\"] = riders"
   ]
  },
  {
   "cell_type": "code",
   "execution_count": 43,
   "id": "cb3e4bf1-c999-41ea-bea1-f651fcff1e08",
   "metadata": {},
   "outputs": [
    {
     "data": {
      "text/html": [
       "<div>\n",
       "<style scoped>\n",
       "    .dataframe tbody tr th:only-of-type {\n",
       "        vertical-align: middle;\n",
       "    }\n",
       "\n",
       "    .dataframe tbody tr th {\n",
       "        vertical-align: top;\n",
       "    }\n",
       "\n",
       "    .dataframe thead th {\n",
       "        text-align: right;\n",
       "    }\n",
       "</style>\n",
       "<table border=\"1\" class=\"dataframe\">\n",
       "  <thead>\n",
       "    <tr style=\"text-align: right;\">\n",
       "      <th></th>\n",
       "      <th>date</th>\n",
       "      <th>total_ridership</th>\n",
       "    </tr>\n",
       "  </thead>\n",
       "  <tbody>\n",
       "    <tr>\n",
       "      <th>0</th>\n",
       "      <td>Sep-18</td>\n",
       "      <td>147960.00</td>\n",
       "    </tr>\n",
       "    <tr>\n",
       "      <th>1</th>\n",
       "      <td>Mar-19</td>\n",
       "      <td>162032.48</td>\n",
       "    </tr>\n",
       "    <tr>\n",
       "      <th>2</th>\n",
       "      <td>Jun-19</td>\n",
       "      <td>155850.80</td>\n",
       "    </tr>\n",
       "    <tr>\n",
       "      <th>3</th>\n",
       "      <td>Aug-19</td>\n",
       "      <td>170529.38</td>\n",
       "    </tr>\n",
       "    <tr>\n",
       "      <th>4</th>\n",
       "      <td>Feb-20</td>\n",
       "      <td>89532.04</td>\n",
       "    </tr>\n",
       "    <tr>\n",
       "      <th>5</th>\n",
       "      <td>May-20</td>\n",
       "      <td>83058.04</td>\n",
       "    </tr>\n",
       "    <tr>\n",
       "      <th>6</th>\n",
       "      <td>Sep-20</td>\n",
       "      <td>78334.30</td>\n",
       "    </tr>\n",
       "    <tr>\n",
       "      <th>7</th>\n",
       "      <td>Apr-21</td>\n",
       "      <td>80709.32</td>\n",
       "    </tr>\n",
       "    <tr>\n",
       "      <th>8</th>\n",
       "      <td>Aug-21</td>\n",
       "      <td>97520.48</td>\n",
       "    </tr>\n",
       "  </tbody>\n",
       "</table>\n",
       "</div>"
      ],
      "text/plain": [
       "     date  total_ridership\n",
       "0  Sep-18        147960.00\n",
       "1  Mar-19        162032.48\n",
       "2  Jun-19        155850.80\n",
       "3  Aug-19        170529.38\n",
       "4  Feb-20         89532.04\n",
       "5  May-20         83058.04\n",
       "6  Sep-20         78334.30\n",
       "7  Apr-21         80709.32\n",
       "8  Aug-21         97520.48"
      ]
     },
     "execution_count": 43,
     "metadata": {},
     "output_type": "execute_result"
    }
   ],
   "source": [
    "line1"
   ]
  },
  {
   "cell_type": "code",
   "execution_count": 44,
   "id": "ede19f6e-4f22-4c78-81ac-8ff4f83fa179",
   "metadata": {},
   "outputs": [],
   "source": [
    "dates = [\"Jan-19\", \"Feb-19\", \"Mar-19\", \"Apr-19\", \"May-19\", \"Jun-19\", \"Jul-19\", \"Aug-19\", \"Sep-19\", \"Oct-19\", \"Nov-19\", \"Dec-19\",\n",
    "        \"Jan-20\", \"Feb-20\", \"Mar-20\", \"Apr-20\", \"May-20\", \"Jun-20\", \"Jul-20\", \"Aug-20\", \"Sep-20\", \"Oct-20\", \"Nov-20\", \"Dec-20\",\n",
    "        \"Jan-21\", \"Feb-21\", \"Mar-21\", \"Apr-21\", \"May-21\", \"Jun-21\", \"Jul-21\", \"Aug-21\", \"Sep-21\", \"Oct-21\"]"
   ]
  },
  {
   "cell_type": "code",
   "execution_count": 45,
   "id": "abfefe15-e55d-4666-a0ac-470041211e83",
   "metadata": {},
   "outputs": [],
   "source": [
    "l1 = np.zeros(len(dates))\n",
    "\n",
    "for d in range(len(dates)): \n",
    "    for idx in range(9):\n",
    "    \n",
    "        if line1[\"date\"][idx] == dates[d]:\n",
    "            l1[d] = line1[\"total_ridership\"][idx]"
   ]
  },
  {
   "cell_type": "code",
   "execution_count": 46,
   "id": "d5f07953-f390-4923-92ba-d79f911e40a3",
   "metadata": {},
   "outputs": [
    {
     "data": {
      "text/plain": [
       "array([     0.  ,      0.  , 162032.48,      0.  ,      0.  , 155850.8 ,\n",
       "            0.  , 170529.38,      0.  ,      0.  ,      0.  ,      0.  ,\n",
       "            0.  ,  89532.04,      0.  ,      0.  ,  83058.04,      0.  ,\n",
       "            0.  ,      0.  ,  78334.3 ,      0.  ,      0.  ,      0.  ,\n",
       "            0.  ,      0.  ,      0.  ,  80709.32,      0.  ,      0.  ,\n",
       "            0.  ,  97520.48,      0.  ,      0.  ])"
      ]
     },
     "execution_count": 46,
     "metadata": {},
     "output_type": "execute_result"
    }
   ],
   "source": [
    "l1"
   ]
  },
  {
   "cell_type": "code",
   "execution_count": 47,
   "id": "2cf1120a-26ea-4710-9954-f7b335afda1f",
   "metadata": {},
   "outputs": [
    {
     "data": {
      "text/plain": [
       "array([      nan,       nan, 162032.48,       nan,       nan, 155850.8 ,\n",
       "             nan, 170529.38,       nan,       nan,       nan,       nan,\n",
       "             nan,  89532.04,       nan,       nan,  83058.04,       nan,\n",
       "             nan,       nan,  78334.3 ,       nan,       nan,       nan,\n",
       "             nan,       nan,       nan,  80709.32,       nan,       nan,\n",
       "             nan,  97520.48,       nan,       nan])"
      ]
     },
     "execution_count": 47,
     "metadata": {},
     "output_type": "execute_result"
    }
   ],
   "source": [
    "for i, n in enumerate(l1):\n",
    "    if n == 0:\n",
    "        l1[i] = np.NaN\n",
    "        \n",
    "l1"
   ]
  },
  {
   "cell_type": "code",
   "execution_count": 48,
   "id": "4aac994c-2e24-43e2-803b-5f153de22a25",
   "metadata": {},
   "outputs": [],
   "source": [
    "smbbb = pd.DataFrame()\n",
    "smbbb[\"date\"] = dates\n",
    "smbbb[\"line 1\"] = l1"
   ]
  },
  {
   "cell_type": "code",
   "execution_count": 49,
   "id": "ac1948b4-958b-4b51-a95e-149983dc19f8",
   "metadata": {},
   "outputs": [],
   "source": [
    "line2 = pd.DataFrame()\n",
    "riders = np.array([])\n",
    "\n",
    "count = 0\n",
    "for date in bbbdates:\n",
    "    num_riders = 0\n",
    "    temp = route2[route2[\"SCHEDULE\"] == date].groupby(\"SERVICE_DAY\").sum().reset_index()\n",
    "    \n",
    "    for i in range(len(temp)):\n",
    "        if temp.iloc[i][0] == \"Saturday\":\n",
    "            num_riders += (temp.iloc[i][5]*wdays[count][0])\n",
    "        elif temp.iloc[i][0] == \"Sunday\":\n",
    "            num_riders += (temp.iloc[i][5]*wdays[count][1])\n",
    "        elif temp.iloc[i][0] == \"Weekday\":\n",
    "            num_riders += (temp.iloc[i][5]*wdays[count][2])\n",
    "            \n",
    "    count += 1\n",
    "    riders = np.append(riders, num_riders)\n",
    "    \n",
    "line2[\"date\"] = bbbdates\n",
    "line2[\"total_ridership\"] = riders"
   ]
  },
  {
   "cell_type": "code",
   "execution_count": 50,
   "id": "94687cfd-106c-4219-a23e-a4c8c3f5b1a8",
   "metadata": {},
   "outputs": [
    {
     "data": {
      "text/html": [
       "<div>\n",
       "<style scoped>\n",
       "    .dataframe tbody tr th:only-of-type {\n",
       "        vertical-align: middle;\n",
       "    }\n",
       "\n",
       "    .dataframe tbody tr th {\n",
       "        vertical-align: top;\n",
       "    }\n",
       "\n",
       "    .dataframe thead th {\n",
       "        text-align: right;\n",
       "    }\n",
       "</style>\n",
       "<table border=\"1\" class=\"dataframe\">\n",
       "  <thead>\n",
       "    <tr style=\"text-align: right;\">\n",
       "      <th></th>\n",
       "      <th>date</th>\n",
       "      <th>total_ridership</th>\n",
       "    </tr>\n",
       "  </thead>\n",
       "  <tbody>\n",
       "    <tr>\n",
       "      <th>0</th>\n",
       "      <td>Sep-18</td>\n",
       "      <td>54650.40</td>\n",
       "    </tr>\n",
       "    <tr>\n",
       "      <th>1</th>\n",
       "      <td>Mar-19</td>\n",
       "      <td>61232.36</td>\n",
       "    </tr>\n",
       "    <tr>\n",
       "      <th>2</th>\n",
       "      <td>Jun-19</td>\n",
       "      <td>59540.80</td>\n",
       "    </tr>\n",
       "    <tr>\n",
       "      <th>3</th>\n",
       "      <td>Aug-19</td>\n",
       "      <td>68878.47</td>\n",
       "    </tr>\n",
       "    <tr>\n",
       "      <th>4</th>\n",
       "      <td>Feb-20</td>\n",
       "      <td>37628.45</td>\n",
       "    </tr>\n",
       "    <tr>\n",
       "      <th>5</th>\n",
       "      <td>May-20</td>\n",
       "      <td>21394.04</td>\n",
       "    </tr>\n",
       "    <tr>\n",
       "      <th>6</th>\n",
       "      <td>Sep-20</td>\n",
       "      <td>19845.00</td>\n",
       "    </tr>\n",
       "    <tr>\n",
       "      <th>7</th>\n",
       "      <td>Apr-21</td>\n",
       "      <td>22018.04</td>\n",
       "    </tr>\n",
       "    <tr>\n",
       "      <th>8</th>\n",
       "      <td>Aug-21</td>\n",
       "      <td>28294.59</td>\n",
       "    </tr>\n",
       "  </tbody>\n",
       "</table>\n",
       "</div>"
      ],
      "text/plain": [
       "     date  total_ridership\n",
       "0  Sep-18         54650.40\n",
       "1  Mar-19         61232.36\n",
       "2  Jun-19         59540.80\n",
       "3  Aug-19         68878.47\n",
       "4  Feb-20         37628.45\n",
       "5  May-20         21394.04\n",
       "6  Sep-20         19845.00\n",
       "7  Apr-21         22018.04\n",
       "8  Aug-21         28294.59"
      ]
     },
     "execution_count": 50,
     "metadata": {},
     "output_type": "execute_result"
    }
   ],
   "source": [
    "line2"
   ]
  },
  {
   "cell_type": "code",
   "execution_count": 51,
   "id": "1c3dfb7d-6c42-40e7-bfbe-4348318c445d",
   "metadata": {},
   "outputs": [],
   "source": [
    "l2 = np.zeros(len(dates))\n",
    "\n",
    "for d in range(len(dates)): \n",
    "    for idx in range(9):\n",
    "    \n",
    "        if line2[\"date\"][idx] == dates[d]:\n",
    "            l2[d] = line2[\"total_ridership\"][idx]\n",
    "            \n",
    "for i, n in enumerate(l2):\n",
    "    if n == 0:\n",
    "        l2[i] = np.NaN"
   ]
  },
  {
   "cell_type": "code",
   "execution_count": 52,
   "id": "47a86d13-964d-45fb-96d7-e62f57b5951c",
   "metadata": {},
   "outputs": [
    {
     "data": {
      "text/plain": [
       "array([     nan,      nan, 61232.36,      nan,      nan, 59540.8 ,\n",
       "            nan, 68878.47,      nan,      nan,      nan,      nan,\n",
       "            nan, 37628.45,      nan,      nan, 21394.04,      nan,\n",
       "            nan,      nan, 19845.  ,      nan,      nan,      nan,\n",
       "            nan,      nan,      nan, 22018.04,      nan,      nan,\n",
       "            nan, 28294.59,      nan,      nan])"
      ]
     },
     "execution_count": 52,
     "metadata": {},
     "output_type": "execute_result"
    }
   ],
   "source": [
    "l2"
   ]
  },
  {
   "cell_type": "code",
   "execution_count": 53,
   "id": "4fb282f3-697d-4d25-860f-1dc7a3719cd4",
   "metadata": {},
   "outputs": [],
   "source": [
    "smbbb[\"line 2\"] = l2"
   ]
  },
  {
   "cell_type": "code",
   "execution_count": 54,
   "id": "88fe6979-ce21-49af-8155-b658079ce8d8",
   "metadata": {},
   "outputs": [],
   "source": [
    "line3 = pd.DataFrame()\n",
    "riders = np.array([])\n",
    "\n",
    "count = 0\n",
    "for date in bbbdates:\n",
    "    num_riders = 0\n",
    "    temp = route3[route3[\"SCHEDULE\"] == date].groupby(\"SERVICE_DAY\").sum().reset_index()\n",
    "    \n",
    "    for i in range(len(temp)):\n",
    "        if temp.iloc[i][0] == \"Saturday\":\n",
    "            num_riders += (temp.iloc[i][5]*wdays[count][0])\n",
    "        elif temp.iloc[i][0] == \"Sunday\":\n",
    "            num_riders += (temp.iloc[i][5]*wdays[count][1])\n",
    "        elif temp.iloc[i][0] == \"Weekday\":\n",
    "            num_riders += (temp.iloc[i][5]*wdays[count][2])\n",
    "            \n",
    "    count += 1\n",
    "    riders = np.append(riders, num_riders)\n",
    "    \n",
    "line3[\"date\"] = bbbdates\n",
    "line3[\"total_ridership\"] = riders"
   ]
  },
  {
   "cell_type": "code",
   "execution_count": 55,
   "id": "b5ef5e19-e075-4b48-a99e-dfdbc840da87",
   "metadata": {},
   "outputs": [
    {
     "data": {
      "text/html": [
       "<div>\n",
       "<style scoped>\n",
       "    .dataframe tbody tr th:only-of-type {\n",
       "        vertical-align: middle;\n",
       "    }\n",
       "\n",
       "    .dataframe tbody tr th {\n",
       "        vertical-align: top;\n",
       "    }\n",
       "\n",
       "    .dataframe thead th {\n",
       "        text-align: right;\n",
       "    }\n",
       "</style>\n",
       "<table border=\"1\" class=\"dataframe\">\n",
       "  <thead>\n",
       "    <tr style=\"text-align: right;\">\n",
       "      <th></th>\n",
       "      <th>date</th>\n",
       "      <th>total_ridership</th>\n",
       "    </tr>\n",
       "  </thead>\n",
       "  <tbody>\n",
       "    <tr>\n",
       "      <th>0</th>\n",
       "      <td>Sep-18</td>\n",
       "      <td>73754.50</td>\n",
       "    </tr>\n",
       "    <tr>\n",
       "      <th>1</th>\n",
       "      <td>Mar-19</td>\n",
       "      <td>125329.44</td>\n",
       "    </tr>\n",
       "    <tr>\n",
       "      <th>2</th>\n",
       "      <td>Jun-19</td>\n",
       "      <td>124929.80</td>\n",
       "    </tr>\n",
       "    <tr>\n",
       "      <th>3</th>\n",
       "      <td>Aug-19</td>\n",
       "      <td>128088.05</td>\n",
       "    </tr>\n",
       "    <tr>\n",
       "      <th>4</th>\n",
       "      <td>Feb-20</td>\n",
       "      <td>77153.62</td>\n",
       "    </tr>\n",
       "    <tr>\n",
       "      <th>5</th>\n",
       "      <td>May-20</td>\n",
       "      <td>88957.22</td>\n",
       "    </tr>\n",
       "    <tr>\n",
       "      <th>6</th>\n",
       "      <td>Sep-20</td>\n",
       "      <td>83162.76</td>\n",
       "    </tr>\n",
       "    <tr>\n",
       "      <th>7</th>\n",
       "      <td>Apr-21</td>\n",
       "      <td>87708.18</td>\n",
       "    </tr>\n",
       "    <tr>\n",
       "      <th>8</th>\n",
       "      <td>Aug-21</td>\n",
       "      <td>76146.71</td>\n",
       "    </tr>\n",
       "  </tbody>\n",
       "</table>\n",
       "</div>"
      ],
      "text/plain": [
       "     date  total_ridership\n",
       "0  Sep-18         73754.50\n",
       "1  Mar-19        125329.44\n",
       "2  Jun-19        124929.80\n",
       "3  Aug-19        128088.05\n",
       "4  Feb-20         77153.62\n",
       "5  May-20         88957.22\n",
       "6  Sep-20         83162.76\n",
       "7  Apr-21         87708.18\n",
       "8  Aug-21         76146.71"
      ]
     },
     "execution_count": 55,
     "metadata": {},
     "output_type": "execute_result"
    }
   ],
   "source": [
    "line3"
   ]
  },
  {
   "cell_type": "code",
   "execution_count": 56,
   "id": "6ca94fb1-9bae-435c-bd61-bdbfa7a01ed7",
   "metadata": {},
   "outputs": [],
   "source": [
    "l3 = np.zeros(len(dates))\n",
    "\n",
    "for d in range(len(dates)): \n",
    "    for idx in range(9):\n",
    "    \n",
    "        if line3[\"date\"][idx] == dates[d]:\n",
    "            l3[d] = line3[\"total_ridership\"][idx]\n",
    "            \n",
    "for i, n in enumerate(l3):\n",
    "    if n == 0:\n",
    "        l3[i] = np.NaN"
   ]
  },
  {
   "cell_type": "code",
   "execution_count": 57,
   "id": "ebef8f2a-97f4-48e3-bd56-dc53d09822d9",
   "metadata": {},
   "outputs": [
    {
     "data": {
      "text/plain": [
       "array([      nan,       nan, 125329.44,       nan,       nan, 124929.8 ,\n",
       "             nan, 128088.05,       nan,       nan,       nan,       nan,\n",
       "             nan,  77153.62,       nan,       nan,  88957.22,       nan,\n",
       "             nan,       nan,  83162.76,       nan,       nan,       nan,\n",
       "             nan,       nan,       nan,  87708.18,       nan,       nan,\n",
       "             nan,  76146.71,       nan,       nan])"
      ]
     },
     "execution_count": 57,
     "metadata": {},
     "output_type": "execute_result"
    }
   ],
   "source": [
    "l3"
   ]
  },
  {
   "cell_type": "code",
   "execution_count": 58,
   "id": "d26198db-f9ff-4b42-989f-39be16d1a4ce",
   "metadata": {},
   "outputs": [],
   "source": [
    "smbbb[\"line 3\"] = l3"
   ]
  },
  {
   "cell_type": "code",
   "execution_count": 59,
   "id": "f0c69b08-b20d-4586-9383-97b4a510b6a7",
   "metadata": {},
   "outputs": [
    {
     "data": {
      "text/html": [
       "<div>\n",
       "<style scoped>\n",
       "    .dataframe tbody tr th:only-of-type {\n",
       "        vertical-align: middle;\n",
       "    }\n",
       "\n",
       "    .dataframe tbody tr th {\n",
       "        vertical-align: top;\n",
       "    }\n",
       "\n",
       "    .dataframe thead th {\n",
       "        text-align: right;\n",
       "    }\n",
       "</style>\n",
       "<table border=\"1\" class=\"dataframe\">\n",
       "  <thead>\n",
       "    <tr style=\"text-align: right;\">\n",
       "      <th></th>\n",
       "      <th>date</th>\n",
       "      <th>total_ridership</th>\n",
       "    </tr>\n",
       "  </thead>\n",
       "  <tbody>\n",
       "    <tr>\n",
       "      <th>0</th>\n",
       "      <td>Sep-18</td>\n",
       "      <td>68071.30</td>\n",
       "    </tr>\n",
       "    <tr>\n",
       "      <th>1</th>\n",
       "      <td>Mar-19</td>\n",
       "      <td>71810.30</td>\n",
       "    </tr>\n",
       "    <tr>\n",
       "      <th>2</th>\n",
       "      <td>Jun-19</td>\n",
       "      <td>63812.75</td>\n",
       "    </tr>\n",
       "    <tr>\n",
       "      <th>3</th>\n",
       "      <td>Aug-19</td>\n",
       "      <td>76999.88</td>\n",
       "    </tr>\n",
       "    <tr>\n",
       "      <th>4</th>\n",
       "      <td>Feb-20</td>\n",
       "      <td>36197.44</td>\n",
       "    </tr>\n",
       "    <tr>\n",
       "      <th>5</th>\n",
       "      <td>May-20</td>\n",
       "      <td>21302.99</td>\n",
       "    </tr>\n",
       "    <tr>\n",
       "      <th>6</th>\n",
       "      <td>Sep-20</td>\n",
       "      <td>19088.56</td>\n",
       "    </tr>\n",
       "    <tr>\n",
       "      <th>7</th>\n",
       "      <td>Apr-21</td>\n",
       "      <td>22156.80</td>\n",
       "    </tr>\n",
       "    <tr>\n",
       "      <th>8</th>\n",
       "      <td>Aug-21</td>\n",
       "      <td>30330.10</td>\n",
       "    </tr>\n",
       "  </tbody>\n",
       "</table>\n",
       "</div>"
      ],
      "text/plain": [
       "     date  total_ridership\n",
       "0  Sep-18         68071.30\n",
       "1  Mar-19         71810.30\n",
       "2  Jun-19         63812.75\n",
       "3  Aug-19         76999.88\n",
       "4  Feb-20         36197.44\n",
       "5  May-20         21302.99\n",
       "6  Sep-20         19088.56\n",
       "7  Apr-21         22156.80\n",
       "8  Aug-21         30330.10"
      ]
     },
     "execution_count": 59,
     "metadata": {},
     "output_type": "execute_result"
    }
   ],
   "source": [
    "line8 = pd.DataFrame()\n",
    "riders = np.array([])\n",
    "\n",
    "count = 0\n",
    "for date in bbbdates:\n",
    "    num_riders = 0\n",
    "    temp = route8[route8[\"SCHEDULE\"] == date].groupby(\"SERVICE_DAY\").sum().reset_index()\n",
    "    \n",
    "    for i in range(len(temp)):\n",
    "        if temp.iloc[i][0] == \"Saturday\":\n",
    "            num_riders += (temp.iloc[i][5]*wdays[count][0])\n",
    "        elif temp.iloc[i][0] == \"Sunday\":\n",
    "            num_riders += (temp.iloc[i][5]*wdays[count][1])\n",
    "        elif temp.iloc[i][0] == \"Weekday\":\n",
    "            num_riders += (temp.iloc[i][5]*wdays[count][2])\n",
    "            \n",
    "    count += 1\n",
    "    riders = np.append(riders, num_riders)\n",
    "    \n",
    "line8[\"date\"] = bbbdates\n",
    "line8[\"total_ridership\"] = riders\n",
    "\n",
    "line8"
   ]
  },
  {
   "cell_type": "code",
   "execution_count": 60,
   "id": "12c827d6-82bf-4525-b6f6-6254494e371f",
   "metadata": {},
   "outputs": [
    {
     "data": {
      "text/plain": [
       "array([     nan,      nan, 71810.3 ,      nan,      nan, 63812.75,\n",
       "            nan, 76999.88,      nan,      nan,      nan,      nan,\n",
       "            nan, 36197.44,      nan,      nan, 21302.99,      nan,\n",
       "            nan,      nan, 19088.56,      nan,      nan,      nan,\n",
       "            nan,      nan,      nan, 22156.8 ,      nan,      nan,\n",
       "            nan, 30330.1 ,      nan,      nan])"
      ]
     },
     "execution_count": 60,
     "metadata": {},
     "output_type": "execute_result"
    }
   ],
   "source": [
    "l8 = np.zeros(len(dates))\n",
    "\n",
    "for d in range(len(dates)): \n",
    "    for idx in range(9):\n",
    "    \n",
    "        if line8[\"date\"][idx] == dates[d]:\n",
    "            l8[d] = line8[\"total_ridership\"][idx]\n",
    "            \n",
    "for i, n in enumerate(l8):\n",
    "    if n == 0:\n",
    "        l8[i] = np.NaN\n",
    "        \n",
    "l8"
   ]
  },
  {
   "cell_type": "code",
   "execution_count": 61,
   "id": "11451148-4ab1-4db5-8f38-2e198d1aa98f",
   "metadata": {},
   "outputs": [],
   "source": [
    "smbbb[\"line 8\"] = l8"
   ]
  },
  {
   "cell_type": "code",
   "execution_count": 62,
   "id": "e3d2deb9-335d-4190-a78c-9328e0f4a463",
   "metadata": {},
   "outputs": [
    {
     "data": {
      "text/html": [
       "<div>\n",
       "<style scoped>\n",
       "    .dataframe tbody tr th:only-of-type {\n",
       "        vertical-align: middle;\n",
       "    }\n",
       "\n",
       "    .dataframe tbody tr th {\n",
       "        vertical-align: top;\n",
       "    }\n",
       "\n",
       "    .dataframe thead th {\n",
       "        text-align: right;\n",
       "    }\n",
       "</style>\n",
       "<table border=\"1\" class=\"dataframe\">\n",
       "  <thead>\n",
       "    <tr style=\"text-align: right;\">\n",
       "      <th></th>\n",
       "      <th>date</th>\n",
       "      <th>total_ridership</th>\n",
       "    </tr>\n",
       "  </thead>\n",
       "  <tbody>\n",
       "    <tr>\n",
       "      <th>0</th>\n",
       "      <td>Sep-18</td>\n",
       "      <td>87055.95</td>\n",
       "    </tr>\n",
       "    <tr>\n",
       "      <th>1</th>\n",
       "      <td>Mar-19</td>\n",
       "      <td>91375.96</td>\n",
       "    </tr>\n",
       "    <tr>\n",
       "      <th>2</th>\n",
       "      <td>Jun-19</td>\n",
       "      <td>77617.85</td>\n",
       "    </tr>\n",
       "    <tr>\n",
       "      <th>3</th>\n",
       "      <td>Aug-19</td>\n",
       "      <td>96524.95</td>\n",
       "    </tr>\n",
       "    <tr>\n",
       "      <th>4</th>\n",
       "      <td>Feb-20</td>\n",
       "      <td>51297.16</td>\n",
       "    </tr>\n",
       "    <tr>\n",
       "      <th>5</th>\n",
       "      <td>May-20</td>\n",
       "      <td>17248.74</td>\n",
       "    </tr>\n",
       "    <tr>\n",
       "      <th>6</th>\n",
       "      <td>Sep-20</td>\n",
       "      <td>24710.54</td>\n",
       "    </tr>\n",
       "    <tr>\n",
       "      <th>7</th>\n",
       "      <td>Apr-21</td>\n",
       "      <td>28278.42</td>\n",
       "    </tr>\n",
       "    <tr>\n",
       "      <th>8</th>\n",
       "      <td>Aug-21</td>\n",
       "      <td>45487.86</td>\n",
       "    </tr>\n",
       "  </tbody>\n",
       "</table>\n",
       "</div>"
      ],
      "text/plain": [
       "     date  total_ridership\n",
       "0  Sep-18         87055.95\n",
       "1  Mar-19         91375.96\n",
       "2  Jun-19         77617.85\n",
       "3  Aug-19         96524.95\n",
       "4  Feb-20         51297.16\n",
       "5  May-20         17248.74\n",
       "6  Sep-20         24710.54\n",
       "7  Apr-21         28278.42\n",
       "8  Aug-21         45487.86"
      ]
     },
     "execution_count": 62,
     "metadata": {},
     "output_type": "execute_result"
    }
   ],
   "source": [
    "line12 = pd.DataFrame()\n",
    "riders = np.array([])\n",
    "\n",
    "count = 0\n",
    "for date in bbbdates:\n",
    "    num_riders = 0\n",
    "    temp = route12[route12[\"SCHEDULE\"] == date].groupby(\"SERVICE_DAY\").sum().reset_index()\n",
    "    \n",
    "    for i in range(len(temp)):\n",
    "        if temp.iloc[i][0] == \"Saturday\":\n",
    "            num_riders += (temp.iloc[i][5]*wdays[count][0])\n",
    "        elif temp.iloc[i][0] == \"Sunday\":\n",
    "            num_riders += (temp.iloc[i][5]*wdays[count][1])\n",
    "        elif temp.iloc[i][0] == \"Weekday\":\n",
    "            num_riders += (temp.iloc[i][5]*wdays[count][2])\n",
    "            \n",
    "    count += 1\n",
    "    riders = np.append(riders, num_riders)\n",
    "    \n",
    "line12[\"date\"] = bbbdates\n",
    "line12[\"total_ridership\"] = riders\n",
    "\n",
    "line12"
   ]
  },
  {
   "cell_type": "code",
   "execution_count": 63,
   "id": "217d3d91-2aff-4d67-a8fa-0b240499caa1",
   "metadata": {},
   "outputs": [
    {
     "data": {
      "text/plain": [
       "array([     nan,      nan, 91375.96,      nan,      nan, 77617.85,\n",
       "            nan, 96524.95,      nan,      nan,      nan,      nan,\n",
       "            nan, 51297.16,      nan,      nan, 17248.74,      nan,\n",
       "            nan,      nan, 24710.54,      nan,      nan,      nan,\n",
       "            nan,      nan,      nan, 28278.42,      nan,      nan,\n",
       "            nan, 45487.86,      nan,      nan])"
      ]
     },
     "execution_count": 63,
     "metadata": {},
     "output_type": "execute_result"
    }
   ],
   "source": [
    "l12 = np.zeros(len(dates))\n",
    "\n",
    "for d in range(len(dates)): \n",
    "    for idx in range(9):\n",
    "    \n",
    "        if line12[\"date\"][idx] == dates[d]:\n",
    "            l12[d] = line12[\"total_ridership\"][idx]\n",
    "            \n",
    "for i, n in enumerate(l12):\n",
    "    if n == 0:\n",
    "        l12[i] = np.NaN\n",
    "        \n",
    "l12"
   ]
  },
  {
   "cell_type": "code",
   "execution_count": 64,
   "id": "6d632a86-46bd-4c8e-addd-eed660fada19",
   "metadata": {},
   "outputs": [],
   "source": [
    "smbbb[\"line 12\"] = l12"
   ]
  },
  {
   "cell_type": "code",
   "execution_count": 65,
   "id": "70f4bea2-5aa8-4f82-bc76-7e50ffabdc9d",
   "metadata": {},
   "outputs": [
    {
     "data": {
      "text/html": [
       "<div>\n",
       "<style scoped>\n",
       "    .dataframe tbody tr th:only-of-type {\n",
       "        vertical-align: middle;\n",
       "    }\n",
       "\n",
       "    .dataframe tbody tr th {\n",
       "        vertical-align: top;\n",
       "    }\n",
       "\n",
       "    .dataframe thead th {\n",
       "        text-align: right;\n",
       "    }\n",
       "</style>\n",
       "<table border=\"1\" class=\"dataframe\">\n",
       "  <thead>\n",
       "    <tr style=\"text-align: right;\">\n",
       "      <th></th>\n",
       "      <th>date</th>\n",
       "      <th>line 1</th>\n",
       "      <th>line 2</th>\n",
       "      <th>line 3</th>\n",
       "      <th>line 8</th>\n",
       "      <th>line 12</th>\n",
       "    </tr>\n",
       "  </thead>\n",
       "  <tbody>\n",
       "    <tr>\n",
       "      <th>0</th>\n",
       "      <td>Jan-19</td>\n",
       "      <td>NaN</td>\n",
       "      <td>NaN</td>\n",
       "      <td>NaN</td>\n",
       "      <td>NaN</td>\n",
       "      <td>NaN</td>\n",
       "    </tr>\n",
       "    <tr>\n",
       "      <th>1</th>\n",
       "      <td>Feb-19</td>\n",
       "      <td>NaN</td>\n",
       "      <td>NaN</td>\n",
       "      <td>NaN</td>\n",
       "      <td>NaN</td>\n",
       "      <td>NaN</td>\n",
       "    </tr>\n",
       "    <tr>\n",
       "      <th>2</th>\n",
       "      <td>Mar-19</td>\n",
       "      <td>162032.48</td>\n",
       "      <td>61232.36</td>\n",
       "      <td>125329.44</td>\n",
       "      <td>71810.3</td>\n",
       "      <td>91375.96</td>\n",
       "    </tr>\n",
       "    <tr>\n",
       "      <th>3</th>\n",
       "      <td>Apr-19</td>\n",
       "      <td>NaN</td>\n",
       "      <td>NaN</td>\n",
       "      <td>NaN</td>\n",
       "      <td>NaN</td>\n",
       "      <td>NaN</td>\n",
       "    </tr>\n",
       "    <tr>\n",
       "      <th>4</th>\n",
       "      <td>May-19</td>\n",
       "      <td>NaN</td>\n",
       "      <td>NaN</td>\n",
       "      <td>NaN</td>\n",
       "      <td>NaN</td>\n",
       "      <td>NaN</td>\n",
       "    </tr>\n",
       "  </tbody>\n",
       "</table>\n",
       "</div>"
      ],
      "text/plain": [
       "     date     line 1    line 2     line 3   line 8   line 12\n",
       "0  Jan-19        NaN       NaN        NaN      NaN       NaN\n",
       "1  Feb-19        NaN       NaN        NaN      NaN       NaN\n",
       "2  Mar-19  162032.48  61232.36  125329.44  71810.3  91375.96\n",
       "3  Apr-19        NaN       NaN        NaN      NaN       NaN\n",
       "4  May-19        NaN       NaN        NaN      NaN       NaN"
      ]
     },
     "execution_count": 65,
     "metadata": {},
     "output_type": "execute_result"
    }
   ],
   "source": [
    "smbbb.head()"
   ]
  },
  {
   "cell_type": "code",
   "execution_count": 66,
   "id": "f01a2cb9-605e-4339-984b-f6ab3855d8e4",
   "metadata": {},
   "outputs": [
    {
     "data": {
      "text/html": [
       "<div>\n",
       "<style scoped>\n",
       "    .dataframe tbody tr th:only-of-type {\n",
       "        vertical-align: middle;\n",
       "    }\n",
       "\n",
       "    .dataframe tbody tr th {\n",
       "        vertical-align: top;\n",
       "    }\n",
       "\n",
       "    .dataframe thead th {\n",
       "        text-align: right;\n",
       "    }\n",
       "</style>\n",
       "<table border=\"1\" class=\"dataframe\">\n",
       "  <thead>\n",
       "    <tr style=\"text-align: right;\">\n",
       "      <th></th>\n",
       "      <th>date</th>\n",
       "      <th>line 1</th>\n",
       "      <th>line 2</th>\n",
       "      <th>line 3</th>\n",
       "      <th>line 8</th>\n",
       "      <th>line 12</th>\n",
       "      <th>total ridership</th>\n",
       "    </tr>\n",
       "  </thead>\n",
       "  <tbody>\n",
       "    <tr>\n",
       "      <th>0</th>\n",
       "      <td>Jan-19</td>\n",
       "      <td>NaN</td>\n",
       "      <td>NaN</td>\n",
       "      <td>NaN</td>\n",
       "      <td>NaN</td>\n",
       "      <td>NaN</td>\n",
       "      <td>NaN</td>\n",
       "    </tr>\n",
       "    <tr>\n",
       "      <th>1</th>\n",
       "      <td>Feb-19</td>\n",
       "      <td>NaN</td>\n",
       "      <td>NaN</td>\n",
       "      <td>NaN</td>\n",
       "      <td>NaN</td>\n",
       "      <td>NaN</td>\n",
       "      <td>NaN</td>\n",
       "    </tr>\n",
       "    <tr>\n",
       "      <th>2</th>\n",
       "      <td>Mar-19</td>\n",
       "      <td>162032.48</td>\n",
       "      <td>61232.36</td>\n",
       "      <td>125329.44</td>\n",
       "      <td>71810.3</td>\n",
       "      <td>91375.96</td>\n",
       "      <td>511780.54</td>\n",
       "    </tr>\n",
       "    <tr>\n",
       "      <th>3</th>\n",
       "      <td>Apr-19</td>\n",
       "      <td>NaN</td>\n",
       "      <td>NaN</td>\n",
       "      <td>NaN</td>\n",
       "      <td>NaN</td>\n",
       "      <td>NaN</td>\n",
       "      <td>NaN</td>\n",
       "    </tr>\n",
       "    <tr>\n",
       "      <th>4</th>\n",
       "      <td>May-19</td>\n",
       "      <td>NaN</td>\n",
       "      <td>NaN</td>\n",
       "      <td>NaN</td>\n",
       "      <td>NaN</td>\n",
       "      <td>NaN</td>\n",
       "      <td>NaN</td>\n",
       "    </tr>\n",
       "  </tbody>\n",
       "</table>\n",
       "</div>"
      ],
      "text/plain": [
       "     date     line 1    line 2     line 3   line 8   line 12  total ridership\n",
       "0  Jan-19        NaN       NaN        NaN      NaN       NaN              NaN\n",
       "1  Feb-19        NaN       NaN        NaN      NaN       NaN              NaN\n",
       "2  Mar-19  162032.48  61232.36  125329.44  71810.3  91375.96        511780.54\n",
       "3  Apr-19        NaN       NaN        NaN      NaN       NaN              NaN\n",
       "4  May-19        NaN       NaN        NaN      NaN       NaN              NaN"
      ]
     },
     "execution_count": 66,
     "metadata": {},
     "output_type": "execute_result"
    }
   ],
   "source": [
    "smbbb[\"total ridership\"] = l1+l2+l3+l8+l12\n",
    "smbbb.head()"
   ]
  },
  {
   "cell_type": "code",
   "execution_count": 67,
   "id": "b91cd4d7-9e94-43d4-bd39-42d642ff7dd4",
   "metadata": {},
   "outputs": [],
   "source": [
    "smbbb[\"date\"] = ladot[\"date\"]\n",
    "#smbbb = smbbb.drop(\"Date\", axis=1)"
   ]
  },
  {
   "cell_type": "code",
   "execution_count": 68,
   "id": "7d527e4a-368d-41d5-bb94-42ec4923b658",
   "metadata": {},
   "outputs": [
    {
     "data": {
      "text/html": [
       "<div>\n",
       "<style scoped>\n",
       "    .dataframe tbody tr th:only-of-type {\n",
       "        vertical-align: middle;\n",
       "    }\n",
       "\n",
       "    .dataframe tbody tr th {\n",
       "        vertical-align: top;\n",
       "    }\n",
       "\n",
       "    .dataframe thead th {\n",
       "        text-align: right;\n",
       "    }\n",
       "</style>\n",
       "<table border=\"1\" class=\"dataframe\">\n",
       "  <thead>\n",
       "    <tr style=\"text-align: right;\">\n",
       "      <th></th>\n",
       "      <th>date</th>\n",
       "      <th>line 1</th>\n",
       "      <th>line 2</th>\n",
       "      <th>line 3</th>\n",
       "      <th>line 8</th>\n",
       "      <th>line 12</th>\n",
       "      <th>total ridership</th>\n",
       "    </tr>\n",
       "  </thead>\n",
       "  <tbody>\n",
       "    <tr>\n",
       "      <th>0</th>\n",
       "      <td>Jan. 19</td>\n",
       "      <td>NaN</td>\n",
       "      <td>NaN</td>\n",
       "      <td>NaN</td>\n",
       "      <td>NaN</td>\n",
       "      <td>NaN</td>\n",
       "      <td>NaN</td>\n",
       "    </tr>\n",
       "    <tr>\n",
       "      <th>1</th>\n",
       "      <td>Feb. 19</td>\n",
       "      <td>NaN</td>\n",
       "      <td>NaN</td>\n",
       "      <td>NaN</td>\n",
       "      <td>NaN</td>\n",
       "      <td>NaN</td>\n",
       "      <td>NaN</td>\n",
       "    </tr>\n",
       "    <tr>\n",
       "      <th>2</th>\n",
       "      <td>Mar. 19</td>\n",
       "      <td>162032.48</td>\n",
       "      <td>61232.36</td>\n",
       "      <td>125329.44</td>\n",
       "      <td>71810.3</td>\n",
       "      <td>91375.96</td>\n",
       "      <td>511780.54</td>\n",
       "    </tr>\n",
       "    <tr>\n",
       "      <th>3</th>\n",
       "      <td>Apr. 19</td>\n",
       "      <td>NaN</td>\n",
       "      <td>NaN</td>\n",
       "      <td>NaN</td>\n",
       "      <td>NaN</td>\n",
       "      <td>NaN</td>\n",
       "      <td>NaN</td>\n",
       "    </tr>\n",
       "    <tr>\n",
       "      <th>4</th>\n",
       "      <td>May. 19</td>\n",
       "      <td>NaN</td>\n",
       "      <td>NaN</td>\n",
       "      <td>NaN</td>\n",
       "      <td>NaN</td>\n",
       "      <td>NaN</td>\n",
       "      <td>NaN</td>\n",
       "    </tr>\n",
       "  </tbody>\n",
       "</table>\n",
       "</div>"
      ],
      "text/plain": [
       "      date     line 1    line 2     line 3   line 8   line 12  total ridership\n",
       "0  Jan. 19        NaN       NaN        NaN      NaN       NaN              NaN\n",
       "1  Feb. 19        NaN       NaN        NaN      NaN       NaN              NaN\n",
       "2  Mar. 19  162032.48  61232.36  125329.44  71810.3  91375.96        511780.54\n",
       "3  Apr. 19        NaN       NaN        NaN      NaN       NaN              NaN\n",
       "4  May. 19        NaN       NaN        NaN      NaN       NaN              NaN"
      ]
     },
     "execution_count": 68,
     "metadata": {},
     "output_type": "execute_result"
    }
   ],
   "source": [
    "smbbb.head()"
   ]
  },
  {
   "cell_type": "code",
   "execution_count": 72,
   "id": "8e9864eb-cd12-4b5a-959e-13102a59c210",
   "metadata": {},
   "outputs": [
    {
     "data": {
      "application/vnd.plotly.v1+json": {
       "config": {
        "plotlyServerURL": "https://plot.ly",
        "responsive": true
       },
       "data": [
        {
         "hovertemplate": "Bus Lines=line 1<br>Date=%{x}<br>Number of Riders=%{y}<extra></extra>",
         "legendgroup": "line 1",
         "line": {
          "color": "rgb(102, 197, 204)",
          "dash": "solid",
          "shape": "spline"
         },
         "marker": {
          "symbol": "circle"
         },
         "mode": "markers+lines",
         "name": "line 1",
         "orientation": "v",
         "showlegend": true,
         "type": "scatter",
         "x": [
          "Jan. 19",
          "Feb. 19",
          "Mar. 19",
          "Apr. 19",
          "May. 19",
          "Jun. 19",
          "Jul. 19",
          "Aug. 19",
          "Sep. 19",
          "Oct. 19",
          "Nov. 19",
          "Dec. 19",
          "Jan. 20",
          "Feb. 20",
          "Mar. 20",
          "Apr. 20",
          "May. 20",
          "Jun. 20",
          "Jul. 20",
          "Aug. 20",
          "Sep. 20",
          "Oct. 20",
          "Nov. 20",
          "Dec. 20",
          "Jan. 21",
          "Feb. 21",
          "Mar. 21",
          "Apr. 21",
          "May. 21",
          "Jun. 21",
          "Jul. 21",
          "Aug. 21",
          "Sep. 21",
          "Oct. 21"
         ],
         "xaxis": "x",
         "y": [
          null,
          null,
          162032.47999999998,
          null,
          null,
          155850.8,
          null,
          170529.38,
          null,
          null,
          null,
          null,
          null,
          89532.04,
          null,
          null,
          83058.04000000001,
          null,
          null,
          null,
          78334.3,
          null,
          null,
          null,
          null,
          null,
          null,
          80709.32,
          null,
          null,
          null,
          97520.48,
          null,
          null
         ],
         "yaxis": "y"
        },
        {
         "hovertemplate": "Bus Lines=line 2<br>Date=%{x}<br>Number of Riders=%{y}<extra></extra>",
         "legendgroup": "line 2",
         "line": {
          "color": "rgb(246, 207, 113)",
          "dash": "solid",
          "shape": "spline"
         },
         "marker": {
          "symbol": "circle"
         },
         "mode": "markers+lines",
         "name": "line 2",
         "orientation": "v",
         "showlegend": true,
         "type": "scatter",
         "x": [
          "Jan. 19",
          "Feb. 19",
          "Mar. 19",
          "Apr. 19",
          "May. 19",
          "Jun. 19",
          "Jul. 19",
          "Aug. 19",
          "Sep. 19",
          "Oct. 19",
          "Nov. 19",
          "Dec. 19",
          "Jan. 20",
          "Feb. 20",
          "Mar. 20",
          "Apr. 20",
          "May. 20",
          "Jun. 20",
          "Jul. 20",
          "Aug. 20",
          "Sep. 20",
          "Oct. 20",
          "Nov. 20",
          "Dec. 20",
          "Jan. 21",
          "Feb. 21",
          "Mar. 21",
          "Apr. 21",
          "May. 21",
          "Jun. 21",
          "Jul. 21",
          "Aug. 21",
          "Sep. 21",
          "Oct. 21"
         ],
         "xaxis": "x",
         "y": [
          null,
          null,
          61232.36,
          null,
          null,
          59540.799999999996,
          null,
          68878.47,
          null,
          null,
          null,
          null,
          null,
          37628.45,
          null,
          null,
          21394.04,
          null,
          null,
          null,
          19845,
          null,
          null,
          null,
          null,
          null,
          null,
          22018.04,
          null,
          null,
          null,
          28294.590000000004,
          null,
          null
         ],
         "yaxis": "y"
        },
        {
         "hovertemplate": "Bus Lines=line 3<br>Date=%{x}<br>Number of Riders=%{y}<extra></extra>",
         "legendgroup": "line 3",
         "line": {
          "color": "rgb(248, 156, 116)",
          "dash": "solid",
          "shape": "spline"
         },
         "marker": {
          "symbol": "circle"
         },
         "mode": "markers+lines",
         "name": "line 3",
         "orientation": "v",
         "showlegend": true,
         "type": "scatter",
         "x": [
          "Jan. 19",
          "Feb. 19",
          "Mar. 19",
          "Apr. 19",
          "May. 19",
          "Jun. 19",
          "Jul. 19",
          "Aug. 19",
          "Sep. 19",
          "Oct. 19",
          "Nov. 19",
          "Dec. 19",
          "Jan. 20",
          "Feb. 20",
          "Mar. 20",
          "Apr. 20",
          "May. 20",
          "Jun. 20",
          "Jul. 20",
          "Aug. 20",
          "Sep. 20",
          "Oct. 20",
          "Nov. 20",
          "Dec. 20",
          "Jan. 21",
          "Feb. 21",
          "Mar. 21",
          "Apr. 21",
          "May. 21",
          "Jun. 21",
          "Jul. 21",
          "Aug. 21",
          "Sep. 21",
          "Oct. 21"
         ],
         "xaxis": "x",
         "y": [
          null,
          null,
          125329.44,
          null,
          null,
          124929.79999999999,
          null,
          128088.05000000002,
          null,
          null,
          null,
          null,
          null,
          77153.62,
          null,
          null,
          88957.22,
          null,
          null,
          null,
          83162.76,
          null,
          null,
          null,
          null,
          null,
          null,
          87708.18,
          null,
          null,
          null,
          76146.71,
          null,
          null
         ],
         "yaxis": "y"
        },
        {
         "hovertemplate": "Bus Lines=line 8<br>Date=%{x}<br>Number of Riders=%{y}<extra></extra>",
         "legendgroup": "line 8",
         "line": {
          "color": "rgb(220, 176, 242)",
          "dash": "solid",
          "shape": "spline"
         },
         "marker": {
          "symbol": "circle"
         },
         "mode": "markers+lines",
         "name": "line 8",
         "orientation": "v",
         "showlegend": true,
         "type": "scatter",
         "x": [
          "Jan. 19",
          "Feb. 19",
          "Mar. 19",
          "Apr. 19",
          "May. 19",
          "Jun. 19",
          "Jul. 19",
          "Aug. 19",
          "Sep. 19",
          "Oct. 19",
          "Nov. 19",
          "Dec. 19",
          "Jan. 20",
          "Feb. 20",
          "Mar. 20",
          "Apr. 20",
          "May. 20",
          "Jun. 20",
          "Jul. 20",
          "Aug. 20",
          "Sep. 20",
          "Oct. 20",
          "Nov. 20",
          "Dec. 20",
          "Jan. 21",
          "Feb. 21",
          "Mar. 21",
          "Apr. 21",
          "May. 21",
          "Jun. 21",
          "Jul. 21",
          "Aug. 21",
          "Sep. 21",
          "Oct. 21"
         ],
         "xaxis": "x",
         "y": [
          null,
          null,
          71810.3,
          null,
          null,
          63812.75,
          null,
          76999.87999999999,
          null,
          null,
          null,
          null,
          null,
          36197.439999999995,
          null,
          null,
          21302.99,
          null,
          null,
          null,
          19088.56,
          null,
          null,
          null,
          null,
          null,
          null,
          22156.8,
          null,
          null,
          null,
          30330.1,
          null,
          null
         ],
         "yaxis": "y"
        },
        {
         "hovertemplate": "Bus Lines=line 12<br>Date=%{x}<br>Number of Riders=%{y}<extra></extra>",
         "legendgroup": "line 12",
         "line": {
          "color": "rgb(139, 224, 164)",
          "dash": "solid",
          "shape": "spline"
         },
         "marker": {
          "symbol": "circle"
         },
         "mode": "markers+lines",
         "name": "line 12",
         "orientation": "v",
         "showlegend": true,
         "type": "scatter",
         "x": [
          "Jan. 19",
          "Feb. 19",
          "Mar. 19",
          "Apr. 19",
          "May. 19",
          "Jun. 19",
          "Jul. 19",
          "Aug. 19",
          "Sep. 19",
          "Oct. 19",
          "Nov. 19",
          "Dec. 19",
          "Jan. 20",
          "Feb. 20",
          "Mar. 20",
          "Apr. 20",
          "May. 20",
          "Jun. 20",
          "Jul. 20",
          "Aug. 20",
          "Sep. 20",
          "Oct. 20",
          "Nov. 20",
          "Dec. 20",
          "Jan. 21",
          "Feb. 21",
          "Mar. 21",
          "Apr. 21",
          "May. 21",
          "Jun. 21",
          "Jul. 21",
          "Aug. 21",
          "Sep. 21",
          "Oct. 21"
         ],
         "xaxis": "x",
         "y": [
          null,
          null,
          91375.96,
          null,
          null,
          77617.84999999999,
          null,
          96524.95,
          null,
          null,
          null,
          null,
          null,
          51297.159999999996,
          null,
          null,
          17248.74,
          null,
          null,
          null,
          24710.539999999997,
          null,
          null,
          null,
          null,
          null,
          null,
          28278.42,
          null,
          null,
          null,
          45487.86,
          null,
          null
         ],
         "yaxis": "y"
        }
       ],
       "layout": {
        "annotations": [
         {
          "showarrow": false,
          "text": "First COVID-19 Case in LA",
          "x": 12,
          "xanchor": "right",
          "xref": "x",
          "y": 1,
          "yanchor": "top",
          "yref": "y domain"
         },
         {
          "showarrow": false,
          "text": "CA Stay at Home Order Issued",
          "x": 14,
          "xanchor": "left",
          "xref": "x",
          "y": 1,
          "yanchor": "top",
          "yref": "y domain"
         }
        ],
        "height": 450,
        "legend": {
         "title": {
          "text": "Bus Lines"
         },
         "tracegroupgap": 0
        },
        "shapes": [
         {
          "line": {
           "dash": "dot"
          },
          "type": "line",
          "x0": 12,
          "x1": 12,
          "xref": "x",
          "y0": 0,
          "y1": 1,
          "yref": "y domain"
         },
         {
          "line": {
           "dash": "dot"
          },
          "type": "line",
          "x0": 14,
          "x1": 14,
          "xref": "x",
          "y0": 0,
          "y1": 1,
          "yref": "y domain"
         }
        ],
        "template": {
         "data": {
          "bar": [
           {
            "error_x": {
             "color": "#2a3f5f"
            },
            "error_y": {
             "color": "#2a3f5f"
            },
            "marker": {
             "line": {
              "color": "#E5ECF6",
              "width": 0.5
             },
             "pattern": {
              "fillmode": "overlay",
              "size": 10,
              "solidity": 0.2
             }
            },
            "type": "bar"
           }
          ],
          "barpolar": [
           {
            "marker": {
             "line": {
              "color": "#E5ECF6",
              "width": 0.5
             },
             "pattern": {
              "fillmode": "overlay",
              "size": 10,
              "solidity": 0.2
             }
            },
            "type": "barpolar"
           }
          ],
          "carpet": [
           {
            "aaxis": {
             "endlinecolor": "#2a3f5f",
             "gridcolor": "white",
             "linecolor": "white",
             "minorgridcolor": "white",
             "startlinecolor": "#2a3f5f"
            },
            "baxis": {
             "endlinecolor": "#2a3f5f",
             "gridcolor": "white",
             "linecolor": "white",
             "minorgridcolor": "white",
             "startlinecolor": "#2a3f5f"
            },
            "type": "carpet"
           }
          ],
          "choropleth": [
           {
            "colorbar": {
             "outlinewidth": 0,
             "ticks": ""
            },
            "type": "choropleth"
           }
          ],
          "contour": [
           {
            "colorbar": {
             "outlinewidth": 0,
             "ticks": ""
            },
            "colorscale": [
             [
              0,
              "#0d0887"
             ],
             [
              0.1111111111111111,
              "#46039f"
             ],
             [
              0.2222222222222222,
              "#7201a8"
             ],
             [
              0.3333333333333333,
              "#9c179e"
             ],
             [
              0.4444444444444444,
              "#bd3786"
             ],
             [
              0.5555555555555556,
              "#d8576b"
             ],
             [
              0.6666666666666666,
              "#ed7953"
             ],
             [
              0.7777777777777778,
              "#fb9f3a"
             ],
             [
              0.8888888888888888,
              "#fdca26"
             ],
             [
              1,
              "#f0f921"
             ]
            ],
            "type": "contour"
           }
          ],
          "contourcarpet": [
           {
            "colorbar": {
             "outlinewidth": 0,
             "ticks": ""
            },
            "type": "contourcarpet"
           }
          ],
          "heatmap": [
           {
            "colorbar": {
             "outlinewidth": 0,
             "ticks": ""
            },
            "colorscale": [
             [
              0,
              "#0d0887"
             ],
             [
              0.1111111111111111,
              "#46039f"
             ],
             [
              0.2222222222222222,
              "#7201a8"
             ],
             [
              0.3333333333333333,
              "#9c179e"
             ],
             [
              0.4444444444444444,
              "#bd3786"
             ],
             [
              0.5555555555555556,
              "#d8576b"
             ],
             [
              0.6666666666666666,
              "#ed7953"
             ],
             [
              0.7777777777777778,
              "#fb9f3a"
             ],
             [
              0.8888888888888888,
              "#fdca26"
             ],
             [
              1,
              "#f0f921"
             ]
            ],
            "type": "heatmap"
           }
          ],
          "heatmapgl": [
           {
            "colorbar": {
             "outlinewidth": 0,
             "ticks": ""
            },
            "colorscale": [
             [
              0,
              "#0d0887"
             ],
             [
              0.1111111111111111,
              "#46039f"
             ],
             [
              0.2222222222222222,
              "#7201a8"
             ],
             [
              0.3333333333333333,
              "#9c179e"
             ],
             [
              0.4444444444444444,
              "#bd3786"
             ],
             [
              0.5555555555555556,
              "#d8576b"
             ],
             [
              0.6666666666666666,
              "#ed7953"
             ],
             [
              0.7777777777777778,
              "#fb9f3a"
             ],
             [
              0.8888888888888888,
              "#fdca26"
             ],
             [
              1,
              "#f0f921"
             ]
            ],
            "type": "heatmapgl"
           }
          ],
          "histogram": [
           {
            "marker": {
             "pattern": {
              "fillmode": "overlay",
              "size": 10,
              "solidity": 0.2
             }
            },
            "type": "histogram"
           }
          ],
          "histogram2d": [
           {
            "colorbar": {
             "outlinewidth": 0,
             "ticks": ""
            },
            "colorscale": [
             [
              0,
              "#0d0887"
             ],
             [
              0.1111111111111111,
              "#46039f"
             ],
             [
              0.2222222222222222,
              "#7201a8"
             ],
             [
              0.3333333333333333,
              "#9c179e"
             ],
             [
              0.4444444444444444,
              "#bd3786"
             ],
             [
              0.5555555555555556,
              "#d8576b"
             ],
             [
              0.6666666666666666,
              "#ed7953"
             ],
             [
              0.7777777777777778,
              "#fb9f3a"
             ],
             [
              0.8888888888888888,
              "#fdca26"
             ],
             [
              1,
              "#f0f921"
             ]
            ],
            "type": "histogram2d"
           }
          ],
          "histogram2dcontour": [
           {
            "colorbar": {
             "outlinewidth": 0,
             "ticks": ""
            },
            "colorscale": [
             [
              0,
              "#0d0887"
             ],
             [
              0.1111111111111111,
              "#46039f"
             ],
             [
              0.2222222222222222,
              "#7201a8"
             ],
             [
              0.3333333333333333,
              "#9c179e"
             ],
             [
              0.4444444444444444,
              "#bd3786"
             ],
             [
              0.5555555555555556,
              "#d8576b"
             ],
             [
              0.6666666666666666,
              "#ed7953"
             ],
             [
              0.7777777777777778,
              "#fb9f3a"
             ],
             [
              0.8888888888888888,
              "#fdca26"
             ],
             [
              1,
              "#f0f921"
             ]
            ],
            "type": "histogram2dcontour"
           }
          ],
          "mesh3d": [
           {
            "colorbar": {
             "outlinewidth": 0,
             "ticks": ""
            },
            "type": "mesh3d"
           }
          ],
          "parcoords": [
           {
            "line": {
             "colorbar": {
              "outlinewidth": 0,
              "ticks": ""
             }
            },
            "type": "parcoords"
           }
          ],
          "pie": [
           {
            "automargin": true,
            "type": "pie"
           }
          ],
          "scatter": [
           {
            "marker": {
             "colorbar": {
              "outlinewidth": 0,
              "ticks": ""
             }
            },
            "type": "scatter"
           }
          ],
          "scatter3d": [
           {
            "line": {
             "colorbar": {
              "outlinewidth": 0,
              "ticks": ""
             }
            },
            "marker": {
             "colorbar": {
              "outlinewidth": 0,
              "ticks": ""
             }
            },
            "type": "scatter3d"
           }
          ],
          "scattercarpet": [
           {
            "marker": {
             "colorbar": {
              "outlinewidth": 0,
              "ticks": ""
             }
            },
            "type": "scattercarpet"
           }
          ],
          "scattergeo": [
           {
            "marker": {
             "colorbar": {
              "outlinewidth": 0,
              "ticks": ""
             }
            },
            "type": "scattergeo"
           }
          ],
          "scattergl": [
           {
            "marker": {
             "colorbar": {
              "outlinewidth": 0,
              "ticks": ""
             }
            },
            "type": "scattergl"
           }
          ],
          "scattermapbox": [
           {
            "marker": {
             "colorbar": {
              "outlinewidth": 0,
              "ticks": ""
             }
            },
            "type": "scattermapbox"
           }
          ],
          "scatterpolar": [
           {
            "marker": {
             "colorbar": {
              "outlinewidth": 0,
              "ticks": ""
             }
            },
            "type": "scatterpolar"
           }
          ],
          "scatterpolargl": [
           {
            "marker": {
             "colorbar": {
              "outlinewidth": 0,
              "ticks": ""
             }
            },
            "type": "scatterpolargl"
           }
          ],
          "scatterternary": [
           {
            "marker": {
             "colorbar": {
              "outlinewidth": 0,
              "ticks": ""
             }
            },
            "type": "scatterternary"
           }
          ],
          "surface": [
           {
            "colorbar": {
             "outlinewidth": 0,
             "ticks": ""
            },
            "colorscale": [
             [
              0,
              "#0d0887"
             ],
             [
              0.1111111111111111,
              "#46039f"
             ],
             [
              0.2222222222222222,
              "#7201a8"
             ],
             [
              0.3333333333333333,
              "#9c179e"
             ],
             [
              0.4444444444444444,
              "#bd3786"
             ],
             [
              0.5555555555555556,
              "#d8576b"
             ],
             [
              0.6666666666666666,
              "#ed7953"
             ],
             [
              0.7777777777777778,
              "#fb9f3a"
             ],
             [
              0.8888888888888888,
              "#fdca26"
             ],
             [
              1,
              "#f0f921"
             ]
            ],
            "type": "surface"
           }
          ],
          "table": [
           {
            "cells": {
             "fill": {
              "color": "#EBF0F8"
             },
             "line": {
              "color": "white"
             }
            },
            "header": {
             "fill": {
              "color": "#C8D4E3"
             },
             "line": {
              "color": "white"
             }
            },
            "type": "table"
           }
          ]
         },
         "layout": {
          "annotationdefaults": {
           "arrowcolor": "#2a3f5f",
           "arrowhead": 0,
           "arrowwidth": 1
          },
          "autotypenumbers": "strict",
          "coloraxis": {
           "colorbar": {
            "outlinewidth": 0,
            "ticks": ""
           }
          },
          "colorscale": {
           "diverging": [
            [
             0,
             "#8e0152"
            ],
            [
             0.1,
             "#c51b7d"
            ],
            [
             0.2,
             "#de77ae"
            ],
            [
             0.3,
             "#f1b6da"
            ],
            [
             0.4,
             "#fde0ef"
            ],
            [
             0.5,
             "#f7f7f7"
            ],
            [
             0.6,
             "#e6f5d0"
            ],
            [
             0.7,
             "#b8e186"
            ],
            [
             0.8,
             "#7fbc41"
            ],
            [
             0.9,
             "#4d9221"
            ],
            [
             1,
             "#276419"
            ]
           ],
           "sequential": [
            [
             0,
             "#0d0887"
            ],
            [
             0.1111111111111111,
             "#46039f"
            ],
            [
             0.2222222222222222,
             "#7201a8"
            ],
            [
             0.3333333333333333,
             "#9c179e"
            ],
            [
             0.4444444444444444,
             "#bd3786"
            ],
            [
             0.5555555555555556,
             "#d8576b"
            ],
            [
             0.6666666666666666,
             "#ed7953"
            ],
            [
             0.7777777777777778,
             "#fb9f3a"
            ],
            [
             0.8888888888888888,
             "#fdca26"
            ],
            [
             1,
             "#f0f921"
            ]
           ],
           "sequentialminus": [
            [
             0,
             "#0d0887"
            ],
            [
             0.1111111111111111,
             "#46039f"
            ],
            [
             0.2222222222222222,
             "#7201a8"
            ],
            [
             0.3333333333333333,
             "#9c179e"
            ],
            [
             0.4444444444444444,
             "#bd3786"
            ],
            [
             0.5555555555555556,
             "#d8576b"
            ],
            [
             0.6666666666666666,
             "#ed7953"
            ],
            [
             0.7777777777777778,
             "#fb9f3a"
            ],
            [
             0.8888888888888888,
             "#fdca26"
            ],
            [
             1,
             "#f0f921"
            ]
           ]
          },
          "colorway": [
           "#636efa",
           "#EF553B",
           "#00cc96",
           "#ab63fa",
           "#FFA15A",
           "#19d3f3",
           "#FF6692",
           "#B6E880",
           "#FF97FF",
           "#FECB52"
          ],
          "font": {
           "color": "#2a3f5f"
          },
          "geo": {
           "bgcolor": "white",
           "lakecolor": "white",
           "landcolor": "#E5ECF6",
           "showlakes": true,
           "showland": true,
           "subunitcolor": "white"
          },
          "hoverlabel": {
           "align": "left"
          },
          "hovermode": "closest",
          "mapbox": {
           "style": "light"
          },
          "paper_bgcolor": "white",
          "plot_bgcolor": "#E5ECF6",
          "polar": {
           "angularaxis": {
            "gridcolor": "white",
            "linecolor": "white",
            "ticks": ""
           },
           "bgcolor": "#E5ECF6",
           "radialaxis": {
            "gridcolor": "white",
            "linecolor": "white",
            "ticks": ""
           }
          },
          "scene": {
           "xaxis": {
            "backgroundcolor": "#E5ECF6",
            "gridcolor": "white",
            "gridwidth": 2,
            "linecolor": "white",
            "showbackground": true,
            "ticks": "",
            "zerolinecolor": "white"
           },
           "yaxis": {
            "backgroundcolor": "#E5ECF6",
            "gridcolor": "white",
            "gridwidth": 2,
            "linecolor": "white",
            "showbackground": true,
            "ticks": "",
            "zerolinecolor": "white"
           },
           "zaxis": {
            "backgroundcolor": "#E5ECF6",
            "gridcolor": "white",
            "gridwidth": 2,
            "linecolor": "white",
            "showbackground": true,
            "ticks": "",
            "zerolinecolor": "white"
           }
          },
          "shapedefaults": {
           "line": {
            "color": "#2a3f5f"
           }
          },
          "ternary": {
           "aaxis": {
            "gridcolor": "white",
            "linecolor": "white",
            "ticks": ""
           },
           "baxis": {
            "gridcolor": "white",
            "linecolor": "white",
            "ticks": ""
           },
           "bgcolor": "#E5ECF6",
           "caxis": {
            "gridcolor": "white",
            "linecolor": "white",
            "ticks": ""
           }
          },
          "title": {
           "x": 0.05
          },
          "xaxis": {
           "automargin": true,
           "gridcolor": "white",
           "linecolor": "white",
           "ticks": "",
           "title": {
            "standoff": 15
           },
           "zerolinecolor": "white",
           "zerolinewidth": 2
          },
          "yaxis": {
           "automargin": true,
           "gridcolor": "white",
           "linecolor": "white",
           "ticks": "",
           "title": {
            "standoff": 15
           },
           "zerolinecolor": "white",
           "zerolinewidth": 2
          }
         }
        },
        "title": {
         "text": "Big Blue Bus Ridership"
        },
        "width": 1000,
        "xaxis": {
         "anchor": "y",
         "autorange": true,
         "domain": [
          0,
          1
         ],
         "range": [
          -2.0268045588856056,
          35.02680455888561
         ],
         "tickangle": -60,
         "title": {
          "text": "Date"
         },
         "type": "category"
        },
        "yaxis": {
         "anchor": "x",
         "autorange": true,
         "domain": [
          0,
          1
         ],
         "nticks": 15,
         "range": [
          5924.576622691293,
          181853.5433773087
         ],
         "tickformat": ",",
         "title": {
          "text": "Number of Riders"
         },
         "type": "linear"
        }
       }
      },
      "image/png": "[encoded data removed]",
      "text/html": [
       "<div>                            <div id=\"cdbcb061-923d-4866-97be-e00ded48f51f\" class=\"plotly-graph-div\" style=\"height:450px; width:1000px;\"></div>            <script type=\"text/javascript\">                require([\"plotly\"], function(Plotly) {                    window.PLOTLYENV=window.PLOTLYENV || {};                                    if (document.getElementById(\"cdbcb061-923d-4866-97be-e00ded48f51f\")) {                    Plotly.newPlot(                        \"cdbcb061-923d-4866-97be-e00ded48f51f\",                        [{\"hovertemplate\":\"Bus Lines=line 1<br>Date=%{x}<br>Number of Riders=%{y}<extra></extra>\",\"legendgroup\":\"line 1\",\"line\":{\"color\":\"rgb(102, 197, 204)\",\"dash\":\"solid\",\"shape\":\"spline\"},\"marker\":{\"symbol\":\"circle\"},\"mode\":\"markers+lines\",\"name\":\"line 1\",\"orientation\":\"v\",\"showlegend\":true,\"type\":\"scatter\",\"x\":[\"Jan. 19\",\"Feb. 19\",\"Mar. 19\",\"Apr. 19\",\"May. 19\",\"Jun. 19\",\"Jul. 19\",\"Aug. 19\",\"Sep. 19\",\"Oct. 19\",\"Nov. 19\",\"Dec. 19\",\"Jan. 20\",\"Feb. 20\",\"Mar. 20\",\"Apr. 20\",\"May. 20\",\"Jun. 20\",\"Jul. 20\",\"Aug. 20\",\"Sep. 20\",\"Oct. 20\",\"Nov. 20\",\"Dec. 20\",\"Jan. 21\",\"Feb. 21\",\"Mar. 21\",\"Apr. 21\",\"May. 21\",\"Jun. 21\",\"Jul. 21\",\"Aug. 21\",\"Sep. 21\",\"Oct. 21\"],\"xaxis\":\"x\",\"y\":[null,null,162032.47999999998,null,null,155850.8,null,170529.38,null,null,null,null,null,89532.04,null,null,83058.04000000001,null,null,null,78334.3,null,null,null,null,null,null,80709.32,null,null,null,97520.48,null,null],\"yaxis\":\"y\"},{\"hovertemplate\":\"Bus Lines=line 2<br>Date=%{x}<br>Number of Riders=%{y}<extra></extra>\",\"legendgroup\":\"line 2\",\"line\":{\"color\":\"rgb(246, 207, 113)\",\"dash\":\"solid\",\"shape\":\"spline\"},\"marker\":{\"symbol\":\"circle\"},\"mode\":\"markers+lines\",\"name\":\"line 2\",\"orientation\":\"v\",\"showlegend\":true,\"type\":\"scatter\",\"x\":[\"Jan. 19\",\"Feb. 19\",\"Mar. 19\",\"Apr. 19\",\"May. 19\",\"Jun. 19\",\"Jul. 19\",\"Aug. 19\",\"Sep. 19\",\"Oct. 19\",\"Nov. 19\",\"Dec. 19\",\"Jan. 20\",\"Feb. 20\",\"Mar. 20\",\"Apr. 20\",\"May. 20\",\"Jun. 20\",\"Jul. 20\",\"Aug. 20\",\"Sep. 20\",\"Oct. 20\",\"Nov. 20\",\"Dec. 20\",\"Jan. 21\",\"Feb. 21\",\"Mar. 21\",\"Apr. 21\",\"May. 21\",\"Jun. 21\",\"Jul. 21\",\"Aug. 21\",\"Sep. 21\",\"Oct. 21\"],\"xaxis\":\"x\",\"y\":[null,null,61232.36,null,null,59540.799999999996,null,68878.47,null,null,null,null,null,37628.45,null,null,21394.04,null,null,null,19845.0,null,null,null,null,null,null,22018.04,null,null,null,28294.590000000004,null,null],\"yaxis\":\"y\"},{\"hovertemplate\":\"Bus Lines=line 3<br>Date=%{x}<br>Number of Riders=%{y}<extra></extra>\",\"legendgroup\":\"line 3\",\"line\":{\"color\":\"rgb(248, 156, 116)\",\"dash\":\"solid\",\"shape\":\"spline\"},\"marker\":{\"symbol\":\"circle\"},\"mode\":\"markers+lines\",\"name\":\"line 3\",\"orientation\":\"v\",\"showlegend\":true,\"type\":\"scatter\",\"x\":[\"Jan. 19\",\"Feb. 19\",\"Mar. 19\",\"Apr. 19\",\"May. 19\",\"Jun. 19\",\"Jul. 19\",\"Aug. 19\",\"Sep. 19\",\"Oct. 19\",\"Nov. 19\",\"Dec. 19\",\"Jan. 20\",\"Feb. 20\",\"Mar. 20\",\"Apr. 20\",\"May. 20\",\"Jun. 20\",\"Jul. 20\",\"Aug. 20\",\"Sep. 20\",\"Oct. 20\",\"Nov. 20\",\"Dec. 20\",\"Jan. 21\",\"Feb. 21\",\"Mar. 21\",\"Apr. 21\",\"May. 21\",\"Jun. 21\",\"Jul. 21\",\"Aug. 21\",\"Sep. 21\",\"Oct. 21\"],\"xaxis\":\"x\",\"y\":[null,null,125329.44,null,null,124929.79999999999,null,128088.05000000002,null,null,null,null,null,77153.62,null,null,88957.22,null,null,null,83162.76,null,null,null,null,null,null,87708.18,null,null,null,76146.71,null,null],\"yaxis\":\"y\"},{\"hovertemplate\":\"Bus Lines=line 8<br>Date=%{x}<br>Number of Riders=%{y}<extra></extra>\",\"legendgroup\":\"line 8\",\"line\":{\"color\":\"rgb(220, 176, 242)\",\"dash\":\"solid\",\"shape\":\"spline\"},\"marker\":{\"symbol\":\"circle\"},\"mode\":\"markers+lines\",\"name\":\"line 8\",\"orientation\":\"v\",\"showlegend\":true,\"type\":\"scatter\",\"x\":[\"Jan. 19\",\"Feb. 19\",\"Mar. 19\",\"Apr. 19\",\"May. 19\",\"Jun. 19\",\"Jul. 19\",\"Aug. 19\",\"Sep. 19\",\"Oct. 19\",\"Nov. 19\",\"Dec. 19\",\"Jan. 20\",\"Feb. 20\",\"Mar. 20\",\"Apr. 20\",\"May. 20\",\"Jun. 20\",\"Jul. 20\",\"Aug. 20\",\"Sep. 20\",\"Oct. 20\",\"Nov. 20\",\"Dec. 20\",\"Jan. 21\",\"Feb. 21\",\"Mar. 21\",\"Apr. 21\",\"May. 21\",\"Jun. 21\",\"Jul. 21\",\"Aug. 21\",\"Sep. 21\",\"Oct. 21\"],\"xaxis\":\"x\",\"y\":[null,null,71810.3,null,null,63812.75,null,76999.87999999999,null,null,null,null,null,36197.439999999995,null,null,21302.99,null,null,null,19088.56,null,null,null,null,null,null,22156.8,null,null,null,30330.1,null,null],\"yaxis\":\"y\"},{\"hovertemplate\":\"Bus Lines=line 12<br>Date=%{x}<br>Number of Riders=%{y}<extra></extra>\",\"legendgroup\":\"line 12\",\"line\":{\"color\":\"rgb(139, 224, 164)\",\"dash\":\"solid\",\"shape\":\"spline\"},\"marker\":{\"symbol\":\"circle\"},\"mode\":\"markers+lines\",\"name\":\"line 12\",\"orientation\":\"v\",\"showlegend\":true,\"type\":\"scatter\",\"x\":[\"Jan. 19\",\"Feb. 19\",\"Mar. 19\",\"Apr. 19\",\"May. 19\",\"Jun. 19\",\"Jul. 19\",\"Aug. 19\",\"Sep. 19\",\"Oct. 19\",\"Nov. 19\",\"Dec. 19\",\"Jan. 20\",\"Feb. 20\",\"Mar. 20\",\"Apr. 20\",\"May. 20\",\"Jun. 20\",\"Jul. 20\",\"Aug. 20\",\"Sep. 20\",\"Oct. 20\",\"Nov. 20\",\"Dec. 20\",\"Jan. 21\",\"Feb. 21\",\"Mar. 21\",\"Apr. 21\",\"May. 21\",\"Jun. 21\",\"Jul. 21\",\"Aug. 21\",\"Sep. 21\",\"Oct. 21\"],\"xaxis\":\"x\",\"y\":[null,null,91375.96,null,null,77617.84999999999,null,96524.95,null,null,null,null,null,51297.159999999996,null,null,17248.74,null,null,null,24710.539999999997,null,null,null,null,null,null,28278.42,null,null,null,45487.86,null,null],\"yaxis\":\"y\"}],                        {\"annotations\":[{\"showarrow\":false,\"text\":\"First COVID-19 Case in LA\",\"x\":12,\"xanchor\":\"right\",\"xref\":\"x\",\"y\":1,\"yanchor\":\"top\",\"yref\":\"y domain\"},{\"showarrow\":false,\"text\":\"CA Stay at Home Order Issued\",\"x\":14,\"xanchor\":\"left\",\"xref\":\"x\",\"y\":1,\"yanchor\":\"top\",\"yref\":\"y domain\"}],\"height\":450,\"legend\":{\"title\":{\"text\":\"Bus Lines\"},\"tracegroupgap\":0},\"shapes\":[{\"line\":{\"dash\":\"dot\"},\"type\":\"line\",\"x0\":12,\"x1\":12,\"xref\":\"x\",\"y0\":0,\"y1\":1,\"yref\":\"y domain\"},{\"line\":{\"dash\":\"dot\"},\"type\":\"line\",\"x0\":14,\"x1\":14,\"xref\":\"x\",\"y0\":0,\"y1\":1,\"yref\":\"y domain\"}],\"template\":{\"data\":{\"bar\":[{\"error_x\":{\"color\":\"#2a3f5f\"},\"error_y\":{\"color\":\"#2a3f5f\"},\"marker\":{\"line\":{\"color\":\"#E5ECF6\",\"width\":0.5},\"pattern\":{\"fillmode\":\"overlay\",\"size\":10,\"solidity\":0.2}},\"type\":\"bar\"}],\"barpolar\":[{\"marker\":{\"line\":{\"color\":\"#E5ECF6\",\"width\":0.5},\"pattern\":{\"fillmode\":\"overlay\",\"size\":10,\"solidity\":0.2}},\"type\":\"barpolar\"}],\"carpet\":[{\"aaxis\":{\"endlinecolor\":\"#2a3f5f\",\"gridcolor\":\"white\",\"linecolor\":\"white\",\"minorgridcolor\":\"white\",\"startlinecolor\":\"#2a3f5f\"},\"baxis\":{\"endlinecolor\":\"#2a3f5f\",\"gridcolor\":\"white\",\"linecolor\":\"white\",\"minorgridcolor\":\"white\",\"startlinecolor\":\"#2a3f5f\"},\"type\":\"carpet\"}],\"choropleth\":[{\"colorbar\":{\"outlinewidth\":0,\"ticks\":\"\"},\"type\":\"choropleth\"}],\"contour\":[{\"colorbar\":{\"outlinewidth\":0,\"ticks\":\"\"},\"colorscale\":[[0.0,\"#0d0887\"],[0.1111111111111111,\"#46039f\"],[0.2222222222222222,\"#7201a8\"],[0.3333333333333333,\"#9c179e\"],[0.4444444444444444,\"#bd3786\"],[0.5555555555555556,\"#d8576b\"],[0.6666666666666666,\"#ed7953\"],[0.7777777777777778,\"#fb9f3a\"],[0.8888888888888888,\"#fdca26\"],[1.0,\"#f0f921\"]],\"type\":\"contour\"}],\"contourcarpet\":[{\"colorbar\":{\"outlinewidth\":0,\"ticks\":\"\"},\"type\":\"contourcarpet\"}],\"heatmap\":[{\"colorbar\":{\"outlinewidth\":0,\"ticks\":\"\"},\"colorscale\":[[0.0,\"#0d0887\"],[0.1111111111111111,\"#46039f\"],[0.2222222222222222,\"#7201a8\"],[0.3333333333333333,\"#9c179e\"],[0.4444444444444444,\"#bd3786\"],[0.5555555555555556,\"#d8576b\"],[0.6666666666666666,\"#ed7953\"],[0.7777777777777778,\"#fb9f3a\"],[0.8888888888888888,\"#fdca26\"],[1.0,\"#f0f921\"]],\"type\":\"heatmap\"}],\"heatmapgl\":[{\"colorbar\":{\"outlinewidth\":0,\"ticks\":\"\"},\"colorscale\":[[0.0,\"#0d0887\"],[0.1111111111111111,\"#46039f\"],[0.2222222222222222,\"#7201a8\"],[0.3333333333333333,\"#9c179e\"],[0.4444444444444444,\"#bd3786\"],[0.5555555555555556,\"#d8576b\"],[0.6666666666666666,\"#ed7953\"],[0.7777777777777778,\"#fb9f3a\"],[0.8888888888888888,\"#fdca26\"],[1.0,\"#f0f921\"]],\"type\":\"heatmapgl\"}],\"histogram\":[{\"marker\":{\"pattern\":{\"fillmode\":\"overlay\",\"size\":10,\"solidity\":0.2}},\"type\":\"histogram\"}],\"histogram2d\":[{\"colorbar\":{\"outlinewidth\":0,\"ticks\":\"\"},\"colorscale\":[[0.0,\"#0d0887\"],[0.1111111111111111,\"#46039f\"],[0.2222222222222222,\"#7201a8\"],[0.3333333333333333,\"#9c179e\"],[0.4444444444444444,\"#bd3786\"],[0.5555555555555556,\"#d8576b\"],[0.6666666666666666,\"#ed7953\"],[0.7777777777777778,\"#fb9f3a\"],[0.8888888888888888,\"#fdca26\"],[1.0,\"#f0f921\"]],\"type\":\"histogram2d\"}],\"histogram2dcontour\":[{\"colorbar\":{\"outlinewidth\":0,\"ticks\":\"\"},\"colorscale\":[[0.0,\"#0d0887\"],[0.1111111111111111,\"#46039f\"],[0.2222222222222222,\"#7201a8\"],[0.3333333333333333,\"#9c179e\"],[0.4444444444444444,\"#bd3786\"],[0.5555555555555556,\"#d8576b\"],[0.6666666666666666,\"#ed7953\"],[0.7777777777777778,\"#fb9f3a\"],[0.8888888888888888,\"#fdca26\"],[1.0,\"#f0f921\"]],\"type\":\"histogram2dcontour\"}],\"mesh3d\":[{\"colorbar\":{\"outlinewidth\":0,\"ticks\":\"\"},\"type\":\"mesh3d\"}],\"parcoords\":[{\"line\":{\"colorbar\":{\"outlinewidth\":0,\"ticks\":\"\"}},\"type\":\"parcoords\"}],\"pie\":[{\"automargin\":true,\"type\":\"pie\"}],\"scatter\":[{\"marker\":{\"colorbar\":{\"outlinewidth\":0,\"ticks\":\"\"}},\"type\":\"scatter\"}],\"scatter3d\":[{\"line\":{\"colorbar\":{\"outlinewidth\":0,\"ticks\":\"\"}},\"marker\":{\"colorbar\":{\"outlinewidth\":0,\"ticks\":\"\"}},\"type\":\"scatter3d\"}],\"scattercarpet\":[{\"marker\":{\"colorbar\":{\"outlinewidth\":0,\"ticks\":\"\"}},\"type\":\"scattercarpet\"}],\"scattergeo\":[{\"marker\":{\"colorbar\":{\"outlinewidth\":0,\"ticks\":\"\"}},\"type\":\"scattergeo\"}],\"scattergl\":[{\"marker\":{\"colorbar\":{\"outlinewidth\":0,\"ticks\":\"\"}},\"type\":\"scattergl\"}],\"scattermapbox\":[{\"marker\":{\"colorbar\":{\"outlinewidth\":0,\"ticks\":\"\"}},\"type\":\"scattermapbox\"}],\"scatterpolar\":[{\"marker\":{\"colorbar\":{\"outlinewidth\":0,\"ticks\":\"\"}},\"type\":\"scatterpolar\"}],\"scatterpolargl\":[{\"marker\":{\"colorbar\":{\"outlinewidth\":0,\"ticks\":\"\"}},\"type\":\"scatterpolargl\"}],\"scatterternary\":[{\"marker\":{\"colorbar\":{\"outlinewidth\":0,\"ticks\":\"\"}},\"type\":\"scatterternary\"}],\"surface\":[{\"colorbar\":{\"outlinewidth\":0,\"ticks\":\"\"},\"colorscale\":[[0.0,\"#0d0887\"],[0.1111111111111111,\"#46039f\"],[0.2222222222222222,\"#7201a8\"],[0.3333333333333333,\"#9c179e\"],[0.4444444444444444,\"#bd3786\"],[0.5555555555555556,\"#d8576b\"],[0.6666666666666666,\"#ed7953\"],[0.7777777777777778,\"#fb9f3a\"],[0.8888888888888888,\"#fdca26\"],[1.0,\"#f0f921\"]],\"type\":\"surface\"}],\"table\":[{\"cells\":{\"fill\":{\"color\":\"#EBF0F8\"},\"line\":{\"color\":\"white\"}},\"header\":{\"fill\":{\"color\":\"#C8D4E3\"},\"line\":{\"color\":\"white\"}},\"type\":\"table\"}]},\"layout\":{\"annotationdefaults\":{\"arrowcolor\":\"#2a3f5f\",\"arrowhead\":0,\"arrowwidth\":1},\"autotypenumbers\":\"strict\",\"coloraxis\":{\"colorbar\":{\"outlinewidth\":0,\"ticks\":\"\"}},\"colorscale\":{\"diverging\":[[0,\"#8e0152\"],[0.1,\"#c51b7d\"],[0.2,\"#de77ae\"],[0.3,\"#f1b6da\"],[0.4,\"#fde0ef\"],[0.5,\"#f7f7f7\"],[0.6,\"#e6f5d0\"],[0.7,\"#b8e186\"],[0.8,\"#7fbc41\"],[0.9,\"#4d9221\"],[1,\"#276419\"]],\"sequential\":[[0.0,\"#0d0887\"],[0.1111111111111111,\"#46039f\"],[0.2222222222222222,\"#7201a8\"],[0.3333333333333333,\"#9c179e\"],[0.4444444444444444,\"#bd3786\"],[0.5555555555555556,\"#d8576b\"],[0.6666666666666666,\"#ed7953\"],[0.7777777777777778,\"#fb9f3a\"],[0.8888888888888888,\"#fdca26\"],[1.0,\"#f0f921\"]],\"sequentialminus\":[[0.0,\"#0d0887\"],[0.1111111111111111,\"#46039f\"],[0.2222222222222222,\"#7201a8\"],[0.3333333333333333,\"#9c179e\"],[0.4444444444444444,\"#bd3786\"],[0.5555555555555556,\"#d8576b\"],[0.6666666666666666,\"#ed7953\"],[0.7777777777777778,\"#fb9f3a\"],[0.8888888888888888,\"#fdca26\"],[1.0,\"#f0f921\"]]},\"colorway\":[\"#636efa\",\"#EF553B\",\"#00cc96\",\"#ab63fa\",\"#FFA15A\",\"#19d3f3\",\"#FF6692\",\"#B6E880\",\"#FF97FF\",\"#FECB52\"],\"font\":{\"color\":\"#2a3f5f\"},\"geo\":{\"bgcolor\":\"white\",\"lakecolor\":\"white\",\"landcolor\":\"#E5ECF6\",\"showlakes\":true,\"showland\":true,\"subunitcolor\":\"white\"},\"hoverlabel\":{\"align\":\"left\"},\"hovermode\":\"closest\",\"mapbox\":{\"style\":\"light\"},\"paper_bgcolor\":\"white\",\"plot_bgcolor\":\"#E5ECF6\",\"polar\":{\"angularaxis\":{\"gridcolor\":\"white\",\"linecolor\":\"white\",\"ticks\":\"\"},\"bgcolor\":\"#E5ECF6\",\"radialaxis\":{\"gridcolor\":\"white\",\"linecolor\":\"white\",\"ticks\":\"\"}},\"scene\":{\"xaxis\":{\"backgroundcolor\":\"#E5ECF6\",\"gridcolor\":\"white\",\"gridwidth\":2,\"linecolor\":\"white\",\"showbackground\":true,\"ticks\":\"\",\"zerolinecolor\":\"white\"},\"yaxis\":{\"backgroundcolor\":\"#E5ECF6\",\"gridcolor\":\"white\",\"gridwidth\":2,\"linecolor\":\"white\",\"showbackground\":true,\"ticks\":\"\",\"zerolinecolor\":\"white\"},\"zaxis\":{\"backgroundcolor\":\"#E5ECF6\",\"gridcolor\":\"white\",\"gridwidth\":2,\"linecolor\":\"white\",\"showbackground\":true,\"ticks\":\"\",\"zerolinecolor\":\"white\"}},\"shapedefaults\":{\"line\":{\"color\":\"#2a3f5f\"}},\"ternary\":{\"aaxis\":{\"gridcolor\":\"white\",\"linecolor\":\"white\",\"ticks\":\"\"},\"baxis\":{\"gridcolor\":\"white\",\"linecolor\":\"white\",\"ticks\":\"\"},\"bgcolor\":\"#E5ECF6\",\"caxis\":{\"gridcolor\":\"white\",\"linecolor\":\"white\",\"ticks\":\"\"}},\"title\":{\"x\":0.05},\"xaxis\":{\"automargin\":true,\"gridcolor\":\"white\",\"linecolor\":\"white\",\"ticks\":\"\",\"title\":{\"standoff\":15},\"zerolinecolor\":\"white\",\"zerolinewidth\":2},\"yaxis\":{\"automargin\":true,\"gridcolor\":\"white\",\"linecolor\":\"white\",\"ticks\":\"\",\"title\":{\"standoff\":15},\"zerolinecolor\":\"white\",\"zerolinewidth\":2}}},\"title\":{\"text\":\"Big Blue Bus Ridership\"},\"width\":1000,\"xaxis\":{\"anchor\":\"y\",\"domain\":[0.0,1.0],\"tickangle\":-60,\"title\":{\"text\":\"Date\"}},\"yaxis\":{\"anchor\":\"x\",\"domain\":[0.0,1.0],\"nticks\":15,\"tickformat\":\",\",\"title\":{\"text\":\"Number of Riders\"}}},                        {\"responsive\": true}                    ).then(function(){\n",
       "                            \n",
       "var gd = document.getElementById('cdbcb061-923d-4866-97be-e00ded48f51f');\n",
       "var x = new MutationObserver(function (mutations, observer) {{\n",
       "        var display = window.getComputedStyle(gd).display;\n",
       "        if (!display || display === 'none') {{\n",
       "            console.log([gd, 'removed!']);\n",
       "            Plotly.purge(gd);\n",
       "            observer.disconnect();\n",
       "        }}\n",
       "}});\n",
       "\n",
       "// Listen for the removal of the full notebook cells\n",
       "var notebookContainer = gd.closest('#notebook-container');\n",
       "if (notebookContainer) {{\n",
       "    x.observe(notebookContainer, {childList: true});\n",
       "}}\n",
       "\n",
       "// Listen for the clearing of the current output cell\n",
       "var outputEl = gd.closest('.output');\n",
       "if (outputEl) {{\n",
       "    x.observe(outputEl, {childList: true});\n",
       "}}\n",
       "\n",
       "                        })                };                });            </script>        </div>"
      ]
     },
     "metadata": {},
     "output_type": "display_data"
    }
   ],
   "source": [
    "fig4 = px.line(smbbb, \n",
    "              labels={\n",
    "                     \"value\": \"Number of Riders\",\n",
    "                     \"date\": \"Date\",\n",
    "                  \"variable\" : \"Bus Lines\"}, \n",
    "              title=\"Big Blue Bus Ridership\", \n",
    "              x=\"date\", \n",
    "              y=[\"line 1\", \"line 2\", \"line 3\", \"line 8\", \"line 12\"], markers=True, line_shape=\"spline\",\n",
    "              color_discrete_sequence=[px.colors.qualitative.Pastel[0], px.colors.qualitative.Pastel[1], px.colors.qualitative.Pastel[2], px.colors.qualitative.Pastel[3], px.colors.qualitative.Pastel[8]],\n",
    "              width=1000, height=450)\n",
    "\n",
    "#fig4.update(layout={\"title\": {\"x\": 0.3, \"y\": 0.8}})\n",
    "fig4.update_xaxes(tickangle=300)\n",
    "#fig4.add_vline(x=12, line_dash=\"dot\", annotation_text=\"First COVID-19 Case in LA\")\n",
    "fig4.add_vline(x=12, line_dash=\"dot\", annotation_text=\"First COVID-19 Case in LA\", annotation_position=\"top left\")\n",
    "fig4.add_vline(x=14, line_dash=\"dot\", annotation_text=\"CA Stay at Home Order Issued\", annotation_position=\"top right\")\n",
    "#fig.add_vline(x=\"Jan-2020\", line_dash=\"dash\", annotation_text=\"First Case of COVID-19 in USA\", annotation_position=\"top right\")\n",
    "\n",
    "fig4.update_yaxes(nticks=15)\n",
    "fig4.update_layout(yaxis_tickformat = ',')\n",
    "#fig.update_yaxes(tickvals=[\"0\", \"2,000\", \"4,000\", \"6,000\", \"8,000\", \"10,000\", \"12,000\", \"14,000\", \"16,000\", \"18,000\", \"20,000\"])\n",
    "#fig.update_layout(hovermode=\"x\")\n",
    "\n",
    "config = {'responsive': True}\n",
    "\n",
    "\n",
    "fig4.show(config=config)"
   ]
  },
  {
   "cell_type": "code",
   "execution_count": 73,
   "id": "d0972df2-b9bb-48b9-be44-b569cd7dac92",
   "metadata": {},
   "outputs": [],
   "source": [
    "write_html(fig4, \"bbb-ridership.html\")"
   ]
  },
  {
   "cell_type": "markdown",
   "id": "c89bd05b-1fef-4ae0-91a2-491f57f32b87",
   "metadata": {},
   "source": [
    "### All Transports"
   ]
  },
  {
   "cell_type": "code",
   "execution_count": 74,
   "id": "f1921ba2-a0ff-4f8e-8fb9-088a30c0e26e",
   "metadata": {},
   "outputs": [],
   "source": [
    "transports[\"Santa Monica BBB\"] = smbbb[\"total ridership\"]"
   ]
  },
  {
   "cell_type": "code",
   "execution_count": 75,
   "id": "4eea29d9-ed52-4525-9fee-e5811edeed77",
   "metadata": {},
   "outputs": [
    {
     "data": {
      "text/html": [
       "<div>\n",
       "<style scoped>\n",
       "    .dataframe tbody tr th:only-of-type {\n",
       "        vertical-align: middle;\n",
       "    }\n",
       "\n",
       "    .dataframe tbody tr th {\n",
       "        vertical-align: top;\n",
       "    }\n",
       "\n",
       "    .dataframe thead th {\n",
       "        text-align: right;\n",
       "    }\n",
       "</style>\n",
       "<table border=\"1\" class=\"dataframe\">\n",
       "  <thead>\n",
       "    <tr style=\"text-align: right;\">\n",
       "      <th></th>\n",
       "      <th>date</th>\n",
       "      <th>LADOT</th>\n",
       "      <th>AVTA</th>\n",
       "      <th>Santa Clarita Transit</th>\n",
       "      <th>Santa Monica BBB</th>\n",
       "    </tr>\n",
       "  </thead>\n",
       "  <tbody>\n",
       "    <tr>\n",
       "      <th>0</th>\n",
       "      <td>Jan. 19</td>\n",
       "      <td>23025.0</td>\n",
       "      <td>3600</td>\n",
       "      <td>7188</td>\n",
       "      <td>NaN</td>\n",
       "    </tr>\n",
       "    <tr>\n",
       "      <th>1</th>\n",
       "      <td>Feb. 19</td>\n",
       "      <td>22187.0</td>\n",
       "      <td>2930</td>\n",
       "      <td>7245</td>\n",
       "      <td>NaN</td>\n",
       "    </tr>\n",
       "    <tr>\n",
       "      <th>2</th>\n",
       "      <td>Mar. 19</td>\n",
       "      <td>23928.0</td>\n",
       "      <td>3289</td>\n",
       "      <td>7096</td>\n",
       "      <td>511780.54</td>\n",
       "    </tr>\n",
       "    <tr>\n",
       "      <th>3</th>\n",
       "      <td>Apr. 19</td>\n",
       "      <td>24341.0</td>\n",
       "      <td>4070</td>\n",
       "      <td>7499</td>\n",
       "      <td>NaN</td>\n",
       "    </tr>\n",
       "    <tr>\n",
       "      <th>4</th>\n",
       "      <td>May. 19</td>\n",
       "      <td>25394.0</td>\n",
       "      <td>4206</td>\n",
       "      <td>7327</td>\n",
       "      <td>NaN</td>\n",
       "    </tr>\n",
       "  </tbody>\n",
       "</table>\n",
       "</div>"
      ],
      "text/plain": [
       "      date    LADOT  AVTA  Santa Clarita Transit  Santa Monica BBB\n",
       "0  Jan. 19  23025.0  3600                   7188               NaN\n",
       "1  Feb. 19  22187.0  2930                   7245               NaN\n",
       "2  Mar. 19  23928.0  3289                   7096         511780.54\n",
       "3  Apr. 19  24341.0  4070                   7499               NaN\n",
       "4  May. 19  25394.0  4206                   7327               NaN"
      ]
     },
     "execution_count": 75,
     "metadata": {},
     "output_type": "execute_result"
    }
   ],
   "source": [
    "transports.head()"
   ]
  },
  {
   "cell_type": "code",
   "execution_count": 79,
   "id": "527c1de9-61fa-40b8-bcc7-c176c503deac",
   "metadata": {},
   "outputs": [],
   "source": [
    "avgs = pd.DataFrame()\n",
    "avgs[\"date\"] = ladot[\"date\"]\n",
    "avgs[\"LADOT\"] = (transports[\"LADOT\"]/3).round(2)\n",
    "avgs[\"AVTA\"] = transports[\"AVTA\"]\n",
    "avgs[\"Santa Clarita Transit\"] = (transports[\"Santa Clarita Transit\"]/2).round(2)\n",
    "avgs[\"Big Blue Bus\"] = (transports[\"Santa Monica BBB\"]/5).round(2)"
   ]
  },
  {
   "cell_type": "code",
   "execution_count": 80,
   "id": "8b626c03-4d24-452b-81ee-b7b3ead2f9a5",
   "metadata": {},
   "outputs": [
    {
     "data": {
      "text/html": [
       "<div>\n",
       "<style scoped>\n",
       "    .dataframe tbody tr th:only-of-type {\n",
       "        vertical-align: middle;\n",
       "    }\n",
       "\n",
       "    .dataframe tbody tr th {\n",
       "        vertical-align: top;\n",
       "    }\n",
       "\n",
       "    .dataframe thead th {\n",
       "        text-align: right;\n",
       "    }\n",
       "</style>\n",
       "<table border=\"1\" class=\"dataframe\">\n",
       "  <thead>\n",
       "    <tr style=\"text-align: right;\">\n",
       "      <th></th>\n",
       "      <th>date</th>\n",
       "      <th>LADOT</th>\n",
       "      <th>AVTA</th>\n",
       "      <th>Santa Clarita Transit</th>\n",
       "      <th>Big Blue Bus</th>\n",
       "    </tr>\n",
       "  </thead>\n",
       "  <tbody>\n",
       "    <tr>\n",
       "      <th>0</th>\n",
       "      <td>Jan. 19</td>\n",
       "      <td>7675.00</td>\n",
       "      <td>3600</td>\n",
       "      <td>3594.0</td>\n",
       "      <td>NaN</td>\n",
       "    </tr>\n",
       "    <tr>\n",
       "      <th>1</th>\n",
       "      <td>Feb. 19</td>\n",
       "      <td>7395.67</td>\n",
       "      <td>2930</td>\n",
       "      <td>3622.5</td>\n",
       "      <td>NaN</td>\n",
       "    </tr>\n",
       "    <tr>\n",
       "      <th>2</th>\n",
       "      <td>Mar. 19</td>\n",
       "      <td>7976.00</td>\n",
       "      <td>3289</td>\n",
       "      <td>3548.0</td>\n",
       "      <td>102356.11</td>\n",
       "    </tr>\n",
       "    <tr>\n",
       "      <th>3</th>\n",
       "      <td>Apr. 19</td>\n",
       "      <td>8113.67</td>\n",
       "      <td>4070</td>\n",
       "      <td>3749.5</td>\n",
       "      <td>NaN</td>\n",
       "    </tr>\n",
       "    <tr>\n",
       "      <th>4</th>\n",
       "      <td>May. 19</td>\n",
       "      <td>8464.67</td>\n",
       "      <td>4206</td>\n",
       "      <td>3663.5</td>\n",
       "      <td>NaN</td>\n",
       "    </tr>\n",
       "    <tr>\n",
       "      <th>5</th>\n",
       "      <td>Jun. 19</td>\n",
       "      <td>7498.33</td>\n",
       "      <td>1876</td>\n",
       "      <td>2629.0</td>\n",
       "      <td>96350.40</td>\n",
       "    </tr>\n",
       "    <tr>\n",
       "      <th>6</th>\n",
       "      <td>Jul. 19</td>\n",
       "      <td>8184.33</td>\n",
       "      <td>1482</td>\n",
       "      <td>3485.5</td>\n",
       "      <td>NaN</td>\n",
       "    </tr>\n",
       "    <tr>\n",
       "      <th>7</th>\n",
       "      <td>Aug. 19</td>\n",
       "      <td>8245.67</td>\n",
       "      <td>3261</td>\n",
       "      <td>3510.0</td>\n",
       "      <td>108204.15</td>\n",
       "    </tr>\n",
       "    <tr>\n",
       "      <th>8</th>\n",
       "      <td>Sep. 19</td>\n",
       "      <td>7700.67</td>\n",
       "      <td>3209</td>\n",
       "      <td>3467.0</td>\n",
       "      <td>NaN</td>\n",
       "    </tr>\n",
       "    <tr>\n",
       "      <th>9</th>\n",
       "      <td>Oct. 19</td>\n",
       "      <td>8367.33</td>\n",
       "      <td>3285</td>\n",
       "      <td>4023.5</td>\n",
       "      <td>NaN</td>\n",
       "    </tr>\n",
       "    <tr>\n",
       "      <th>10</th>\n",
       "      <td>Nov. 19</td>\n",
       "      <td>7111.67</td>\n",
       "      <td>2990</td>\n",
       "      <td>3133.0</td>\n",
       "      <td>NaN</td>\n",
       "    </tr>\n",
       "    <tr>\n",
       "      <th>11</th>\n",
       "      <td>Dec. 19</td>\n",
       "      <td>6334.67</td>\n",
       "      <td>2388</td>\n",
       "      <td>2804.5</td>\n",
       "      <td>NaN</td>\n",
       "    </tr>\n",
       "    <tr>\n",
       "      <th>12</th>\n",
       "      <td>Jan. 20</td>\n",
       "      <td>6846.00</td>\n",
       "      <td>3005</td>\n",
       "      <td>3691.5</td>\n",
       "      <td>NaN</td>\n",
       "    </tr>\n",
       "    <tr>\n",
       "      <th>13</th>\n",
       "      <td>Feb. 20</td>\n",
       "      <td>5583.67</td>\n",
       "      <td>2991</td>\n",
       "      <td>3293.0</td>\n",
       "      <td>58361.74</td>\n",
       "    </tr>\n",
       "    <tr>\n",
       "      <th>14</th>\n",
       "      <td>Mar. 20</td>\n",
       "      <td>3077.33</td>\n",
       "      <td>1762</td>\n",
       "      <td>1963.0</td>\n",
       "      <td>NaN</td>\n",
       "    </tr>\n",
       "    <tr>\n",
       "      <th>15</th>\n",
       "      <td>Apr. 20</td>\n",
       "      <td>405.00</td>\n",
       "      <td>0</td>\n",
       "      <td>220.5</td>\n",
       "      <td>NaN</td>\n",
       "    </tr>\n",
       "    <tr>\n",
       "      <th>16</th>\n",
       "      <td>May. 20</td>\n",
       "      <td>484.00</td>\n",
       "      <td>230</td>\n",
       "      <td>290.0</td>\n",
       "      <td>46392.21</td>\n",
       "    </tr>\n",
       "    <tr>\n",
       "      <th>17</th>\n",
       "      <td>Jun. 20</td>\n",
       "      <td>786.33</td>\n",
       "      <td>780</td>\n",
       "      <td>536.5</td>\n",
       "      <td>NaN</td>\n",
       "    </tr>\n",
       "    <tr>\n",
       "      <th>18</th>\n",
       "      <td>Jul. 20</td>\n",
       "      <td>944.00</td>\n",
       "      <td>468</td>\n",
       "      <td>535.5</td>\n",
       "      <td>NaN</td>\n",
       "    </tr>\n",
       "    <tr>\n",
       "      <th>19</th>\n",
       "      <td>Aug. 20</td>\n",
       "      <td>955.33</td>\n",
       "      <td>0</td>\n",
       "      <td>583.5</td>\n",
       "      <td>NaN</td>\n",
       "    </tr>\n",
       "    <tr>\n",
       "      <th>20</th>\n",
       "      <td>Sep. 20</td>\n",
       "      <td>1068.00</td>\n",
       "      <td>0</td>\n",
       "      <td>646.5</td>\n",
       "      <td>45028.23</td>\n",
       "    </tr>\n",
       "    <tr>\n",
       "      <th>21</th>\n",
       "      <td>Oct. 20</td>\n",
       "      <td>1139.67</td>\n",
       "      <td>473</td>\n",
       "      <td>783.5</td>\n",
       "      <td>NaN</td>\n",
       "    </tr>\n",
       "    <tr>\n",
       "      <th>22</th>\n",
       "      <td>Nov. 20</td>\n",
       "      <td>1044.67</td>\n",
       "      <td>760</td>\n",
       "      <td>602.0</td>\n",
       "      <td>NaN</td>\n",
       "    </tr>\n",
       "    <tr>\n",
       "      <th>23</th>\n",
       "      <td>Dec. 20</td>\n",
       "      <td>819.00</td>\n",
       "      <td>866</td>\n",
       "      <td>565.5</td>\n",
       "      <td>NaN</td>\n",
       "    </tr>\n",
       "    <tr>\n",
       "      <th>24</th>\n",
       "      <td>Jan. 21</td>\n",
       "      <td>844.33</td>\n",
       "      <td>954</td>\n",
       "      <td>679.5</td>\n",
       "      <td>NaN</td>\n",
       "    </tr>\n",
       "    <tr>\n",
       "      <th>25</th>\n",
       "      <td>Feb. 21</td>\n",
       "      <td>950.33</td>\n",
       "      <td>1047</td>\n",
       "      <td>717.0</td>\n",
       "      <td>NaN</td>\n",
       "    </tr>\n",
       "    <tr>\n",
       "      <th>26</th>\n",
       "      <td>Mar. 21</td>\n",
       "      <td>1227.00</td>\n",
       "      <td>1262</td>\n",
       "      <td>826.5</td>\n",
       "      <td>NaN</td>\n",
       "    </tr>\n",
       "    <tr>\n",
       "      <th>27</th>\n",
       "      <td>Apr. 21</td>\n",
       "      <td>1256.33</td>\n",
       "      <td>42</td>\n",
       "      <td>740.5</td>\n",
       "      <td>48174.15</td>\n",
       "    </tr>\n",
       "    <tr>\n",
       "      <th>28</th>\n",
       "      <td>May. 21</td>\n",
       "      <td>1250.67</td>\n",
       "      <td>0</td>\n",
       "      <td>802.0</td>\n",
       "      <td>NaN</td>\n",
       "    </tr>\n",
       "    <tr>\n",
       "      <th>29</th>\n",
       "      <td>Jun. 21</td>\n",
       "      <td>1674.00</td>\n",
       "      <td>78</td>\n",
       "      <td>1091.0</td>\n",
       "      <td>NaN</td>\n",
       "    </tr>\n",
       "    <tr>\n",
       "      <th>30</th>\n",
       "      <td>Jul. 21</td>\n",
       "      <td>1600.67</td>\n",
       "      <td>94</td>\n",
       "      <td>1052.5</td>\n",
       "      <td>NaN</td>\n",
       "    </tr>\n",
       "    <tr>\n",
       "      <th>31</th>\n",
       "      <td>Aug. 21</td>\n",
       "      <td>2045.33</td>\n",
       "      <td>0</td>\n",
       "      <td>1224.5</td>\n",
       "      <td>55555.95</td>\n",
       "    </tr>\n",
       "    <tr>\n",
       "      <th>32</th>\n",
       "      <td>Sep. 21</td>\n",
       "      <td>2440.33</td>\n",
       "      <td>62</td>\n",
       "      <td>994.0</td>\n",
       "      <td>NaN</td>\n",
       "    </tr>\n",
       "    <tr>\n",
       "      <th>33</th>\n",
       "      <td>Oct. 21</td>\n",
       "      <td>2459.33</td>\n",
       "      <td>59</td>\n",
       "      <td>1541.0</td>\n",
       "      <td>NaN</td>\n",
       "    </tr>\n",
       "  </tbody>\n",
       "</table>\n",
       "</div>"
      ],
      "text/plain": [
       "       date    LADOT  AVTA  Santa Clarita Transit  Big Blue Bus\n",
       "0   Jan. 19  7675.00  3600                 3594.0           NaN\n",
       "1   Feb. 19  7395.67  2930                 3622.5           NaN\n",
       "2   Mar. 19  7976.00  3289                 3548.0     102356.11\n",
       "3   Apr. 19  8113.67  4070                 3749.5           NaN\n",
       "4   May. 19  8464.67  4206                 3663.5           NaN\n",
       "5   Jun. 19  7498.33  1876                 2629.0      96350.40\n",
       "6   Jul. 19  8184.33  1482                 3485.5           NaN\n",
       "7   Aug. 19  8245.67  3261                 3510.0     108204.15\n",
       "8   Sep. 19  7700.67  3209                 3467.0           NaN\n",
       "9   Oct. 19  8367.33  3285                 4023.5           NaN\n",
       "10  Nov. 19  7111.67  2990                 3133.0           NaN\n",
       "11  Dec. 19  6334.67  2388                 2804.5           NaN\n",
       "12  Jan. 20  6846.00  3005                 3691.5           NaN\n",
       "13  Feb. 20  5583.67  2991                 3293.0      58361.74\n",
       "14  Mar. 20  3077.33  1762                 1963.0           NaN\n",
       "15  Apr. 20   405.00     0                  220.5           NaN\n",
       "16  May. 20   484.00   230                  290.0      46392.21\n",
       "17  Jun. 20   786.33   780                  536.5           NaN\n",
       "18  Jul. 20   944.00   468                  535.5           NaN\n",
       "19  Aug. 20   955.33     0                  583.5           NaN\n",
       "20  Sep. 20  1068.00     0                  646.5      45028.23\n",
       "21  Oct. 20  1139.67   473                  783.5           NaN\n",
       "22  Nov. 20  1044.67   760                  602.0           NaN\n",
       "23  Dec. 20   819.00   866                  565.5           NaN\n",
       "24  Jan. 21   844.33   954                  679.5           NaN\n",
       "25  Feb. 21   950.33  1047                  717.0           NaN\n",
       "26  Mar. 21  1227.00  1262                  826.5           NaN\n",
       "27  Apr. 21  1256.33    42                  740.5      48174.15\n",
       "28  May. 21  1250.67     0                  802.0           NaN\n",
       "29  Jun. 21  1674.00    78                 1091.0           NaN\n",
       "30  Jul. 21  1600.67    94                 1052.5           NaN\n",
       "31  Aug. 21  2045.33     0                 1224.5      55555.95\n",
       "32  Sep. 21  2440.33    62                  994.0           NaN\n",
       "33  Oct. 21  2459.33    59                 1541.0           NaN"
      ]
     },
     "execution_count": 80,
     "metadata": {},
     "output_type": "execute_result"
    }
   ],
   "source": [
    "avgs"
   ]
  },
  {
   "cell_type": "code",
   "execution_count": 82,
   "id": "4ce338b3-18f0-4a37-8d7a-f9c5689eec89",
   "metadata": {},
   "outputs": [
    {
     "data": {
      "application/vnd.plotly.v1+json": {
       "config": {
        "plotlyServerURL": "https://plot.ly"
       },
       "data": [
        {
         "hovertemplate": "LA Public Transit=LADOT<br>Date=%{x}<br>Number of Riders=%{y}<extra></extra>",
         "legendgroup": "LADOT",
         "line": {
          "color": "rgb(102, 197, 204)",
          "dash": "solid",
          "shape": "spline"
         },
         "marker": {
          "symbol": "circle"
         },
         "mode": "markers+lines",
         "name": "LADOT",
         "orientation": "v",
         "showlegend": true,
         "type": "scatter",
         "x": [
          "Jan. 19",
          "Feb. 19",
          "Mar. 19",
          "Apr. 19",
          "May. 19",
          "Jun. 19",
          "Jul. 19",
          "Aug. 19",
          "Sep. 19",
          "Oct. 19",
          "Nov. 19",
          "Dec. 19",
          "Jan. 20",
          "Feb. 20",
          "Mar. 20",
          "Apr. 20",
          "May. 20",
          "Jun. 20",
          "Jul. 20",
          "Aug. 20",
          "Sep. 20",
          "Oct. 20",
          "Nov. 20",
          "Dec. 20",
          "Jan. 21",
          "Feb. 21",
          "Mar. 21",
          "Apr. 21",
          "May. 21",
          "Jun. 21",
          "Jul. 21",
          "Aug. 21",
          "Sep. 21",
          "Oct. 21"
         ],
         "xaxis": "x",
         "y": [
          7675,
          7395.67,
          7976,
          8113.67,
          8464.67,
          7498.33,
          8184.33,
          8245.67,
          7700.67,
          8367.33,
          7111.67,
          6334.67,
          6846,
          5583.67,
          3077.33,
          405,
          484,
          786.33,
          944,
          955.33,
          1068,
          1139.67,
          1044.67,
          819,
          844.33,
          950.33,
          1227,
          1256.33,
          1250.67,
          1674,
          1600.67,
          2045.33,
          2440.33,
          2459.33
         ],
         "yaxis": "y"
        },
        {
         "hovertemplate": "LA Public Transit=AVTA<br>Date=%{x}<br>Number of Riders=%{y}<extra></extra>",
         "legendgroup": "AVTA",
         "line": {
          "color": "rgb(246, 207, 113)",
          "dash": "solid",
          "shape": "spline"
         },
         "marker": {
          "symbol": "circle"
         },
         "mode": "markers+lines",
         "name": "AVTA",
         "orientation": "v",
         "showlegend": true,
         "type": "scatter",
         "x": [
          "Jan. 19",
          "Feb. 19",
          "Mar. 19",
          "Apr. 19",
          "May. 19",
          "Jun. 19",
          "Jul. 19",
          "Aug. 19",
          "Sep. 19",
          "Oct. 19",
          "Nov. 19",
          "Dec. 19",
          "Jan. 20",
          "Feb. 20",
          "Mar. 20",
          "Apr. 20",
          "May. 20",
          "Jun. 20",
          "Jul. 20",
          "Aug. 20",
          "Sep. 20",
          "Oct. 20",
          "Nov. 20",
          "Dec. 20",
          "Jan. 21",
          "Feb. 21",
          "Mar. 21",
          "Apr. 21",
          "May. 21",
          "Jun. 21",
          "Jul. 21",
          "Aug. 21",
          "Sep. 21",
          "Oct. 21"
         ],
         "xaxis": "x",
         "y": [
          3600,
          2930,
          3289,
          4070,
          4206,
          1876,
          1482,
          3261,
          3209,
          3285,
          2990,
          2388,
          3005,
          2991,
          1762,
          0,
          230,
          780,
          468,
          0,
          0,
          473,
          760,
          866,
          954,
          1047,
          1262,
          42,
          0,
          78,
          94,
          0,
          62,
          59
         ],
         "yaxis": "y"
        },
        {
         "hovertemplate": "LA Public Transit=Santa Clarita Transit<br>Date=%{x}<br>Number of Riders=%{y}<extra></extra>",
         "legendgroup": "Santa Clarita Transit",
         "line": {
          "color": "rgb(248, 156, 116)",
          "dash": "solid",
          "shape": "spline"
         },
         "marker": {
          "symbol": "circle"
         },
         "mode": "markers+lines",
         "name": "Santa Clarita Transit",
         "orientation": "v",
         "showlegend": true,
         "type": "scatter",
         "x": [
          "Jan. 19",
          "Feb. 19",
          "Mar. 19",
          "Apr. 19",
          "May. 19",
          "Jun. 19",
          "Jul. 19",
          "Aug. 19",
          "Sep. 19",
          "Oct. 19",
          "Nov. 19",
          "Dec. 19",
          "Jan. 20",
          "Feb. 20",
          "Mar. 20",
          "Apr. 20",
          "May. 20",
          "Jun. 20",
          "Jul. 20",
          "Aug. 20",
          "Sep. 20",
          "Oct. 20",
          "Nov. 20",
          "Dec. 20",
          "Jan. 21",
          "Feb. 21",
          "Mar. 21",
          "Apr. 21",
          "May. 21",
          "Jun. 21",
          "Jul. 21",
          "Aug. 21",
          "Sep. 21",
          "Oct. 21"
         ],
         "xaxis": "x",
         "y": [
          3594,
          3622.5,
          3548,
          3749.5,
          3663.5,
          2629,
          3485.5,
          3510,
          3467,
          4023.5,
          3133,
          2804.5,
          3691.5,
          3293,
          1963,
          220.5,
          290,
          536.5,
          535.5,
          583.5,
          646.5,
          783.5,
          602,
          565.5,
          679.5,
          717,
          826.5,
          740.5,
          802,
          1091,
          1052.5,
          1224.5,
          994,
          1541
         ],
         "yaxis": "y"
        },
        {
         "hovertemplate": "LA Public Transit=Big Blue Bus<br>Date=%{x}<br>Number of Riders=%{y}<extra></extra>",
         "legendgroup": "Big Blue Bus",
         "line": {
          "color": "rgb(220, 176, 242)",
          "dash": "solid",
          "shape": "spline"
         },
         "marker": {
          "symbol": "circle"
         },
         "mode": "markers+lines",
         "name": "Big Blue Bus",
         "orientation": "v",
         "showlegend": true,
         "type": "scatter",
         "x": [
          "Jan. 19",
          "Feb. 19",
          "Mar. 19",
          "Apr. 19",
          "May. 19",
          "Jun. 19",
          "Jul. 19",
          "Aug. 19",
          "Sep. 19",
          "Oct. 19",
          "Nov. 19",
          "Dec. 19",
          "Jan. 20",
          "Feb. 20",
          "Mar. 20",
          "Apr. 20",
          "May. 20",
          "Jun. 20",
          "Jul. 20",
          "Aug. 20",
          "Sep. 20",
          "Oct. 20",
          "Nov. 20",
          "Dec. 20",
          "Jan. 21",
          "Feb. 21",
          "Mar. 21",
          "Apr. 21",
          "May. 21",
          "Jun. 21",
          "Jul. 21",
          "Aug. 21",
          "Sep. 21",
          "Oct. 21"
         ],
         "xaxis": "x",
         "y": [
          null,
          null,
          102356.11,
          null,
          null,
          96350.4,
          null,
          108204.15,
          null,
          null,
          null,
          null,
          null,
          58361.74,
          null,
          null,
          46392.21,
          null,
          null,
          null,
          45028.23,
          null,
          null,
          null,
          null,
          null,
          null,
          48174.15,
          null,
          null,
          null,
          55555.95,
          null,
          null
         ],
         "yaxis": "y"
        }
       ],
       "layout": {
        "annotations": [
         {
          "showarrow": false,
          "text": "First COVID-19 Case in LA",
          "x": 12,
          "xanchor": "right",
          "xref": "x",
          "y": 1,
          "yanchor": "top",
          "yref": "y domain"
         },
         {
          "showarrow": false,
          "text": "CA Stay at Home Order Issued",
          "x": 14,
          "xanchor": "left",
          "xref": "x",
          "y": 1,
          "yanchor": "top",
          "yref": "y domain"
         }
        ],
        "height": 450,
        "legend": {
         "title": {
          "text": "LA Public Transit"
         },
         "tracegroupgap": 0
        },
        "shapes": [
         {
          "line": {
           "dash": "dot"
          },
          "type": "line",
          "x0": 12,
          "x1": 12,
          "xref": "x",
          "y0": 0,
          "y1": 1,
          "yref": "y domain"
         },
         {
          "line": {
           "dash": "dot"
          },
          "type": "line",
          "x0": 14,
          "x1": 14,
          "xref": "x",
          "y0": 0,
          "y1": 1,
          "yref": "y domain"
         }
        ],
        "template": {
         "data": {
          "bar": [
           {
            "error_x": {
             "color": "#2a3f5f"
            },
            "error_y": {
             "color": "#2a3f5f"
            },
            "marker": {
             "line": {
              "color": "#E5ECF6",
              "width": 0.5
             },
             "pattern": {
              "fillmode": "overlay",
              "size": 10,
              "solidity": 0.2
             }
            },
            "type": "bar"
           }
          ],
          "barpolar": [
           {
            "marker": {
             "line": {
              "color": "#E5ECF6",
              "width": 0.5
             },
             "pattern": {
              "fillmode": "overlay",
              "size": 10,
              "solidity": 0.2
             }
            },
            "type": "barpolar"
           }
          ],
          "carpet": [
           {
            "aaxis": {
             "endlinecolor": "#2a3f5f",
             "gridcolor": "white",
             "linecolor": "white",
             "minorgridcolor": "white",
             "startlinecolor": "#2a3f5f"
            },
            "baxis": {
             "endlinecolor": "#2a3f5f",
             "gridcolor": "white",
             "linecolor": "white",
             "minorgridcolor": "white",
             "startlinecolor": "#2a3f5f"
            },
            "type": "carpet"
           }
          ],
          "choropleth": [
           {
            "colorbar": {
             "outlinewidth": 0,
             "ticks": ""
            },
            "type": "choropleth"
           }
          ],
          "contour": [
           {
            "colorbar": {
             "outlinewidth": 0,
             "ticks": ""
            },
            "colorscale": [
             [
              0,
              "#0d0887"
             ],
             [
              0.1111111111111111,
              "#46039f"
             ],
             [
              0.2222222222222222,
              "#7201a8"
             ],
             [
              0.3333333333333333,
              "#9c179e"
             ],
             [
              0.4444444444444444,
              "#bd3786"
             ],
             [
              0.5555555555555556,
              "#d8576b"
             ],
             [
              0.6666666666666666,
              "#ed7953"
             ],
             [
              0.7777777777777778,
              "#fb9f3a"
             ],
             [
              0.8888888888888888,
              "#fdca26"
             ],
             [
              1,
              "#f0f921"
             ]
            ],
            "type": "contour"
           }
          ],
          "contourcarpet": [
           {
            "colorbar": {
             "outlinewidth": 0,
             "ticks": ""
            },
            "type": "contourcarpet"
           }
          ],
          "heatmap": [
           {
            "colorbar": {
             "outlinewidth": 0,
             "ticks": ""
            },
            "colorscale": [
             [
              0,
              "#0d0887"
             ],
             [
              0.1111111111111111,
              "#46039f"
             ],
             [
              0.2222222222222222,
              "#7201a8"
             ],
             [
              0.3333333333333333,
              "#9c179e"
             ],
             [
              0.4444444444444444,
              "#bd3786"
             ],
             [
              0.5555555555555556,
              "#d8576b"
             ],
             [
              0.6666666666666666,
              "#ed7953"
             ],
             [
              0.7777777777777778,
              "#fb9f3a"
             ],
             [
              0.8888888888888888,
              "#fdca26"
             ],
             [
              1,
              "#f0f921"
             ]
            ],
            "type": "heatmap"
           }
          ],
          "heatmapgl": [
           {
            "colorbar": {
             "outlinewidth": 0,
             "ticks": ""
            },
            "colorscale": [
             [
              0,
              "#0d0887"
             ],
             [
              0.1111111111111111,
              "#46039f"
             ],
             [
              0.2222222222222222,
              "#7201a8"
             ],
             [
              0.3333333333333333,
              "#9c179e"
             ],
             [
              0.4444444444444444,
              "#bd3786"
             ],
             [
              0.5555555555555556,
              "#d8576b"
             ],
             [
              0.6666666666666666,
              "#ed7953"
             ],
             [
              0.7777777777777778,
              "#fb9f3a"
             ],
             [
              0.8888888888888888,
              "#fdca26"
             ],
             [
              1,
              "#f0f921"
             ]
            ],
            "type": "heatmapgl"
           }
          ],
          "histogram": [
           {
            "marker": {
             "pattern": {
              "fillmode": "overlay",
              "size": 10,
              "solidity": 0.2
             }
            },
            "type": "histogram"
           }
          ],
          "histogram2d": [
           {
            "colorbar": {
             "outlinewidth": 0,
             "ticks": ""
            },
            "colorscale": [
             [
              0,
              "#0d0887"
             ],
             [
              0.1111111111111111,
              "#46039f"
             ],
             [
              0.2222222222222222,
              "#7201a8"
             ],
             [
              0.3333333333333333,
              "#9c179e"
             ],
             [
              0.4444444444444444,
              "#bd3786"
             ],
             [
              0.5555555555555556,
              "#d8576b"
             ],
             [
              0.6666666666666666,
              "#ed7953"
             ],
             [
              0.7777777777777778,
              "#fb9f3a"
             ],
             [
              0.8888888888888888,
              "#fdca26"
             ],
             [
              1,
              "#f0f921"
             ]
            ],
            "type": "histogram2d"
           }
          ],
          "histogram2dcontour": [
           {
            "colorbar": {
             "outlinewidth": 0,
             "ticks": ""
            },
            "colorscale": [
             [
              0,
              "#0d0887"
             ],
             [
              0.1111111111111111,
              "#46039f"
             ],
             [
              0.2222222222222222,
              "#7201a8"
             ],
             [
              0.3333333333333333,
              "#9c179e"
             ],
             [
              0.4444444444444444,
              "#bd3786"
             ],
             [
              0.5555555555555556,
              "#d8576b"
             ],
             [
              0.6666666666666666,
              "#ed7953"
             ],
             [
              0.7777777777777778,
              "#fb9f3a"
             ],
             [
              0.8888888888888888,
              "#fdca26"
             ],
             [
              1,
              "#f0f921"
             ]
            ],
            "type": "histogram2dcontour"
           }
          ],
          "mesh3d": [
           {
            "colorbar": {
             "outlinewidth": 0,
             "ticks": ""
            },
            "type": "mesh3d"
           }
          ],
          "parcoords": [
           {
            "line": {
             "colorbar": {
              "outlinewidth": 0,
              "ticks": ""
             }
            },
            "type": "parcoords"
           }
          ],
          "pie": [
           {
            "automargin": true,
            "type": "pie"
           }
          ],
          "scatter": [
           {
            "marker": {
             "colorbar": {
              "outlinewidth": 0,
              "ticks": ""
             }
            },
            "type": "scatter"
           }
          ],
          "scatter3d": [
           {
            "line": {
             "colorbar": {
              "outlinewidth": 0,
              "ticks": ""
             }
            },
            "marker": {
             "colorbar": {
              "outlinewidth": 0,
              "ticks": ""
             }
            },
            "type": "scatter3d"
           }
          ],
          "scattercarpet": [
           {
            "marker": {
             "colorbar": {
              "outlinewidth": 0,
              "ticks": ""
             }
            },
            "type": "scattercarpet"
           }
          ],
          "scattergeo": [
           {
            "marker": {
             "colorbar": {
              "outlinewidth": 0,
              "ticks": ""
             }
            },
            "type": "scattergeo"
           }
          ],
          "scattergl": [
           {
            "marker": {
             "colorbar": {
              "outlinewidth": 0,
              "ticks": ""
             }
            },
            "type": "scattergl"
           }
          ],
          "scattermapbox": [
           {
            "marker": {
             "colorbar": {
              "outlinewidth": 0,
              "ticks": ""
             }
            },
            "type": "scattermapbox"
           }
          ],
          "scatterpolar": [
           {
            "marker": {
             "colorbar": {
              "outlinewidth": 0,
              "ticks": ""
             }
            },
            "type": "scatterpolar"
           }
          ],
          "scatterpolargl": [
           {
            "marker": {
             "colorbar": {
              "outlinewidth": 0,
              "ticks": ""
             }
            },
            "type": "scatterpolargl"
           }
          ],
          "scatterternary": [
           {
            "marker": {
             "colorbar": {
              "outlinewidth": 0,
              "ticks": ""
             }
            },
            "type": "scatterternary"
           }
          ],
          "surface": [
           {
            "colorbar": {
             "outlinewidth": 0,
             "ticks": ""
            },
            "colorscale": [
             [
              0,
              "#0d0887"
             ],
             [
              0.1111111111111111,
              "#46039f"
             ],
             [
              0.2222222222222222,
              "#7201a8"
             ],
             [
              0.3333333333333333,
              "#9c179e"
             ],
             [
              0.4444444444444444,
              "#bd3786"
             ],
             [
              0.5555555555555556,
              "#d8576b"
             ],
             [
              0.6666666666666666,
              "#ed7953"
             ],
             [
              0.7777777777777778,
              "#fb9f3a"
             ],
             [
              0.8888888888888888,
              "#fdca26"
             ],
             [
              1,
              "#f0f921"
             ]
            ],
            "type": "surface"
           }
          ],
          "table": [
           {
            "cells": {
             "fill": {
              "color": "#EBF0F8"
             },
             "line": {
              "color": "white"
             }
            },
            "header": {
             "fill": {
              "color": "#C8D4E3"
             },
             "line": {
              "color": "white"
             }
            },
            "type": "table"
           }
          ]
         },
         "layout": {
          "annotationdefaults": {
           "arrowcolor": "#2a3f5f",
           "arrowhead": 0,
           "arrowwidth": 1
          },
          "autotypenumbers": "strict",
          "coloraxis": {
           "colorbar": {
            "outlinewidth": 0,
            "ticks": ""
           }
          },
          "colorscale": {
           "diverging": [
            [
             0,
             "#8e0152"
            ],
            [
             0.1,
             "#c51b7d"
            ],
            [
             0.2,
             "#de77ae"
            ],
            [
             0.3,
             "#f1b6da"
            ],
            [
             0.4,
             "#fde0ef"
            ],
            [
             0.5,
             "#f7f7f7"
            ],
            [
             0.6,
             "#e6f5d0"
            ],
            [
             0.7,
             "#b8e186"
            ],
            [
             0.8,
             "#7fbc41"
            ],
            [
             0.9,
             "#4d9221"
            ],
            [
             1,
             "#276419"
            ]
           ],
           "sequential": [
            [
             0,
             "#0d0887"
            ],
            [
             0.1111111111111111,
             "#46039f"
            ],
            [
             0.2222222222222222,
             "#7201a8"
            ],
            [
             0.3333333333333333,
             "#9c179e"
            ],
            [
             0.4444444444444444,
             "#bd3786"
            ],
            [
             0.5555555555555556,
             "#d8576b"
            ],
            [
             0.6666666666666666,
             "#ed7953"
            ],
            [
             0.7777777777777778,
             "#fb9f3a"
            ],
            [
             0.8888888888888888,
             "#fdca26"
            ],
            [
             1,
             "#f0f921"
            ]
           ],
           "sequentialminus": [
            [
             0,
             "#0d0887"
            ],
            [
             0.1111111111111111,
             "#46039f"
            ],
            [
             0.2222222222222222,
             "#7201a8"
            ],
            [
             0.3333333333333333,
             "#9c179e"
            ],
            [
             0.4444444444444444,
             "#bd3786"
            ],
            [
             0.5555555555555556,
             "#d8576b"
            ],
            [
             0.6666666666666666,
             "#ed7953"
            ],
            [
             0.7777777777777778,
             "#fb9f3a"
            ],
            [
             0.8888888888888888,
             "#fdca26"
            ],
            [
             1,
             "#f0f921"
            ]
           ]
          },
          "colorway": [
           "#636efa",
           "#EF553B",
           "#00cc96",
           "#ab63fa",
           "#FFA15A",
           "#19d3f3",
           "#FF6692",
           "#B6E880",
           "#FF97FF",
           "#FECB52"
          ],
          "font": {
           "color": "#2a3f5f"
          },
          "geo": {
           "bgcolor": "white",
           "lakecolor": "white",
           "landcolor": "#E5ECF6",
           "showlakes": true,
           "showland": true,
           "subunitcolor": "white"
          },
          "hoverlabel": {
           "align": "left"
          },
          "hovermode": "closest",
          "mapbox": {
           "style": "light"
          },
          "paper_bgcolor": "white",
          "plot_bgcolor": "#E5ECF6",
          "polar": {
           "angularaxis": {
            "gridcolor": "white",
            "linecolor": "white",
            "ticks": ""
           },
           "bgcolor": "#E5ECF6",
           "radialaxis": {
            "gridcolor": "white",
            "linecolor": "white",
            "ticks": ""
           }
          },
          "scene": {
           "xaxis": {
            "backgroundcolor": "#E5ECF6",
            "gridcolor": "white",
            "gridwidth": 2,
            "linecolor": "white",
            "showbackground": true,
            "ticks": "",
            "zerolinecolor": "white"
           },
           "yaxis": {
            "backgroundcolor": "#E5ECF6",
            "gridcolor": "white",
            "gridwidth": 2,
            "linecolor": "white",
            "showbackground": true,
            "ticks": "",
            "zerolinecolor": "white"
           },
           "zaxis": {
            "backgroundcolor": "#E5ECF6",
            "gridcolor": "white",
            "gridwidth": 2,
            "linecolor": "white",
            "showbackground": true,
            "ticks": "",
            "zerolinecolor": "white"
           }
          },
          "shapedefaults": {
           "line": {
            "color": "#2a3f5f"
           }
          },
          "ternary": {
           "aaxis": {
            "gridcolor": "white",
            "linecolor": "white",
            "ticks": ""
           },
           "baxis": {
            "gridcolor": "white",
            "linecolor": "white",
            "ticks": ""
           },
           "bgcolor": "#E5ECF6",
           "caxis": {
            "gridcolor": "white",
            "linecolor": "white",
            "ticks": ""
           }
          },
          "title": {
           "x": 0.05
          },
          "xaxis": {
           "automargin": true,
           "gridcolor": "white",
           "linecolor": "white",
           "ticks": "",
           "title": {
            "standoff": 15
           },
           "zerolinecolor": "white",
           "zerolinewidth": 2
          },
          "yaxis": {
           "automargin": true,
           "gridcolor": "white",
           "linecolor": "white",
           "ticks": "",
           "title": {
            "standoff": 15
           },
           "zerolinecolor": "white",
           "zerolinewidth": 2
          }
         }
        },
        "title": {
         "text": "Average Public Transport Ridership in Los Angeles"
        },
        "width": 1000,
        "xaxis": {
         "anchor": "y",
         "autorange": true,
         "domain": [
          0,
          1
         ],
         "range": [
          -2.0486143729450443,
          35.048614372945046
         ],
         "tickangle": -60,
         "title": {
          "text": "Date"
         },
         "type": "category"
        },
        "yaxis": {
         "anchor": "x",
         "autorange": true,
         "domain": [
          0,
          1
         ],
         "nticks": 20,
         "range": [
          -7993.974142480211,
          116198.1241424802
         ],
         "tickformat": ",",
         "title": {
          "text": "Number of Riders"
         },
         "type": "linear"
        }
       }
      },
      "image/png": "[encoded data removed]",
      "text/html": [
       "<div>                            <div id=\"c7bfeba6-c7ca-432e-8a52-371dab87f4e5\" class=\"plotly-graph-div\" style=\"height:450px; width:1000px;\"></div>            <script type=\"text/javascript\">                require([\"plotly\"], function(Plotly) {                    window.PLOTLYENV=window.PLOTLYENV || {};                                    if (document.getElementById(\"c7bfeba6-c7ca-432e-8a52-371dab87f4e5\")) {                    Plotly.newPlot(                        \"c7bfeba6-c7ca-432e-8a52-371dab87f4e5\",                        [{\"hovertemplate\":\"LA Public Transit=LADOT<br>Date=%{x}<br>Number of Riders=%{y}<extra></extra>\",\"legendgroup\":\"LADOT\",\"line\":{\"color\":\"rgb(102, 197, 204)\",\"dash\":\"solid\",\"shape\":\"spline\"},\"marker\":{\"symbol\":\"circle\"},\"mode\":\"markers+lines\",\"name\":\"LADOT\",\"orientation\":\"v\",\"showlegend\":true,\"type\":\"scatter\",\"x\":[\"Jan. 19\",\"Feb. 19\",\"Mar. 19\",\"Apr. 19\",\"May. 19\",\"Jun. 19\",\"Jul. 19\",\"Aug. 19\",\"Sep. 19\",\"Oct. 19\",\"Nov. 19\",\"Dec. 19\",\"Jan. 20\",\"Feb. 20\",\"Mar. 20\",\"Apr. 20\",\"May. 20\",\"Jun. 20\",\"Jul. 20\",\"Aug. 20\",\"Sep. 20\",\"Oct. 20\",\"Nov. 20\",\"Dec. 20\",\"Jan. 21\",\"Feb. 21\",\"Mar. 21\",\"Apr. 21\",\"May. 21\",\"Jun. 21\",\"Jul. 21\",\"Aug. 21\",\"Sep. 21\",\"Oct. 21\"],\"xaxis\":\"x\",\"y\":[7675.0,7395.67,7976.0,8113.67,8464.67,7498.33,8184.33,8245.67,7700.67,8367.33,7111.67,6334.67,6846.0,5583.67,3077.33,405.0,484.0,786.33,944.0,955.33,1068.0,1139.67,1044.67,819.0,844.33,950.33,1227.0,1256.33,1250.67,1674.0,1600.67,2045.33,2440.33,2459.33],\"yaxis\":\"y\"},{\"hovertemplate\":\"LA Public Transit=AVTA<br>Date=%{x}<br>Number of Riders=%{y}<extra></extra>\",\"legendgroup\":\"AVTA\",\"line\":{\"color\":\"rgb(246, 207, 113)\",\"dash\":\"solid\",\"shape\":\"spline\"},\"marker\":{\"symbol\":\"circle\"},\"mode\":\"markers+lines\",\"name\":\"AVTA\",\"orientation\":\"v\",\"showlegend\":true,\"type\":\"scatter\",\"x\":[\"Jan. 19\",\"Feb. 19\",\"Mar. 19\",\"Apr. 19\",\"May. 19\",\"Jun. 19\",\"Jul. 19\",\"Aug. 19\",\"Sep. 19\",\"Oct. 19\",\"Nov. 19\",\"Dec. 19\",\"Jan. 20\",\"Feb. 20\",\"Mar. 20\",\"Apr. 20\",\"May. 20\",\"Jun. 20\",\"Jul. 20\",\"Aug. 20\",\"Sep. 20\",\"Oct. 20\",\"Nov. 20\",\"Dec. 20\",\"Jan. 21\",\"Feb. 21\",\"Mar. 21\",\"Apr. 21\",\"May. 21\",\"Jun. 21\",\"Jul. 21\",\"Aug. 21\",\"Sep. 21\",\"Oct. 21\"],\"xaxis\":\"x\",\"y\":[3600.0,2930.0,3289.0,4070.0,4206.0,1876.0,1482.0,3261.0,3209.0,3285.0,2990.0,2388.0,3005.0,2991.0,1762.0,0.0,230.0,780.0,468.0,0.0,0.0,473.0,760.0,866.0,954.0,1047.0,1262.0,42.0,0.0,78.0,94.0,0.0,62.0,59.0],\"yaxis\":\"y\"},{\"hovertemplate\":\"LA Public Transit=Santa Clarita Transit<br>Date=%{x}<br>Number of Riders=%{y}<extra></extra>\",\"legendgroup\":\"Santa Clarita Transit\",\"line\":{\"color\":\"rgb(248, 156, 116)\",\"dash\":\"solid\",\"shape\":\"spline\"},\"marker\":{\"symbol\":\"circle\"},\"mode\":\"markers+lines\",\"name\":\"Santa Clarita Transit\",\"orientation\":\"v\",\"showlegend\":true,\"type\":\"scatter\",\"x\":[\"Jan. 19\",\"Feb. 19\",\"Mar. 19\",\"Apr. 19\",\"May. 19\",\"Jun. 19\",\"Jul. 19\",\"Aug. 19\",\"Sep. 19\",\"Oct. 19\",\"Nov. 19\",\"Dec. 19\",\"Jan. 20\",\"Feb. 20\",\"Mar. 20\",\"Apr. 20\",\"May. 20\",\"Jun. 20\",\"Jul. 20\",\"Aug. 20\",\"Sep. 20\",\"Oct. 20\",\"Nov. 20\",\"Dec. 20\",\"Jan. 21\",\"Feb. 21\",\"Mar. 21\",\"Apr. 21\",\"May. 21\",\"Jun. 21\",\"Jul. 21\",\"Aug. 21\",\"Sep. 21\",\"Oct. 21\"],\"xaxis\":\"x\",\"y\":[3594.0,3622.5,3548.0,3749.5,3663.5,2629.0,3485.5,3510.0,3467.0,4023.5,3133.0,2804.5,3691.5,3293.0,1963.0,220.5,290.0,536.5,535.5,583.5,646.5,783.5,602.0,565.5,679.5,717.0,826.5,740.5,802.0,1091.0,1052.5,1224.5,994.0,1541.0],\"yaxis\":\"y\"},{\"hovertemplate\":\"LA Public Transit=Big Blue Bus<br>Date=%{x}<br>Number of Riders=%{y}<extra></extra>\",\"legendgroup\":\"Big Blue Bus\",\"line\":{\"color\":\"rgb(220, 176, 242)\",\"dash\":\"solid\",\"shape\":\"spline\"},\"marker\":{\"symbol\":\"circle\"},\"mode\":\"markers+lines\",\"name\":\"Big Blue Bus\",\"orientation\":\"v\",\"showlegend\":true,\"type\":\"scatter\",\"x\":[\"Jan. 19\",\"Feb. 19\",\"Mar. 19\",\"Apr. 19\",\"May. 19\",\"Jun. 19\",\"Jul. 19\",\"Aug. 19\",\"Sep. 19\",\"Oct. 19\",\"Nov. 19\",\"Dec. 19\",\"Jan. 20\",\"Feb. 20\",\"Mar. 20\",\"Apr. 20\",\"May. 20\",\"Jun. 20\",\"Jul. 20\",\"Aug. 20\",\"Sep. 20\",\"Oct. 20\",\"Nov. 20\",\"Dec. 20\",\"Jan. 21\",\"Feb. 21\",\"Mar. 21\",\"Apr. 21\",\"May. 21\",\"Jun. 21\",\"Jul. 21\",\"Aug. 21\",\"Sep. 21\",\"Oct. 21\"],\"xaxis\":\"x\",\"y\":[null,null,102356.11,null,null,96350.4,null,108204.15,null,null,null,null,null,58361.74,null,null,46392.21,null,null,null,45028.23,null,null,null,null,null,null,48174.15,null,null,null,55555.95,null,null],\"yaxis\":\"y\"}],                        {\"annotations\":[{\"showarrow\":false,\"text\":\"First COVID-19 Case in LA\",\"x\":12,\"xanchor\":\"right\",\"xref\":\"x\",\"y\":1,\"yanchor\":\"top\",\"yref\":\"y domain\"},{\"showarrow\":false,\"text\":\"CA Stay at Home Order Issued\",\"x\":14,\"xanchor\":\"left\",\"xref\":\"x\",\"y\":1,\"yanchor\":\"top\",\"yref\":\"y domain\"}],\"height\":450,\"legend\":{\"title\":{\"text\":\"LA Public Transit\"},\"tracegroupgap\":0},\"shapes\":[{\"line\":{\"dash\":\"dot\"},\"type\":\"line\",\"x0\":12,\"x1\":12,\"xref\":\"x\",\"y0\":0,\"y1\":1,\"yref\":\"y domain\"},{\"line\":{\"dash\":\"dot\"},\"type\":\"line\",\"x0\":14,\"x1\":14,\"xref\":\"x\",\"y0\":0,\"y1\":1,\"yref\":\"y domain\"}],\"template\":{\"data\":{\"bar\":[{\"error_x\":{\"color\":\"#2a3f5f\"},\"error_y\":{\"color\":\"#2a3f5f\"},\"marker\":{\"line\":{\"color\":\"#E5ECF6\",\"width\":0.5},\"pattern\":{\"fillmode\":\"overlay\",\"size\":10,\"solidity\":0.2}},\"type\":\"bar\"}],\"barpolar\":[{\"marker\":{\"line\":{\"color\":\"#E5ECF6\",\"width\":0.5},\"pattern\":{\"fillmode\":\"overlay\",\"size\":10,\"solidity\":0.2}},\"type\":\"barpolar\"}],\"carpet\":[{\"aaxis\":{\"endlinecolor\":\"#2a3f5f\",\"gridcolor\":\"white\",\"linecolor\":\"white\",\"minorgridcolor\":\"white\",\"startlinecolor\":\"#2a3f5f\"},\"baxis\":{\"endlinecolor\":\"#2a3f5f\",\"gridcolor\":\"white\",\"linecolor\":\"white\",\"minorgridcolor\":\"white\",\"startlinecolor\":\"#2a3f5f\"},\"type\":\"carpet\"}],\"choropleth\":[{\"colorbar\":{\"outlinewidth\":0,\"ticks\":\"\"},\"type\":\"choropleth\"}],\"contour\":[{\"colorbar\":{\"outlinewidth\":0,\"ticks\":\"\"},\"colorscale\":[[0.0,\"#0d0887\"],[0.1111111111111111,\"#46039f\"],[0.2222222222222222,\"#7201a8\"],[0.3333333333333333,\"#9c179e\"],[0.4444444444444444,\"#bd3786\"],[0.5555555555555556,\"#d8576b\"],[0.6666666666666666,\"#ed7953\"],[0.7777777777777778,\"#fb9f3a\"],[0.8888888888888888,\"#fdca26\"],[1.0,\"#f0f921\"]],\"type\":\"contour\"}],\"contourcarpet\":[{\"colorbar\":{\"outlinewidth\":0,\"ticks\":\"\"},\"type\":\"contourcarpet\"}],\"heatmap\":[{\"colorbar\":{\"outlinewidth\":0,\"ticks\":\"\"},\"colorscale\":[[0.0,\"#0d0887\"],[0.1111111111111111,\"#46039f\"],[0.2222222222222222,\"#7201a8\"],[0.3333333333333333,\"#9c179e\"],[0.4444444444444444,\"#bd3786\"],[0.5555555555555556,\"#d8576b\"],[0.6666666666666666,\"#ed7953\"],[0.7777777777777778,\"#fb9f3a\"],[0.8888888888888888,\"#fdca26\"],[1.0,\"#f0f921\"]],\"type\":\"heatmap\"}],\"heatmapgl\":[{\"colorbar\":{\"outlinewidth\":0,\"ticks\":\"\"},\"colorscale\":[[0.0,\"#0d0887\"],[0.1111111111111111,\"#46039f\"],[0.2222222222222222,\"#7201a8\"],[0.3333333333333333,\"#9c179e\"],[0.4444444444444444,\"#bd3786\"],[0.5555555555555556,\"#d8576b\"],[0.6666666666666666,\"#ed7953\"],[0.7777777777777778,\"#fb9f3a\"],[0.8888888888888888,\"#fdca26\"],[1.0,\"#f0f921\"]],\"type\":\"heatmapgl\"}],\"histogram\":[{\"marker\":{\"pattern\":{\"fillmode\":\"overlay\",\"size\":10,\"solidity\":0.2}},\"type\":\"histogram\"}],\"histogram2d\":[{\"colorbar\":{\"outlinewidth\":0,\"ticks\":\"\"},\"colorscale\":[[0.0,\"#0d0887\"],[0.1111111111111111,\"#46039f\"],[0.2222222222222222,\"#7201a8\"],[0.3333333333333333,\"#9c179e\"],[0.4444444444444444,\"#bd3786\"],[0.5555555555555556,\"#d8576b\"],[0.6666666666666666,\"#ed7953\"],[0.7777777777777778,\"#fb9f3a\"],[0.8888888888888888,\"#fdca26\"],[1.0,\"#f0f921\"]],\"type\":\"histogram2d\"}],\"histogram2dcontour\":[{\"colorbar\":{\"outlinewidth\":0,\"ticks\":\"\"},\"colorscale\":[[0.0,\"#0d0887\"],[0.1111111111111111,\"#46039f\"],[0.2222222222222222,\"#7201a8\"],[0.3333333333333333,\"#9c179e\"],[0.4444444444444444,\"#bd3786\"],[0.5555555555555556,\"#d8576b\"],[0.6666666666666666,\"#ed7953\"],[0.7777777777777778,\"#fb9f3a\"],[0.8888888888888888,\"#fdca26\"],[1.0,\"#f0f921\"]],\"type\":\"histogram2dcontour\"}],\"mesh3d\":[{\"colorbar\":{\"outlinewidth\":0,\"ticks\":\"\"},\"type\":\"mesh3d\"}],\"parcoords\":[{\"line\":{\"colorbar\":{\"outlinewidth\":0,\"ticks\":\"\"}},\"type\":\"parcoords\"}],\"pie\":[{\"automargin\":true,\"type\":\"pie\"}],\"scatter\":[{\"marker\":{\"colorbar\":{\"outlinewidth\":0,\"ticks\":\"\"}},\"type\":\"scatter\"}],\"scatter3d\":[{\"line\":{\"colorbar\":{\"outlinewidth\":0,\"ticks\":\"\"}},\"marker\":{\"colorbar\":{\"outlinewidth\":0,\"ticks\":\"\"}},\"type\":\"scatter3d\"}],\"scattercarpet\":[{\"marker\":{\"colorbar\":{\"outlinewidth\":0,\"ticks\":\"\"}},\"type\":\"scattercarpet\"}],\"scattergeo\":[{\"marker\":{\"colorbar\":{\"outlinewidth\":0,\"ticks\":\"\"}},\"type\":\"scattergeo\"}],\"scattergl\":[{\"marker\":{\"colorbar\":{\"outlinewidth\":0,\"ticks\":\"\"}},\"type\":\"scattergl\"}],\"scattermapbox\":[{\"marker\":{\"colorbar\":{\"outlinewidth\":0,\"ticks\":\"\"}},\"type\":\"scattermapbox\"}],\"scatterpolar\":[{\"marker\":{\"colorbar\":{\"outlinewidth\":0,\"ticks\":\"\"}},\"type\":\"scatterpolar\"}],\"scatterpolargl\":[{\"marker\":{\"colorbar\":{\"outlinewidth\":0,\"ticks\":\"\"}},\"type\":\"scatterpolargl\"}],\"scatterternary\":[{\"marker\":{\"colorbar\":{\"outlinewidth\":0,\"ticks\":\"\"}},\"type\":\"scatterternary\"}],\"surface\":[{\"colorbar\":{\"outlinewidth\":0,\"ticks\":\"\"},\"colorscale\":[[0.0,\"#0d0887\"],[0.1111111111111111,\"#46039f\"],[0.2222222222222222,\"#7201a8\"],[0.3333333333333333,\"#9c179e\"],[0.4444444444444444,\"#bd3786\"],[0.5555555555555556,\"#d8576b\"],[0.6666666666666666,\"#ed7953\"],[0.7777777777777778,\"#fb9f3a\"],[0.8888888888888888,\"#fdca26\"],[1.0,\"#f0f921\"]],\"type\":\"surface\"}],\"table\":[{\"cells\":{\"fill\":{\"color\":\"#EBF0F8\"},\"line\":{\"color\":\"white\"}},\"header\":{\"fill\":{\"color\":\"#C8D4E3\"},\"line\":{\"color\":\"white\"}},\"type\":\"table\"}]},\"layout\":{\"annotationdefaults\":{\"arrowcolor\":\"#2a3f5f\",\"arrowhead\":0,\"arrowwidth\":1},\"autotypenumbers\":\"strict\",\"coloraxis\":{\"colorbar\":{\"outlinewidth\":0,\"ticks\":\"\"}},\"colorscale\":{\"diverging\":[[0,\"#8e0152\"],[0.1,\"#c51b7d\"],[0.2,\"#de77ae\"],[0.3,\"#f1b6da\"],[0.4,\"#fde0ef\"],[0.5,\"#f7f7f7\"],[0.6,\"#e6f5d0\"],[0.7,\"#b8e186\"],[0.8,\"#7fbc41\"],[0.9,\"#4d9221\"],[1,\"#276419\"]],\"sequential\":[[0.0,\"#0d0887\"],[0.1111111111111111,\"#46039f\"],[0.2222222222222222,\"#7201a8\"],[0.3333333333333333,\"#9c179e\"],[0.4444444444444444,\"#bd3786\"],[0.5555555555555556,\"#d8576b\"],[0.6666666666666666,\"#ed7953\"],[0.7777777777777778,\"#fb9f3a\"],[0.8888888888888888,\"#fdca26\"],[1.0,\"#f0f921\"]],\"sequentialminus\":[[0.0,\"#0d0887\"],[0.1111111111111111,\"#46039f\"],[0.2222222222222222,\"#7201a8\"],[0.3333333333333333,\"#9c179e\"],[0.4444444444444444,\"#bd3786\"],[0.5555555555555556,\"#d8576b\"],[0.6666666666666666,\"#ed7953\"],[0.7777777777777778,\"#fb9f3a\"],[0.8888888888888888,\"#fdca26\"],[1.0,\"#f0f921\"]]},\"colorway\":[\"#636efa\",\"#EF553B\",\"#00cc96\",\"#ab63fa\",\"#FFA15A\",\"#19d3f3\",\"#FF6692\",\"#B6E880\",\"#FF97FF\",\"#FECB52\"],\"font\":{\"color\":\"#2a3f5f\"},\"geo\":{\"bgcolor\":\"white\",\"lakecolor\":\"white\",\"landcolor\":\"#E5ECF6\",\"showlakes\":true,\"showland\":true,\"subunitcolor\":\"white\"},\"hoverlabel\":{\"align\":\"left\"},\"hovermode\":\"closest\",\"mapbox\":{\"style\":\"light\"},\"paper_bgcolor\":\"white\",\"plot_bgcolor\":\"#E5ECF6\",\"polar\":{\"angularaxis\":{\"gridcolor\":\"white\",\"linecolor\":\"white\",\"ticks\":\"\"},\"bgcolor\":\"#E5ECF6\",\"radialaxis\":{\"gridcolor\":\"white\",\"linecolor\":\"white\",\"ticks\":\"\"}},\"scene\":{\"xaxis\":{\"backgroundcolor\":\"#E5ECF6\",\"gridcolor\":\"white\",\"gridwidth\":2,\"linecolor\":\"white\",\"showbackground\":true,\"ticks\":\"\",\"zerolinecolor\":\"white\"},\"yaxis\":{\"backgroundcolor\":\"#E5ECF6\",\"gridcolor\":\"white\",\"gridwidth\":2,\"linecolor\":\"white\",\"showbackground\":true,\"ticks\":\"\",\"zerolinecolor\":\"white\"},\"zaxis\":{\"backgroundcolor\":\"#E5ECF6\",\"gridcolor\":\"white\",\"gridwidth\":2,\"linecolor\":\"white\",\"showbackground\":true,\"ticks\":\"\",\"zerolinecolor\":\"white\"}},\"shapedefaults\":{\"line\":{\"color\":\"#2a3f5f\"}},\"ternary\":{\"aaxis\":{\"gridcolor\":\"white\",\"linecolor\":\"white\",\"ticks\":\"\"},\"baxis\":{\"gridcolor\":\"white\",\"linecolor\":\"white\",\"ticks\":\"\"},\"bgcolor\":\"#E5ECF6\",\"caxis\":{\"gridcolor\":\"white\",\"linecolor\":\"white\",\"ticks\":\"\"}},\"title\":{\"x\":0.05},\"xaxis\":{\"automargin\":true,\"gridcolor\":\"white\",\"linecolor\":\"white\",\"ticks\":\"\",\"title\":{\"standoff\":15},\"zerolinecolor\":\"white\",\"zerolinewidth\":2},\"yaxis\":{\"automargin\":true,\"gridcolor\":\"white\",\"linecolor\":\"white\",\"ticks\":\"\",\"title\":{\"standoff\":15},\"zerolinecolor\":\"white\",\"zerolinewidth\":2}}},\"title\":{\"text\":\"Average Public Transport Ridership in Los Angeles\"},\"width\":1000,\"xaxis\":{\"anchor\":\"y\",\"domain\":[0.0,1.0],\"tickangle\":-60,\"title\":{\"text\":\"Date\"}},\"yaxis\":{\"anchor\":\"x\",\"domain\":[0.0,1.0],\"nticks\":20,\"tickformat\":\",\",\"title\":{\"text\":\"Number of Riders\"}}},                        {\"responsive\": true}                    ).then(function(){\n",
       "                            \n",
       "var gd = document.getElementById('c7bfeba6-c7ca-432e-8a52-371dab87f4e5');\n",
       "var x = new MutationObserver(function (mutations, observer) {{\n",
       "        var display = window.getComputedStyle(gd).display;\n",
       "        if (!display || display === 'none') {{\n",
       "            console.log([gd, 'removed!']);\n",
       "            Plotly.purge(gd);\n",
       "            observer.disconnect();\n",
       "        }}\n",
       "}});\n",
       "\n",
       "// Listen for the removal of the full notebook cells\n",
       "var notebookContainer = gd.closest('#notebook-container');\n",
       "if (notebookContainer) {{\n",
       "    x.observe(notebookContainer, {childList: true});\n",
       "}}\n",
       "\n",
       "// Listen for the clearing of the current output cell\n",
       "var outputEl = gd.closest('.output');\n",
       "if (outputEl) {{\n",
       "    x.observe(outputEl, {childList: true});\n",
       "}}\n",
       "\n",
       "                        })                };                });            </script>        </div>"
      ]
     },
     "metadata": {},
     "output_type": "display_data"
    }
   ],
   "source": [
    "fig5 = px.line(avgs, \n",
    "              labels={\n",
    "                     \"value\": \"Number of Riders\",\n",
    "                     \"date\": \"Date\",\n",
    "                  \"variable\" : \"LA Public Transit\"}, \n",
    "              title=\"Average Public Transport Ridership in Los Angeles\", \n",
    "              x=\"date\", \n",
    "              y=[\"LADOT\", \"AVTA\", \"Santa Clarita Transit\", \"Big Blue Bus\"], markers=True, line_shape=\"spline\",\n",
    "              color_discrete_sequence=px.colors.qualitative.Pastel,\n",
    "              width=1000, height=450)\n",
    "\n",
    "#fig5.update(layout={\"title\": {\"x\": 0.28, \"y\": 0.8}})\n",
    "fig5.update_xaxes(tickangle=300)\n",
    "fig5.add_vline(x=12, line_dash=\"dot\", annotation_text=\"First COVID-19 Case in LA\", annotation_position=\"top left\")\n",
    "fig5.add_vline(x=14, line_dash=\"dot\", annotation_text=\"CA Stay at Home Order Issued\", annotation_position=\"top right\")\n",
    "#fig.add_vline(x=\"Jan-2020\", line_dash=\"dash\", annotation_text=\"First Case of COVID-19 in USA\", annotation_position=\"top right\")\n",
    "\n",
    "fig5.update_yaxes(nticks=20)\n",
    "fig5.update_layout(yaxis_tickformat = ',')\n",
    "#fig.update_yaxes(tickvals=[\"0\", \"2,000\", \"4,000\", \"6,000\", \"8,000\", \"10,000\", \"12,000\", \"14,000\", \"16,000\", \"18,000\", \"20,000\"])\n",
    "#fig.update_layout(hovermode=\"x\")\n",
    "\n",
    "config = {'responsive': True}\n",
    "\n",
    "fig5.show()"
   ]
  },
  {
   "cell_type": "code",
   "execution_count": 83,
   "id": "d253c91d-cc05-46ae-a5b1-81dd1216fd39",
   "metadata": {},
   "outputs": [],
   "source": [
    "write_html(fig5, \"avg-ridership.html\")"
   ]
  },
  {
   "cell_type": "markdown",
   "id": "65b741db-2040-408a-b8f0-3c7e36f5da44",
   "metadata": {},
   "source": [
    "### Analysis"
   ]
  },
  {
   "cell_type": "code",
   "execution_count": 84,
   "id": "54c3664d-73e1-4925-a4ba-e8b1a265049d",
   "metadata": {},
   "outputs": [
    {
     "data": {
      "text/html": [
       "<div>\n",
       "<style scoped>\n",
       "    .dataframe tbody tr th:only-of-type {\n",
       "        vertical-align: middle;\n",
       "    }\n",
       "\n",
       "    .dataframe tbody tr th {\n",
       "        vertical-align: top;\n",
       "    }\n",
       "\n",
       "    .dataframe thead th {\n",
       "        text-align: right;\n",
       "    }\n",
       "</style>\n",
       "<table border=\"1\" class=\"dataframe\">\n",
       "  <thead>\n",
       "    <tr style=\"text-align: right;\">\n",
       "      <th></th>\n",
       "      <th>year</th>\n",
       "      <th>month</th>\n",
       "      <th>date</th>\n",
       "      <th>line 431</th>\n",
       "      <th>line 534</th>\n",
       "      <th>line 573</th>\n",
       "      <th>total ridership</th>\n",
       "    </tr>\n",
       "  </thead>\n",
       "  <tbody>\n",
       "    <tr>\n",
       "      <th>0</th>\n",
       "      <td>19</td>\n",
       "      <td>1</td>\n",
       "      <td>Jan. 19</td>\n",
       "      <td>3688.0</td>\n",
       "      <td>2666.0</td>\n",
       "      <td>16671.0</td>\n",
       "      <td>23025.0</td>\n",
       "    </tr>\n",
       "    <tr>\n",
       "      <th>1</th>\n",
       "      <td>19</td>\n",
       "      <td>2</td>\n",
       "      <td>Feb. 19</td>\n",
       "      <td>3235.0</td>\n",
       "      <td>2427.0</td>\n",
       "      <td>16525.0</td>\n",
       "      <td>22187.0</td>\n",
       "    </tr>\n",
       "    <tr>\n",
       "      <th>2</th>\n",
       "      <td>19</td>\n",
       "      <td>3</td>\n",
       "      <td>Mar. 19</td>\n",
       "      <td>3544.0</td>\n",
       "      <td>2491.0</td>\n",
       "      <td>17893.0</td>\n",
       "      <td>23928.0</td>\n",
       "    </tr>\n",
       "    <tr>\n",
       "      <th>3</th>\n",
       "      <td>19</td>\n",
       "      <td>4</td>\n",
       "      <td>Apr. 19</td>\n",
       "      <td>3030.0</td>\n",
       "      <td>2559.0</td>\n",
       "      <td>18752.0</td>\n",
       "      <td>24341.0</td>\n",
       "    </tr>\n",
       "    <tr>\n",
       "      <th>4</th>\n",
       "      <td>19</td>\n",
       "      <td>5</td>\n",
       "      <td>May. 19</td>\n",
       "      <td>2956.0</td>\n",
       "      <td>2515.0</td>\n",
       "      <td>19923.0</td>\n",
       "      <td>25394.0</td>\n",
       "    </tr>\n",
       "    <tr>\n",
       "      <th>5</th>\n",
       "      <td>19</td>\n",
       "      <td>6</td>\n",
       "      <td>Jun. 19</td>\n",
       "      <td>3005.0</td>\n",
       "      <td>2506.0</td>\n",
       "      <td>16984.0</td>\n",
       "      <td>22495.0</td>\n",
       "    </tr>\n",
       "    <tr>\n",
       "      <th>6</th>\n",
       "      <td>19</td>\n",
       "      <td>7</td>\n",
       "      <td>Jul. 19</td>\n",
       "      <td>4017.0</td>\n",
       "      <td>2577.0</td>\n",
       "      <td>17959.0</td>\n",
       "      <td>24553.0</td>\n",
       "    </tr>\n",
       "    <tr>\n",
       "      <th>7</th>\n",
       "      <td>19</td>\n",
       "      <td>8</td>\n",
       "      <td>Aug. 19</td>\n",
       "      <td>4282.0</td>\n",
       "      <td>2393.0</td>\n",
       "      <td>18062.0</td>\n",
       "      <td>24737.0</td>\n",
       "    </tr>\n",
       "    <tr>\n",
       "      <th>8</th>\n",
       "      <td>19</td>\n",
       "      <td>9</td>\n",
       "      <td>Sep. 19</td>\n",
       "      <td>4455.0</td>\n",
       "      <td>2269.0</td>\n",
       "      <td>16378.0</td>\n",
       "      <td>23102.0</td>\n",
       "    </tr>\n",
       "    <tr>\n",
       "      <th>9</th>\n",
       "      <td>19</td>\n",
       "      <td>10</td>\n",
       "      <td>Oct. 19</td>\n",
       "      <td>3909.0</td>\n",
       "      <td>2468.0</td>\n",
       "      <td>18725.0</td>\n",
       "      <td>25102.0</td>\n",
       "    </tr>\n",
       "    <tr>\n",
       "      <th>10</th>\n",
       "      <td>19</td>\n",
       "      <td>11</td>\n",
       "      <td>Nov. 19</td>\n",
       "      <td>3056.0</td>\n",
       "      <td>2419.0</td>\n",
       "      <td>15860.0</td>\n",
       "      <td>21335.0</td>\n",
       "    </tr>\n",
       "    <tr>\n",
       "      <th>11</th>\n",
       "      <td>19</td>\n",
       "      <td>12</td>\n",
       "      <td>Dec. 19</td>\n",
       "      <td>4153.0</td>\n",
       "      <td>2083.0</td>\n",
       "      <td>12768.0</td>\n",
       "      <td>19004.0</td>\n",
       "    </tr>\n",
       "    <tr>\n",
       "      <th>12</th>\n",
       "      <td>20</td>\n",
       "      <td>1</td>\n",
       "      <td>Jan. 20</td>\n",
       "      <td>2651.0</td>\n",
       "      <td>2227.0</td>\n",
       "      <td>15660.0</td>\n",
       "      <td>20538.0</td>\n",
       "    </tr>\n",
       "    <tr>\n",
       "      <th>13</th>\n",
       "      <td>20</td>\n",
       "      <td>2</td>\n",
       "      <td>Feb. 20</td>\n",
       "      <td>1772.0</td>\n",
       "      <td>1705.0</td>\n",
       "      <td>13274.0</td>\n",
       "      <td>16751.0</td>\n",
       "    </tr>\n",
       "    <tr>\n",
       "      <th>14</th>\n",
       "      <td>20</td>\n",
       "      <td>3</td>\n",
       "      <td>Mar. 20</td>\n",
       "      <td>775.0</td>\n",
       "      <td>1029.0</td>\n",
       "      <td>7428.0</td>\n",
       "      <td>9232.0</td>\n",
       "    </tr>\n",
       "    <tr>\n",
       "      <th>15</th>\n",
       "      <td>20</td>\n",
       "      <td>4</td>\n",
       "      <td>Apr. 20</td>\n",
       "      <td>68.0</td>\n",
       "      <td>71.0</td>\n",
       "      <td>1076.0</td>\n",
       "      <td>1215.0</td>\n",
       "    </tr>\n",
       "    <tr>\n",
       "      <th>16</th>\n",
       "      <td>20</td>\n",
       "      <td>5</td>\n",
       "      <td>May. 20</td>\n",
       "      <td>59.0</td>\n",
       "      <td>69.0</td>\n",
       "      <td>1324.0</td>\n",
       "      <td>1452.0</td>\n",
       "    </tr>\n",
       "    <tr>\n",
       "      <th>17</th>\n",
       "      <td>20</td>\n",
       "      <td>6</td>\n",
       "      <td>Jun. 20</td>\n",
       "      <td>112.0</td>\n",
       "      <td>151.0</td>\n",
       "      <td>2096.0</td>\n",
       "      <td>2359.0</td>\n",
       "    </tr>\n",
       "    <tr>\n",
       "      <th>18</th>\n",
       "      <td>20</td>\n",
       "      <td>7</td>\n",
       "      <td>Jul. 20</td>\n",
       "      <td>127.0</td>\n",
       "      <td>176.0</td>\n",
       "      <td>2529.0</td>\n",
       "      <td>2832.0</td>\n",
       "    </tr>\n",
       "    <tr>\n",
       "      <th>19</th>\n",
       "      <td>20</td>\n",
       "      <td>8</td>\n",
       "      <td>Aug. 20</td>\n",
       "      <td>108.0</td>\n",
       "      <td>197.0</td>\n",
       "      <td>2561.0</td>\n",
       "      <td>2866.0</td>\n",
       "    </tr>\n",
       "    <tr>\n",
       "      <th>20</th>\n",
       "      <td>20</td>\n",
       "      <td>9</td>\n",
       "      <td>Sep. 20</td>\n",
       "      <td>130.0</td>\n",
       "      <td>225.0</td>\n",
       "      <td>2849.0</td>\n",
       "      <td>3204.0</td>\n",
       "    </tr>\n",
       "    <tr>\n",
       "      <th>21</th>\n",
       "      <td>20</td>\n",
       "      <td>10</td>\n",
       "      <td>Oct. 20</td>\n",
       "      <td>211.0</td>\n",
       "      <td>196.0</td>\n",
       "      <td>3012.0</td>\n",
       "      <td>3419.0</td>\n",
       "    </tr>\n",
       "    <tr>\n",
       "      <th>22</th>\n",
       "      <td>20</td>\n",
       "      <td>11</td>\n",
       "      <td>Nov. 20</td>\n",
       "      <td>164.0</td>\n",
       "      <td>163.0</td>\n",
       "      <td>2807.0</td>\n",
       "      <td>3134.0</td>\n",
       "    </tr>\n",
       "    <tr>\n",
       "      <th>23</th>\n",
       "      <td>20</td>\n",
       "      <td>12</td>\n",
       "      <td>Dec. 20</td>\n",
       "      <td>62.0</td>\n",
       "      <td>199.0</td>\n",
       "      <td>2196.0</td>\n",
       "      <td>2457.0</td>\n",
       "    </tr>\n",
       "    <tr>\n",
       "      <th>24</th>\n",
       "      <td>21</td>\n",
       "      <td>1</td>\n",
       "      <td>Jan. 21</td>\n",
       "      <td>96.0</td>\n",
       "      <td>249.0</td>\n",
       "      <td>2188.0</td>\n",
       "      <td>2533.0</td>\n",
       "    </tr>\n",
       "    <tr>\n",
       "      <th>25</th>\n",
       "      <td>21</td>\n",
       "      <td>2</td>\n",
       "      <td>Feb. 21</td>\n",
       "      <td>167.0</td>\n",
       "      <td>196.0</td>\n",
       "      <td>2488.0</td>\n",
       "      <td>2851.0</td>\n",
       "    </tr>\n",
       "    <tr>\n",
       "      <th>26</th>\n",
       "      <td>21</td>\n",
       "      <td>3</td>\n",
       "      <td>Mar. 21</td>\n",
       "      <td>216.0</td>\n",
       "      <td>246.0</td>\n",
       "      <td>3219.0</td>\n",
       "      <td>3681.0</td>\n",
       "    </tr>\n",
       "    <tr>\n",
       "      <th>27</th>\n",
       "      <td>21</td>\n",
       "      <td>4</td>\n",
       "      <td>Apr. 21</td>\n",
       "      <td>167.0</td>\n",
       "      <td>268.0</td>\n",
       "      <td>3334.0</td>\n",
       "      <td>3769.0</td>\n",
       "    </tr>\n",
       "    <tr>\n",
       "      <th>28</th>\n",
       "      <td>21</td>\n",
       "      <td>5</td>\n",
       "      <td>May. 21</td>\n",
       "      <td>150.0</td>\n",
       "      <td>304.0</td>\n",
       "      <td>3298.0</td>\n",
       "      <td>3752.0</td>\n",
       "    </tr>\n",
       "    <tr>\n",
       "      <th>29</th>\n",
       "      <td>21</td>\n",
       "      <td>6</td>\n",
       "      <td>Jun. 21</td>\n",
       "      <td>595.0</td>\n",
       "      <td>395.0</td>\n",
       "      <td>4032.0</td>\n",
       "      <td>5022.0</td>\n",
       "    </tr>\n",
       "    <tr>\n",
       "      <th>30</th>\n",
       "      <td>21</td>\n",
       "      <td>7</td>\n",
       "      <td>Jul. 21</td>\n",
       "      <td>343.0</td>\n",
       "      <td>504.0</td>\n",
       "      <td>3955.0</td>\n",
       "      <td>4802.0</td>\n",
       "    </tr>\n",
       "    <tr>\n",
       "      <th>31</th>\n",
       "      <td>21</td>\n",
       "      <td>8</td>\n",
       "      <td>Aug. 21</td>\n",
       "      <td>365.0</td>\n",
       "      <td>810.0</td>\n",
       "      <td>4961.0</td>\n",
       "      <td>6136.0</td>\n",
       "    </tr>\n",
       "    <tr>\n",
       "      <th>32</th>\n",
       "      <td>21</td>\n",
       "      <td>9</td>\n",
       "      <td>Sep. 21</td>\n",
       "      <td>517.0</td>\n",
       "      <td>983.0</td>\n",
       "      <td>5821.0</td>\n",
       "      <td>7321.0</td>\n",
       "    </tr>\n",
       "    <tr>\n",
       "      <th>33</th>\n",
       "      <td>21</td>\n",
       "      <td>10</td>\n",
       "      <td>Oct. 21</td>\n",
       "      <td>513.0</td>\n",
       "      <td>992.0</td>\n",
       "      <td>5873.0</td>\n",
       "      <td>7378.0</td>\n",
       "    </tr>\n",
       "  </tbody>\n",
       "</table>\n",
       "</div>"
      ],
      "text/plain": [
       "    year  month     date  line 431  line 534  line 573  total ridership\n",
       "0     19      1  Jan. 19    3688.0    2666.0   16671.0          23025.0\n",
       "1     19      2  Feb. 19    3235.0    2427.0   16525.0          22187.0\n",
       "2     19      3  Mar. 19    3544.0    2491.0   17893.0          23928.0\n",
       "3     19      4  Apr. 19    3030.0    2559.0   18752.0          24341.0\n",
       "4     19      5  May. 19    2956.0    2515.0   19923.0          25394.0\n",
       "5     19      6  Jun. 19    3005.0    2506.0   16984.0          22495.0\n",
       "6     19      7  Jul. 19    4017.0    2577.0   17959.0          24553.0\n",
       "7     19      8  Aug. 19    4282.0    2393.0   18062.0          24737.0\n",
       "8     19      9  Sep. 19    4455.0    2269.0   16378.0          23102.0\n",
       "9     19     10  Oct. 19    3909.0    2468.0   18725.0          25102.0\n",
       "10    19     11  Nov. 19    3056.0    2419.0   15860.0          21335.0\n",
       "11    19     12  Dec. 19    4153.0    2083.0   12768.0          19004.0\n",
       "12    20      1  Jan. 20    2651.0    2227.0   15660.0          20538.0\n",
       "13    20      2  Feb. 20    1772.0    1705.0   13274.0          16751.0\n",
       "14    20      3  Mar. 20     775.0    1029.0    7428.0           9232.0\n",
       "15    20      4  Apr. 20      68.0      71.0    1076.0           1215.0\n",
       "16    20      5  May. 20      59.0      69.0    1324.0           1452.0\n",
       "17    20      6  Jun. 20     112.0     151.0    2096.0           2359.0\n",
       "18    20      7  Jul. 20     127.0     176.0    2529.0           2832.0\n",
       "19    20      8  Aug. 20     108.0     197.0    2561.0           2866.0\n",
       "20    20      9  Sep. 20     130.0     225.0    2849.0           3204.0\n",
       "21    20     10  Oct. 20     211.0     196.0    3012.0           3419.0\n",
       "22    20     11  Nov. 20     164.0     163.0    2807.0           3134.0\n",
       "23    20     12  Dec. 20      62.0     199.0    2196.0           2457.0\n",
       "24    21      1  Jan. 21      96.0     249.0    2188.0           2533.0\n",
       "25    21      2  Feb. 21     167.0     196.0    2488.0           2851.0\n",
       "26    21      3  Mar. 21     216.0     246.0    3219.0           3681.0\n",
       "27    21      4  Apr. 21     167.0     268.0    3334.0           3769.0\n",
       "28    21      5  May. 21     150.0     304.0    3298.0           3752.0\n",
       "29    21      6  Jun. 21     595.0     395.0    4032.0           5022.0\n",
       "30    21      7  Jul. 21     343.0     504.0    3955.0           4802.0\n",
       "31    21      8  Aug. 21     365.0     810.0    4961.0           6136.0\n",
       "32    21      9  Sep. 21     517.0     983.0    5821.0           7321.0\n",
       "33    21     10  Oct. 21     513.0     992.0    5873.0           7378.0"
      ]
     },
     "execution_count": 84,
     "metadata": {},
     "output_type": "execute_result"
    }
   ],
   "source": [
    "ladot"
   ]
  },
  {
   "cell_type": "code",
   "execution_count": 85,
   "id": "1700f3e2-8bf5-4a6f-94db-4eb9147a1bce",
   "metadata": {},
   "outputs": [
    {
     "data": {
      "text/plain": [
       "(    year  month     date  line 431  line 534  line 573  total ridership\n",
       " 0     19      1  Jan. 19    3688.0    2666.0   16671.0          23025.0\n",
       " 1     19      2  Feb. 19    3235.0    2427.0   16525.0          22187.0\n",
       " 2     19      3  Mar. 19    3544.0    2491.0   17893.0          23928.0\n",
       " 3     19      4  Apr. 19    3030.0    2559.0   18752.0          24341.0\n",
       " 4     19      5  May. 19    2956.0    2515.0   19923.0          25394.0\n",
       " 5     19      6  Jun. 19    3005.0    2506.0   16984.0          22495.0\n",
       " 6     19      7  Jul. 19    4017.0    2577.0   17959.0          24553.0\n",
       " 7     19      8  Aug. 19    4282.0    2393.0   18062.0          24737.0\n",
       " 8     19      9  Sep. 19    4455.0    2269.0   16378.0          23102.0\n",
       " 9     19     10  Oct. 19    3909.0    2468.0   18725.0          25102.0\n",
       " 10    19     11  Nov. 19    3056.0    2419.0   15860.0          21335.0\n",
       " 11    19     12  Dec. 19    4153.0    2083.0   12768.0          19004.0\n",
       " 12    20      1  Jan. 20    2651.0    2227.0   15660.0          20538.0\n",
       " 13    20      2  Feb. 20    1772.0    1705.0   13274.0          16751.0,\n",
       "     year  month     date  line 431  line 534  line 573  total ridership\n",
       " 14    20      3  Mar. 20     775.0    1029.0    7428.0           9232.0\n",
       " 15    20      4  Apr. 20      68.0      71.0    1076.0           1215.0\n",
       " 16    20      5  May. 20      59.0      69.0    1324.0           1452.0\n",
       " 17    20      6  Jun. 20     112.0     151.0    2096.0           2359.0\n",
       " 18    20      7  Jul. 20     127.0     176.0    2529.0           2832.0\n",
       " 19    20      8  Aug. 20     108.0     197.0    2561.0           2866.0\n",
       " 20    20      9  Sep. 20     130.0     225.0    2849.0           3204.0\n",
       " 21    20     10  Oct. 20     211.0     196.0    3012.0           3419.0\n",
       " 22    20     11  Nov. 20     164.0     163.0    2807.0           3134.0\n",
       " 23    20     12  Dec. 20      62.0     199.0    2196.0           2457.0\n",
       " 24    21      1  Jan. 21      96.0     249.0    2188.0           2533.0\n",
       " 25    21      2  Feb. 21     167.0     196.0    2488.0           2851.0\n",
       " 26    21      3  Mar. 21     216.0     246.0    3219.0           3681.0\n",
       " 27    21      4  Apr. 21     167.0     268.0    3334.0           3769.0\n",
       " 28    21      5  May. 21     150.0     304.0    3298.0           3752.0\n",
       " 29    21      6  Jun. 21     595.0     395.0    4032.0           5022.0\n",
       " 30    21      7  Jul. 21     343.0     504.0    3955.0           4802.0\n",
       " 31    21      8  Aug. 21     365.0     810.0    4961.0           6136.0\n",
       " 32    21      9  Sep. 21     517.0     983.0    5821.0           7321.0)"
      ]
     },
     "execution_count": 85,
     "metadata": {},
     "output_type": "execute_result"
    }
   ],
   "source": [
    "precovid = ladot[0:14]\n",
    "postcovid = ladot[14:33]\n",
    "\n",
    "precovid, postcovid"
   ]
  },
  {
   "cell_type": "code",
   "execution_count": 86,
   "id": "f842b73e-876c-4fce-8010-5c5b57de96f3",
   "metadata": {},
   "outputs": [],
   "source": [
    "ladot_pre_mean = precovid[\"total ridership\"].mean()"
   ]
  },
  {
   "cell_type": "code",
   "execution_count": 87,
   "id": "554ddab8-4c1b-498d-a9ce-97249099b702",
   "metadata": {},
   "outputs": [],
   "source": [
    "ladot_post_mean = postcovid[\"total ridership\"].mean()"
   ]
  },
  {
   "cell_type": "code",
   "execution_count": 88,
   "id": "a279e902-7adf-4774-8279-531c3d545faa",
   "metadata": {},
   "outputs": [
    {
     "data": {
      "text/plain": [
       "83.23"
      ]
     },
     "execution_count": 88,
     "metadata": {},
     "output_type": "execute_result"
    }
   ],
   "source": [
    "(((ladot_pre_mean - ladot_post_mean) / ladot_pre_mean)*100).round(2)"
   ]
  },
  {
   "cell_type": "markdown",
   "id": "c207b85c-1c10-4edb-beef-48272a7c7e5a",
   "metadata": {},
   "source": [
    "Therefore LADOT total ridership declined by about 83.2% on the onset of the COVID-19 pandemic. "
   ]
  },
  {
   "cell_type": "code",
   "execution_count": 89,
   "id": "db105f15-96e3-40b6-aaa3-b2c2657537bb",
   "metadata": {},
   "outputs": [],
   "source": [
    "avta[\"year\"] = years"
   ]
  },
  {
   "cell_type": "code",
   "execution_count": 90,
   "id": "c9ad0c14-9128-4882-af51-db6b139d62a2",
   "metadata": {},
   "outputs": [
    {
     "data": {
      "text/html": [
       "<div>\n",
       "<style scoped>\n",
       "    .dataframe tbody tr th:only-of-type {\n",
       "        vertical-align: middle;\n",
       "    }\n",
       "\n",
       "    .dataframe tbody tr th {\n",
       "        vertical-align: top;\n",
       "    }\n",
       "\n",
       "    .dataframe thead th {\n",
       "        text-align: right;\n",
       "    }\n",
       "</style>\n",
       "<table border=\"1\" class=\"dataframe\">\n",
       "  <thead>\n",
       "    <tr style=\"text-align: right;\">\n",
       "      <th></th>\n",
       "      <th>date</th>\n",
       "      <th>line 786</th>\n",
       "      <th>year</th>\n",
       "    </tr>\n",
       "  </thead>\n",
       "  <tbody>\n",
       "    <tr>\n",
       "      <th>0</th>\n",
       "      <td>Jan. 19</td>\n",
       "      <td>3600</td>\n",
       "      <td>19</td>\n",
       "    </tr>\n",
       "    <tr>\n",
       "      <th>1</th>\n",
       "      <td>Feb. 19</td>\n",
       "      <td>2930</td>\n",
       "      <td>19</td>\n",
       "    </tr>\n",
       "    <tr>\n",
       "      <th>2</th>\n",
       "      <td>Mar. 19</td>\n",
       "      <td>3289</td>\n",
       "      <td>19</td>\n",
       "    </tr>\n",
       "    <tr>\n",
       "      <th>3</th>\n",
       "      <td>Apr. 19</td>\n",
       "      <td>4070</td>\n",
       "      <td>19</td>\n",
       "    </tr>\n",
       "    <tr>\n",
       "      <th>4</th>\n",
       "      <td>May. 19</td>\n",
       "      <td>4206</td>\n",
       "      <td>19</td>\n",
       "    </tr>\n",
       "    <tr>\n",
       "      <th>5</th>\n",
       "      <td>Jun. 19</td>\n",
       "      <td>1876</td>\n",
       "      <td>19</td>\n",
       "    </tr>\n",
       "    <tr>\n",
       "      <th>6</th>\n",
       "      <td>Jul. 19</td>\n",
       "      <td>1482</td>\n",
       "      <td>19</td>\n",
       "    </tr>\n",
       "    <tr>\n",
       "      <th>7</th>\n",
       "      <td>Aug. 19</td>\n",
       "      <td>3261</td>\n",
       "      <td>19</td>\n",
       "    </tr>\n",
       "    <tr>\n",
       "      <th>8</th>\n",
       "      <td>Sep. 19</td>\n",
       "      <td>3209</td>\n",
       "      <td>19</td>\n",
       "    </tr>\n",
       "    <tr>\n",
       "      <th>9</th>\n",
       "      <td>Oct. 19</td>\n",
       "      <td>3285</td>\n",
       "      <td>19</td>\n",
       "    </tr>\n",
       "    <tr>\n",
       "      <th>10</th>\n",
       "      <td>Nov. 19</td>\n",
       "      <td>2990</td>\n",
       "      <td>19</td>\n",
       "    </tr>\n",
       "    <tr>\n",
       "      <th>11</th>\n",
       "      <td>Dec. 19</td>\n",
       "      <td>2388</td>\n",
       "      <td>19</td>\n",
       "    </tr>\n",
       "    <tr>\n",
       "      <th>12</th>\n",
       "      <td>Jan. 20</td>\n",
       "      <td>3005</td>\n",
       "      <td>20</td>\n",
       "    </tr>\n",
       "    <tr>\n",
       "      <th>13</th>\n",
       "      <td>Feb. 20</td>\n",
       "      <td>2991</td>\n",
       "      <td>20</td>\n",
       "    </tr>\n",
       "    <tr>\n",
       "      <th>14</th>\n",
       "      <td>Mar. 20</td>\n",
       "      <td>1762</td>\n",
       "      <td>20</td>\n",
       "    </tr>\n",
       "    <tr>\n",
       "      <th>15</th>\n",
       "      <td>Apr. 20</td>\n",
       "      <td>0</td>\n",
       "      <td>20</td>\n",
       "    </tr>\n",
       "    <tr>\n",
       "      <th>16</th>\n",
       "      <td>May. 20</td>\n",
       "      <td>230</td>\n",
       "      <td>20</td>\n",
       "    </tr>\n",
       "    <tr>\n",
       "      <th>17</th>\n",
       "      <td>Jun. 20</td>\n",
       "      <td>780</td>\n",
       "      <td>20</td>\n",
       "    </tr>\n",
       "    <tr>\n",
       "      <th>18</th>\n",
       "      <td>Jul. 20</td>\n",
       "      <td>468</td>\n",
       "      <td>20</td>\n",
       "    </tr>\n",
       "    <tr>\n",
       "      <th>19</th>\n",
       "      <td>Aug. 20</td>\n",
       "      <td>0</td>\n",
       "      <td>20</td>\n",
       "    </tr>\n",
       "    <tr>\n",
       "      <th>20</th>\n",
       "      <td>Sep. 20</td>\n",
       "      <td>0</td>\n",
       "      <td>20</td>\n",
       "    </tr>\n",
       "    <tr>\n",
       "      <th>21</th>\n",
       "      <td>Oct. 20</td>\n",
       "      <td>473</td>\n",
       "      <td>20</td>\n",
       "    </tr>\n",
       "    <tr>\n",
       "      <th>22</th>\n",
       "      <td>Nov. 20</td>\n",
       "      <td>760</td>\n",
       "      <td>20</td>\n",
       "    </tr>\n",
       "    <tr>\n",
       "      <th>23</th>\n",
       "      <td>Dec. 20</td>\n",
       "      <td>866</td>\n",
       "      <td>20</td>\n",
       "    </tr>\n",
       "    <tr>\n",
       "      <th>24</th>\n",
       "      <td>Jan. 21</td>\n",
       "      <td>954</td>\n",
       "      <td>21</td>\n",
       "    </tr>\n",
       "    <tr>\n",
       "      <th>25</th>\n",
       "      <td>Feb. 21</td>\n",
       "      <td>1047</td>\n",
       "      <td>21</td>\n",
       "    </tr>\n",
       "    <tr>\n",
       "      <th>26</th>\n",
       "      <td>Mar. 21</td>\n",
       "      <td>1262</td>\n",
       "      <td>21</td>\n",
       "    </tr>\n",
       "    <tr>\n",
       "      <th>27</th>\n",
       "      <td>Apr. 21</td>\n",
       "      <td>42</td>\n",
       "      <td>21</td>\n",
       "    </tr>\n",
       "    <tr>\n",
       "      <th>28</th>\n",
       "      <td>May. 21</td>\n",
       "      <td>0</td>\n",
       "      <td>21</td>\n",
       "    </tr>\n",
       "    <tr>\n",
       "      <th>29</th>\n",
       "      <td>Jun. 21</td>\n",
       "      <td>78</td>\n",
       "      <td>21</td>\n",
       "    </tr>\n",
       "    <tr>\n",
       "      <th>30</th>\n",
       "      <td>Jul. 21</td>\n",
       "      <td>94</td>\n",
       "      <td>21</td>\n",
       "    </tr>\n",
       "    <tr>\n",
       "      <th>31</th>\n",
       "      <td>Aug. 21</td>\n",
       "      <td>0</td>\n",
       "      <td>21</td>\n",
       "    </tr>\n",
       "    <tr>\n",
       "      <th>32</th>\n",
       "      <td>Sep. 21</td>\n",
       "      <td>62</td>\n",
       "      <td>21</td>\n",
       "    </tr>\n",
       "    <tr>\n",
       "      <th>33</th>\n",
       "      <td>Oct. 21</td>\n",
       "      <td>59</td>\n",
       "      <td>21</td>\n",
       "    </tr>\n",
       "  </tbody>\n",
       "</table>\n",
       "</div>"
      ],
      "text/plain": [
       "       date  line 786  year\n",
       "0   Jan. 19      3600    19\n",
       "1   Feb. 19      2930    19\n",
       "2   Mar. 19      3289    19\n",
       "3   Apr. 19      4070    19\n",
       "4   May. 19      4206    19\n",
       "5   Jun. 19      1876    19\n",
       "6   Jul. 19      1482    19\n",
       "7   Aug. 19      3261    19\n",
       "8   Sep. 19      3209    19\n",
       "9   Oct. 19      3285    19\n",
       "10  Nov. 19      2990    19\n",
       "11  Dec. 19      2388    19\n",
       "12  Jan. 20      3005    20\n",
       "13  Feb. 20      2991    20\n",
       "14  Mar. 20      1762    20\n",
       "15  Apr. 20         0    20\n",
       "16  May. 20       230    20\n",
       "17  Jun. 20       780    20\n",
       "18  Jul. 20       468    20\n",
       "19  Aug. 20         0    20\n",
       "20  Sep. 20         0    20\n",
       "21  Oct. 20       473    20\n",
       "22  Nov. 20       760    20\n",
       "23  Dec. 20       866    20\n",
       "24  Jan. 21       954    21\n",
       "25  Feb. 21      1047    21\n",
       "26  Mar. 21      1262    21\n",
       "27  Apr. 21        42    21\n",
       "28  May. 21         0    21\n",
       "29  Jun. 21        78    21\n",
       "30  Jul. 21        94    21\n",
       "31  Aug. 21         0    21\n",
       "32  Sep. 21        62    21\n",
       "33  Oct. 21        59    21"
      ]
     },
     "execution_count": 90,
     "metadata": {},
     "output_type": "execute_result"
    }
   ],
   "source": [
    "avta"
   ]
  },
  {
   "cell_type": "code",
   "execution_count": 91,
   "id": "8f35116b-64ac-41a3-9d8d-b56a1b93c2d3",
   "metadata": {},
   "outputs": [
    {
     "data": {
      "text/plain": [
       "84.6374425566523"
      ]
     },
     "execution_count": 91,
     "metadata": {},
     "output_type": "execute_result"
    }
   ],
   "source": [
    "a19 = avta[0:14][\"line 786\"].mean()\n",
    "a20 = avta[14:33][\"line 786\"].mean()\n",
    "\n",
    "((a19 - a20)/a19)*100"
   ]
  },
  {
   "cell_type": "code",
   "execution_count": 92,
   "id": "b91b5a61-6181-4749-ab1b-83081d698935",
   "metadata": {},
   "outputs": [],
   "source": [
    "# The AVTA ridership decline by about 84 %"
   ]
  },
  {
   "cell_type": "code",
   "execution_count": 93,
   "id": "ae66b3b9-577e-4564-8ae8-dbe4c96f6700",
   "metadata": {},
   "outputs": [
    {
     "data": {
      "text/plain": [
       "77.29925098968371"
      ]
     },
     "execution_count": 93,
     "metadata": {},
     "output_type": "execute_result"
    }
   ],
   "source": [
    "sct[\"years\"] = years\n",
    "\n",
    "sct19 = sct[0:14][\"total ridership\"].mean()\n",
    "sct20 = sct[14:33][\"total ridership\"].mean()\n",
    "\n",
    "((sct19 - sct20)/sct19)*100"
   ]
  },
  {
   "cell_type": "code",
   "execution_count": 94,
   "id": "b41cd0e2-faf4-45b6-b797-985ba8bc23eb",
   "metadata": {},
   "outputs": [],
   "source": [
    "# The SCT ridership declined by about 77% "
   ]
  },
  {
   "cell_type": "code",
   "execution_count": 95,
   "id": "b234ef3e-11c3-467d-afba-2ad769017954",
   "metadata": {},
   "outputs": [
    {
     "data": {
      "text/plain": [
       "46.573970511584996"
      ]
     },
     "execution_count": 95,
     "metadata": {},
     "output_type": "execute_result"
    }
   ],
   "source": [
    "smbbb[\"years\"] = years\n",
    "\n",
    "bbb19 = smbbb[0:14][\"total ridership\"].mean()\n",
    "bbb20 = smbbb[14:33][\"total ridership\"].mean()\n",
    "\n",
    "((bbb19 - bbb20)/bbb19)*100"
   ]
  },
  {
   "cell_type": "code",
   "execution_count": 96,
   "id": "2459ac1e-48ba-4fbc-a65d-aa65820e714a",
   "metadata": {},
   "outputs": [],
   "source": [
    "# Big Blue bus declined by about 47%"
   ]
  },
  {
   "cell_type": "code",
   "execution_count": null,
   "id": "815fc0f0-437a-4758-ac42-ceee5a4d1ca0",
   "metadata": {},
   "outputs": [],
   "source": []
  }
 ],
 "metadata": {
  "kernelspec": {
   "display_name": "Python [conda env:anaconda3-PIC16B] *",
   "language": "python",
   "name": "conda-env-anaconda3-PIC16B-py"
  },
  "language_info": {
   "codemirror_mode": {
    "name": "ipython",
    "version": 3
   },
   "file_extension": ".py",
   "mimetype": "text/x-python",
   "name": "python",
   "nbconvert_exporter": "python",
   "pygments_lexer": "ipython3",
   "version": "3.8.12"
  }
 },
 "nbformat": 4,
 "nbformat_minor": 5
}
