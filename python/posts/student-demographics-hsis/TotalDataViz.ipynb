{
 "cells": [
  {
   "cell_type": "code",
   "execution_count": 1,
   "metadata": {},
   "outputs": [],
   "source": [
    "import pandas as pd\n",
    "import numpy as np\n",
    "import regex as re\n",
    "import matplotlib.pyplot as plt"
   ]
  },
  {
   "cell_type": "markdown",
   "metadata": {},
   "source": [
    "## Import Data Field"
   ]
  },
  {
   "cell_type": "code",
   "execution_count": 2,
   "metadata": {},
   "outputs": [],
   "source": [
    "input_path = \"C:/Users/Lindsey/Desktop/Daily-Bruin/the-stack/datasets/student-demographics-hsis/\""
   ]
  },
  {
   "cell_type": "code",
   "execution_count": 3,
   "metadata": {},
   "outputs": [],
   "source": [
    "df = pd.read_csv(input_path + \"TotalGrantMoneyPerCampusPerYear.csv\", encoding=\"ISO-8859-1\",  index_col=0)"
   ]
  },
  {
   "cell_type": "code",
   "execution_count": 4,
   "metadata": {
    "scrolled": true
   },
   "outputs": [
    {
     "data": {
      "text/html": [
       "<div>\n",
       "<style scoped>\n",
       "    .dataframe tbody tr th:only-of-type {\n",
       "        vertical-align: middle;\n",
       "    }\n",
       "\n",
       "    .dataframe tbody tr th {\n",
       "        vertical-align: top;\n",
       "    }\n",
       "\n",
       "    .dataframe thead th {\n",
       "        text-align: right;\n",
       "    }\n",
       "</style>\n",
       "<table border=\"1\" class=\"dataframe\">\n",
       "  <thead>\n",
       "    <tr style=\"text-align: right;\">\n",
       "      <th></th>\n",
       "      <th>Year</th>\n",
       "      <th>Campus</th>\n",
       "      <th>Number of Awards</th>\n",
       "      <th>Dollar Amount of Awards</th>\n",
       "    </tr>\n",
       "    <tr>\n",
       "      <th>Index</th>\n",
       "      <th></th>\n",
       "      <th></th>\n",
       "      <th></th>\n",
       "      <th></th>\n",
       "    </tr>\n",
       "  </thead>\n",
       "  <tbody>\n",
       "    <tr>\n",
       "      <th>1</th>\n",
       "      <td>2005-06</td>\n",
       "      <td>Merced</td>\n",
       "      <td>41</td>\n",
       "      <td>4949249</td>\n",
       "    </tr>\n",
       "    <tr>\n",
       "      <th>2</th>\n",
       "      <td>2005-06</td>\n",
       "      <td>Riverside</td>\n",
       "      <td>487</td>\n",
       "      <td>57030198</td>\n",
       "    </tr>\n",
       "    <tr>\n",
       "      <th>3</th>\n",
       "      <td>2005-06</td>\n",
       "      <td>Santa Cruz</td>\n",
       "      <td>571</td>\n",
       "      <td>107616355</td>\n",
       "    </tr>\n",
       "    <tr>\n",
       "      <th>4</th>\n",
       "      <td>2005-06</td>\n",
       "      <td>Santa Barbara</td>\n",
       "      <td>710</td>\n",
       "      <td>124662796</td>\n",
       "    </tr>\n",
       "    <tr>\n",
       "      <th>5</th>\n",
       "      <td>2005-06</td>\n",
       "      <td>Irvine</td>\n",
       "      <td>994</td>\n",
       "      <td>206694535</td>\n",
       "    </tr>\n",
       "    <tr>\n",
       "      <th>6</th>\n",
       "      <td>2005-06</td>\n",
       "      <td>Berekely</td>\n",
       "      <td>1296</td>\n",
       "      <td>282132054</td>\n",
       "    </tr>\n",
       "    <tr>\n",
       "      <th>7</th>\n",
       "      <td>2005-06</td>\n",
       "      <td>Davis</td>\n",
       "      <td>2175</td>\n",
       "      <td>392605188</td>\n",
       "    </tr>\n",
       "    <tr>\n",
       "      <th>8</th>\n",
       "      <td>2005-06</td>\n",
       "      <td>San Diego</td>\n",
       "      <td>1900</td>\n",
       "      <td>498921291</td>\n",
       "    </tr>\n",
       "    <tr>\n",
       "      <th>9</th>\n",
       "      <td>2005-06</td>\n",
       "      <td>Los Angeles</td>\n",
       "      <td>2513</td>\n",
       "      <td>611900412</td>\n",
       "    </tr>\n",
       "    <tr>\n",
       "      <th>10</th>\n",
       "      <td>2006-07</td>\n",
       "      <td>Merced</td>\n",
       "      <td>68</td>\n",
       "      <td>11771663</td>\n",
       "    </tr>\n",
       "    <tr>\n",
       "      <th>11</th>\n",
       "      <td>2006-07</td>\n",
       "      <td>Riverside</td>\n",
       "      <td>692</td>\n",
       "      <td>98071924</td>\n",
       "    </tr>\n",
       "    <tr>\n",
       "      <th>12</th>\n",
       "      <td>2006-07</td>\n",
       "      <td>Santa Cruz</td>\n",
       "      <td>814</td>\n",
       "      <td>112719193</td>\n",
       "    </tr>\n",
       "    <tr>\n",
       "      <th>13</th>\n",
       "      <td>2006-07</td>\n",
       "      <td>Santa Barbara</td>\n",
       "      <td>929</td>\n",
       "      <td>172110074</td>\n",
       "    </tr>\n",
       "    <tr>\n",
       "      <th>14</th>\n",
       "      <td>2006-07</td>\n",
       "      <td>Irvine</td>\n",
       "      <td>1327</td>\n",
       "      <td>28170214</td>\n",
       "    </tr>\n",
       "    <tr>\n",
       "      <th>15</th>\n",
       "      <td>2006-07</td>\n",
       "      <td>Berekely</td>\n",
       "      <td>1940</td>\n",
       "      <td>530750299</td>\n",
       "    </tr>\n",
       "  </tbody>\n",
       "</table>\n",
       "</div>"
      ],
      "text/plain": [
       "          Year         Campus  Number of Awards  Dollar Amount of Awards\n",
       "Index                                                                   \n",
       "1      2005-06         Merced                41                  4949249\n",
       "2      2005-06      Riverside               487                 57030198\n",
       "3      2005-06     Santa Cruz               571                107616355\n",
       "4      2005-06  Santa Barbara               710                124662796\n",
       "5      2005-06         Irvine               994                206694535\n",
       "6      2005-06       Berekely              1296                282132054\n",
       "7      2005-06          Davis              2175                392605188\n",
       "8      2005-06      San Diego              1900                498921291\n",
       "9      2005-06    Los Angeles              2513                611900412\n",
       "10     2006-07         Merced                68                 11771663\n",
       "11     2006-07      Riverside               692                 98071924\n",
       "12     2006-07     Santa Cruz               814                112719193\n",
       "13     2006-07  Santa Barbara               929                172110074\n",
       "14     2006-07         Irvine              1327                 28170214\n",
       "15     2006-07       Berekely              1940                530750299"
      ]
     },
     "execution_count": 4,
     "metadata": {},
     "output_type": "execute_result"
    }
   ],
   "source": [
    "df.head(15)"
   ]
  },
  {
   "cell_type": "markdown",
   "metadata": {},
   "source": [
    "## Sort Data"
   ]
  },
  {
   "cell_type": "code",
   "execution_count": 10,
   "metadata": {},
   "outputs": [],
   "source": [
    "def DollarAwards(Input):\n",
    "    '''\n",
    "    Takes data field, sorts by entry, makes a list of 2 columns, zips columns together\n",
    "    Parameter, sort entry\n",
    "    '''\n",
    "    df_sorted = df[df[\"Campus\"] == Input ]\n",
    "    Dollars = tuple(df_sorted[\"Dollar Amount of Awards\"])\n",
    "    Years = tuple(df_sorted[\"Year\"])\n",
    "    return tuple(zip(Years, Dollars))"
   ]
  },
  {
   "cell_type": "code",
   "execution_count": 11,
   "metadata": {},
   "outputs": [
    {
     "name": "stdout",
     "output_type": "stream",
     "text": [
      "(('2005-06', 124662796), ('2006-07', 172110074), ('2007-08', 194554258), ('2008-09', 174650492), ('2009-10', 224327056), ('2010-11', 184412889), ('2011-12', 217949054), ('2012-13', 165537822), ('2013-14', 207820520), ('2014-15', 186288912), ('2015-16', 184100944), ('2016-17', 183821630), ('2017-18', 209570660), ('2018-19', 215565363), ('2019-20', 234932336))\n"
     ]
    }
   ],
   "source": [
    "#List of campuses for reference\n",
    "Campuses = (\"Berkeley\", \"Davis\", \"Irvine\", \"Los Angeles\", \"Merced\",\"Riverside\",\"San Diego\",\"Santa Cruz\", \"Santa Barbara\")\n",
    "#Create a dictionary with campuses as keys and zipped tuple as value\n",
    "d={}\n",
    "for campus in Campuses:\n",
    "    d[campus] = DollarAwards(campus)\n",
    "print(d[\"Santa Barbara\"]) #test"
   ]
  },
  {
   "cell_type": "markdown",
   "metadata": {},
   "source": [
    "## Create JSON"
   ]
  },
  {
   "cell_type": "code",
   "execution_count": 12,
   "metadata": {},
   "outputs": [],
   "source": [
    "import json\n",
    "def tojson(Input):\n",
    "    '''\n",
    "    Start with a key in a dictionary, make a tuple that is equal to dict value, convert to json\n",
    "    '''\n",
    "    tuple = d[Input]\n",
    "    with open('Total' + Input + '.json', 'w') as json_file:\n",
    "        json.dump(tuple, json_file, sort_keys=True, indent=4)"
   ]
  },
  {
   "cell_type": "code",
   "execution_count": 13,
   "metadata": {},
   "outputs": [],
   "source": [
    "#Loop create jsons for each campus\n",
    "for item in d.keys():\n",
    "    tojson(item)"
   ]
  },
  {
   "cell_type": "markdown",
   "metadata": {},
   "source": [
    "## Test Visuals"
   ]
  },
  {
   "cell_type": "code",
   "execution_count": 5,
   "metadata": {},
   "outputs": [],
   "source": [
    "def VizAwards(Input):\n",
    "    df_sorted = df[df[\"Campus\"] == Input ]\n",
    "    return df_sorted[\"Dollar Amount of Awards\"]"
   ]
  },
  {
   "cell_type": "code",
   "execution_count": 8,
   "metadata": {},
   "outputs": [],
   "source": [
    "Campuses = [\"Berekeley\", \"Davis\", \"Irvine\", \"Los Angeles\", \"Merced\",\"Riverside\",\"San Diego\",\"Santa Cruz\", \"Santa Barbara\"]\n",
    "dViz={}\n",
    "for campus in Campuses:\n",
    "    dViz[campus] = VizAwards(campus)\n",
    "DollarsBerkeley = VizAwards(\"Berkeley\")\n",
    "DollarsSanBar = VizAwards(\"Santa Barbara\")"
   ]
  },
  {
   "cell_type": "code",
   "execution_count": 9,
   "metadata": {},
   "outputs": [
    {
     "data": {
      "text/plain": [
       "<matplotlib.legend.Legend at 0x1a0329e8bb0>"
      ]
     },
     "execution_count": 9,
     "metadata": {},
     "output_type": "execute_result"
    },
    {
     "data": {
      "image/png": "[encoded data removed]",
      "text/plain": [
       "<Figure size 720x576 with 1 Axes>"
      ]
     },
     "metadata": {
      "needs_background": "light"
     },
     "output_type": "display_data"
    }
   ],
   "source": [
    "plt.figure(figsize=(10, 8))\n",
    "for item in dViz.keys():\n",
    "    plt.plot(dViz[item], label = item)\n",
    "plt.legend()"
   ]
  },
  {
   "cell_type": "code",
   "execution_count": 12,
   "metadata": {},
   "outputs": [
    {
     "data": {
      "text/plain": [
       "Series([], Name: Dollar Amount of Awards, dtype: int64)"
      ]
     },
     "execution_count": 12,
     "metadata": {},
     "output_type": "execute_result"
    }
   ],
   "source": []
  },
  {
   "cell_type": "code",
   "execution_count": null,
   "metadata": {},
   "outputs": [],
   "source": []
  }
 ],
 "metadata": {
  "kernelspec": {
   "display_name": "Python 3",
   "language": "python",
   "name": "python3"
  },
  "language_info": {
   "codemirror_mode": {
    "name": "ipython",
    "version": 3
   },
   "file_extension": ".py",
   "mimetype": "text/x-python",
   "name": "python",
   "nbconvert_exporter": "python",
   "pygments_lexer": "ipython3",
   "version": "3.8.5"
  }
 },
 "nbformat": 4,
 "nbformat_minor": 4
}
