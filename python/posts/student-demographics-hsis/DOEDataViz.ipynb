{
 "cells": [
  {
   "cell_type": "code",
   "execution_count": 1,
   "metadata": {},
   "outputs": [],
   "source": [
    "import pandas as pd\n",
    "import numpy as np\n",
    "import regex as re\n",
    "import matplotlib.pyplot as plt"
   ]
  },
  {
   "cell_type": "markdown",
   "metadata": {},
   "source": [
    "## Import Data Field"
   ]
  },
  {
   "cell_type": "code",
   "execution_count": 2,
   "metadata": {},
   "outputs": [],
   "source": [
    "#input path change to current path\n",
    "input_path = \"C:/Users/Lindsey/Desktop/Daily-Bruin/the-stack/datasets/student-demographics-hsis/\""
   ]
  },
  {
   "cell_type": "code",
   "execution_count": 3,
   "metadata": {},
   "outputs": [],
   "source": [
    "#import file NOTE HAD TO ADD INDEX IN CSV\n",
    "df = pd.read_csv(input_path + \"DOEGrantMoneyPerCampusPerYear.csv\", encoding=\"ISO-8859-1\",  index_col=0)"
   ]
  },
  {
   "cell_type": "code",
   "execution_count": 7,
   "metadata": {
    "scrolled": true
   },
   "outputs": [
    {
     "data": {
      "text/html": [
       "<div>\n",
       "<style scoped>\n",
       "    .dataframe tbody tr th:only-of-type {\n",
       "        vertical-align: middle;\n",
       "    }\n",
       "\n",
       "    .dataframe tbody tr th {\n",
       "        vertical-align: top;\n",
       "    }\n",
       "\n",
       "    .dataframe thead th {\n",
       "        text-align: right;\n",
       "    }\n",
       "</style>\n",
       "<table border=\"1\" class=\"dataframe\">\n",
       "  <thead>\n",
       "    <tr style=\"text-align: right;\">\n",
       "      <th></th>\n",
       "      <th>Year</th>\n",
       "      <th>Campus</th>\n",
       "      <th>Number of Awards</th>\n",
       "      <th>Dollar Amount of Awards</th>\n",
       "    </tr>\n",
       "    <tr>\n",
       "      <th>Index</th>\n",
       "      <th></th>\n",
       "      <th></th>\n",
       "      <th></th>\n",
       "      <th></th>\n",
       "    </tr>\n",
       "  </thead>\n",
       "  <tbody>\n",
       "    <tr>\n",
       "      <th>1</th>\n",
       "      <td>2005-06</td>\n",
       "      <td>Riverside</td>\n",
       "      <td>2</td>\n",
       "      <td>570371</td>\n",
       "    </tr>\n",
       "    <tr>\n",
       "      <th>2</th>\n",
       "      <td>2005-06</td>\n",
       "      <td>Davis</td>\n",
       "      <td>3</td>\n",
       "      <td>738838</td>\n",
       "    </tr>\n",
       "    <tr>\n",
       "      <th>3</th>\n",
       "      <td>2005-06</td>\n",
       "      <td>Santa Barbara</td>\n",
       "      <td>5</td>\n",
       "      <td>740236</td>\n",
       "    </tr>\n",
       "    <tr>\n",
       "      <th>4</th>\n",
       "      <td>2005-06</td>\n",
       "      <td>Irvine</td>\n",
       "      <td>7</td>\n",
       "      <td>1110897</td>\n",
       "    </tr>\n",
       "    <tr>\n",
       "      <th>5</th>\n",
       "      <td>2005-06</td>\n",
       "      <td>San Diego</td>\n",
       "      <td>4</td>\n",
       "      <td>1141138</td>\n",
       "    </tr>\n",
       "    <tr>\n",
       "      <th>6</th>\n",
       "      <td>2005-06</td>\n",
       "      <td>Santa Cruz</td>\n",
       "      <td>3</td>\n",
       "      <td>2382488</td>\n",
       "    </tr>\n",
       "    <tr>\n",
       "      <th>7</th>\n",
       "      <td>2005-06</td>\n",
       "      <td>Los Angeles</td>\n",
       "      <td>14</td>\n",
       "      <td>4504376</td>\n",
       "    </tr>\n",
       "    <tr>\n",
       "      <th>8</th>\n",
       "      <td>2005-06</td>\n",
       "      <td>Merced</td>\n",
       "      <td>0</td>\n",
       "      <td>0</td>\n",
       "    </tr>\n",
       "    <tr>\n",
       "      <th>9</th>\n",
       "      <td>2005-06</td>\n",
       "      <td>Berkeley</td>\n",
       "      <td>0</td>\n",
       "      <td>0</td>\n",
       "    </tr>\n",
       "    <tr>\n",
       "      <th>10</th>\n",
       "      <td>2006-07</td>\n",
       "      <td>Davis</td>\n",
       "      <td>1</td>\n",
       "      <td>470808</td>\n",
       "    </tr>\n",
       "    <tr>\n",
       "      <th>11</th>\n",
       "      <td>2006-07</td>\n",
       "      <td>Berkeley</td>\n",
       "      <td>1</td>\n",
       "      <td>1112552</td>\n",
       "    </tr>\n",
       "    <tr>\n",
       "      <th>12</th>\n",
       "      <td>2006-07</td>\n",
       "      <td>Santa Barbara</td>\n",
       "      <td>7</td>\n",
       "      <td>1276720</td>\n",
       "    </tr>\n",
       "    <tr>\n",
       "      <th>13</th>\n",
       "      <td>2006-07</td>\n",
       "      <td>Irvine</td>\n",
       "      <td>9</td>\n",
       "      <td>2013395</td>\n",
       "    </tr>\n",
       "    <tr>\n",
       "      <th>14</th>\n",
       "      <td>2006-07</td>\n",
       "      <td>Santa Cruz</td>\n",
       "      <td>7</td>\n",
       "      <td>3941751</td>\n",
       "    </tr>\n",
       "    <tr>\n",
       "      <th>15</th>\n",
       "      <td>2006-07</td>\n",
       "      <td>San Diego</td>\n",
       "      <td>15</td>\n",
       "      <td>6379911</td>\n",
       "    </tr>\n",
       "  </tbody>\n",
       "</table>\n",
       "</div>"
      ],
      "text/plain": [
       "          Year         Campus  Number of Awards  Dollar Amount of Awards\n",
       "Index                                                                   \n",
       "1      2005-06      Riverside                 2                   570371\n",
       "2      2005-06          Davis                 3                   738838\n",
       "3      2005-06  Santa Barbara                 5                   740236\n",
       "4      2005-06         Irvine                 7                  1110897\n",
       "5      2005-06      San Diego                 4                  1141138\n",
       "6      2005-06     Santa Cruz                 3                  2382488\n",
       "7      2005-06    Los Angeles                14                  4504376\n",
       "8      2005-06         Merced                 0                        0\n",
       "9      2005-06       Berkeley                 0                        0\n",
       "10     2006-07          Davis                 1                   470808\n",
       "11     2006-07       Berkeley                 1                  1112552\n",
       "12     2006-07  Santa Barbara                 7                  1276720\n",
       "13     2006-07         Irvine                 9                  2013395\n",
       "14     2006-07     Santa Cruz                 7                  3941751\n",
       "15     2006-07      San Diego                15                  6379911"
      ]
     },
     "execution_count": 7,
     "metadata": {},
     "output_type": "execute_result"
    }
   ],
   "source": [
    "df.head(15) #see data"
   ]
  },
  {
   "cell_type": "markdown",
   "metadata": {},
   "source": [
    "## Sort Data"
   ]
  },
  {
   "cell_type": "code",
   "execution_count": 8,
   "metadata": {},
   "outputs": [
    {
     "data": {
      "text/html": [
       "<div>\n",
       "<style scoped>\n",
       "    .dataframe tbody tr th:only-of-type {\n",
       "        vertical-align: middle;\n",
       "    }\n",
       "\n",
       "    .dataframe tbody tr th {\n",
       "        vertical-align: top;\n",
       "    }\n",
       "\n",
       "    .dataframe thead th {\n",
       "        text-align: right;\n",
       "    }\n",
       "</style>\n",
       "<table border=\"1\" class=\"dataframe\">\n",
       "  <thead>\n",
       "    <tr style=\"text-align: right;\">\n",
       "      <th></th>\n",
       "      <th>Year</th>\n",
       "      <th>Campus</th>\n",
       "      <th>Number of Awards</th>\n",
       "      <th>Dollar Amount of Awards</th>\n",
       "    </tr>\n",
       "    <tr>\n",
       "      <th>Index</th>\n",
       "      <th></th>\n",
       "      <th></th>\n",
       "      <th></th>\n",
       "      <th></th>\n",
       "    </tr>\n",
       "  </thead>\n",
       "  <tbody>\n",
       "    <tr>\n",
       "      <th>9</th>\n",
       "      <td>2005-06</td>\n",
       "      <td>Berkeley</td>\n",
       "      <td>0</td>\n",
       "      <td>0</td>\n",
       "    </tr>\n",
       "    <tr>\n",
       "      <th>11</th>\n",
       "      <td>2006-07</td>\n",
       "      <td>Berkeley</td>\n",
       "      <td>1</td>\n",
       "      <td>1112552</td>\n",
       "    </tr>\n",
       "    <tr>\n",
       "      <th>22</th>\n",
       "      <td>2007-08</td>\n",
       "      <td>Berkeley</td>\n",
       "      <td>3</td>\n",
       "      <td>3172182</td>\n",
       "    </tr>\n",
       "    <tr>\n",
       "      <th>29</th>\n",
       "      <td>2008-09</td>\n",
       "      <td>Berkeley</td>\n",
       "      <td>2</td>\n",
       "      <td>344598</td>\n",
       "    </tr>\n",
       "    <tr>\n",
       "      <th>37</th>\n",
       "      <td>2009-10</td>\n",
       "      <td>Berkeley</td>\n",
       "      <td>1</td>\n",
       "      <td>20650</td>\n",
       "    </tr>\n",
       "    <tr>\n",
       "      <th>54</th>\n",
       "      <td>2010-11</td>\n",
       "      <td>Berkeley</td>\n",
       "      <td>0</td>\n",
       "      <td>0</td>\n",
       "    </tr>\n",
       "    <tr>\n",
       "      <th>55</th>\n",
       "      <td>2011-12</td>\n",
       "      <td>Berkeley</td>\n",
       "      <td>1</td>\n",
       "      <td>343066</td>\n",
       "    </tr>\n",
       "    <tr>\n",
       "      <th>71</th>\n",
       "      <td>2012-13</td>\n",
       "      <td>Berkeley</td>\n",
       "      <td>0</td>\n",
       "      <td>0</td>\n",
       "    </tr>\n",
       "    <tr>\n",
       "      <th>80</th>\n",
       "      <td>2013-14</td>\n",
       "      <td>Berkeley</td>\n",
       "      <td>0</td>\n",
       "      <td>0</td>\n",
       "    </tr>\n",
       "    <tr>\n",
       "      <th>90</th>\n",
       "      <td>2014-15</td>\n",
       "      <td>Berkeley</td>\n",
       "      <td>0</td>\n",
       "      <td>0</td>\n",
       "    </tr>\n",
       "    <tr>\n",
       "      <th>97</th>\n",
       "      <td>2015-16</td>\n",
       "      <td>Berkeley</td>\n",
       "      <td>0</td>\n",
       "      <td>0</td>\n",
       "    </tr>\n",
       "    <tr>\n",
       "      <th>108</th>\n",
       "      <td>2016-17</td>\n",
       "      <td>Berkeley</td>\n",
       "      <td>0</td>\n",
       "      <td>0</td>\n",
       "    </tr>\n",
       "    <tr>\n",
       "      <th>117</th>\n",
       "      <td>2017-18</td>\n",
       "      <td>Berkeley</td>\n",
       "      <td>0</td>\n",
       "      <td>0</td>\n",
       "    </tr>\n",
       "    <tr>\n",
       "      <th>126</th>\n",
       "      <td>2018-19</td>\n",
       "      <td>Berkeley</td>\n",
       "      <td>0</td>\n",
       "      <td>0</td>\n",
       "    </tr>\n",
       "    <tr>\n",
       "      <th>135</th>\n",
       "      <td>2019-20</td>\n",
       "      <td>Berkeley</td>\n",
       "      <td>0</td>\n",
       "      <td>0</td>\n",
       "    </tr>\n",
       "  </tbody>\n",
       "</table>\n",
       "</div>"
      ],
      "text/plain": [
       "          Year    Campus  Number of Awards  Dollar Amount of Awards\n",
       "Index                                                              \n",
       "9      2005-06  Berkeley                 0                        0\n",
       "11     2006-07  Berkeley                 1                  1112552\n",
       "22     2007-08  Berkeley                 3                  3172182\n",
       "29     2008-09  Berkeley                 2                   344598\n",
       "37     2009-10  Berkeley                 1                    20650\n",
       "54     2010-11  Berkeley                 0                        0\n",
       "55     2011-12  Berkeley                 1                   343066\n",
       "71     2012-13  Berkeley                 0                        0\n",
       "80     2013-14  Berkeley                 0                        0\n",
       "90     2014-15  Berkeley                 0                        0\n",
       "97     2015-16  Berkeley                 0                        0\n",
       "108    2016-17  Berkeley                 0                        0\n",
       "117    2017-18  Berkeley                 0                        0\n",
       "126    2018-19  Berkeley                 0                        0\n",
       "135    2019-20  Berkeley                 0                        0"
      ]
     },
     "execution_count": 8,
     "metadata": {},
     "output_type": "execute_result"
    }
   ],
   "source": [
    "#Testing sorting abilities\n",
    "df_sorted = df[df[\"Campus\"] == \"Berkeley\"]\n",
    "df_sorted.head(15)"
   ]
  },
  {
   "cell_type": "code",
   "execution_count": 9,
   "metadata": {},
   "outputs": [
    {
     "name": "stdout",
     "output_type": "stream",
     "text": [
      "[0, 1112552, 3172182, 344598, 20650, 0, 343066, 0, 0, 0, 0, 0, 0, 0, 0] ['2005-06', '2006-07', '2007-08', '2008-09', '2009-10', '2010-11', '2011-12', '2012-13', '2013-14', '2014-15', '2015-16', '2016-17', '2017-18', '2018-19', '2019-20']\n"
     ]
    }
   ],
   "source": [
    "#Testing making lists\n",
    "L = list(df_sorted[\"Dollar Amount of Awards\"])\n",
    "L2 = list(df_sorted[\"Year\"])\n",
    "print(L, L2)"
   ]
  },
  {
   "cell_type": "code",
   "execution_count": 10,
   "metadata": {},
   "outputs": [],
   "source": [
    "def DollarAwards(Input):\n",
    "    '''\n",
    "    Takes data field, sorts by entry, makes a list of 2 columns, zips columns together\n",
    "    Parameter, sort entry\n",
    "    '''\n",
    "    df_sorted = df[df[\"Campus\"] == Input ]\n",
    "    Dollars = tuple(df_sorted[\"Dollar Amount of Awards\"])\n",
    "    Years = tuple(df_sorted[\"Year\"])\n",
    "    return tuple(zip(Years, Dollars))"
   ]
  },
  {
   "cell_type": "code",
   "execution_count": 11,
   "metadata": {},
   "outputs": [
    {
     "name": "stdout",
     "output_type": "stream",
     "text": [
      "(('2005-06', 0), ('2006-07', 1112552), ('2007-08', 3172182), ('2008-09', 344598), ('2009-10', 20650), ('2010-11', 0), ('2011-12', 343066), ('2012-13', 0), ('2013-14', 0), ('2014-15', 0), ('2015-16', 0), ('2016-17', 0), ('2017-18', 0), ('2018-19', 0), ('2019-20', 0))\n"
     ]
    }
   ],
   "source": [
    "#test\n",
    "print(DollarAwards(\"Berkeley\"))"
   ]
  },
  {
   "cell_type": "code",
   "execution_count": 12,
   "metadata": {},
   "outputs": [
    {
     "name": "stdout",
     "output_type": "stream",
     "text": [
      "(('2005-06', 740236), ('2006-07', 1276720), ('2007-08', 336040), ('2008-09', 964394), ('2009-10', 631804), ('2010-11', 649588), ('2011-12', 662497), ('2012-13', 177688), ('2013-14', 173926), ('2014-15', 0), ('2015-16', 0), ('2016-17', 50954), ('2017-18', 232264), ('2018-19', 242135), ('2019-20', 13131513))\n"
     ]
    }
   ],
   "source": [
    "#List of campuses for reference\n",
    "Campuses = (\"Berkeley\", \"Davis\", \"Irvine\", \"Los Angeles\", \"Merced\",\"Riverside\",\"San Diego\",\"Santa Cruz\", \"Santa Barbara\")\n",
    "#Create a dictionary with campuses as keys and zipped tuple as value\n",
    "d={}\n",
    "for campus in Campuses:\n",
    "    d[campus] = DollarAwards(campus)\n",
    "print(d[\"Santa Barbara\"]) #test"
   ]
  },
  {
   "cell_type": "markdown",
   "metadata": {},
   "source": [
    "## Create JSON"
   ]
  },
  {
   "cell_type": "code",
   "execution_count": 16,
   "metadata": {},
   "outputs": [],
   "source": [
    "import json\n",
    "def tojson(Input):\n",
    "    '''\n",
    "    Start with a key in a dictionary, make a tuple that is equal to dict value, convert to json\n",
    "    '''\n",
    "    tuple = d[Input]\n",
    "    with open('DOE' + Input + '.json', 'w') as json_file:\n",
    "        json.dump(tuple, json_file, sort_keys=True, indent=4)"
   ]
  },
  {
   "cell_type": "code",
   "execution_count": 17,
   "metadata": {},
   "outputs": [],
   "source": [
    "#Loop create jsons for each campus\n",
    "for item in d.keys():\n",
    "    tojson(item)"
   ]
  },
  {
   "cell_type": "markdown",
   "metadata": {},
   "source": [
    "## Test Visuals"
   ]
  },
  {
   "cell_type": "code",
   "execution_count": 21,
   "metadata": {},
   "outputs": [],
   "source": [
    "def VizAwards(Input):\n",
    "    df_sorted = df[df[\"Campus\"] == Input ]\n",
    "    return df_sorted[\"Dollar Amount of Awards\"]"
   ]
  },
  {
   "cell_type": "code",
   "execution_count": 24,
   "metadata": {},
   "outputs": [],
   "source": [
    "Campuses = [\"Berkeley\", \"Davis\", \"Irvine\", \"Los Angeles\", \"Merced\",\"Riverside\",\"San Diego\",\"Santa Cruz\", \"Santa Barbara\"]\n",
    "dViz={}\n",
    "for campus in Campuses:\n",
    "    dViz[campus] = VizAwards(campus)"
   ]
  },
  {
   "cell_type": "code",
   "execution_count": 25,
   "metadata": {},
   "outputs": [
    {
     "data": {
      "text/plain": [
       "<matplotlib.legend.Legend at 0x22d3e44b790>"
      ]
     },
     "execution_count": 25,
     "metadata": {},
     "output_type": "execute_result"
    },
    {
     "data": {
      "image/png": "[encoded data removed]",
      "text/plain": [
       "<Figure size 720x576 with 1 Axes>"
      ]
     },
     "metadata": {
      "needs_background": "light"
     },
     "output_type": "display_data"
    }
   ],
   "source": [
    "plt.figure(figsize=(10, 8))\n",
    "for item in d.keys():\n",
    "    plt.plot(dViz[item], label = item)\n",
    "plt.legend()"
   ]
  },
  {
   "cell_type": "code",
   "execution_count": null,
   "metadata": {},
   "outputs": [],
   "source": [
    "#Extra Code Bits\n",
    "for row in df_sorted:\n",
    "        AwardList.append(df_sorted[\"Dollar Amount of Awards\"][row])\n",
    "        \n",
    "#    for year in d[item]:\n",
    "        #plt.plot(year[0],year[1], label = item)\n",
    "#plt.plot(YearList, DollarsBerkeley, label= \"Berkeley\")\n",
    "#plt.plot(DollarsSanBar, label= \"Santa Barbara\")\n",
    "#plt.legend()"
   ]
  }
 ],
 "metadata": {
  "kernelspec": {
   "display_name": "Python 3",
   "language": "python",
   "name": "python3"
  },
  "language_info": {
   "codemirror_mode": {
    "name": "ipython",
    "version": 3
   },
   "file_extension": ".py",
   "mimetype": "text/x-python",
   "name": "python",
   "nbconvert_exporter": "python",
   "pygments_lexer": "ipython3",
   "version": "3.8.5"
  }
 },
 "nbformat": 4,
 "nbformat_minor": 4
}
