{
 "cells": [
  {
   "cell_type": "code",
   "execution_count": 29,
   "metadata": {},
   "outputs": [],
   "source": [
    "import pandas as pd\n",
    "import numpy as np\n",
    "import matplotlib.pyplot as plt "
   ]
  },
  {
   "cell_type": "code",
   "execution_count": 30,
   "metadata": {},
   "outputs": [],
   "source": [
    "popularity = pd.read_csv('Meal Plan Data - Dining Hall Popularity.csv')\n",
    "donations = pd.read_csv('Meal Plan Data - Donations.csv')\n",
    "location = pd.read_csv('Meal Plan Data - Hill vs Campus.csv')\n",
    "enrollment = pd.read_csv('Meal Plan Data - Enrollment.csv')\n",
    "leftover = pd.read_csv('Meal Plan Data - Leftover.csv')"
   ]
  },
  {
   "cell_type": "code",
   "execution_count": 31,
   "metadata": {},
   "outputs": [
    {
     "data": {
      "text/html": [
       "<div>\n",
       "<style scoped>\n",
       "    .dataframe tbody tr th:only-of-type {\n",
       "        vertical-align: middle;\n",
       "    }\n",
       "\n",
       "    .dataframe tbody tr th {\n",
       "        vertical-align: top;\n",
       "    }\n",
       "\n",
       "    .dataframe thead th {\n",
       "        text-align: right;\n",
       "    }\n",
       "</style>\n",
       "<table border=\"1\" class=\"dataframe\">\n",
       "  <thead>\n",
       "    <tr style=\"text-align: right;\">\n",
       "      <th></th>\n",
       "      <th>Location</th>\n",
       "      <th>Weekly Swipes</th>\n",
       "    </tr>\n",
       "  </thead>\n",
       "  <tbody>\n",
       "    <tr>\n",
       "      <th>0</th>\n",
       "      <td>Epicuria at Covel</td>\n",
       "      <td>8,998</td>\n",
       "    </tr>\n",
       "    <tr>\n",
       "      <th>1</th>\n",
       "      <td>De Neve</td>\n",
       "      <td>22,227</td>\n",
       "    </tr>\n",
       "    <tr>\n",
       "      <th>2</th>\n",
       "      <td>Spice Kitchen at Feast</td>\n",
       "      <td>7,413</td>\n",
       "    </tr>\n",
       "    <tr>\n",
       "      <th>3</th>\n",
       "      <td>Bruin Plate</td>\n",
       "      <td>24,999</td>\n",
       "    </tr>\n",
       "    <tr>\n",
       "      <th>4</th>\n",
       "      <td>Bruin Café</td>\n",
       "      <td>9,983</td>\n",
       "    </tr>\n",
       "    <tr>\n",
       "      <th>5</th>\n",
       "      <td>Café 1919</td>\n",
       "      <td>4,057</td>\n",
       "    </tr>\n",
       "    <tr>\n",
       "      <th>6</th>\n",
       "      <td>Rendezvous</td>\n",
       "      <td>21,299</td>\n",
       "    </tr>\n",
       "    <tr>\n",
       "      <th>7</th>\n",
       "      <td>The Study at Hedrick</td>\n",
       "      <td>29,589</td>\n",
       "    </tr>\n",
       "    <tr>\n",
       "      <th>8</th>\n",
       "      <td>The Drey</td>\n",
       "      <td>5,023</td>\n",
       "    </tr>\n",
       "  </tbody>\n",
       "</table>\n",
       "</div>"
      ],
      "text/plain": [
       "                 Location Weekly Swipes\n",
       "0       Epicuria at Covel         8,998\n",
       "1                 De Neve        22,227\n",
       "2  Spice Kitchen at Feast         7,413\n",
       "3             Bruin Plate        24,999\n",
       "4              Bruin Café         9,983\n",
       "5               Café 1919         4,057\n",
       "6              Rendezvous        21,299\n",
       "7    The Study at Hedrick        29,589\n",
       "8                The Drey         5,023"
      ]
     },
     "execution_count": 31,
     "metadata": {},
     "output_type": "execute_result"
    }
   ],
   "source": [
    "popularity"
   ]
  },
  {
   "cell_type": "code",
   "execution_count": 32,
   "metadata": {},
   "outputs": [
    {
     "data": {
      "text/html": [
       "<div>\n",
       "<style scoped>\n",
       "    .dataframe tbody tr th:only-of-type {\n",
       "        vertical-align: middle;\n",
       "    }\n",
       "\n",
       "    .dataframe tbody tr th {\n",
       "        vertical-align: top;\n",
       "    }\n",
       "\n",
       "    .dataframe thead th {\n",
       "        text-align: right;\n",
       "    }\n",
       "</style>\n",
       "<table border=\"1\" class=\"dataframe\">\n",
       "  <thead>\n",
       "    <tr style=\"text-align: right;\">\n",
       "      <th></th>\n",
       "      <th>Quarter</th>\n",
       "      <th>Swipes</th>\n",
       "    </tr>\n",
       "  </thead>\n",
       "  <tbody>\n",
       "    <tr>\n",
       "      <th>0</th>\n",
       "      <td>Fall 2022</td>\n",
       "      <td>32,684</td>\n",
       "    </tr>\n",
       "    <tr>\n",
       "      <th>1</th>\n",
       "      <td>Winter 2023</td>\n",
       "      <td>18,235</td>\n",
       "    </tr>\n",
       "    <tr>\n",
       "      <th>2</th>\n",
       "      <td>Spring 2023</td>\n",
       "      <td>16,754</td>\n",
       "    </tr>\n",
       "  </tbody>\n",
       "</table>\n",
       "</div>"
      ],
      "text/plain": [
       "       Quarter  Swipes\n",
       "0    Fall 2022  32,684\n",
       "1  Winter 2023  18,235\n",
       "2  Spring 2023  16,754"
      ]
     },
     "execution_count": 32,
     "metadata": {},
     "output_type": "execute_result"
    }
   ],
   "source": [
    "donations"
   ]
  },
  {
   "cell_type": "code",
   "execution_count": 33,
   "metadata": {},
   "outputs": [
    {
     "data": {
      "text/html": [
       "<div>\n",
       "<style scoped>\n",
       "    .dataframe tbody tr th:only-of-type {\n",
       "        vertical-align: middle;\n",
       "    }\n",
       "\n",
       "    .dataframe tbody tr th {\n",
       "        vertical-align: top;\n",
       "    }\n",
       "\n",
       "    .dataframe thead th {\n",
       "        text-align: right;\n",
       "    }\n",
       "</style>\n",
       "<table border=\"1\" class=\"dataframe\">\n",
       "  <thead>\n",
       "    <tr style=\"text-align: right;\">\n",
       "      <th></th>\n",
       "      <th>Quarter</th>\n",
       "      <th>The Hill</th>\n",
       "      <th>On Campus</th>\n",
       "    </tr>\n",
       "  </thead>\n",
       "  <tbody>\n",
       "    <tr>\n",
       "      <th>0</th>\n",
       "      <td>F23</td>\n",
       "      <td>0.8</td>\n",
       "      <td>0.2</td>\n",
       "    </tr>\n",
       "  </tbody>\n",
       "</table>\n",
       "</div>"
      ],
      "text/plain": [
       "  Quarter  The Hill  On Campus\n",
       "0     F23       0.8        0.2"
      ]
     },
     "execution_count": 33,
     "metadata": {},
     "output_type": "execute_result"
    }
   ],
   "source": [
    "location"
   ]
  },
  {
   "cell_type": "code",
   "execution_count": 34,
   "metadata": {},
   "outputs": [
    {
     "data": {
      "text/html": [
       "<div>\n",
       "<style scoped>\n",
       "    .dataframe tbody tr th:only-of-type {\n",
       "        vertical-align: middle;\n",
       "    }\n",
       "\n",
       "    .dataframe tbody tr th {\n",
       "        vertical-align: top;\n",
       "    }\n",
       "\n",
       "    .dataframe thead th {\n",
       "        text-align: right;\n",
       "    }\n",
       "</style>\n",
       "<table border=\"1\" class=\"dataframe\">\n",
       "  <thead>\n",
       "    <tr style=\"text-align: right;\">\n",
       "      <th></th>\n",
       "      <th>Unnamed: 0</th>\n",
       "      <th>11P</th>\n",
       "      <th>11R</th>\n",
       "      <th>14P</th>\n",
       "      <th>14R</th>\n",
       "      <th>19P</th>\n",
       "      <th>19R</th>\n",
       "    </tr>\n",
       "  </thead>\n",
       "  <tbody>\n",
       "    <tr>\n",
       "      <th>0</th>\n",
       "      <td>2223</td>\n",
       "      <td>1491</td>\n",
       "      <td>444</td>\n",
       "      <td>5241</td>\n",
       "      <td>951</td>\n",
       "      <td>3461</td>\n",
       "      <td>1670</td>\n",
       "    </tr>\n",
       "    <tr>\n",
       "      <th>1</th>\n",
       "      <td>2324</td>\n",
       "      <td>1530</td>\n",
       "      <td>371</td>\n",
       "      <td>5814</td>\n",
       "      <td>938</td>\n",
       "      <td>4199</td>\n",
       "      <td>1584</td>\n",
       "    </tr>\n",
       "  </tbody>\n",
       "</table>\n",
       "</div>"
      ],
      "text/plain": [
       "   Unnamed: 0   11P  11R   14P  14R   19P   19R\n",
       "0        2223  1491  444  5241  951  3461  1670\n",
       "1        2324  1530  371  5814  938  4199  1584"
      ]
     },
     "execution_count": 34,
     "metadata": {},
     "output_type": "execute_result"
    }
   ],
   "source": [
    "enrollment"
   ]
  },
  {
   "cell_type": "code",
   "execution_count": 35,
   "metadata": {},
   "outputs": [
    {
     "data": {
      "text/html": [
       "<div>\n",
       "<style scoped>\n",
       "    .dataframe tbody tr th:only-of-type {\n",
       "        vertical-align: middle;\n",
       "    }\n",
       "\n",
       "    .dataframe tbody tr th {\n",
       "        vertical-align: top;\n",
       "    }\n",
       "\n",
       "    .dataframe thead th {\n",
       "        text-align: right;\n",
       "    }\n",
       "</style>\n",
       "<table border=\"1\" class=\"dataframe\">\n",
       "  <thead>\n",
       "    <tr style=\"text-align: right;\">\n",
       "      <th></th>\n",
       "      <th>Unnamed: 0</th>\n",
       "      <th>11P</th>\n",
       "      <th>11R</th>\n",
       "      <th>14P</th>\n",
       "      <th>14R</th>\n",
       "      <th>19P</th>\n",
       "      <th>19R</th>\n",
       "    </tr>\n",
       "  </thead>\n",
       "  <tbody>\n",
       "    <tr>\n",
       "      <th>0</th>\n",
       "      <td>F22</td>\n",
       "      <td>23,486</td>\n",
       "      <td>1,852</td>\n",
       "      <td>76,959</td>\n",
       "      <td>6,712</td>\n",
       "      <td>85,095</td>\n",
       "      <td>16,070</td>\n",
       "    </tr>\n",
       "    <tr>\n",
       "      <th>1</th>\n",
       "      <td>W23</td>\n",
       "      <td>19,256</td>\n",
       "      <td>1,870</td>\n",
       "      <td>49,481</td>\n",
       "      <td>6,351</td>\n",
       "      <td>57,916</td>\n",
       "      <td>15,111</td>\n",
       "    </tr>\n",
       "    <tr>\n",
       "      <th>2</th>\n",
       "      <td>S23</td>\n",
       "      <td>18,531</td>\n",
       "      <td>1,708</td>\n",
       "      <td>50,659</td>\n",
       "      <td>5,678</td>\n",
       "      <td>56,292</td>\n",
       "      <td>14,436</td>\n",
       "    </tr>\n",
       "  </tbody>\n",
       "</table>\n",
       "</div>"
      ],
      "text/plain": [
       "  Unnamed: 0     11P    11R     14P    14R     19P     19R\n",
       "0        F22  23,486  1,852  76,959  6,712  85,095  16,070\n",
       "1        W23  19,256  1,870  49,481  6,351  57,916  15,111\n",
       "2        S23  18,531  1,708  50,659  5,678  56,292  14,436"
      ]
     },
     "execution_count": 35,
     "metadata": {},
     "output_type": "execute_result"
    }
   ],
   "source": [
    "leftover"
   ]
  },
  {
   "cell_type": "code",
   "execution_count": 36,
   "metadata": {},
   "outputs": [],
   "source": [
    "cpm = pd.read_csv('Meal Plan Data - Cost Per Meal (22-23).csv')"
   ]
  },
  {
   "cell_type": "code",
   "execution_count": 37,
   "metadata": {},
   "outputs": [],
   "source": [
    "cpm['money_wasted'] = cpm['avg_meals_leftover'] * cpm ['cpm']"
   ]
  },
  {
   "cell_type": "code",
   "execution_count": 38,
   "metadata": {},
   "outputs": [
    {
     "data": {
      "text/plain": [
       "<bound method NDFrame.head of   plan 2223_price   fall  winter  spring  total    cpm plans_purchased  \\\n",
       "0  19P   6,178.80  215.0   205.0   205.0  625.0   9.89        3,461.00   \n",
       "1  19R   5,558.64  215.0   205.0   205.0  625.0   8.89        1,670.00   \n",
       "2  14P   5,850.48  158.0   151.0   151.0  460.0  12.72        5,241.00   \n",
       "3  14R   5,387.64  158.0   151.0   151.0  460.0  11.71          951.00   \n",
       "4  11P   5,298.72  128.0   121.0   121.0  370.0  14.32        1,491.00   \n",
       "5  11R   4,927.08  128.0   121.0   121.0  370.0  13.32          444.00   \n",
       "\n",
       "  agg_meals_purchased agg_meals_leftover   agg_meals_c  avg_meals_c  \\\n",
       "0        2,163,125.00         199,303.00  1,963,822.00       567.41   \n",
       "1        1,043,750.00          45,617.00    998,133.00       597.68   \n",
       "2        2,410,860.00         177,099.00  2,233,761.00       426.21   \n",
       "3          437,460.00          18,741.00    418,719.00       440.29   \n",
       "4          551,670.00          61,273.00    490,397.00       328.90   \n",
       "5          164,280.00           5,430.00    158,850.00       357.77   \n",
       "\n",
       "   avg_meals_leftover  cpm_c  cpm_diff  money_wasted  \n",
       "0               57.59  10.89     -1.00      569.5651  \n",
       "1               27.32   9.30     -0.41      242.8748  \n",
       "2               33.79  13.73     -1.01      429.8088  \n",
       "3               19.71  12.24     -0.52      230.8041  \n",
       "4               41.10  16.11     -1.79      588.5520  \n",
       "5               12.23  13.77     -0.46      162.9036  >"
      ]
     },
     "execution_count": 38,
     "metadata": {},
     "output_type": "execute_result"
    }
   ],
   "source": [
    "cpm.head"
   ]
  },
  {
   "cell_type": "code",
   "execution_count": 45,
   "metadata": {},
   "outputs": [
    {
     "data": {
      "image/png": "[encoded data removed]",
      "text/plain": [
       "<Figure size 640x480 with 1 Axes>"
      ]
     },
     "metadata": {},
     "output_type": "display_data"
    }
   ],
   "source": [
    "plt.bar(cpm[\"plan\"], cpm[\"money_wasted\"])\n",
    "plt.xlabel(\"Meal Plans\")\n",
    "plt.ylabel(\"Dollars Wasted from Average Leftover Meals\")\n",
    "plt.title(\"Average Money Wasted Per Meal Plan 2022-2023\")\n",
    "plt.show()"
   ]
  }
 ],
 "metadata": {
  "kernelspec": {
   "display_name": "base",
   "language": "python",
   "name": "python3"
  },
  "language_info": {
   "codemirror_mode": {
    "name": "ipython",
    "version": 3
   },
   "file_extension": ".py",
   "mimetype": "text/x-python",
   "name": "python",
   "nbconvert_exporter": "python",
   "pygments_lexer": "ipython3",
   "version": "3.11.6"
  }
 },
 "nbformat": 4,
 "nbformat_minor": 2
}
