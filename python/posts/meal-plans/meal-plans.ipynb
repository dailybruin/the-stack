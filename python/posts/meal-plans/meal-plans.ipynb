{
 "cells": [
  {
   "cell_type": "code",
   "execution_count": 1,
   "metadata": {},
   "outputs": [],
   "source": [
    "import pandas as pd\n",
    "import numpy as np"
   ]
  },
  {
   "cell_type": "code",
   "execution_count": 2,
   "metadata": {},
   "outputs": [],
   "source": [
    "popularity = pd.read_csv('Meal Plan Data - Dining Hall Popularity.csv')\n",
    "donations = pd.read_csv('Meal Plan Data - Donations.csv')\n",
    "location = pd.read_csv('Meal Plan Data - Hill vs Campus.csv')\n",
    "enrollment = pd.read_csv('Meal Plan Data - Enrollment.csv')\n",
    "leftover = pd.read_csv('Meal Plan Data - Leftover.csv')"
   ]
  },
  {
   "cell_type": "code",
   "execution_count": 3,
   "metadata": {},
   "outputs": [
    {
     "data": {
      "text/html": [
       "<div>\n",
       "<style scoped>\n",
       "    .dataframe tbody tr th:only-of-type {\n",
       "        vertical-align: middle;\n",
       "    }\n",
       "\n",
       "    .dataframe tbody tr th {\n",
       "        vertical-align: top;\n",
       "    }\n",
       "\n",
       "    .dataframe thead th {\n",
       "        text-align: right;\n",
       "    }\n",
       "</style>\n",
       "<table border=\"1\" class=\"dataframe\">\n",
       "  <thead>\n",
       "    <tr style=\"text-align: right;\">\n",
       "      <th></th>\n",
       "      <th>Location</th>\n",
       "      <th>Weekly Swipes</th>\n",
       "    </tr>\n",
       "  </thead>\n",
       "  <tbody>\n",
       "    <tr>\n",
       "      <th>0</th>\n",
       "      <td>Epicuria at Covel</td>\n",
       "      <td>8998</td>\n",
       "    </tr>\n",
       "    <tr>\n",
       "      <th>1</th>\n",
       "      <td>De Neve</td>\n",
       "      <td>22227</td>\n",
       "    </tr>\n",
       "    <tr>\n",
       "      <th>2</th>\n",
       "      <td>Spice Kitchen at Feast</td>\n",
       "      <td>7413</td>\n",
       "    </tr>\n",
       "    <tr>\n",
       "      <th>3</th>\n",
       "      <td>Bruin Plate</td>\n",
       "      <td>24999</td>\n",
       "    </tr>\n",
       "    <tr>\n",
       "      <th>4</th>\n",
       "      <td>Bruin Café</td>\n",
       "      <td>9983</td>\n",
       "    </tr>\n",
       "    <tr>\n",
       "      <th>5</th>\n",
       "      <td>Café 1919</td>\n",
       "      <td>4057</td>\n",
       "    </tr>\n",
       "    <tr>\n",
       "      <th>6</th>\n",
       "      <td>Rendezvous</td>\n",
       "      <td>21299</td>\n",
       "    </tr>\n",
       "    <tr>\n",
       "      <th>7</th>\n",
       "      <td>The Study at Hedrick</td>\n",
       "      <td>29589</td>\n",
       "    </tr>\n",
       "    <tr>\n",
       "      <th>8</th>\n",
       "      <td>The Drey</td>\n",
       "      <td>5023</td>\n",
       "    </tr>\n",
       "  </tbody>\n",
       "</table>\n",
       "</div>"
      ],
      "text/plain": [
       "                 Location  Weekly Swipes\n",
       "0       Epicuria at Covel           8998\n",
       "1                 De Neve          22227\n",
       "2  Spice Kitchen at Feast           7413\n",
       "3             Bruin Plate          24999\n",
       "4              Bruin Café           9983\n",
       "5               Café 1919           4057\n",
       "6              Rendezvous          21299\n",
       "7    The Study at Hedrick          29589\n",
       "8                The Drey           5023"
      ]
     },
     "execution_count": 3,
     "metadata": {},
     "output_type": "execute_result"
    }
   ],
   "source": [
    "popularity"
   ]
  },
  {
   "cell_type": "code",
   "execution_count": 8,
   "metadata": {},
   "outputs": [
    {
     "name": "stdout",
     "output_type": "stream",
     "text": [
      "133588 33397 166985\n"
     ]
    }
   ],
   "source": [
    "hill_total = popularity.iloc[:,1].sum()\n",
    "location_total = (hill_total/0.8).astype(int)\n",
    "campus_total = (0.2*location_total).astype(int)\n",
    "print(hill_total, campus_total, location_total)\n"
   ]
  },
  {
   "cell_type": "code",
   "execution_count": 14,
   "metadata": {},
   "outputs": [
    {
     "data": {
      "text/plain": [
       "[0.05388507949815852,\n",
       " 0.13310776417043446,\n",
       " 0.04439320897086565,\n",
       " 0.14970805760996497,\n",
       " 0.05978381291732791,\n",
       " 0.024295595412761627,\n",
       " 0.12755037877653683,\n",
       " 0.17719555648710963,\n",
       " 0.030080546156840436,\n",
       " 0.2]"
      ]
     },
     "execution_count": 14,
     "metadata": {},
     "output_type": "execute_result"
    }
   ],
   "source": [
    "percentages = []\n",
    "for i in popularity.iloc[:,1]:\n",
    "    a = i/location_total\n",
    "    percentages.append(a)\n",
    "percentages.append(campus_total/location_total)\n",
    "percentages"
   ]
  },
  {
   "cell_type": "code",
   "execution_count": 4,
   "metadata": {},
   "outputs": [
    {
     "data": {
      "text/html": [
       "<div>\n",
       "<style scoped>\n",
       "    .dataframe tbody tr th:only-of-type {\n",
       "        vertical-align: middle;\n",
       "    }\n",
       "\n",
       "    .dataframe tbody tr th {\n",
       "        vertical-align: top;\n",
       "    }\n",
       "\n",
       "    .dataframe thead th {\n",
       "        text-align: right;\n",
       "    }\n",
       "</style>\n",
       "<table border=\"1\" class=\"dataframe\">\n",
       "  <thead>\n",
       "    <tr style=\"text-align: right;\">\n",
       "      <th></th>\n",
       "      <th>Quarter</th>\n",
       "      <th>Swipes</th>\n",
       "    </tr>\n",
       "  </thead>\n",
       "  <tbody>\n",
       "    <tr>\n",
       "      <th>0</th>\n",
       "      <td>Fall 2022</td>\n",
       "      <td>32684</td>\n",
       "    </tr>\n",
       "    <tr>\n",
       "      <th>1</th>\n",
       "      <td>Winter 2023</td>\n",
       "      <td>18235</td>\n",
       "    </tr>\n",
       "    <tr>\n",
       "      <th>2</th>\n",
       "      <td>Spring 2023</td>\n",
       "      <td>16754</td>\n",
       "    </tr>\n",
       "  </tbody>\n",
       "</table>\n",
       "</div>"
      ],
      "text/plain": [
       "       Quarter  Swipes\n",
       "0    Fall 2022   32684\n",
       "1  Winter 2023   18235\n",
       "2  Spring 2023   16754"
      ]
     },
     "execution_count": 4,
     "metadata": {},
     "output_type": "execute_result"
    }
   ],
   "source": [
    "donations"
   ]
  },
  {
   "cell_type": "code",
   "execution_count": 5,
   "metadata": {},
   "outputs": [
    {
     "data": {
      "text/html": [
       "<div>\n",
       "<style scoped>\n",
       "    .dataframe tbody tr th:only-of-type {\n",
       "        vertical-align: middle;\n",
       "    }\n",
       "\n",
       "    .dataframe tbody tr th {\n",
       "        vertical-align: top;\n",
       "    }\n",
       "\n",
       "    .dataframe thead th {\n",
       "        text-align: right;\n",
       "    }\n",
       "</style>\n",
       "<table border=\"1\" class=\"dataframe\">\n",
       "  <thead>\n",
       "    <tr style=\"text-align: right;\">\n",
       "      <th></th>\n",
       "      <th>Quarter</th>\n",
       "      <th>The Hill</th>\n",
       "      <th>On Campus</th>\n",
       "    </tr>\n",
       "  </thead>\n",
       "  <tbody>\n",
       "    <tr>\n",
       "      <th>0</th>\n",
       "      <td>F23</td>\n",
       "      <td>0.8</td>\n",
       "      <td>0.2</td>\n",
       "    </tr>\n",
       "  </tbody>\n",
       "</table>\n",
       "</div>"
      ],
      "text/plain": [
       "  Quarter  The Hill  On Campus\n",
       "0     F23       0.8        0.2"
      ]
     },
     "execution_count": 5,
     "metadata": {},
     "output_type": "execute_result"
    }
   ],
   "source": [
    "location"
   ]
  },
  {
   "cell_type": "code",
   "execution_count": 6,
   "metadata": {},
   "outputs": [
    {
     "data": {
      "text/html": [
       "<div>\n",
       "<style scoped>\n",
       "    .dataframe tbody tr th:only-of-type {\n",
       "        vertical-align: middle;\n",
       "    }\n",
       "\n",
       "    .dataframe tbody tr th {\n",
       "        vertical-align: top;\n",
       "    }\n",
       "\n",
       "    .dataframe thead th {\n",
       "        text-align: right;\n",
       "    }\n",
       "</style>\n",
       "<table border=\"1\" class=\"dataframe\">\n",
       "  <thead>\n",
       "    <tr style=\"text-align: right;\">\n",
       "      <th></th>\n",
       "      <th>Unnamed: 0</th>\n",
       "      <th>11P</th>\n",
       "      <th>11R</th>\n",
       "      <th>14P</th>\n",
       "      <th>14R</th>\n",
       "      <th>19P</th>\n",
       "      <th>19R</th>\n",
       "    </tr>\n",
       "  </thead>\n",
       "  <tbody>\n",
       "    <tr>\n",
       "      <th>0</th>\n",
       "      <td>2223</td>\n",
       "      <td>1491</td>\n",
       "      <td>444</td>\n",
       "      <td>5241</td>\n",
       "      <td>951</td>\n",
       "      <td>3461</td>\n",
       "      <td>1670</td>\n",
       "    </tr>\n",
       "    <tr>\n",
       "      <th>1</th>\n",
       "      <td>2324</td>\n",
       "      <td>1530</td>\n",
       "      <td>371</td>\n",
       "      <td>5814</td>\n",
       "      <td>938</td>\n",
       "      <td>4199</td>\n",
       "      <td>1584</td>\n",
       "    </tr>\n",
       "  </tbody>\n",
       "</table>\n",
       "</div>"
      ],
      "text/plain": [
       "   Unnamed: 0   11P  11R   14P  14R   19P   19R\n",
       "0        2223  1491  444  5241  951  3461  1670\n",
       "1        2324  1530  371  5814  938  4199  1584"
      ]
     },
     "execution_count": 6,
     "metadata": {},
     "output_type": "execute_result"
    }
   ],
   "source": [
    "enrollment"
   ]
  },
  {
   "cell_type": "code",
   "execution_count": 7,
   "metadata": {},
   "outputs": [
    {
     "data": {
      "text/html": [
       "<div>\n",
       "<style scoped>\n",
       "    .dataframe tbody tr th:only-of-type {\n",
       "        vertical-align: middle;\n",
       "    }\n",
       "\n",
       "    .dataframe tbody tr th {\n",
       "        vertical-align: top;\n",
       "    }\n",
       "\n",
       "    .dataframe thead th {\n",
       "        text-align: right;\n",
       "    }\n",
       "</style>\n",
       "<table border=\"1\" class=\"dataframe\">\n",
       "  <thead>\n",
       "    <tr style=\"text-align: right;\">\n",
       "      <th></th>\n",
       "      <th>Unnamed: 0</th>\n",
       "      <th>11P</th>\n",
       "      <th>11R</th>\n",
       "      <th>14P</th>\n",
       "      <th>14R</th>\n",
       "      <th>19P</th>\n",
       "      <th>19R</th>\n",
       "    </tr>\n",
       "  </thead>\n",
       "  <tbody>\n",
       "    <tr>\n",
       "      <th>0</th>\n",
       "      <td>F22</td>\n",
       "      <td>23486</td>\n",
       "      <td>1852</td>\n",
       "      <td>76959</td>\n",
       "      <td>6712</td>\n",
       "      <td>85095</td>\n",
       "      <td>16070</td>\n",
       "    </tr>\n",
       "    <tr>\n",
       "      <th>1</th>\n",
       "      <td>W23</td>\n",
       "      <td>19256</td>\n",
       "      <td>1870</td>\n",
       "      <td>49481</td>\n",
       "      <td>6351</td>\n",
       "      <td>57916</td>\n",
       "      <td>15111</td>\n",
       "    </tr>\n",
       "    <tr>\n",
       "      <th>2</th>\n",
       "      <td>S23</td>\n",
       "      <td>18531</td>\n",
       "      <td>1708</td>\n",
       "      <td>50659</td>\n",
       "      <td>5678</td>\n",
       "      <td>56292</td>\n",
       "      <td>14436</td>\n",
       "    </tr>\n",
       "  </tbody>\n",
       "</table>\n",
       "</div>"
      ],
      "text/plain": [
       "  Unnamed: 0    11P   11R    14P   14R    19P    19R\n",
       "0        F22  23486  1852  76959  6712  85095  16070\n",
       "1        W23  19256  1870  49481  6351  57916  15111\n",
       "2        S23  18531  1708  50659  5678  56292  14436"
      ]
     },
     "execution_count": 7,
     "metadata": {},
     "output_type": "execute_result"
    }
   ],
   "source": [
    "leftover"
   ]
  },
  {
   "cell_type": "markdown",
   "metadata": {},
   "source": [
    "Stacked bar chart with enrollment to count consumption, leftovers, and donations. "
   ]
  },
  {
   "cell_type": "code",
   "execution_count": 8,
   "metadata": {},
   "outputs": [
    {
     "name": "stdout",
     "output_type": "stream",
     "text": [
      "      11P     11R      14P     14R      19P      19R\n",
      "0  557634  166056  2494716  452676  2235806  1078820\n",
      "1  572220  138754  2767464  446488  2712554  1023264\n"
     ]
    }
   ],
   "source": [
    "enroll = enrollment.drop('Unnamed: 0', axis = 1)\n",
    "for col in enroll.columns:\n",
    "    if '11' in col:\n",
    "        enroll[col] *= 11*34\n",
    "    elif '14' in col:\n",
    "        enroll[col] *= 14*34\n",
    "    elif '19' in col:\n",
    "        enroll[col] *= 19*34\n",
    "print(enroll)"
   ]
  },
  {
   "cell_type": "code",
   "execution_count": 9,
   "metadata": {},
   "outputs": [
    {
     "name": "stdout",
     "output_type": "stream",
     "text": [
      "11P     557634\n",
      "11R     166056\n",
      "14P    2494716\n",
      "14R     452676\n",
      "19P    2235806\n",
      "19R    1078820\n",
      "Name: 0, dtype: int64 11P    0.079825\n",
      "11R    0.023771\n",
      "14P    0.357117\n",
      "14R    0.064800\n",
      "19P    0.320054\n",
      "19R    0.154432\n",
      "Name: 0, dtype: float64\n"
     ]
    }
   ],
   "source": [
    "#find proportion of enrollment for each meal plan relative to total enrollment\n",
    "e_colsum = enroll.iloc[0,:]\n",
    "totalsum = e_colsum.sum()\n",
    "e_ratios = e_colsum/totalsum\n",
    "print(e_colsum, e_ratios)"
   ]
  },
  {
   "cell_type": "code",
   "execution_count": 10,
   "metadata": {},
   "outputs": [
    {
     "name": "stdout",
     "output_type": "stream",
     "text": [
      "11P     61273\n",
      "11R      5430\n",
      "14P    177099\n",
      "14R     18741\n",
      "19P    199303\n",
      "19R     45617\n",
      "dtype: int64 11P    0.120744\n",
      "11R    0.010700\n",
      "14P    0.348989\n",
      "14R    0.036931\n",
      "19P    0.392744\n",
      "19R    0.089892\n",
      "dtype: float64\n"
     ]
    }
   ],
   "source": [
    "#find proportion of leftovers for each meal plan relative to total leftovers\n",
    "l_colsum = leftover.iloc[:,1:].sum()\n",
    "totalsum = l_colsum.sum()\n",
    "l_ratios = l_colsum/totalsum\n",
    "print(l_colsum, l_ratios)"
   ]
  },
  {
   "cell_type": "code",
   "execution_count": 32,
   "metadata": {},
   "outputs": [
    {
     "data": {
      "text/plain": [
       "11P     8171\n",
       "11R      724\n",
       "14P    23617\n",
       "14R     2499\n",
       "19P    26578\n",
       "19R     6083\n",
       "Name: 0, dtype: int64"
      ]
     },
     "execution_count": 32,
     "metadata": {},
     "output_type": "execute_result"
    }
   ],
   "source": [
    "donation = donations.iloc[:,1].sum()\n",
    "data = {\n",
    "    '11P': [(l_ratios[0]*donation).astype(int)],\n",
    "    '11R': [(l_ratios[1]*donation).astype(int)],\n",
    "    '14P': [(l_ratios[2]*donation).astype(int)],\n",
    "    '14R': [(l_ratios[3]*donation).astype(int)],\n",
    "    '19P': [(l_ratios[4]*donation).astype(int)],\n",
    "    '19R': [(l_ratios[5]*donation).astype(int)],\n",
    "}\n",
    "\n",
    "donations_est = pd.DataFrame(data)\n",
    "donations_est = donations_est.iloc[0,:]\n",
    "donations_est"
   ]
  },
  {
   "cell_type": "code",
   "execution_count": 33,
   "metadata": {},
   "outputs": [],
   "source": [
    "consumed = e_colsum - l_colsum"
   ]
  },
  {
   "cell_type": "code",
   "execution_count": 35,
   "metadata": {},
   "outputs": [
    {
     "name": "stdout",
     "output_type": "stream",
     "text": [
      "11P     557634\n",
      "11R     166056\n",
      "14P    2494716\n",
      "14R     452676\n",
      "19P    2235806\n",
      "19R    1078820\n",
      "Name: 0, dtype: int64\n",
      "11P     496361\n",
      "11R     160626\n",
      "14P    2317617\n",
      "14R     433935\n",
      "19P    2036503\n",
      "19R    1033203\n",
      "dtype: int64\n",
      "11P     61273\n",
      "11R      5430\n",
      "14P    177099\n",
      "14R     18741\n",
      "19P    199303\n",
      "19R     45617\n",
      "dtype: int64\n",
      "11P     8171\n",
      "11R      724\n",
      "14P    23617\n",
      "14R     2499\n",
      "19P    26578\n",
      "19R     6083\n",
      "Name: 0, dtype: int64\n"
     ]
    }
   ],
   "source": [
    "print(e_colsum)\n",
    "print(consumed)\n",
    "print(l_colsum)\n",
    "print(donations_est)"
   ]
  },
  {
   "cell_type": "code",
   "execution_count": 46,
   "metadata": {},
   "outputs": [
    {
     "data": {
      "text/html": [
       "<div>\n",
       "<style scoped>\n",
       "    .dataframe tbody tr th:only-of-type {\n",
       "        vertical-align: middle;\n",
       "    }\n",
       "\n",
       "    .dataframe tbody tr th {\n",
       "        vertical-align: top;\n",
       "    }\n",
       "\n",
       "    .dataframe thead th {\n",
       "        text-align: right;\n",
       "    }\n",
       "</style>\n",
       "<table border=\"1\" class=\"dataframe\">\n",
       "  <thead>\n",
       "    <tr style=\"text-align: right;\">\n",
       "      <th></th>\n",
       "      <th>0</th>\n",
       "      <th>1</th>\n",
       "      <th>0</th>\n",
       "    </tr>\n",
       "  </thead>\n",
       "  <tbody>\n",
       "    <tr>\n",
       "      <th>11P</th>\n",
       "      <td>496361</td>\n",
       "      <td>61273</td>\n",
       "      <td>8171</td>\n",
       "    </tr>\n",
       "    <tr>\n",
       "      <th>11R</th>\n",
       "      <td>160626</td>\n",
       "      <td>5430</td>\n",
       "      <td>724</td>\n",
       "    </tr>\n",
       "    <tr>\n",
       "      <th>14P</th>\n",
       "      <td>2317617</td>\n",
       "      <td>177099</td>\n",
       "      <td>23617</td>\n",
       "    </tr>\n",
       "    <tr>\n",
       "      <th>14R</th>\n",
       "      <td>433935</td>\n",
       "      <td>18741</td>\n",
       "      <td>2499</td>\n",
       "    </tr>\n",
       "    <tr>\n",
       "      <th>19P</th>\n",
       "      <td>2036503</td>\n",
       "      <td>199303</td>\n",
       "      <td>26578</td>\n",
       "    </tr>\n",
       "    <tr>\n",
       "      <th>19R</th>\n",
       "      <td>1033203</td>\n",
       "      <td>45617</td>\n",
       "      <td>6083</td>\n",
       "    </tr>\n",
       "  </tbody>\n",
       "</table>\n",
       "</div>"
      ],
      "text/plain": [
       "           0       1      0\n",
       "11P   496361   61273   8171\n",
       "11R   160626    5430    724\n",
       "14P  2317617  177099  23617\n",
       "14R   433935   18741   2499\n",
       "19P  2036503  199303  26578\n",
       "19R  1033203   45617   6083"
      ]
     },
     "execution_count": 46,
     "metadata": {},
     "output_type": "execute_result"
    }
   ],
   "source": [
    "total = pd.concat([consumed, l_colsum, donations_est], axis=1)\n",
    "total"
   ]
  },
  {
   "cell_type": "code",
   "execution_count": 55,
   "metadata": {},
   "outputs": [
    {
     "name": "stdout",
     "output_type": "stream",
     "text": [
      "{\n",
      " \"name\": \"Meal Plan\", \n",
      " \"children\": [ \n",
      "\n",
      "{ \n",
      " \"name\": \" 11P \" \n",
      " \"children\": [\n",
      "{\"name\": \"Consumed\", \"size\": 496361 },\n",
      "{\"name\": \"Leftover\", \"size\": 61273 },\n",
      "{\"name\": \"Donated\", \"size\": 8171 } \n",
      " ] \n",
      " },\n",
      "{ \n",
      " \"name\": \" 11R \" \n",
      " \"children\": [\n",
      "{\"name\": \"Consumed\", \"size\": 160626 },\n",
      "{\"name\": \"Leftover\", \"size\": 5430 },\n",
      "{\"name\": \"Donated\", \"size\": 724 } \n",
      " ] \n",
      " },\n",
      "{ \n",
      " \"name\": \" 14P \" \n",
      " \"children\": [\n",
      "{\"name\": \"Consumed\", \"size\": 2317617 },\n",
      "{\"name\": \"Leftover\", \"size\": 177099 },\n",
      "{\"name\": \"Donated\", \"size\": 23617 } \n",
      " ] \n",
      " },\n",
      "{ \n",
      " \"name\": \" 14R \" \n",
      " \"children\": [\n",
      "{\"name\": \"Consumed\", \"size\": 433935 },\n",
      "{\"name\": \"Leftover\", \"size\": 18741 },\n",
      "{\"name\": \"Donated\", \"size\": 2499 } \n",
      " ] \n",
      " },\n",
      "{ \n",
      " \"name\": \" 19P \" \n",
      " \"children\": [\n",
      "{\"name\": \"Consumed\", \"size\": 2036503 },\n",
      "{\"name\": \"Leftover\", \"size\": 199303 },\n",
      "{\"name\": \"Donated\", \"size\": 26578 } \n",
      " ] \n",
      " },\n",
      "{ \n",
      " \"name\": \" 19R \" \n",
      " \"children\": [\n",
      "{\"name\": \"Consumed\", \"size\": 1033203 },\n",
      "{\"name\": \"Leftover\", \"size\": 45617 },\n",
      "{\"name\": \"Donated\", \"size\": 6083 } \n",
      " ] \n",
      " },\n",
      "] \n",
      " }\n"
     ]
    },
    {
     "data": {
      "text/plain": [
       "{'name': 'Meal Plan',\n",
       " 'children': [{'name': '11P',\n",
       "   'children': [{'name': 'Consumed', 'size': 496361},\n",
       "    {'name': 'Leftovers', 'size': 53101},\n",
       "    {'name': 'Donations', 'size': 8171}]},\n",
       "  {'name': '11R',\n",
       "   'children': [{'name': 'Consumed', 'size': 496361},\n",
       "    {'name': 'Leftovers', 'size': 53101},\n",
       "    {'name': 'Donations', 'size': 8171}]},\n",
       "  {'name': '14P',\n",
       "   'children': [{'name': 'Consumed', 'size': 496361},\n",
       "    {'name': 'Leftovers', 'size': 53101},\n",
       "    {'name': 'Donations', 'size': 8171}]},\n",
       "  {'name': '14R',\n",
       "   'children': [{'name': 'Consumed', 'size': 496361},\n",
       "    {'name': 'Leftovers', 'size': 53101},\n",
       "    {'name': 'Donations', 'size': 8171}]},\n",
       "  {'name': '19P',\n",
       "   'children': [{'name': 'Consumed', 'size': 496361},\n",
       "    {'name': 'Leftovers', 'size': 53101},\n",
       "    {'name': 'Donations', 'size': 8171}]},\n",
       "  {'name': '19R',\n",
       "   'children': [{'name': 'Consumed', 'size': 496361},\n",
       "    {'name': 'Leftovers', 'size': 53101},\n",
       "    {'name': 'Donations', 'size': 8171}]}]}"
      ]
     },
     "execution_count": 55,
     "metadata": {},
     "output_type": "execute_result"
    }
   ],
   "source": [
    "plans = ['11P', '11R', '14P', '14R', '19P', '19R']\n",
    "\n",
    "print(\"{\\n \\\"name\\\": \\\"Meal Plan\\\", \\n \\\"children\\\": [ \\n\")\n",
    "for i in range(6):\n",
    "    print(\"{ \\n \\\"name\\\": \\\"\", plans[i], \"\\\" \\n \\\"children\\\": [\"),\n",
    "    print(\"{\\\"name\\\": \\\"Consumed\\\", \\\"size\\\":\", total.iloc[i,0], \"},\" )\n",
    "    print(\"{\\\"name\\\": \\\"Leftover\\\", \\\"size\\\":\", total.iloc[i,1], \"},\" )\n",
    "    print(\"{\\\"name\\\": \\\"Donated\\\", \\\"size\\\":\", total.iloc[i,2], \"} \\n ] \\n },\" )\n",
    "print(\"] \\n }\")\n",
    "\n",
    "{\n",
    "    \"name\": \"Meal Plan\",\n",
    "    \"children\": [\n",
    "        {\n",
    "            \"name\": \"11P\",\n",
    "            \"children\": [\n",
    "                { \"name\": \"Consumed\", \"size\": 496361 },\n",
    "                { \"name\": \"Leftovers\", \"size\": 53101 },\n",
    "                { \"name\": \"Donations\", \"size\": 8171 }\n",
    "            ]\n",
    "        },\n",
    "        {\n",
    "            \"name\": \"11R\",\n",
    "            \"children\": [\n",
    "                { \"name\": \"Consumed\", \"size\": 496361 },\n",
    "                { \"name\": \"Leftovers\", \"size\": 53101 },\n",
    "                { \"name\": \"Donations\", \"size\": 8171 }\n",
    "            ]\n",
    "        },\n",
    "        {\n",
    "            \"name\": \"14P\",\n",
    "            \"children\": [\n",
    "                { \"name\": \"Consumed\", \"size\": 496361 },\n",
    "                { \"name\": \"Leftovers\", \"size\": 53101 },\n",
    "                { \"name\": \"Donations\", \"size\": 8171 }\n",
    "            ]\n",
    "        },\n",
    "        {\n",
    "            \"name\": \"14R\",\n",
    "            \"children\": [\n",
    "                { \"name\": \"Consumed\", \"size\": 496361 },\n",
    "                { \"name\": \"Leftovers\", \"size\": 53101 },\n",
    "                { \"name\": \"Donations\", \"size\": 8171 }\n",
    "            ]\n",
    "        },\n",
    "        {\n",
    "            \"name\": \"19P\",\n",
    "            \"children\": [\n",
    "                { \"name\": \"Consumed\", \"size\": 496361 },\n",
    "                { \"name\": \"Leftovers\", \"size\": 53101 },\n",
    "                { \"name\": \"Donations\", \"size\": 8171 }\n",
    "            ]\n",
    "        },\n",
    "        {\n",
    "            \"name\": \"19R\",\n",
    "            \"children\": [\n",
    "                { \"name\": \"Consumed\", \"size\": 496361 },\n",
    "                { \"name\": \"Leftovers\", \"size\": 53101 },\n",
    "                { \"name\": \"Donations\", \"size\": 8171 }\n",
    "            ]\n",
    "        }\n",
    "    ]\n",
    "}\n"
   ]
  },
  {
   "cell_type": "code",
   "execution_count": null,
   "metadata": {},
   "outputs": [],
   "source": []
  }
 ],
 "metadata": {
  "kernelspec": {
   "display_name": "base",
   "language": "python",
   "name": "python3"
  },
  "language_info": {
   "codemirror_mode": {
    "name": "ipython",
    "version": 3
   },
   "file_extension": ".py",
   "mimetype": "text/x-python",
   "name": "python",
   "nbconvert_exporter": "python",
   "pygments_lexer": "ipython3",
   "version": "3.11.4"
  }
 },
 "nbformat": 4,
 "nbformat_minor": 2
}
