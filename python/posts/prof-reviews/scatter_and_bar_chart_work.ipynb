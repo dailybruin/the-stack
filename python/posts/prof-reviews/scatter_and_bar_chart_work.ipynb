{
 "cells": [
  {
   "cell_type": "code",
   "execution_count": 1,
   "metadata": {
    "scrolled": true
   },
   "outputs": [
    {
     "name": "stderr",
     "output_type": "stream",
     "text": [
      "[nltk_data] Downloading package punkt to\n",
      "[nltk_data]     /Users/hinaljajal/nltk_data...\n",
      "[nltk_data]   Package punkt is already up-to-date!\n",
      "[nltk_data] Downloading package stopwords to\n",
      "[nltk_data]     /Users/hinaljajal/nltk_data...\n",
      "[nltk_data]   Package stopwords is already up-to-date!\n",
      "[nltk_data] Downloading package vader_lexicon to\n",
      "[nltk_data]     /Users/hinaljajal/nltk_data...\n",
      "[nltk_data]   Package vader_lexicon is already up-to-date!\n"
     ]
    }
   ],
   "source": [
    "import pandas as pd\n",
    "import numpy as np\n",
    "import pandas as pd\n",
    "\n",
    "# import gender_guesser.detector as gender\n",
    "import nltk\n",
    "nltk.download(['punkt','stopwords','vader_lexicon'])\n",
    "from nltk.corpus import stopwords\n",
    "from nltk.sentiment import SentimentIntensityAnalyzer\n",
    "# import text2emotion as te\n",
    "\n",
    "import matplotlib.pyplot as plt\n",
    "\n",
    "from collections import defaultdict"
   ]
  },
  {
   "cell_type": "markdown",
   "metadata": {},
   "source": [
    "## Data Wrangling for scatter.js"
   ]
  },
  {
   "cell_type": "code",
   "execution_count": 9,
   "metadata": {},
   "outputs": [],
   "source": [
    "fem_ = pd.read_csv(\"/Users/hinaljajal/Downloads/female_prof_word_freqs-2.csv\")"
   ]
  },
  {
   "cell_type": "code",
   "execution_count": 10,
   "metadata": {},
   "outputs": [],
   "source": [
    "male_ = pd.read_csv(\"/Users/hinaljajal/Downloads/male_prof_word_freqs-2.csv\")"
   ]
  },
  {
   "cell_type": "code",
   "execution_count": 11,
   "metadata": {},
   "outputs": [],
   "source": [
    "fem_ = fem_.rename(columns={\"Unnamed: 0\":\"Word\",\"0\":\"Female Count\"})"
   ]
  },
  {
   "cell_type": "code",
   "execution_count": 12,
   "metadata": {},
   "outputs": [],
   "source": [
    "male_ = male_.rename(columns={\"Unnamed: 0\":\"Word\",\"0\":\"Male Count\"})"
   ]
  },
  {
   "cell_type": "code",
   "execution_count": 40,
   "metadata": {},
   "outputs": [],
   "source": [
    "total = male_.merge(fem_,on=\"Word\",how=\"outer\")"
   ]
  },
  {
   "cell_type": "code",
   "execution_count": 41,
   "metadata": {},
   "outputs": [],
   "source": [
    "total = total.fillna(0)"
   ]
  },
  {
   "cell_type": "code",
   "execution_count": 42,
   "metadata": {},
   "outputs": [],
   "source": [
    "total[\"Difference\"] = total[\"Male Count\"]-total[\"Female Count\"]"
   ]
  },
  {
   "cell_type": "code",
   "execution_count": 43,
   "metadata": {},
   "outputs": [],
   "source": [
    "male_sum = total[\"Male Count\"].sum()"
   ]
  },
  {
   "cell_type": "code",
   "execution_count": 44,
   "metadata": {},
   "outputs": [],
   "source": [
    "fem_sum = total[\"Female Count\"].sum()"
   ]
  },
  {
   "cell_type": "code",
   "execution_count": 45,
   "metadata": {},
   "outputs": [],
   "source": [
    "total[\"Male %\"] = total[\"Male Count\"]/male_sum*100"
   ]
  },
  {
   "cell_type": "code",
   "execution_count": 46,
   "metadata": {},
   "outputs": [],
   "source": [
    "total[\"Female %\"] = total[\"Female Count\"]/fem_sum*100"
   ]
  },
  {
   "cell_type": "code",
   "execution_count": 70,
   "metadata": {},
   "outputs": [],
   "source": [
    "total[\"Difference %\"] = total[\"Male %\"]-total[\"Female %\"]"
   ]
  },
  {
   "cell_type": "code",
   "execution_count": 71,
   "metadata": {},
   "outputs": [],
   "source": [
    "total[\"Abs Difference %\"] = total[\"Difference %\"].abs()"
   ]
  },
  {
   "cell_type": "code",
   "execution_count": 72,
   "metadata": {},
   "outputs": [],
   "source": [
    "top_500 = total.sort_values(by=\"Abs Difference %\",ascending = False)[0:500]"
   ]
  },
  {
   "cell_type": "code",
   "execution_count": 28,
   "metadata": {},
   "outputs": [
    {
     "ename": "NameError",
     "evalue": "name 'top_500_' is not defined",
     "output_type": "error",
     "traceback": [
      "\u001b[0;31m---------------------------------------------------------------------------\u001b[0m",
      "\u001b[0;31mNameError\u001b[0m                                 Traceback (most recent call last)",
      "\u001b[0;32m<ipython-input-28-154d468de536>\u001b[0m in \u001b[0;36m<module>\u001b[0;34m\u001b[0m\n\u001b[0;32m----> 1\u001b[0;31m \u001b[0mtop_500_\u001b[0m \u001b[0;34m=\u001b[0m \u001b[0mtop_500_\u001b[0m\u001b[0;34m.\u001b[0m\u001b[0mrename\u001b[0m\u001b[0;34m(\u001b[0m\u001b[0mcolumns\u001b[0m\u001b[0;34m=\u001b[0m\u001b[0;34m{\u001b[0m\u001b[0;34m\"Male %\"\u001b[0m\u001b[0;34m:\u001b[0m\u001b[0;34m\"male\"\u001b[0m\u001b[0;34m,\u001b[0m\u001b[0;34m\"Female %\"\u001b[0m\u001b[0;34m:\u001b[0m\u001b[0;34m\"female\"\u001b[0m\u001b[0;34m}\u001b[0m\u001b[0;34m)\u001b[0m\u001b[0;34m\u001b[0m\u001b[0;34m\u001b[0m\u001b[0m\n\u001b[0m",
      "\u001b[0;31mNameError\u001b[0m: name 'top_500_' is not defined"
     ]
    }
   ],
   "source": [
    "top_500_ = top_500_.rename(columns={\"Male %\":\"male\",\"Female %\":\"female\"})"
   ]
  },
  {
   "cell_type": "code",
   "execution_count": 29,
   "metadata": {},
   "outputs": [],
   "source": [
    "total=total.rename(columns={\"Male %\":\"x\",\"Female %\":\"y\"})"
   ]
  },
  {
   "cell_type": "code",
   "execution_count": 30,
   "metadata": {},
   "outputs": [],
   "source": [
    "total_ = total[total[\"x\"]<=60]"
   ]
  },
  {
   "cell_type": "code",
   "execution_count": 31,
   "metadata": {},
   "outputs": [],
   "source": [
    "top_500 = total_.sort_values(by=\"Abs Difference %\",ascending = False)[0:500]"
   ]
  },
  {
   "cell_type": "code",
   "execution_count": 78,
   "metadata": {},
   "outputs": [],
   "source": [
    "top_500_ = top_500[(top_500[\"Word\"]!=\"sweet\") & (top_500[\"Word\"]!=\"hard\") & (top_500[\"Word\"]!=\"funny\") & (top_500[\"Word\"]!=\"difficult\") & (top_500[\"Word\"]!=\"easy\") & (top_500[\"Word\"]!=\"workload\") & (top_500[\"Word\"]!=\"old\") & (top_500[\"Word\"]!=\"generous\") & (top_500[\"Word\"]!=\"helpful\") & (top_500[\"Word\"]!=\"impossible\") & (top_500[\"Word\"]!=\"useful\") & (top_500[\"Word\"]!=\"social\") & (top_500[\"Word\"]!=\"fair\") & (top_500[\"Word\"]!=\"specific\") & (top_500[\"Word\"]!=\"tough\") & (top_500[\"Word\"]!=\"useless\")& (top_500[\"Word\"]!=\"disorganized\")]"
   ]
  },
  {
   "cell_type": "code",
   "execution_count": 79,
   "metadata": {},
   "outputs": [],
   "source": [
    "top_500_ = top_500_.rename(columns={\"Male %\":\"male\",\"Female %\":\"female\"})"
   ]
  },
  {
   "cell_type": "code",
   "execution_count": 80,
   "metadata": {},
   "outputs": [],
   "source": [
    "top_500_ = top_500_.rename(columns={\"Word\":\"word\"})"
   ]
  },
  {
   "cell_type": "code",
   "execution_count": 81,
   "metadata": {},
   "outputs": [],
   "source": [
    "top_500_[\"male\"] = top_500_[\"male\"].round(decimals = 3)"
   ]
  },
  {
   "cell_type": "code",
   "execution_count": 82,
   "metadata": {},
   "outputs": [],
   "source": [
    "top_500_[\"female\"] = top_500_[\"female\"].round(decimals = 3)"
   ]
  },
  {
   "cell_type": "code",
   "execution_count": 83,
   "metadata": {},
   "outputs": [
    {
     "data": {
      "text/html": [
       "<div>\n",
       "<style scoped>\n",
       "    .dataframe tbody tr th:only-of-type {\n",
       "        vertical-align: middle;\n",
       "    }\n",
       "\n",
       "    .dataframe tbody tr th {\n",
       "        vertical-align: top;\n",
       "    }\n",
       "\n",
       "    .dataframe thead th {\n",
       "        text-align: right;\n",
       "    }\n",
       "</style>\n",
       "<table border=\"1\" class=\"dataframe\">\n",
       "  <thead>\n",
       "    <tr style=\"text-align: right;\">\n",
       "      <th></th>\n",
       "      <th>word</th>\n",
       "      <th>Male Count</th>\n",
       "      <th>Female Count</th>\n",
       "      <th>Difference</th>\n",
       "      <th>male</th>\n",
       "      <th>female</th>\n",
       "      <th>Difference %</th>\n",
       "      <th>Abs Difference %</th>\n",
       "    </tr>\n",
       "  </thead>\n",
       "  <tbody>\n",
       "    <tr>\n",
       "      <th>60</th>\n",
       "      <td>guy</td>\n",
       "      <td>3851.0</td>\n",
       "      <td>69.0</td>\n",
       "      <td>3782.0</td>\n",
       "      <td>0.202</td>\n",
       "      <td>0.008</td>\n",
       "      <td>0.193032</td>\n",
       "      <td>0.193032</td>\n",
       "    </tr>\n",
       "    <tr>\n",
       "      <th>400</th>\n",
       "      <td>homework</td>\n",
       "      <td>9723.0</td>\n",
       "      <td>2629.0</td>\n",
       "      <td>7094.0</td>\n",
       "      <td>0.509</td>\n",
       "      <td>0.323</td>\n",
       "      <td>0.185335</td>\n",
       "      <td>0.185335</td>\n",
       "    </tr>\n",
       "    <tr>\n",
       "      <th>171</th>\n",
       "      <td>problems</td>\n",
       "      <td>6711.0</td>\n",
       "      <td>1433.0</td>\n",
       "      <td>5278.0</td>\n",
       "      <td>0.351</td>\n",
       "      <td>0.176</td>\n",
       "      <td>0.174871</td>\n",
       "      <td>0.174871</td>\n",
       "    </tr>\n",
       "    <tr>\n",
       "      <th>259</th>\n",
       "      <td>readings</td>\n",
       "      <td>4755.0</td>\n",
       "      <td>2954.0</td>\n",
       "      <td>1801.0</td>\n",
       "      <td>0.249</td>\n",
       "      <td>0.363</td>\n",
       "      <td>-0.114626</td>\n",
       "      <td>0.114626</td>\n",
       "    </tr>\n",
       "    <tr>\n",
       "      <th>623</th>\n",
       "      <td>physics</td>\n",
       "      <td>2788.0</td>\n",
       "      <td>444.0</td>\n",
       "      <td>2344.0</td>\n",
       "      <td>0.146</td>\n",
       "      <td>0.055</td>\n",
       "      <td>0.091266</td>\n",
       "      <td>0.091266</td>\n",
       "    </tr>\n",
       "    <tr>\n",
       "      <th>...</th>\n",
       "      <td>...</td>\n",
       "      <td>...</td>\n",
       "      <td>...</td>\n",
       "      <td>...</td>\n",
       "      <td>...</td>\n",
       "      <td>...</td>\n",
       "      <td>...</td>\n",
       "      <td>...</td>\n",
       "    </tr>\n",
       "    <tr>\n",
       "      <th>11790</th>\n",
       "      <td>chayes</td>\n",
       "      <td>132.0</td>\n",
       "      <td>1.0</td>\n",
       "      <td>131.0</td>\n",
       "      <td>0.007</td>\n",
       "      <td>0.000</td>\n",
       "      <td>0.006784</td>\n",
       "      <td>0.006784</td>\n",
       "    </tr>\n",
       "    <tr>\n",
       "      <th>35900</th>\n",
       "      <td>maloy</td>\n",
       "      <td>186.0</td>\n",
       "      <td>24.0</td>\n",
       "      <td>162.0</td>\n",
       "      <td>0.010</td>\n",
       "      <td>0.003</td>\n",
       "      <td>0.006780</td>\n",
       "      <td>0.006780</td>\n",
       "    </tr>\n",
       "    <tr>\n",
       "      <th>38629</th>\n",
       "      <td>tung</td>\n",
       "      <td>129.0</td>\n",
       "      <td>0.0</td>\n",
       "      <td>129.0</td>\n",
       "      <td>0.007</td>\n",
       "      <td>0.000</td>\n",
       "      <td>0.006751</td>\n",
       "      <td>0.006751</td>\n",
       "    </tr>\n",
       "    <tr>\n",
       "      <th>1175</th>\n",
       "      <td>guest</td>\n",
       "      <td>325.0</td>\n",
       "      <td>193.0</td>\n",
       "      <td>132.0</td>\n",
       "      <td>0.017</td>\n",
       "      <td>0.024</td>\n",
       "      <td>-0.006739</td>\n",
       "      <td>0.006739</td>\n",
       "    </tr>\n",
       "    <tr>\n",
       "      <th>369</th>\n",
       "      <td>told</td>\n",
       "      <td>800.0</td>\n",
       "      <td>395.0</td>\n",
       "      <td>405.0</td>\n",
       "      <td>0.042</td>\n",
       "      <td>0.049</td>\n",
       "      <td>-0.006736</td>\n",
       "      <td>0.006736</td>\n",
       "    </tr>\n",
       "  </tbody>\n",
       "</table>\n",
       "<p>483 rows × 8 columns</p>\n",
       "</div>"
      ],
      "text/plain": [
       "           word  Male Count  Female Count  Difference   male  female  \\\n",
       "60          guy      3851.0          69.0      3782.0  0.202   0.008   \n",
       "400    homework      9723.0        2629.0      7094.0  0.509   0.323   \n",
       "171    problems      6711.0        1433.0      5278.0  0.351   0.176   \n",
       "259    readings      4755.0        2954.0      1801.0  0.249   0.363   \n",
       "623     physics      2788.0         444.0      2344.0  0.146   0.055   \n",
       "...         ...         ...           ...         ...    ...     ...   \n",
       "11790    chayes       132.0           1.0       131.0  0.007   0.000   \n",
       "35900     maloy       186.0          24.0       162.0  0.010   0.003   \n",
       "38629      tung       129.0           0.0       129.0  0.007   0.000   \n",
       "1175      guest       325.0         193.0       132.0  0.017   0.024   \n",
       "369        told       800.0         395.0       405.0  0.042   0.049   \n",
       "\n",
       "       Difference %  Abs Difference %  \n",
       "60         0.193032          0.193032  \n",
       "400        0.185335          0.185335  \n",
       "171        0.174871          0.174871  \n",
       "259       -0.114626          0.114626  \n",
       "623        0.091266          0.091266  \n",
       "...             ...               ...  \n",
       "11790      0.006784          0.006784  \n",
       "35900      0.006780          0.006780  \n",
       "38629      0.006751          0.006751  \n",
       "1175      -0.006739          0.006739  \n",
       "369       -0.006736          0.006736  \n",
       "\n",
       "[483 rows x 8 columns]"
      ]
     },
     "execution_count": 83,
     "metadata": {},
     "output_type": "execute_result"
    }
   ],
   "source": [
    "top_500_"
   ]
  },
  {
   "cell_type": "code",
   "execution_count": null,
   "metadata": {},
   "outputs": [],
   "source": [
    "top_500_.to_csv(\"/Users/hinaljajal/Downloads/the-stack/datasets/prof-reviews/top_500_.csv\")"
   ]
  },
  {
   "cell_type": "code",
   "execution_count": 51,
   "metadata": {},
   "outputs": [],
   "source": [
    "top_adj = top_500[(top_500[\"Word\"]==\"sweet\") | (top_500[\"Word\"]==\"hard\") | (top_500[\"Word\"]==\"funny\") | (top_500[\"Word\"]==\"difficult\") | (top_500[\"Word\"]==\"easy\") | (top_500[\"Word\"]==\"workload\") | (top_500[\"Word\"]==\"old\") | (top_500[\"Word\"]==\"generous\")|(top_500[\"Word\"]==\"helpful\") | (top_500[\"Word\"]==\"impossible\") | (top_500[\"Word\"]==\"useful\") | (top_500[\"Word\"]==\"social\") | (top_500[\"Word\"]==\"fair\") | (top_500[\"Word\"]==\"specific\") | (top_500[\"Word\"]==\"tough\") | (top_500[\"Word\"]==\"useless\")|(top_500[\"Word\"]==\"disorganized\")]"
   ]
  },
  {
   "cell_type": "code",
   "execution_count": 32,
   "metadata": {},
   "outputs": [
    {
     "ename": "NameError",
     "evalue": "name 'top_adj' is not defined",
     "output_type": "error",
     "traceback": [
      "\u001b[0;31m---------------------------------------------------------------------------\u001b[0m",
      "\u001b[0;31mNameError\u001b[0m                                 Traceback (most recent call last)",
      "\u001b[0;32m<ipython-input-32-cb89a7488c4b>\u001b[0m in \u001b[0;36m<module>\u001b[0;34m\u001b[0m\n\u001b[0;32m----> 1\u001b[0;31m \u001b[0mtop_adj\u001b[0m \u001b[0;34m=\u001b[0m \u001b[0mtop_adj\u001b[0m\u001b[0;34m.\u001b[0m\u001b[0mrename\u001b[0m\u001b[0;34m(\u001b[0m\u001b[0mcolumns\u001b[0m\u001b[0;34m=\u001b[0m\u001b[0;34m{\u001b[0m\u001b[0;34m\"Male %\"\u001b[0m\u001b[0;34m:\u001b[0m\u001b[0;34m\"x\"\u001b[0m\u001b[0;34m,\u001b[0m\u001b[0;34m\"Female %\"\u001b[0m\u001b[0;34m:\u001b[0m\u001b[0;34m\"y\"\u001b[0m\u001b[0;34m}\u001b[0m\u001b[0;34m)\u001b[0m\u001b[0;34m\u001b[0m\u001b[0;34m\u001b[0m\u001b[0m\n\u001b[0m",
      "\u001b[0;31mNameError\u001b[0m: name 'top_adj' is not defined"
     ]
    }
   ],
   "source": [
    "top_adj = top_adj.rename(columns={\"Male %\":\"x\",\"Female %\":\"y\"})"
   ]
  },
  {
   "cell_type": "code",
   "execution_count": 56,
   "metadata": {},
   "outputs": [],
   "source": [
    "top_adj[[\"x\",\"y\"]]=top_adj[[\"x\",\"y\"]].round(decimals=3)"
   ]
  },
  {
   "cell_type": "code",
   "execution_count": 25,
   "metadata": {},
   "outputs": [
    {
     "ename": "NameError",
     "evalue": "name 'top_adj' is not defined",
     "output_type": "error",
     "traceback": [
      "\u001b[0;31m---------------------------------------------------------------------------\u001b[0m",
      "\u001b[0;31mNameError\u001b[0m                                 Traceback (most recent call last)",
      "\u001b[0;32m<ipython-input-25-07d23c25044e>\u001b[0m in \u001b[0;36m<module>\u001b[0;34m\u001b[0m\n\u001b[0;32m----> 1\u001b[0;31m \u001b[0mmale_adj\u001b[0m \u001b[0;34m=\u001b[0m \u001b[0mtop_adj\u001b[0m\u001b[0;34m[\u001b[0m\u001b[0mtop_adj\u001b[0m\u001b[0;34m[\u001b[0m\u001b[0;34m\"x\"\u001b[0m\u001b[0;34m]\u001b[0m\u001b[0;34m>\u001b[0m\u001b[0mtop_adj\u001b[0m\u001b[0;34m[\u001b[0m\u001b[0;34m\"y\"\u001b[0m\u001b[0;34m]\u001b[0m\u001b[0;34m]\u001b[0m\u001b[0;34m\u001b[0m\u001b[0;34m\u001b[0m\u001b[0m\n\u001b[0m",
      "\u001b[0;31mNameError\u001b[0m: name 'top_adj' is not defined"
     ]
    }
   ],
   "source": [
    "male_adj = top_adj[top_adj[\"x\"]>top_adj[\"y\"]]"
   ]
  },
  {
   "cell_type": "code",
   "execution_count": 81,
   "metadata": {},
   "outputs": [],
   "source": [
    "male_adj=male_adj.rename(columns={\"Word\":\"word\"})"
   ]
  },
  {
   "cell_type": "code",
   "execution_count": 80,
   "metadata": {},
   "outputs": [
    {
     "data": {
      "text/plain": [
       "[{'x': 0.476, 'y': 0.405},\n",
       " {'x': 0.125, 'y': 0.065},\n",
       " {'x': 0.36, 'y': 0.325},\n",
       " {'x': 0.054, 'y': 0.03},\n",
       " {'x': 0.051, 'y': 0.036},\n",
       " {'x': 0.052, 'y': 0.039},\n",
       " {'x': 0.065, 'y': 0.052},\n",
       " {'x': 0.186, 'y': 0.174},\n",
       " {'x': 0.069, 'y': 0.058},\n",
       " {'x': 0.04, 'y': 0.03}]"
      ]
     },
     "execution_count": 80,
     "metadata": {},
     "output_type": "execute_result"
    }
   ],
   "source": [
    "male_adj[[\"x\",\"y\"]].to_dict('records')"
   ]
  },
  {
   "cell_type": "code",
   "execution_count": 84,
   "metadata": {
    "scrolled": true
   },
   "outputs": [
    {
     "data": {
      "text/plain": [
       "['hard',\n",
       " 'funny',\n",
       " 'difficult',\n",
       " 'old',\n",
       " 'generous',\n",
       " 'impossible',\n",
       " 'useful',\n",
       " 'fair',\n",
       " 'tough',\n",
       " 'useless']"
      ]
     },
     "execution_count": 84,
     "metadata": {},
     "output_type": "execute_result"
    }
   ],
   "source": [
    "male_adj[\"word\"].to_list()"
   ]
  },
  {
   "cell_type": "code",
   "execution_count": null,
   "metadata": {},
   "outputs": [],
   "source": [
    "female_adj = top_adj[top_adj[\"y\"]>top_adj[\"x\"]]"
   ]
  },
  {
   "cell_type": "code",
   "execution_count": 77,
   "metadata": {},
   "outputs": [],
   "source": [
    "female_adj=female_adj.rename(columns={\"Word\":\"word\"})"
   ]
  },
  {
   "cell_type": "code",
   "execution_count": null,
   "metadata": {},
   "outputs": [],
   "source": [
    "female_adj[[\"x\",\"y\"]].to_dict('records')"
   ]
  },
  {
   "cell_type": "code",
   "execution_count": null,
   "metadata": {},
   "outputs": [],
   "source": [
    "female_adj[\"word\"].to_list()"
   ]
  },
  {
   "cell_type": "markdown",
   "metadata": {},
   "source": [
    "## Data Wrangling for percent_pos.js"
   ]
  },
  {
   "cell_type": "code",
   "execution_count": 83,
   "metadata": {},
   "outputs": [
    {
     "data": {
      "text/plain": [
       "10906"
      ]
     },
     "execution_count": 83,
     "metadata": {},
     "output_type": "execute_result"
    }
   ],
   "source": [
    "data[data[\"gender_guess\"]==\"Female\"][\"review_is_positive\"].sum()"
   ]
  },
  {
   "cell_type": "code",
   "execution_count": 95,
   "metadata": {},
   "outputs": [
    {
     "data": {
      "text/plain": [
       "19710"
      ]
     },
     "execution_count": 95,
     "metadata": {},
     "output_type": "execute_result"
    }
   ],
   "source": [
    "data[(data[\"gender_guess\"]==\"Male\") & (data[\"pre_covid\"]==True)][\"review_is_positive\"].sum()"
   ]
  },
  {
   "cell_type": "code",
   "execution_count": 96,
   "metadata": {},
   "outputs": [
    {
     "data": {
      "text/plain": [
       "6722"
      ]
     },
     "execution_count": 96,
     "metadata": {},
     "output_type": "execute_result"
    }
   ],
   "source": [
    "data[(data[\"gender_guess\"]==\"Male\") & (data[\"pre_covid\"]!=True)][\"review_is_positive\"].sum()"
   ]
  },
  {
   "cell_type": "code",
   "execution_count": 97,
   "metadata": {},
   "outputs": [
    {
     "data": {
      "text/plain": [
       "gender_guess  pre_covid\n",
       "Female        False         3919\n",
       "              True          9508\n",
       "Male          False         7994\n",
       "              True         24529\n",
       "Unsure        False          125\n",
       "              True           239\n",
       "Name: review, dtype: int64"
      ]
     },
     "execution_count": 97,
     "metadata": {},
     "output_type": "execute_result"
    }
   ],
   "source": [
    "data.groupby([\"gender_guess\",\"pre_covid\"])[\"review\"].count()"
   ]
  },
  {
   "cell_type": "code",
   "execution_count": 100,
   "metadata": {},
   "outputs": [],
   "source": [
    "covid_male = 6722/7994"
   ]
  },
  {
   "cell_type": "code",
   "execution_count": 101,
   "metadata": {},
   "outputs": [],
   "source": [
    "pre_covid_male = 19710/24529"
   ]
  },
  {
   "cell_type": "code",
   "execution_count": 102,
   "metadata": {},
   "outputs": [
    {
     "data": {
      "text/plain": [
       "7574"
      ]
     },
     "execution_count": 102,
     "metadata": {},
     "output_type": "execute_result"
    }
   ],
   "source": [
    "data[(data[\"gender_guess\"]==\"Female\") & (data[\"pre_covid\"]==True)][\"review_is_positive\"].sum()"
   ]
  },
  {
   "cell_type": "code",
   "execution_count": 103,
   "metadata": {},
   "outputs": [
    {
     "data": {
      "text/plain": [
       "3332"
      ]
     },
     "execution_count": 103,
     "metadata": {},
     "output_type": "execute_result"
    }
   ],
   "source": [
    "data[(data[\"gender_guess\"]==\"Female\") & (data[\"pre_covid\"]!=True)][\"review_is_positive\"].sum()"
   ]
  },
  {
   "cell_type": "code",
   "execution_count": 104,
   "metadata": {},
   "outputs": [],
   "source": [
    "covid_female = 3332/3919"
   ]
  },
  {
   "cell_type": "code",
   "execution_count": 110,
   "metadata": {},
   "outputs": [
    {
     "data": {
      "text/plain": [
       "85.02168920643021"
      ]
     },
     "execution_count": 110,
     "metadata": {},
     "output_type": "execute_result"
    }
   ],
   "source": [
    "covid_female*100"
   ]
  },
  {
   "cell_type": "code",
   "execution_count": 111,
   "metadata": {},
   "outputs": [
    {
     "data": {
      "text/plain": [
       "84.08806604953716"
      ]
     },
     "execution_count": 111,
     "metadata": {},
     "output_type": "execute_result"
    }
   ],
   "source": [
    "covid_male*100"
   ]
  },
  {
   "cell_type": "code",
   "execution_count": 106,
   "metadata": {},
   "outputs": [],
   "source": [
    "pre_covid_female = 7574/9508"
   ]
  },
  {
   "cell_type": "code",
   "execution_count": 108,
   "metadata": {},
   "outputs": [
    {
     "data": {
      "text/plain": [
       "0.7965923432898612"
      ]
     },
     "execution_count": 108,
     "metadata": {},
     "output_type": "execute_result"
    }
   ],
   "source": [
    "pre_covid_female"
   ]
  },
  {
   "cell_type": "code",
   "execution_count": 109,
   "metadata": {},
   "outputs": [
    {
     "data": {
      "text/plain": [
       "0.8035386685148191"
      ]
     },
     "execution_count": 109,
     "metadata": {},
     "output_type": "execute_result"
    }
   ],
   "source": [
    "pre_covid_male"
   ]
  }
 ],
 "metadata": {
  "kernelspec": {
   "display_name": "Python 3",
   "language": "python",
   "name": "python3"
  },
  "language_info": {
   "codemirror_mode": {
    "name": "ipython",
    "version": 3
   },
   "file_extension": ".py",
   "mimetype": "text/x-python",
   "name": "python",
   "nbconvert_exporter": "python",
   "pygments_lexer": "ipython3",
   "version": "3.8.5"
  }
 },
 "nbformat": 4,
 "nbformat_minor": 4
}
